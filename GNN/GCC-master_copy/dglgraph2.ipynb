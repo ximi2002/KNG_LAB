{
 "cells": [
  {
   "cell_type": "code",
   "execution_count": 3,
   "metadata": {},
   "outputs": [
    {
     "name": "stdout",
     "output_type": "stream",
     "text": [
      "0.9.1\n"
     ]
    }
   ],
   "source": [
    "import torch\n",
    "import dgl\n",
    "print(dgl.__version__)"
   ]
  },
  {
   "cell_type": "code",
   "execution_count": 4,
   "metadata": {},
   "outputs": [
    {
     "name": "stdout",
     "output_type": "stream",
     "text": [
      "DglGraphPropPredDataset(41127)\n"
     ]
    }
   ],
   "source": [
    "# 载入OGB的Graph Property Prediction数据集\n",
    "import dgl\n",
    "import torch\n",
    "from ogb.graphproppred import DglGraphPropPredDataset\n",
    "\n",
    "def _collate_fn(batch):\n",
    "    # 小批次是一个元组(graph, label)列表\n",
    "    graphs = [e[0] for e in batch]\n",
    "    g = dgl.batch(graphs)\n",
    "    labels = [e[1] for e in batch]\n",
    "    labels = torch.stack(labels, 0)\n",
    "    return g, labels\n",
    "\n",
    "# 载入数据集\n",
    "dataset = DglGraphPropPredDataset(name='ogbg-molhiv')\n",
    "split_idx = dataset.get_idx_split()\n",
    "\n",
    "print(dataset)"
   ]
  },
  {
   "cell_type": "code",
   "execution_count": 5,
   "metadata": {},
   "outputs": [
    {
     "data": {
      "text/plain": [
       "41127"
      ]
     },
     "execution_count": 5,
     "metadata": {},
     "output_type": "execute_result"
    }
   ],
   "source": [
    "len(dataset)"
   ]
  },
  {
   "cell_type": "code",
   "execution_count": 6,
   "metadata": {},
   "outputs": [
    {
     "data": {
      "image/png": "[encoded data removed]",
      "text/plain": [
       "<Figure size 640x480 with 1 Axes>"
      ]
     },
     "metadata": {},
     "output_type": "display_data"
    }
   ],
   "source": [
    "import networkx as nx\n",
    "nx.draw(dataset[0][0].to_networkx())"
   ]
  },
  {
   "cell_type": "code",
   "execution_count": 7,
   "metadata": {},
   "outputs": [],
   "source": [
    "# 载入OGB的Node Property Prediction数据集\n",
    "from ogb.nodeproppred import DglNodePropPredDataset\n",
    "\n",
    "dataset = DglNodePropPredDataset(name='ogbn-proteins')\n",
    "split_idx = dataset.get_idx_split()\n",
    "\n",
    "# there is only one graph in Node Property Prediction datasets\n",
    "# 在Node Property Prediction数据集里只有一个图\n",
    "g, labels = dataset[0]\n",
    "# 获取划分的标签\n",
    "train_label = dataset.labels[split_idx['train']]\n",
    "valid_label = dataset.labels[split_idx['valid']]\n",
    "test_label = dataset.labels[split_idx['test']]"
   ]
  },
  {
   "cell_type": "code",
   "execution_count": 8,
   "metadata": {},
   "outputs": [
    {
     "name": "stdout",
     "output_type": "stream",
     "text": [
      "dict_keys(['edge'])\n",
      "dict_keys(['edge', 'edge_neg'])\n",
      "dict_keys(['edge', 'edge_neg'])\n"
     ]
    }
   ],
   "source": [
    "from ogb.linkproppred import DglLinkPropPredDataset\n",
    "\n",
    "dataset = DglLinkPropPredDataset(name='ogbl-ppa')\n",
    "split_edge = dataset.get_edge_split()\n",
    "\n",
    "graph = dataset[0]\n",
    "print(split_edge['train'].keys())\n",
    "print(split_edge['valid'].keys())\n",
    "print(split_edge['test'].keys())"
   ]
  },
  {
   "cell_type": "code",
   "execution_count": 9,
   "metadata": {},
   "outputs": [
    {
     "name": "stdout",
     "output_type": "stream",
     "text": [
      "  NumNodes: 3327\n",
      "  NumEdges: 9228\n",
      "  NumFeats: 3703\n",
      "  NumClasses: 6\n",
      "  NumTrainingSamples: 120\n",
      "  NumValidationSamples: 500\n",
      "  NumTestSamples: 1000\n",
      "Done loading data from cached files.\n"
     ]
    }
   ],
   "source": [
    "import dgl\n",
    "\n",
    "dataset = dgl.data.CiteseerGraphDataset()\n",
    "graph = dataset[0]"
   ]
  },
  {
   "cell_type": "code",
   "execution_count": 10,
   "metadata": {},
   "outputs": [],
   "source": [
    "import numpy as np\n",
    "import torch\n",
    "\n",
    "n_users = 1000\n",
    "n_items = 500\n",
    "n_follows = 3000\n",
    "n_clicks = 5000\n",
    "n_dislikes = 500\n",
    "n_hetero_features = 10\n",
    "n_user_classes = 5\n",
    "n_max_clicks = 10\n",
    "\n",
    "follow_src = np.random.randint(0, n_users, n_follows)\n",
    "follow_dst = np.random.randint(0, n_users, n_follows)\n",
    "click_src = np.random.randint(0, n_users, n_clicks)\n",
    "click_dst = np.random.randint(0, n_items, n_clicks)\n",
    "dislike_src = np.random.randint(0, n_users, n_dislikes)\n",
    "dislike_dst = np.random.randint(0, n_items, n_dislikes)\n",
    "\n",
    "hetero_graph = dgl.heterograph({\n",
    "    ('user', 'follow', 'user'): (follow_src, follow_dst),\n",
    "    ('user', 'followed-by', 'user'): (follow_dst, follow_src),\n",
    "    ('user', 'click', 'item'): (click_src, click_dst),\n",
    "    ('item', 'clicked-by', 'user'): (click_dst, click_src),\n",
    "    ('user', 'dislike', 'item'): (dislike_src, dislike_dst),\n",
    "    ('item', 'disliked-by', 'user'): (dislike_dst, dislike_src)})\n",
    "\n",
    "hetero_graph.nodes['user'].data['feature'] = torch.randn(n_users, n_hetero_features)\n",
    "hetero_graph.nodes['item'].data['feature'] = torch.randn(n_items, n_hetero_features)\n",
    "hetero_graph.nodes['user'].data['label'] = torch.randint(0, n_user_classes, (n_users,))\n",
    "hetero_graph.edges['click'].data['label'] = torch.randint(1, n_max_clicks, (n_clicks,)).float()\n",
    "# 在user类型的节点和click类型的边上随机生成训练集的掩码\n",
    "hetero_graph.nodes['user'].data['train_mask'] = torch.zeros(n_users, dtype=torch.bool).bernoulli(0.6)\n",
    "hetero_graph.edges['click'].data['train_mask'] = torch.zeros(n_clicks, dtype=torch.bool).bernoulli(0.6)"
   ]
  },
  {
   "cell_type": "code",
   "execution_count": 11,
   "metadata": {},
   "outputs": [],
   "source": [
    "# 构建一个2层的GNN模型\n",
    "# 掩码作用 保证部分节点不参与训练\n",
    "import dgl.nn as dglnn\n",
    "import torch.nn as nn\n",
    "import torch.nn.functional as F\n",
    "class SAGE(nn.Module):\n",
    "    def __init__(self, in_feats, hid_feats, out_feats):\n",
    "        super().__init__()\n",
    "        # 实例化SAGEConve，in_feats是输入特征的维度，out_feats是输出特征的维度，aggregator_type是聚合函数的类型\n",
    "        self.conv1 = dglnn.SAGEConv(\n",
    "            in_feats=in_feats, out_feats=hid_feats, aggregator_type='mean')\n",
    "        self.conv2 = dglnn.SAGEConv(\n",
    "            in_feats=hid_feats, out_feats=out_feats, aggregator_type='mean')\n",
    "\n",
    "    def forward(self, graph, inputs):\n",
    "        # 输入是节点的特征\n",
    "        h = self.conv1(graph, inputs)\n",
    "        h = F.relu(h)\n",
    "        h = self.conv2(graph, h)\n",
    "        return h"
   ]
  },
  {
   "cell_type": "code",
   "execution_count": 12,
   "metadata": {},
   "outputs": [],
   "source": [
    "node_features = graph.ndata['feat']\n",
    "node_labels = graph.ndata['label']\n",
    "train_mask = graph.ndata['train_mask']\n",
    "valid_mask = graph.ndata['val_mask']\n",
    "test_mask = graph.ndata['test_mask']\n",
    "n_features = node_features.shape[1]\n",
    "n_labels = int(node_labels.max().item() + 1)"
   ]
  },
  {
   "cell_type": "code",
   "execution_count": 13,
   "metadata": {},
   "outputs": [],
   "source": [
    "def evaluate(model, graph, features, labels, mask):\n",
    "    model.eval()\n",
    "    with torch.no_grad():\n",
    "        logits = model(graph, features)\n",
    "        logits = logits[mask]\n",
    "        labels = labels[mask]\n",
    "        _, indices = torch.max(logits, dim=1)\n",
    "        correct = torch.sum(indices == labels)\n",
    "        return correct.item() * 1.0 / len(labels)"
   ]
  },
  {
   "cell_type": "code",
   "execution_count": 14,
   "metadata": {},
   "outputs": [
    {
     "name": "stdout",
     "output_type": "stream",
     "text": [
      "1.7929515838623047 0.15\n",
      "1.775057077407837 0.238\n",
      "1.7574958801269531 0.336\n",
      "1.7393453121185303 0.394\n",
      "1.7202529907226562 0.456\n",
      "1.7000770568847656 0.498\n",
      "1.6788291931152344 0.524\n",
      "1.6566022634506226 0.558\n",
      "1.6334205865859985 0.564\n",
      "1.609316110610962 0.588\n",
      "1.5843104124069214 0.594\n",
      "1.5585405826568604 0.596\n",
      "1.5321295261383057 0.6\n",
      "1.5050851106643677 0.602\n",
      "1.4774742126464844 0.614\n",
      "1.4493743181228638 0.62\n",
      "1.420820713043213 0.622\n",
      "1.3919167518615723 0.618\n",
      "1.3626927137374878 0.622\n",
      "1.3332065343856812 0.626\n",
      "1.30350923538208 0.626\n",
      "1.273654818534851 0.628\n",
      "1.243683934211731 0.63\n",
      "1.213641881942749 0.634\n",
      "1.1835582256317139 0.638\n",
      "1.1534911394119263 0.64\n",
      "1.1234709024429321 0.644\n",
      "1.0935362577438354 0.646\n",
      "1.0637221336364746 0.644\n",
      "1.0340715646743774 0.644\n",
      "1.0046254396438599 0.648\n",
      "0.9754158854484558 0.648\n",
      "0.9464825391769409 0.65\n",
      "0.917855441570282 0.65\n",
      "0.8895715475082397 0.656\n",
      "0.8616609573364258 0.656\n",
      "0.8341466784477234 0.656\n",
      "0.8070590496063232 0.658\n",
      "0.7804266214370728 0.662\n",
      "0.7542720437049866 0.662\n",
      "0.7286279201507568 0.666\n",
      "0.7035039663314819 0.666\n",
      "0.6789233684539795 0.668\n",
      "0.6549033522605896 0.67\n",
      "0.6314621567726135 0.674\n",
      "0.6086136102676392 0.678\n",
      "0.5863677859306335 0.68\n",
      "0.5647285580635071 0.68\n",
      "0.5437053442001343 0.68\n",
      "0.523307204246521 0.682\n",
      "0.5035315155982971 0.682\n",
      "0.48438403010368347 0.68\n",
      "0.4658590853214264 0.682\n",
      "0.44796591997146606 0.686\n",
      "0.43069130182266235 0.69\n",
      "0.41402843594551086 0.686\n",
      "0.3979717791080475 0.686\n",
      "0.3825124502182007 0.686\n",
      "0.367639422416687 0.682\n",
      "0.35334447026252747 0.682\n",
      "0.3396138548851013 0.68\n",
      "0.3264380991458893 0.68\n",
      "0.3137980103492737 0.68\n",
      "0.3016800880432129 0.678\n",
      "0.29006850719451904 0.678\n",
      "0.2789474427700043 0.678\n",
      "0.2683051526546478 0.676\n",
      "0.25812289118766785 0.676\n",
      "0.2483840137720108 0.676\n",
      "0.23907078802585602 0.674\n"
     ]
    }
   ],
   "source": [
    "model = SAGE(in_feats=n_features, hid_feats=150, out_feats=n_labels)\n",
    "opt = torch.optim.Adam(model.parameters())\n",
    "\n",
    "for epoch in range(70):\n",
    "    model.train()\n",
    "    # 使用所有节点(全图)进行前向传播计算\n",
    "    logits = model(graph, node_features)\n",
    "    # 计算损失值\n",
    "    loss = F.cross_entropy(logits[train_mask], node_labels[train_mask])\n",
    "    # 计算验证集的准确度\n",
    "    acc = evaluate(model, graph, node_features, node_labels, valid_mask)\n",
    "    # 进行反向传播计算\n",
    "    opt.zero_grad()\n",
    "    loss.backward()\n",
    "    opt.step()\n",
    "    print(loss.item(),acc)\n",
    "\n",
    "    # 如果需要的话，保存训练好的模型。本例中省略"
   ]
  },
  {
   "cell_type": "code",
   "execution_count": 15,
   "metadata": {},
   "outputs": [],
   "source": [
    "# Define a Heterograph Conv model\n",
    "\n",
    "class RGCN(nn.Module):\n",
    "    def __init__(self, in_feats, hid_feats, out_feats, rel_names):\n",
    "        super().__init__()\n",
    "        # 实例化HeteroGraphConv，in_feats是输入特征的维度，out_feats是输出特征的维度，aggregate是聚合函数的类型\n",
    "        self.conv1 = dglnn.HeteroGraphConv({\n",
    "            rel: dglnn.GraphConv(in_feats, hid_feats)\n",
    "            for rel in rel_names}, aggregate='sum')\n",
    "        self.conv2 = dglnn.HeteroGraphConv({\n",
    "            rel: dglnn.GraphConv(hid_feats, out_feats)\n",
    "            for rel in rel_names}, aggregate='sum')\n",
    "\n",
    "    def forward(self, graph, inputs):\n",
    "        # 输入是节点的特征字典\n",
    "        h = self.conv1(graph, inputs)\n",
    "        h = {k: F.relu(v) for k, v in h.items()}\n",
    "        h = self.conv2(graph, h)\n",
    "        return h"
   ]
  },
  {
   "cell_type": "code",
   "execution_count": 16,
   "metadata": {},
   "outputs": [],
   "source": [
    "model = RGCN(n_hetero_features, 20, n_user_classes, hetero_graph.etypes)\n",
    "user_feats = hetero_graph.nodes['user'].data['feature']\n",
    "item_feats = hetero_graph.nodes['item'].data['feature']\n",
    "labels = hetero_graph.nodes['user'].data['label']\n",
    "train_mask = hetero_graph.nodes['user'].data['train_mask']"
   ]
  },
  {
   "cell_type": "code",
   "execution_count": 17,
   "metadata": {},
   "outputs": [
    {
     "name": "stdout",
     "output_type": "stream",
     "text": [
      "{'item': tensor([[ 0.9061,  1.0684, -0.5303, -0.5071,  1.8864],\n",
      "        [-0.0382,  0.5174, -0.5846, -0.5079,  1.0569],\n",
      "        [ 0.8836,  0.1197, -0.8555,  0.3376,  1.5510],\n",
      "        ...,\n",
      "        [-0.3610,  0.6729, -0.3531, -0.6160,  0.1664],\n",
      "        [ 0.9617, -0.6918, -0.3297,  0.2260,  0.5065],\n",
      "        [ 0.4144, -0.0102, -0.7638, -0.0995,  0.5587]], grad_fn=<SumBackward1>), 'user': tensor([[ 0.7106, -0.3577,  0.1665,  0.0808,  0.5631],\n",
      "        [ 0.7504, -0.7203, -0.1126, -0.5626,  2.1501],\n",
      "        [-0.2958, -0.0376,  0.0613,  0.8990,  0.7922],\n",
      "        ...,\n",
      "        [ 0.7778,  0.0869, -0.7383, -0.5242,  0.4208],\n",
      "        [-0.1369, -0.3566, -0.3903,  0.3781,  1.3309],\n",
      "        [ 0.2474, -0.4665, -0.3148,  0.3675,  0.8578]], grad_fn=<SumBackward1>)} torch.Size([1000, 5]) torch.Size([500, 5])\n"
     ]
    }
   ],
   "source": [
    "node_features = {'user': user_feats, 'item': item_feats}\n",
    "h_dict = model(hetero_graph, {'user': user_feats, 'item': item_feats})\n",
    "h_user = h_dict['user']\n",
    "h_item = h_dict['item']\n",
    "print(h_dict,h_user.shape,h_item.shape)"
   ]
  },
  {
   "cell_type": "code",
   "execution_count": 18,
   "metadata": {},
   "outputs": [
    {
     "data": {
      "text/plain": [
       "(500, 1000)"
      ]
     },
     "execution_count": 18,
     "metadata": {},
     "output_type": "execute_result"
    }
   ],
   "source": [
    "hetero_graph.num_nodes('item'),hetero_graph.num_nodes('user')"
   ]
  },
  {
   "cell_type": "code",
   "execution_count": 19,
   "metadata": {},
   "outputs": [
    {
     "name": "stdout",
     "output_type": "stream",
     "text": [
      "1.9576088190078735 0.674\n",
      "1.939908504486084 0.674\n",
      "1.9230670928955078 0.674\n",
      "1.9070775508880615 0.674\n",
      "1.8919248580932617 0.674\n",
      "1.8775508403778076 0.674\n",
      "1.8639003038406372 0.674\n",
      "1.8509597778320312 0.674\n",
      "1.8387417793273926 0.674\n",
      "1.8271989822387695 0.674\n"
     ]
    }
   ],
   "source": [
    "opt = torch.optim.Adam(model.parameters())\n",
    "\n",
    "for epoch in range(10):\n",
    "    model.train()\n",
    "    # 使用所有节点的特征进行前向传播计算，并提取输出的user节点嵌入\n",
    "    logits = model(hetero_graph, node_features)['user']\n",
    "    # 计算损失值\n",
    "    loss = F.cross_entropy(logits[train_mask], labels[train_mask])\n",
    "    # 计算验证集的准确度。在本例中省略。\n",
    "    # 进行反向传播计算\n",
    "    opt.zero_grad()\n",
    "    loss.backward()\n",
    "    opt.step()\n",
    "    print(loss.item(),acc)\n",
    "\n",
    "    # 如果需要的话，保存训练好的模型。本例中省略。"
   ]
  },
  {
   "cell_type": "code",
   "execution_count": 20,
   "metadata": {},
   "outputs": [],
   "source": [
    "src = np.random.randint(0, 100, 500)\n",
    "dst = np.random.randint(0, 100, 500)\n",
    "# 同时建立反向边\n",
    "edge_pred_graph = dgl.graph((np.concatenate([src, dst]), np.concatenate([dst, src])))\n",
    "# 建立点和边特征，以及边的标签\n",
    "edge_pred_graph.ndata['feature'] = torch.randn(100, 10)\n",
    "edge_pred_graph.edata['feature'] = torch.randn(1000, 10)\n",
    "edge_pred_graph.edata['label'] = torch.randn(1000)\n",
    "# 进行训练、验证和测试集划分\n",
    "edge_pred_graph.edata['train_mask'] = torch.zeros(1000, dtype=torch.bool).bernoulli(0.6)"
   ]
  },
  {
   "cell_type": "code",
   "execution_count": 21,
   "metadata": {},
   "outputs": [
    {
     "data": {
      "image/png": "[encoded data removed]",
      "text/plain": [
       "<Figure size 640x480 with 1 Axes>"
      ]
     },
     "metadata": {},
     "output_type": "display_data"
    }
   ],
   "source": [
    "nx.draw(edge_pred_graph.to_networkx(),node_size=50)"
   ]
  },
  {
   "cell_type": "code",
   "execution_count": 22,
   "metadata": {},
   "outputs": [],
   "source": [
    "edge_pred_graph.edata['train_mask'] = torch.zeros(1000, dtype=torch.bool).bernoulli(0.6)"
   ]
  },
  {
   "cell_type": "code",
   "execution_count": 23,
   "metadata": {},
   "outputs": [],
   "source": [
    "import dgl.function as fn\n",
    "class DotProductPredictor(nn.Module):\n",
    "    def forward(self, graph, h):\n",
    "        # h是从5.1节的GNN模型中计算出的节点表示\n",
    "        with graph.local_scope():\n",
    "            graph.ndata['h'] = h\n",
    "            graph.apply_edges(fn.u_dot_v('h', 'h', 'score'))\n",
    "            return graph.edata['score']"
   ]
  },
  {
   "cell_type": "code",
   "execution_count": 24,
   "metadata": {},
   "outputs": [],
   "source": [
    "class MLPPredictor(nn.Module):\n",
    "    def __init__(self, in_features, out_classes):\n",
    "        super().__init__()\n",
    "        self.W = nn.Linear(in_features * 2, out_classes)\n",
    "\n",
    "    def apply_edges(self, edges):\n",
    "        h_u = edges.src['h']\n",
    "        h_v = edges.dst['h']\n",
    "        score = self.W(torch.cat([h_u, h_v], 1))\n",
    "        return {'score': score}\n",
    "\n",
    "    def forward(self, graph, h):\n",
    "        # h是从5.1节的GNN模型中计算出的节点表示\n",
    "        with graph.local_scope():\n",
    "            graph.ndata['h'] = h\n",
    "            graph.apply_edges(self.apply_edges)\n",
    "            return graph.edata['score']"
   ]
  },
  {
   "cell_type": "code",
   "execution_count": 25,
   "metadata": {},
   "outputs": [],
   "source": [
    "class Model(nn.Module):\n",
    "    def __init__(self, in_features, hidden_features, out_features):\n",
    "        super().__init__()\n",
    "        self.sage = SAGE(in_features, hidden_features, out_features)\n",
    "        self.pred = DotProductPredictor()\n",
    "    def forward(self, g, x):\n",
    "        h = self.sage(g, x)\n",
    "        return self.pred(g, h)"
   ]
  },
  {
   "cell_type": "code",
   "execution_count": 26,
   "metadata": {},
   "outputs": [
    {
     "name": "stdout",
     "output_type": "stream",
     "text": [
      "94.98174285888672\n",
      "88.971435546875\n",
      "83.3622817993164\n",
      "78.13594055175781\n",
      "73.27360534667969\n",
      "68.75390625\n",
      "64.56483459472656\n",
      "60.68606185913086\n",
      "57.10261535644531\n",
      "53.79550552368164\n",
      "50.74448776245117\n",
      "47.929813385009766\n",
      "45.33329772949219\n",
      "42.935813903808594\n",
      "40.725948333740234\n",
      "38.688323974609375\n",
      "36.808475494384766\n",
      "35.071617126464844\n",
      "33.4658317565918\n",
      "31.981430053710938\n",
      "30.60660743713379\n",
      "29.331451416015625\n",
      "28.146697998046875\n",
      "27.04435920715332\n",
      "26.017704010009766\n",
      "25.05938720703125\n",
      "24.163921356201172\n",
      "23.32596206665039\n",
      "22.54125213623047\n",
      "21.806217193603516\n",
      "21.115379333496094\n",
      "20.46518325805664\n",
      "19.85255241394043\n",
      "19.27445411682129\n",
      "18.72799301147461\n",
      "18.210878372192383\n",
      "17.721010208129883\n",
      "17.256227493286133\n",
      "16.81489372253418\n",
      "16.39505958557129\n",
      "15.995560646057129\n",
      "15.615097999572754\n",
      "15.252384185791016\n",
      "14.906250953674316\n",
      "14.575603485107422\n",
      "14.259479522705078\n",
      "13.958494186401367\n",
      "13.670171737670898\n",
      "13.393839836120605\n",
      "13.1290864944458\n",
      "12.874871253967285\n",
      "12.630558967590332\n",
      "12.395573616027832\n",
      "12.168889045715332\n",
      "11.95053768157959\n",
      "11.740063667297363\n",
      "11.537044525146484\n",
      "11.341081619262695\n",
      "11.151796340942383\n",
      "10.968883514404297\n",
      "10.791942596435547\n",
      "10.62067699432373\n",
      "10.454911231994629\n",
      "10.294214248657227\n",
      "10.138526916503906\n",
      "9.98741626739502\n",
      "9.84067153930664\n",
      "9.69809627532959\n",
      "9.559503555297852\n",
      "9.424715995788574\n",
      "9.293574333190918\n",
      "9.166123390197754\n",
      "9.042057037353516\n",
      "8.921202659606934\n",
      "8.803436279296875\n",
      "8.688627243041992\n",
      "8.576663970947266\n",
      "8.467330932617188\n",
      "8.360452651977539\n",
      "8.256157875061035\n",
      "8.154168128967285\n",
      "8.05447006225586\n",
      "7.957018852233887\n",
      "7.861766338348389\n",
      "7.76863956451416\n",
      "7.677527904510498\n",
      "7.588348865509033\n",
      "7.501044273376465\n",
      "7.4156012535095215\n",
      "7.331989765167236\n",
      "7.2501139640808105\n",
      "7.169920921325684\n",
      "7.09136438369751\n",
      "7.014405250549316\n",
      "6.938992023468018\n",
      "6.865087032318115\n",
      "6.792638778686523\n",
      "6.721513748168945\n",
      "6.651812553405762\n",
      "6.583442687988281\n"
     ]
    }
   ],
   "source": [
    "node_features = edge_pred_graph.ndata['feature']\n",
    "edge_label = edge_pred_graph.edata['label']\n",
    "train_mask = edge_pred_graph.edata['train_mask']\n",
    "model = Model(10, 20, 5)\n",
    "opt = torch.optim.Adam(model.parameters())\n",
    "for epoch in range(100):\n",
    "    pred = model(edge_pred_graph, node_features)\n",
    "    loss = ((pred[train_mask] - edge_label[train_mask]) ** 2).mean()\n",
    "    opt.zero_grad()\n",
    "    loss.backward()\n",
    "    opt.step()\n",
    "    print(loss.item())"
   ]
  },
  {
   "cell_type": "code",
   "execution_count": 27,
   "metadata": {},
   "outputs": [],
   "source": [
    "class HeteroDotProductPredictor(nn.Module):\n",
    "    def forward(self, graph, h, etype):\n",
    "        # h是从5.1节中对每种类型的边所计算的节点表示\n",
    "        with graph.local_scope():\n",
    "            graph.ndata['h'] = h   #一次性为所有节点类型的 'h'赋值\n",
    "            # 指定某种特殊的边\n",
    "            graph.apply_edges(fn.u_dot_v('h', 'h', 'score'), etype=etype)\n",
    "            return graph.edges[etype].data['score']"
   ]
  },
  {
   "cell_type": "code",
   "execution_count": 28,
   "metadata": {},
   "outputs": [],
   "source": [
    "class MLPPredictor(nn.Module):\n",
    "    def __init__(self, in_features, out_classes):\n",
    "        super().__init__()\n",
    "        self.W = nn.Linear(in_features * 2, out_classes)\n",
    "\n",
    "    def apply_edges(self, edges):\n",
    "        h_u = edges.src['h']\n",
    "        h_v = edges.dst['h']\n",
    "        score = self.W(torch.cat([h_u, h_v], 1))\n",
    "        return {'score': score}\n",
    "\n",
    "    def forward(self, graph, h, etype):\n",
    "        # h是从5.1节中对异构图的每种类型的边所计算的节点表示\n",
    "        with graph.local_scope():\n",
    "            graph.ndata['h'] = h   #一次性为所有节点类型的 'h'赋值\n",
    "            graph.apply_edges(self.apply_edges, etype=etype)\n",
    "            return graph.edges[etype].data['score']"
   ]
  },
  {
   "cell_type": "code",
   "execution_count": 29,
   "metadata": {},
   "outputs": [],
   "source": [
    "class Model(nn.Module):\n",
    "    def __init__(self, in_features, hidden_features, out_features, rel_names):\n",
    "        super().__init__()\n",
    "        self.sage = RGCN(in_features, hidden_features, out_features, rel_names)\n",
    "        self.pred = HeteroDotProductPredictor()\n",
    "    def forward(self, g, x, etype):\n",
    "        h = self.sage(g, x)\n",
    "        return self.pred(g, h, etype)"
   ]
  },
  {
   "cell_type": "code",
   "execution_count": 30,
   "metadata": {},
   "outputs": [],
   "source": [
    "model = Model(10, 20, 5, hetero_graph.etypes)\n",
    "user_feats = hetero_graph.nodes['user'].data['feature']\n",
    "item_feats = hetero_graph.nodes['item'].data['feature']\n",
    "label = hetero_graph.edges['click'].data['label']\n",
    "train_mask = hetero_graph.edges['click'].data['train_mask']\n",
    "node_features = {'user': user_feats, 'item': item_feats}"
   ]
  },
  {
   "cell_type": "code",
   "execution_count": 31,
   "metadata": {},
   "outputs": [
    {
     "name": "stdout",
     "output_type": "stream",
     "text": [
      "41.84418487548828\n",
      "40.31624984741211\n",
      "38.905513763427734\n",
      "37.601043701171875\n",
      "36.38758087158203\n",
      "35.250572204589844\n",
      "34.17774963378906\n",
      "33.15914535522461\n",
      "32.185245513916016\n",
      "31.248844146728516\n",
      "30.34299659729004\n",
      "29.46220588684082\n",
      "28.60175132751465\n",
      "27.7579345703125\n",
      "26.928068161010742\n",
      "26.110151290893555\n",
      "25.302845001220703\n",
      "24.504756927490234\n",
      "23.71630859375\n",
      "22.938148498535156\n",
      "22.171924591064453\n",
      "21.420326232910156\n",
      "20.686553955078125\n",
      "19.974376678466797\n",
      "19.28759765625\n",
      "18.63096809387207\n",
      "18.009849548339844\n",
      "17.42926025390625\n",
      "16.894521713256836\n",
      "16.41007423400879\n",
      "15.979060173034668\n",
      "15.603784561157227\n",
      "15.284601211547852\n",
      "15.01986312866211\n",
      "14.806193351745605\n",
      "14.637812614440918\n",
      "14.507132530212402\n",
      "14.404996871948242\n",
      "14.321542739868164\n",
      "14.247076988220215\n",
      "14.172840118408203\n",
      "14.091954231262207\n",
      "13.999500274658203\n",
      "13.89273738861084\n",
      "13.77122688293457\n",
      "13.63642406463623\n",
      "13.490954399108887\n",
      "13.338500022888184\n",
      "13.183009147644043\n",
      "13.028173446655273\n",
      "12.877542495727539\n",
      "12.733470916748047\n",
      "12.597796440124512\n",
      "12.471505165100098\n",
      "12.354803085327148\n",
      "12.24703598022461\n",
      "12.14738655090332\n",
      "12.054685592651367\n",
      "11.967740058898926\n",
      "11.885542869567871\n",
      "11.806679725646973\n",
      "11.730018615722656\n",
      "11.654794692993164\n",
      "11.580360412597656\n",
      "11.506383895874023\n",
      "11.432764053344727\n",
      "11.359495162963867\n",
      "11.286690711975098\n",
      "11.214513778686523\n",
      "11.143410682678223\n",
      "11.073725700378418\n",
      "11.00574779510498\n",
      "10.93971061706543\n",
      "10.875774383544922\n",
      "10.814087867736816\n",
      "10.754671096801758\n",
      "10.697464942932129\n",
      "10.642319679260254\n",
      "10.58911418914795\n",
      "10.537619590759277\n",
      "10.487631797790527\n",
      "10.438924789428711\n",
      "10.391331672668457\n",
      "10.344743728637695\n",
      "10.298999786376953\n",
      "10.254029273986816\n",
      "10.2097806930542\n",
      "10.166291236877441\n",
      "10.12358283996582\n",
      "10.081698417663574\n",
      "10.04081916809082\n",
      "10.000846862792969\n",
      "9.961846351623535\n",
      "9.92378044128418\n",
      "9.886649131774902\n",
      "9.850478172302246\n",
      "9.81518840789795\n",
      "9.78075122833252\n",
      "9.74713134765625\n",
      "9.714262008666992\n"
     ]
    }
   ],
   "source": [
    "opt = torch.optim.Adam(model.parameters())\n",
    "for epoch in range(10):\n",
    "    pred = model(hetero_graph, node_features, 'click')\n",
    "    loss = ((pred[train_mask] - label[train_mask]) ** 2).mean()\n",
    "    opt.zero_grad()\n",
    "    loss.backward()\n",
    "    opt.step()\n",
    "    print(loss.item())"
   ]
  },
  {
   "cell_type": "code",
   "execution_count": 32,
   "metadata": {},
   "outputs": [
    {
     "data": {
      "text/plain": [
       "Graph(num_nodes={'user': 1000, 'item': 500},\n",
       "      num_edges={('user', 'click+dislike', 'item'): 5500},\n",
       "      metagraph=[('user', 'item', 'click+dislike')])"
      ]
     },
     "execution_count": 32,
     "metadata": {},
     "output_type": "execute_result"
    }
   ],
   "source": [
    "dec_graph = hetero_graph['user', :, 'item']\n",
    "dec_graph"
   ]
  },
  {
   "cell_type": "code",
   "execution_count": 33,
   "metadata": {},
   "outputs": [
    {
     "data": {
      "text/plain": [
       "tensor([2, 2, 2,  ..., 3, 3, 3])"
      ]
     },
     "execution_count": 33,
     "metadata": {},
     "output_type": "execute_result"
    }
   ],
   "source": [
    "edge_label = dec_graph.edata[dgl.ETYPE]\n",
    "edge_label"
   ]
  },
  {
   "cell_type": "code",
   "execution_count": 34,
   "metadata": {},
   "outputs": [],
   "source": [
    "class HeteroMLPPredictor(nn.Module):\n",
    "    def __init__(self, in_dims, n_classes):\n",
    "        super().__init__()\n",
    "        self.W = nn.Linear(in_dims * 2, n_classes)\n",
    "\n",
    "    def apply_edges(self, edges):\n",
    "        x = torch.cat([edges.src['h'], edges.dst['h']], 1)\n",
    "        y = self.W(x)\n",
    "        return {'score': y}\n",
    "\n",
    "    def forward(self, graph, h):\n",
    "        # h是从5.1节中对异构图的每种类型的边所计算的节点表示\n",
    "        with graph.local_scope():\n",
    "            graph.ndata['h'] = h   #一次性为所有节点类型的 'h'赋值\n",
    "            graph.apply_edges(self.apply_edges)\n",
    "            return graph.edata['score']"
   ]
  },
  {
   "cell_type": "code",
   "execution_count": 35,
   "metadata": {},
   "outputs": [],
   "source": [
    "class Model(nn.Module):\n",
    "    def __init__(self, in_features, hidden_features, out_features, rel_names):\n",
    "        super().__init__()\n",
    "        self.sage = RGCN(in_features, hidden_features, out_features, rel_names)\n",
    "        self.pred = HeteroMLPPredictor(out_features, len(rel_names))\n",
    "    def forward(self, g, x, dec_graph):\n",
    "        h = self.sage(g, x)\n",
    "        return self.pred(dec_graph, h)"
   ]
  },
  {
   "cell_type": "code",
   "execution_count": 37,
   "metadata": {},
   "outputs": [
    {
     "name": "stdout",
     "output_type": "stream",
     "text": [
      "1.7952098846435547\n",
      "1.7530566453933716\n",
      "1.7114936113357544\n",
      "1.6705033779144287\n",
      "1.6300550699234009\n",
      "1.5901154279708862\n",
      "1.550695538520813\n",
      "1.5117971897125244\n",
      "1.4734054803848267\n",
      "1.435516119003296\n"
     ]
    }
   ],
   "source": [
    "model = Model(10, 20, 5, hetero_graph.etypes)\n",
    "user_feats = hetero_graph.nodes['user'].data['feature']\n",
    "item_feats = hetero_graph.nodes['item'].data['feature']\n",
    "node_features = {'user': user_feats, 'item': item_feats}\n",
    "\n",
    "opt = torch.optim.Adam(model.parameters())\n",
    "for epoch in range(10):\n",
    "    logits = model(hetero_graph, node_features, dec_graph)\n",
    "    loss = F.cross_entropy(logits, edge_label)\n",
    "    opt.zero_grad()\n",
    "    loss.backward()\n",
    "    opt.step()\n",
    "    print(loss.item())"
   ]
  },
  {
   "cell_type": "code",
   "execution_count": 38,
   "metadata": {},
   "outputs": [],
   "source": [
    "class DotProductPredictor(nn.Module):\n",
    "    def forward(self, graph, h):\n",
    "        # h是从5.1节的GNN模型中计算出的节点表示\n",
    "        with graph.local_scope():\n",
    "            graph.ndata['h'] = h\n",
    "            graph.apply_edges(fn.u_dot_v('h', 'h', 'score'))\n",
    "            return graph.edata['score']"
   ]
  },
  {
   "cell_type": "code",
   "execution_count": 39,
   "metadata": {},
   "outputs": [],
   "source": [
    "def construct_negative_graph(graph, k):\n",
    "    src, dst = graph.edges()\n",
    "\n",
    "    neg_src = src.repeat_interleave(k)\n",
    "    neg_dst = torch.randint(0, graph.num_nodes(), (len(src) * k,))\n",
    "    return dgl.graph((neg_src, neg_dst), num_nodes=graph.num_nodes())"
   ]
  },
  {
   "cell_type": "code",
   "execution_count": 40,
   "metadata": {},
   "outputs": [],
   "source": [
    "class Model(nn.Module):\n",
    "    def __init__(self, in_features, hidden_features, out_features):\n",
    "        super().__init__()\n",
    "        self.sage = SAGE(in_features, hidden_features, out_features)\n",
    "        self.pred = DotProductPredictor()\n",
    "    def forward(self, g, neg_g, x):\n",
    "        h = self.sage(g, x)\n",
    "        return self.pred(g, h), self.pred(neg_g, h)"
   ]
  },
  {
   "cell_type": "code",
   "execution_count": 42,
   "metadata": {},
   "outputs": [
    {
     "name": "stdout",
     "output_type": "stream",
     "text": [
      "0.9991170763969421\n",
      "0.9978369474411011\n",
      "0.995951235294342\n",
      "0.9933043122291565\n",
      "0.9897497296333313\n",
      "0.9850509762763977\n",
      "0.9790405035018921\n",
      "0.9714757204055786\n",
      "0.962224543094635\n",
      "0.9508519172668457\n"
     ]
    }
   ],
   "source": [
    "def compute_loss(pos_score, neg_score):\n",
    "    # 间隔损失\n",
    "    n_edges = pos_score.shape[0]\n",
    "    return (1 - pos_score.unsqueeze(1) + neg_score.view(n_edges, -1)).clamp(min=0).mean()\n",
    "\n",
    "node_features = graph.ndata['feat']\n",
    "n_features = node_features.shape[1]\n",
    "k = 5\n",
    "model = Model(n_features, 100, 100)\n",
    "opt = torch.optim.Adam(model.parameters())\n",
    "for epoch in range(10):\n",
    "    negative_graph = construct_negative_graph(graph, k)\n",
    "    pos_score, neg_score = model(graph, negative_graph, node_features)\n",
    "    loss = compute_loss(pos_score, neg_score)\n",
    "    opt.zero_grad()\n",
    "    loss.backward()\n",
    "    opt.step()\n",
    "    print(loss.item())"
   ]
  },
  {
   "cell_type": "code",
   "execution_count": 43,
   "metadata": {},
   "outputs": [
    {
     "data": {
      "text/plain": [
       "tensor([[ 0.0159, -0.0268, -0.0082,  ..., -0.0287, -0.0135, -0.0109],\n",
       "        [ 0.0074,  0.0104, -0.0331,  ..., -0.0197, -0.0295, -0.0206],\n",
       "        [ 0.0097,  0.0230,  0.0397,  ..., -0.0100, -0.0172,  0.0129],\n",
       "        ...,\n",
       "        [ 0.0172,  0.0005,  0.0313,  ..., -0.0321,  0.0307,  0.0067],\n",
       "        [-0.0166,  0.0206,  0.0191,  ..., -0.0020, -0.0087, -0.0132],\n",
       "        [ 0.0023,  0.0389,  0.0604,  ...,  0.0123,  0.0072, -0.0018]],\n",
       "       grad_fn=<AddBackward0>)"
      ]
     },
     "execution_count": 43,
     "metadata": {},
     "output_type": "execute_result"
    }
   ],
   "source": [
    "node_embeddings = model.sage(graph, node_features)\n",
    "node_embeddings"
   ]
  },
  {
   "cell_type": "code",
   "execution_count": 44,
   "metadata": {},
   "outputs": [],
   "source": [
    "class HeteroDotProductPredictor(nn.Module):\n",
    "    def forward(self, graph, h, etype):\n",
    "        # h是从5.1节中对异构图的每种类型的边所计算的节点表示\n",
    "        with graph.local_scope():\n",
    "            graph.ndata['h'] = h\n",
    "            graph.apply_edges(fn.u_dot_v('h', 'h', 'score'), etype=etype)\n",
    "            return graph.edges[etype].data['score']"
   ]
  },
  {
   "cell_type": "code",
   "execution_count": 45,
   "metadata": {},
   "outputs": [],
   "source": [
    "def construct_negative_graph(graph, k, etype):\n",
    "    utype, _, vtype = etype\n",
    "    src, dst = graph.edges(etype=etype)\n",
    "    neg_src = src.repeat_interleave(k)\n",
    "    neg_dst = torch.randint(0, graph.num_nodes(vtype), (len(src) * k,))\n",
    "    return dgl.heterograph(\n",
    "        {etype: (neg_src, neg_dst)},\n",
    "        num_nodes_dict={ntype: graph.num_nodes(ntype) for ntype in graph.ntypes})"
   ]
  },
  {
   "cell_type": "code",
   "execution_count": 46,
   "metadata": {},
   "outputs": [],
   "source": [
    "class Model(nn.Module):\n",
    "    def __init__(self, in_features, hidden_features, out_features, rel_names):\n",
    "        super().__init__()\n",
    "        self.sage = RGCN(in_features, hidden_features, out_features, rel_names)\n",
    "        self.pred = HeteroDotProductPredictor()\n",
    "    def forward(self, g, neg_g, x, etype):\n",
    "        h = self.sage(g, x)\n",
    "        return self.pred(g, h, etype), self.pred(neg_g, h, etype)"
   ]
  },
  {
   "cell_type": "code",
   "execution_count": 48,
   "metadata": {},
   "outputs": [
    {
     "name": "stdout",
     "output_type": "stream",
     "text": [
      "1.4875493049621582\n",
      "1.463617205619812\n",
      "1.4341107606887817\n",
      "1.4050408601760864\n",
      "1.3760002851486206\n",
      "1.3487528562545776\n",
      "1.3276079893112183\n",
      "1.3054808378219604\n",
      "1.293243646621704\n",
      "1.2670834064483643\n"
     ]
    }
   ],
   "source": [
    "def compute_loss(pos_score, neg_score):\n",
    "    # 间隔损失\n",
    "    n_edges = pos_score.shape[0]\n",
    "    return (1 - pos_score.unsqueeze(1) + neg_score.view(n_edges, -1)).clamp(min=0).mean()\n",
    "\n",
    "k = 5\n",
    "model = Model(10, 20, 5, hetero_graph.etypes)\n",
    "user_feats = hetero_graph.nodes['user'].data['feature']\n",
    "item_feats = hetero_graph.nodes['item'].data['feature']\n",
    "node_features = {'user': user_feats, 'item': item_feats}\n",
    "opt = torch.optim.Adam(model.parameters())\n",
    "for epoch in range(10):\n",
    "    negative_graph = construct_negative_graph(hetero_graph, k, ('user', 'click', 'item'))\n",
    "    pos_score, neg_score = model(hetero_graph, negative_graph, node_features, ('user', 'click', 'item'))\n",
    "    loss = compute_loss(pos_score, neg_score)\n",
    "    opt.zero_grad()\n",
    "    loss.backward()\n",
    "    opt.step()\n",
    "    print(loss.item())"
   ]
  },
  {
   "cell_type": "code",
   "execution_count": 49,
   "metadata": {},
   "outputs": [
    {
     "data": {
      "image/png": "[encoded data removed]",
      "text/plain": [
       "<Figure size 640x480 with 1 Axes>"
      ]
     },
     "metadata": {},
     "output_type": "display_data"
    }
   ],
   "source": [
    "import dgl\n",
    "import torch\n",
    "\n",
    "g1 = dgl.graph(([0, 1], [1, 0]))\n",
    "g1.ndata['h'] = torch.tensor([1., 2.])\n",
    "g2 = dgl.graph(([0, 1], [1, 2]))\n",
    "g2.ndata['h'] = torch.tensor([1., 2., 3.])\n",
    "nx.draw(g1.to_networkx())"
   ]
  },
  {
   "cell_type": "code",
   "execution_count": 50,
   "metadata": {},
   "outputs": [
    {
     "data": {
      "image/png": "[encoded data removed]",
      "text/plain": [
       "<Figure size 640x480 with 1 Axes>"
      ]
     },
     "metadata": {},
     "output_type": "display_data"
    }
   ],
   "source": [
    "nx.draw(g2.to_networkx())"
   ]
  },
  {
   "cell_type": "code",
   "execution_count": 51,
   "metadata": {},
   "outputs": [
    {
     "data": {
      "text/plain": [
       "tensor([3.])"
      ]
     },
     "execution_count": 51,
     "metadata": {},
     "output_type": "execute_result"
    }
   ],
   "source": [
    "dgl.readout_nodes(g1, 'h')\n",
    "# tensor([3.])  # 1 + 2"
   ]
  },
  {
   "cell_type": "code",
   "execution_count": 52,
   "metadata": {},
   "outputs": [
    {
     "data": {
      "text/plain": [
       "tensor([3., 6.])"
      ]
     },
     "execution_count": 52,
     "metadata": {},
     "output_type": "execute_result"
    }
   ],
   "source": [
    "bg = dgl.batch([g1, g2])\n",
    "dgl.readout_nodes(bg, 'h')"
   ]
  },
  {
   "cell_type": "code",
   "execution_count": 53,
   "metadata": {},
   "outputs": [
    {
     "data": {
      "text/plain": [
       "tensor([1., 2., 1., 2., 3.])"
      ]
     },
     "execution_count": 53,
     "metadata": {},
     "output_type": "execute_result"
    }
   ],
   "source": [
    "bg.ndata['h']"
   ]
  },
  {
   "cell_type": "code",
   "execution_count": 54,
   "metadata": {},
   "outputs": [],
   "source": [
    "import dgl.nn.pytorch as dglnn\n",
    "import torch.nn as nn\n",
    "\n",
    "class Classifier(nn.Module):\n",
    "    def __init__(self, in_dim, hidden_dim, n_classes):\n",
    "        super(Classifier, self).__init__()\n",
    "        self.conv1 = dglnn.GraphConv(in_dim, hidden_dim)\n",
    "        self.conv2 = dglnn.GraphConv(hidden_dim, hidden_dim)\n",
    "        self.classify = nn.Linear(hidden_dim, n_classes)\n",
    "\n",
    "    def forward(self, g, h):\n",
    "        # 应用图卷积和激活函数\n",
    "        h = F.relu(self.conv1(g, h))\n",
    "        h = F.relu(self.conv2(g, h))\n",
    "        with g.local_scope():\n",
    "            g.ndata['h'] = h\n",
    "            # 使用平均读出计算图表示\n",
    "            hg = dgl.mean_nodes(g, 'h')\n",
    "            return self.classify(hg)"
   ]
  },
  {
   "cell_type": "code",
   "execution_count": 56,
   "metadata": {},
   "outputs": [],
   "source": [
    "import dgl.data\n",
    "dataset = dgl.data.GINDataset('MUTAG',False)"
   ]
  },
  {
   "cell_type": "code",
   "execution_count": 57,
   "metadata": {},
   "outputs": [],
   "source": [
    "from dgl.dataloading import GraphDataLoader\n",
    "dataloader = GraphDataLoader(\n",
    "    dataset,\n",
    "    batch_size=1024,\n",
    "    drop_last=False,\n",
    "    shuffle=True)"
   ]
  },
  {
   "cell_type": "code",
   "execution_count": 60,
   "metadata": {},
   "outputs": [
    {
     "name": "stdout",
     "output_type": "stream",
     "text": [
      "1.5116294622421265\n",
      "1.5070745944976807\n",
      "1.5024962425231934\n",
      "1.4978793859481812\n",
      "1.4932187795639038\n",
      "1.488540768623352\n",
      "1.4838229417800903\n",
      "1.4791136980056763\n",
      "1.4744459390640259\n",
      "1.4697338342666626\n",
      "1.4650102853775024\n",
      "1.460247278213501\n",
      "1.455430269241333\n",
      "1.4505255222320557\n",
      "1.4455485343933105\n",
      "1.4404959678649902\n",
      "1.4353867769241333\n",
      "1.430213451385498\n",
      "1.4249662160873413\n",
      "1.4196504354476929\n",
      "1.4142518043518066\n",
      "1.4087494611740112\n",
      "1.4031559228897095\n",
      "1.3974679708480835\n",
      "1.3916330337524414\n",
      "1.3856945037841797\n",
      "1.3796628713607788\n",
      "1.3735374212265015\n",
      "1.367281436920166\n",
      "1.360824704170227\n",
      "1.3542195558547974\n",
      "1.347415804862976\n",
      "1.3405053615570068\n",
      "1.333457350730896\n",
      "1.3262524604797363\n",
      "1.3188576698303223\n",
      "1.3113114833831787\n",
      "1.3036123514175415\n",
      "1.2957243919372559\n",
      "1.287628412246704\n",
      "1.2792991399765015\n",
      "1.2706722021102905\n",
      "1.261818289756775\n",
      "1.2527803182601929\n",
      "1.243577241897583\n",
      "1.2342164516448975\n",
      "1.2246919870376587\n",
      "1.2149622440338135\n",
      "1.2050477266311646\n",
      "1.194969654083252\n",
      "1.184773325920105\n",
      "1.1744499206542969\n",
      "1.1640170812606812\n",
      "1.1535041332244873\n",
      "1.1429215669631958\n",
      "1.132272481918335\n",
      "1.1215498447418213\n",
      "1.1107717752456665\n",
      "1.0999665260314941\n",
      "1.0891355276107788\n",
      "1.078281044960022\n",
      "1.0674177408218384\n",
      "1.056557059288025\n",
      "1.0457181930541992\n",
      "1.0349115133285522\n",
      "1.0241466760635376\n",
      "1.0134319067001343\n",
      "1.0027728080749512\n",
      "0.9921656847000122\n",
      "0.9816358089447021\n",
      "0.9711498618125916\n",
      "0.9607162475585938\n",
      "0.9503838419914246\n",
      "0.9400744438171387\n",
      "0.92987060546875\n",
      "0.9197872877120972\n",
      "0.9097424149513245\n",
      "0.899776041507721\n",
      "0.8899464011192322\n",
      "0.8802831172943115\n",
      "0.8707506060600281\n",
      "0.8614173531532288\n",
      "0.8522661924362183\n",
      "0.8433333039283752\n",
      "0.8346102833747864\n",
      "0.8261162042617798\n",
      "0.8178585767745972\n",
      "0.8098509907722473\n",
      "0.8021050095558167\n",
      "0.7946174144744873\n",
      "0.7873834371566772\n",
      "0.7804265022277832\n",
      "0.7737561464309692\n",
      "0.7673578262329102\n",
      "0.7611908316612244\n",
      "0.7552663683891296\n",
      "0.7496019601821899\n",
      "0.7441751956939697\n",
      "0.7389598488807678\n",
      "0.7339825630187988\n"
     ]
    }
   ],
   "source": [
    "import torch.nn.functional as F\n",
    "\n",
    "# 这仅是个例子，特征尺寸是7\n",
    "model = Classifier(7, 20, 5)\n",
    "opt = torch.optim.Adam(model.parameters())\n",
    "for epoch in range(100):\n",
    "    for batched_graph, labels in dataloader:\n",
    "        feats = batched_graph.ndata['attr']\n",
    "        logits = model(batched_graph, feats)\n",
    "        loss = F.cross_entropy(logits, labels)\n",
    "        opt.zero_grad()\n",
    "        loss.backward()\n",
    "        opt.step()\n",
    "        print(loss.item())"
   ]
  },
  {
   "cell_type": "code",
   "execution_count": 62,
   "metadata": {},
   "outputs": [],
   "source": [
    "class RGCN(nn.Module):\n",
    "    def __init__(self, in_feats, hid_feats, out_feats, rel_names):\n",
    "        super().__init__()\n",
    "\n",
    "        self.conv1 = dglnn.HeteroGraphConv({\n",
    "            rel: dglnn.GraphConv(in_feats, hid_feats)\n",
    "            for rel in rel_names}, aggregate='sum')\n",
    "        self.conv2 = dglnn.HeteroGraphConv({\n",
    "            rel: dglnn.GraphConv(hid_feats, out_feats)\n",
    "            for rel in rel_names}, aggregate='sum')\n",
    "\n",
    "    def forward(self, graph, inputs):\n",
    "        # inputs是节点的特征\n",
    "        h = self.conv1(graph, inputs)\n",
    "        h = {k: F.relu(v) for k, v in h.items()}\n",
    "        h = self.conv2(graph, h)\n",
    "        return h"
   ]
  },
  {
   "cell_type": "code",
   "execution_count": 63,
   "metadata": {},
   "outputs": [],
   "source": [
    "class HeteroClassifier(nn.Module):\n",
    "    def __init__(self, in_dim, hidden_dim, n_classes, rel_names):\n",
    "        super().__init__()\n",
    "\n",
    "        self.rgcn = RGCN(in_dim, hidden_dim, hidden_dim, rel_names)\n",
    "        self.classify = nn.Linear(hidden_dim, n_classes)\n",
    "\n",
    "    def forward(self, g):\n",
    "        h = g.ndata['feat']\n",
    "        h = self.rgcn(g, h)\n",
    "        with g.local_scope():\n",
    "            g.ndata['h'] = h\n",
    "            # 通过平均读出值来计算单图的表征\n",
    "            hg = 0\n",
    "            for ntype in g.ntypes:\n",
    "                hg = hg + dgl.mean_nodes(g, 'h', ntype=ntype)\n",
    "            return self.classify(hg)"
   ]
  },
  {
   "cell_type": "code",
   "execution_count": 64,
   "metadata": {},
   "outputs": [
    {
     "ename": "NameError",
     "evalue": "name 'etypes' is not defined",
     "output_type": "error",
     "traceback": [
      "\u001b[0;31m---------------------------------------------------------------------------\u001b[0m",
      "\u001b[0;31mNameError\u001b[0m                                 Traceback (most recent call last)",
      "\u001b[1;32m/home/suzhang/git/GNN/GCC-master_copy/dglgraph2.ipynb Cell 55\u001b[0m in \u001b[0;36m<cell line: 2>\u001b[0;34m()\u001b[0m\n\u001b[1;32m      <a href='vscode-notebook-cell://ssh-remote%2Bximi/home/suzhang/git/GNN/GCC-master_copy/dglgraph2.ipynb#Y105sdnNjb2RlLXJlbW90ZQ%3D%3D?line=0'>1</a>\u001b[0m \u001b[39m# etypes是一个列表，元素是字符串类型的边类型\u001b[39;00m\n\u001b[0;32m----> <a href='vscode-notebook-cell://ssh-remote%2Bximi/home/suzhang/git/GNN/GCC-master_copy/dglgraph2.ipynb#Y105sdnNjb2RlLXJlbW90ZQ%3D%3D?line=1'>2</a>\u001b[0m model \u001b[39m=\u001b[39m HeteroClassifier(\u001b[39m10\u001b[39m, \u001b[39m20\u001b[39m, \u001b[39m5\u001b[39m, etypes)\n\u001b[1;32m      <a href='vscode-notebook-cell://ssh-remote%2Bximi/home/suzhang/git/GNN/GCC-master_copy/dglgraph2.ipynb#Y105sdnNjb2RlLXJlbW90ZQ%3D%3D?line=2'>3</a>\u001b[0m opt \u001b[39m=\u001b[39m torch\u001b[39m.\u001b[39moptim\u001b[39m.\u001b[39mAdam(model\u001b[39m.\u001b[39mparameters())\n\u001b[1;32m      <a href='vscode-notebook-cell://ssh-remote%2Bximi/home/suzhang/git/GNN/GCC-master_copy/dglgraph2.ipynb#Y105sdnNjb2RlLXJlbW90ZQ%3D%3D?line=3'>4</a>\u001b[0m \u001b[39mfor\u001b[39;00m epoch \u001b[39min\u001b[39;00m \u001b[39mrange\u001b[39m(\u001b[39m20\u001b[39m):\n",
      "\u001b[0;31mNameError\u001b[0m: name 'etypes' is not defined"
     ]
    }
   ],
   "source": [
    "# etypes是一个列表，元素是字符串类型的边类型\n",
    "model = HeteroClassifier(10, 20, 5, etypes)\n",
    "opt = torch.optim.Adam(model.parameters())\n",
    "for epoch in range(20):\n",
    "    for batched_graph, labels in dataloader:\n",
    "        logits = model(batched_graph)\n",
    "        loss = F.cross_entropy(logits, labels)\n",
    "        opt.zero_grad()\n",
    "        loss.backward()\n",
    "        opt.step()"
   ]
  },
  {
   "cell_type": "code",
   "execution_count": null,
   "metadata": {},
   "outputs": [],
   "source": [
    "sampler = dgl.dataloading.MultiLayerFullNeighborSampler(2)\n",
    "dataloader = dgl.dataloading.NodeDataLoader(\n",
    "    g, train_nids, sampler,\n",
    "    batch_size=1024,\n",
    "    shuffle=True,\n",
    "    drop_last=False,\n",
    "    num_workers=4)"
   ]
  },
  {
   "cell_type": "code",
   "execution_count": 68,
   "metadata": {},
   "outputs": [],
   "source": [
    "class StochasticTwoLayerGCN(nn.Module):\n",
    "    def __init__(self, in_features, hidden_features, out_features):\n",
    "        super().__init__()\n",
    "        self.conv1 = dgl.nn.GraphConv(in_features, hidden_features)\n",
    "        self.conv2 = dgl.nn.GraphConv(hidden_features, out_features)\n",
    "\n",
    "    def forward(self, blocks, x):\n",
    "        x = F.relu(self.conv1(blocks[0], x))\n",
    "        x = F.relu(self.conv2(blocks[1], x))\n",
    "        return x"
   ]
  },
  {
   "cell_type": "code",
   "execution_count": 69,
   "metadata": {},
   "outputs": [],
   "source": [
    "class TwoLayerGCN(nn.Module):\n",
    "    def __init__(self, in_features, hidden_features, out_features):\n",
    "        super().__init__()\n",
    "        self.conv1 = dglnn.GraphConv(in_features, hidden_features)\n",
    "        self.conv2 = dglnn.GraphConv(hidden_features, out_features)\n",
    "\n",
    "    def forward(self, g, x):\n",
    "        x = F.relu(self.conv1(g, x))\n",
    "        x = F.relu(self.conv2(g, x))\n",
    "        return x"
   ]
  },
  {
   "cell_type": "code",
   "execution_count": 3,
   "metadata": {},
   "outputs": [
    {
     "name": "stdout",
     "output_type": "stream",
     "text": [
      "Downloading https://snap.stanford.edu/ogb/data/linkproppred/ddi.zip\n"
     ]
    },
    {
     "name": "stderr",
     "output_type": "stream",
     "text": []
    },
    {
     "ename": "RuntimeError",
     "evalue": "Stopped downloading due to interruption.",
     "output_type": "error",
     "traceback": [
      "\u001b[0;31m---------------------------------------------------------------------------\u001b[0m",
      "\u001b[0;31mKeyboardInterrupt\u001b[0m                         Traceback (most recent call last)",
      "\u001b[0;32m~/anaconda3/envs/gcc/lib/python3.7/site-packages/ogb/utils/url.py\u001b[0m in \u001b[0;36mdownload_url\u001b[0;34m(url, folder, log)\u001b[0m\n\u001b[1;32m     61\u001b[0m             \u001b[0;32mfor\u001b[0m \u001b[0mi\u001b[0m \u001b[0;32min\u001b[0m \u001b[0mpbar\u001b[0m\u001b[0;34m:\u001b[0m\u001b[0;34m\u001b[0m\u001b[0;34m\u001b[0m\u001b[0m\n\u001b[0;32m---> 62\u001b[0;31m                 \u001b[0mchunk\u001b[0m \u001b[0;34m=\u001b[0m \u001b[0mdata\u001b[0m\u001b[0;34m.\u001b[0m\u001b[0mread\u001b[0m\u001b[0;34m(\u001b[0m\u001b[0mchunk_size\u001b[0m\u001b[0;34m)\u001b[0m\u001b[0;34m\u001b[0m\u001b[0;34m\u001b[0m\u001b[0m\n\u001b[0m\u001b[1;32m     63\u001b[0m                 \u001b[0mdownloaded_size\u001b[0m \u001b[0;34m+=\u001b[0m \u001b[0mlen\u001b[0m\u001b[0;34m(\u001b[0m\u001b[0mchunk\u001b[0m\u001b[0;34m)\u001b[0m\u001b[0;34m\u001b[0m\u001b[0;34m\u001b[0m\u001b[0m\n",
      "\u001b[0;32m~/anaconda3/envs/gcc/lib/python3.7/http/client.py\u001b[0m in \u001b[0;36mread\u001b[0;34m(self, amt)\u001b[0m\n\u001b[1;32m    464\u001b[0m             \u001b[0mb\u001b[0m \u001b[0;34m=\u001b[0m \u001b[0mbytearray\u001b[0m\u001b[0;34m(\u001b[0m\u001b[0mamt\u001b[0m\u001b[0;34m)\u001b[0m\u001b[0;34m\u001b[0m\u001b[0;34m\u001b[0m\u001b[0m\n\u001b[0;32m--> 465\u001b[0;31m             \u001b[0mn\u001b[0m \u001b[0;34m=\u001b[0m \u001b[0mself\u001b[0m\u001b[0;34m.\u001b[0m\u001b[0mreadinto\u001b[0m\u001b[0;34m(\u001b[0m\u001b[0mb\u001b[0m\u001b[0;34m)\u001b[0m\u001b[0;34m\u001b[0m\u001b[0;34m\u001b[0m\u001b[0m\n\u001b[0m\u001b[1;32m    466\u001b[0m             \u001b[0;32mreturn\u001b[0m \u001b[0mmemoryview\u001b[0m\u001b[0;34m(\u001b[0m\u001b[0mb\u001b[0m\u001b[0;34m)\u001b[0m\u001b[0;34m[\u001b[0m\u001b[0;34m:\u001b[0m\u001b[0mn\u001b[0m\u001b[0;34m]\u001b[0m\u001b[0;34m.\u001b[0m\u001b[0mtobytes\u001b[0m\u001b[0;34m(\u001b[0m\u001b[0;34m)\u001b[0m\u001b[0;34m\u001b[0m\u001b[0;34m\u001b[0m\u001b[0m\n",
      "\u001b[0;32m~/anaconda3/envs/gcc/lib/python3.7/http/client.py\u001b[0m in \u001b[0;36mreadinto\u001b[0;34m(self, b)\u001b[0m\n\u001b[1;32m    508\u001b[0m         \u001b[0;31m# (for example, reading in 1k chunks)\u001b[0m\u001b[0;34m\u001b[0m\u001b[0;34m\u001b[0m\u001b[0;34m\u001b[0m\u001b[0m\n\u001b[0;32m--> 509\u001b[0;31m         \u001b[0mn\u001b[0m \u001b[0;34m=\u001b[0m \u001b[0mself\u001b[0m\u001b[0;34m.\u001b[0m\u001b[0mfp\u001b[0m\u001b[0;34m.\u001b[0m\u001b[0mreadinto\u001b[0m\u001b[0;34m(\u001b[0m\u001b[0mb\u001b[0m\u001b[0;34m)\u001b[0m\u001b[0;34m\u001b[0m\u001b[0;34m\u001b[0m\u001b[0m\n\u001b[0m\u001b[1;32m    510\u001b[0m         \u001b[0;32mif\u001b[0m \u001b[0;32mnot\u001b[0m \u001b[0mn\u001b[0m \u001b[0;32mand\u001b[0m \u001b[0mb\u001b[0m\u001b[0;34m:\u001b[0m\u001b[0;34m\u001b[0m\u001b[0;34m\u001b[0m\u001b[0m\n",
      "\u001b[0;32m~/anaconda3/envs/gcc/lib/python3.7/socket.py\u001b[0m in \u001b[0;36mreadinto\u001b[0;34m(self, b)\u001b[0m\n\u001b[1;32m    588\u001b[0m             \u001b[0;32mtry\u001b[0m\u001b[0;34m:\u001b[0m\u001b[0;34m\u001b[0m\u001b[0;34m\u001b[0m\u001b[0m\n\u001b[0;32m--> 589\u001b[0;31m                 \u001b[0;32mreturn\u001b[0m \u001b[0mself\u001b[0m\u001b[0;34m.\u001b[0m\u001b[0m_sock\u001b[0m\u001b[0;34m.\u001b[0m\u001b[0mrecv_into\u001b[0m\u001b[0;34m(\u001b[0m\u001b[0mb\u001b[0m\u001b[0;34m)\u001b[0m\u001b[0;34m\u001b[0m\u001b[0;34m\u001b[0m\u001b[0m\n\u001b[0m\u001b[1;32m    590\u001b[0m             \u001b[0;32mexcept\u001b[0m \u001b[0mtimeout\u001b[0m\u001b[0;34m:\u001b[0m\u001b[0;34m\u001b[0m\u001b[0;34m\u001b[0m\u001b[0m\n",
      "\u001b[0;32m~/anaconda3/envs/gcc/lib/python3.7/ssl.py\u001b[0m in \u001b[0;36mrecv_into\u001b[0;34m(self, buffer, nbytes, flags)\u001b[0m\n\u001b[1;32m   1070\u001b[0m                   self.__class__)\n\u001b[0;32m-> 1071\u001b[0;31m             \u001b[0;32mreturn\u001b[0m \u001b[0mself\u001b[0m\u001b[0;34m.\u001b[0m\u001b[0mread\u001b[0m\u001b[0;34m(\u001b[0m\u001b[0mnbytes\u001b[0m\u001b[0;34m,\u001b[0m \u001b[0mbuffer\u001b[0m\u001b[0;34m)\u001b[0m\u001b[0;34m\u001b[0m\u001b[0;34m\u001b[0m\u001b[0m\n\u001b[0m\u001b[1;32m   1072\u001b[0m         \u001b[0;32melse\u001b[0m\u001b[0;34m:\u001b[0m\u001b[0;34m\u001b[0m\u001b[0;34m\u001b[0m\u001b[0m\n",
      "\u001b[0;32m~/anaconda3/envs/gcc/lib/python3.7/ssl.py\u001b[0m in \u001b[0;36mread\u001b[0;34m(self, len, buffer)\u001b[0m\n\u001b[1;32m    928\u001b[0m             \u001b[0;32mif\u001b[0m \u001b[0mbuffer\u001b[0m \u001b[0;32mis\u001b[0m \u001b[0;32mnot\u001b[0m \u001b[0;32mNone\u001b[0m\u001b[0;34m:\u001b[0m\u001b[0;34m\u001b[0m\u001b[0;34m\u001b[0m\u001b[0m\n\u001b[0;32m--> 929\u001b[0;31m                 \u001b[0;32mreturn\u001b[0m \u001b[0mself\u001b[0m\u001b[0;34m.\u001b[0m\u001b[0m_sslobj\u001b[0m\u001b[0;34m.\u001b[0m\u001b[0mread\u001b[0m\u001b[0;34m(\u001b[0m\u001b[0mlen\u001b[0m\u001b[0;34m,\u001b[0m \u001b[0mbuffer\u001b[0m\u001b[0;34m)\u001b[0m\u001b[0;34m\u001b[0m\u001b[0;34m\u001b[0m\u001b[0m\n\u001b[0m\u001b[1;32m    930\u001b[0m             \u001b[0;32melse\u001b[0m\u001b[0;34m:\u001b[0m\u001b[0;34m\u001b[0m\u001b[0;34m\u001b[0m\u001b[0m\n",
      "\u001b[0;31mKeyboardInterrupt\u001b[0m: ",
      "\nDuring handling of the above exception, another exception occurred:\n",
      "\u001b[0;31mRuntimeError\u001b[0m                              Traceback (most recent call last)",
      "\u001b[0;32m/tmp/ipykernel_25253/3894237781.py\u001b[0m in \u001b[0;36m<module>\u001b[0;34m\u001b[0m\n\u001b[1;32m      1\u001b[0m \u001b[0;32mfrom\u001b[0m \u001b[0mogb\u001b[0m\u001b[0;34m.\u001b[0m\u001b[0mlinkproppred\u001b[0m \u001b[0;32mimport\u001b[0m \u001b[0mDglLinkPropPredDataset\u001b[0m\u001b[0;34m\u001b[0m\u001b[0;34m\u001b[0m\u001b[0m\n\u001b[0;32m----> 2\u001b[0;31m \u001b[0mdataset\u001b[0m\u001b[0;34m=\u001b[0m\u001b[0mDglLinkPropPredDataset\u001b[0m\u001b[0;34m(\u001b[0m\u001b[0;34m'ogbl-ddi'\u001b[0m\u001b[0;34m)\u001b[0m\u001b[0;34m\u001b[0m\u001b[0;34m\u001b[0m\u001b[0m\n\u001b[0m",
      "\u001b[0;32m~/anaconda3/envs/gcc/lib/python3.7/site-packages/ogb/linkproppred/dataset_dgl.py\u001b[0m in \u001b[0;36m__init__\u001b[0;34m(self, name, root)\u001b[0m\n\u001b[1;32m     45\u001b[0m         \u001b[0msuper\u001b[0m\u001b[0;34m(\u001b[0m\u001b[0mDglLinkPropPredDataset\u001b[0m\u001b[0;34m,\u001b[0m \u001b[0mself\u001b[0m\u001b[0;34m)\u001b[0m\u001b[0;34m.\u001b[0m\u001b[0m__init__\u001b[0m\u001b[0;34m(\u001b[0m\u001b[0;34m)\u001b[0m\u001b[0;34m\u001b[0m\u001b[0;34m\u001b[0m\u001b[0m\n\u001b[1;32m     46\u001b[0m \u001b[0;34m\u001b[0m\u001b[0m\n\u001b[0;32m---> 47\u001b[0;31m         \u001b[0mself\u001b[0m\u001b[0;34m.\u001b[0m\u001b[0mpre_process\u001b[0m\u001b[0;34m(\u001b[0m\u001b[0;34m)\u001b[0m\u001b[0;34m\u001b[0m\u001b[0;34m\u001b[0m\u001b[0m\n\u001b[0m\u001b[1;32m     48\u001b[0m \u001b[0;34m\u001b[0m\u001b[0m\n\u001b[1;32m     49\u001b[0m     \u001b[0;32mdef\u001b[0m \u001b[0mpre_process\u001b[0m\u001b[0;34m(\u001b[0m\u001b[0mself\u001b[0m\u001b[0;34m)\u001b[0m\u001b[0;34m:\u001b[0m\u001b[0;34m\u001b[0m\u001b[0;34m\u001b[0m\u001b[0m\n",
      "\u001b[0;32m~/anaconda3/envs/gcc/lib/python3.7/site-packages/ogb/linkproppred/dataset_dgl.py\u001b[0m in \u001b[0;36mpre_process\u001b[0;34m(self)\u001b[0m\n\u001b[1;32m     68\u001b[0m                 \u001b[0murl\u001b[0m \u001b[0;34m=\u001b[0m \u001b[0mself\u001b[0m\u001b[0;34m.\u001b[0m\u001b[0mmeta_info\u001b[0m\u001b[0;34m[\u001b[0m\u001b[0mself\u001b[0m\u001b[0;34m.\u001b[0m\u001b[0mname\u001b[0m\u001b[0;34m]\u001b[0m\u001b[0;34m[\u001b[0m\u001b[0;34m\"url\"\u001b[0m\u001b[0;34m]\u001b[0m\u001b[0;34m\u001b[0m\u001b[0;34m\u001b[0m\u001b[0m\n\u001b[1;32m     69\u001b[0m                 \u001b[0;32mif\u001b[0m \u001b[0mdecide_download\u001b[0m\u001b[0;34m(\u001b[0m\u001b[0murl\u001b[0m\u001b[0;34m)\u001b[0m\u001b[0;34m:\u001b[0m\u001b[0;34m\u001b[0m\u001b[0;34m\u001b[0m\u001b[0m\n\u001b[0;32m---> 70\u001b[0;31m                     \u001b[0mpath\u001b[0m \u001b[0;34m=\u001b[0m \u001b[0mdownload_url\u001b[0m\u001b[0;34m(\u001b[0m\u001b[0murl\u001b[0m\u001b[0;34m,\u001b[0m \u001b[0mself\u001b[0m\u001b[0;34m.\u001b[0m\u001b[0moriginal_root\u001b[0m\u001b[0;34m)\u001b[0m\u001b[0;34m\u001b[0m\u001b[0;34m\u001b[0m\u001b[0m\n\u001b[0m\u001b[1;32m     71\u001b[0m                     \u001b[0mextract_zip\u001b[0m\u001b[0;34m(\u001b[0m\u001b[0mpath\u001b[0m\u001b[0;34m,\u001b[0m \u001b[0mself\u001b[0m\u001b[0;34m.\u001b[0m\u001b[0moriginal_root\u001b[0m\u001b[0;34m)\u001b[0m\u001b[0;34m\u001b[0m\u001b[0;34m\u001b[0m\u001b[0m\n\u001b[1;32m     72\u001b[0m                     \u001b[0mos\u001b[0m\u001b[0;34m.\u001b[0m\u001b[0munlink\u001b[0m\u001b[0;34m(\u001b[0m\u001b[0mpath\u001b[0m\u001b[0;34m)\u001b[0m\u001b[0;34m\u001b[0m\u001b[0;34m\u001b[0m\u001b[0m\n",
      "\u001b[0;32m~/anaconda3/envs/gcc/lib/python3.7/site-packages/ogb/utils/url.py\u001b[0m in \u001b[0;36mdownload_url\u001b[0;34m(url, folder, log)\u001b[0m\n\u001b[1;32m     67\u001b[0m         \u001b[0;32mif\u001b[0m \u001b[0mos\u001b[0m\u001b[0;34m.\u001b[0m\u001b[0mpath\u001b[0m\u001b[0;34m.\u001b[0m\u001b[0mexists\u001b[0m\u001b[0;34m(\u001b[0m\u001b[0mpath\u001b[0m\u001b[0;34m)\u001b[0m\u001b[0;34m:\u001b[0m\u001b[0;34m\u001b[0m\u001b[0;34m\u001b[0m\u001b[0m\n\u001b[1;32m     68\u001b[0m              \u001b[0mos\u001b[0m\u001b[0;34m.\u001b[0m\u001b[0mremove\u001b[0m\u001b[0;34m(\u001b[0m\u001b[0mpath\u001b[0m\u001b[0;34m)\u001b[0m\u001b[0;34m\u001b[0m\u001b[0;34m\u001b[0m\u001b[0m\n\u001b[0;32m---> 69\u001b[0;31m         \u001b[0;32mraise\u001b[0m \u001b[0mRuntimeError\u001b[0m\u001b[0;34m(\u001b[0m\u001b[0;34m'Stopped downloading due to interruption.'\u001b[0m\u001b[0;34m)\u001b[0m\u001b[0;34m\u001b[0m\u001b[0;34m\u001b[0m\u001b[0m\n\u001b[0m\u001b[1;32m     70\u001b[0m \u001b[0;34m\u001b[0m\u001b[0m\n\u001b[1;32m     71\u001b[0m \u001b[0;34m\u001b[0m\u001b[0m\n",
      "\u001b[0;31mRuntimeError\u001b[0m: Stopped downloading due to interruption."
     ]
    }
   ],
   "source": [
    "from ogb.linkproppred import DglLinkPropPredDataset\n",
    "dataset=DglLinkPropPredDataset('ogbl-ddi')"
   ]
  },
  {
   "cell_type": "code",
   "execution_count": 75,
   "metadata": {},
   "outputs": [],
   "source": [
    "splitdataset=dataset.get_edge_split()"
   ]
  },
  {
   "cell_type": "code",
   "execution_count": 77,
   "metadata": {},
   "outputs": [
    {
     "data": {
      "text/plain": [
       "({'edge': tensor([[4039, 2424],\n",
       "          [4039,  225],\n",
       "          [4039, 3901],\n",
       "          ...,\n",
       "          [ 647,  708],\n",
       "          [ 708,  338],\n",
       "          [ 835, 3554]])},\n",
       " {'edge': tensor([[ 722,  548],\n",
       "          [ 874, 3436],\n",
       "          [ 838, 1587],\n",
       "          ...,\n",
       "          [3661, 3125],\n",
       "          [3272, 3330],\n",
       "          [1330,  776]]),\n",
       "  'edge_neg': tensor([[   0,   58],\n",
       "          [   0,   84],\n",
       "          [   0,   90],\n",
       "          ...,\n",
       "          [4162, 4180],\n",
       "          [4168, 4260],\n",
       "          [4180, 4221]])},\n",
       " {'edge': tensor([[2198, 1172],\n",
       "          [1205,  719],\n",
       "          [1818, 2866],\n",
       "          ...,\n",
       "          [ 326, 1109],\n",
       "          [ 911, 1250],\n",
       "          [4127, 2480]]),\n",
       "  'edge_neg': tensor([[   0,    2],\n",
       "          [   0,   16],\n",
       "          [   0,   42],\n",
       "          ...,\n",
       "          [4168, 4259],\n",
       "          [4208, 4245],\n",
       "          [4245, 4259]])})"
      ]
     },
     "execution_count": 77,
     "metadata": {},
     "output_type": "execute_result"
    }
   ],
   "source": [
    "splitdataset['train'],splitdataset['valid'],splitdataset['test']"
   ]
  },
  {
   "cell_type": "code",
   "execution_count": 1,
   "metadata": {},
   "outputs": [
    {
     "name": "stderr",
     "output_type": "stream",
     "text": [
      "Using backend: pytorch\n"
     ]
    },
    {
     "ename": "NameError",
     "evalue": "name 'dataset' is not defined",
     "output_type": "error",
     "traceback": [
      "\u001b[0;31m---------------------------------------------------------------------------\u001b[0m",
      "\u001b[0;31mNameError\u001b[0m                                 Traceback (most recent call last)",
      "\u001b[0;32m/tmp/ipykernel_25253/1699996585.py\u001b[0m in \u001b[0;36m<module>\u001b[0;34m\u001b[0m\n\u001b[1;32m      1\u001b[0m \u001b[0;32mimport\u001b[0m \u001b[0mdgl\u001b[0m\u001b[0;34m\u001b[0m\u001b[0;34m\u001b[0m\u001b[0m\n\u001b[0;32m----> 2\u001b[0;31m \u001b[0mdgl\u001b[0m\u001b[0;34m.\u001b[0m\u001b[0mcontrib\u001b[0m\u001b[0;34m.\u001b[0m\u001b[0msampling\u001b[0m\u001b[0;34m.\u001b[0m\u001b[0mrandom_walk\u001b[0m\u001b[0;34m(\u001b[0m\u001b[0mdataset\u001b[0m\u001b[0;34m)\u001b[0m\u001b[0;34m\u001b[0m\u001b[0;34m\u001b[0m\u001b[0m\n\u001b[0m",
      "\u001b[0;31mNameError\u001b[0m: name 'dataset' is not defined"
     ]
    }
   ],
   "source": [
    "import dgl\n",
    "dgl.contrib.sampling.random_walk(dataset)"
   ]
  },
  {
   "cell_type": "code",
   "execution_count": null,
   "metadata": {},
   "outputs": [],
   "source": []
  }
 ],
 "metadata": {
  "kernelspec": {
   "display_name": "Python 3 (ipykernel)",
   "language": "python",
   "name": "python3"
  },
  "language_info": {
   "codemirror_mode": {
    "name": "ipython",
    "version": 3
   },
   "file_extension": ".py",
   "mimetype": "text/x-python",
   "name": "python",
   "nbconvert_exporter": "python",
   "pygments_lexer": "ipython3",
   "version": "3.7.13"
  },
  "orig_nbformat": 4
 },
 "nbformat": 4,
 "nbformat_minor": 2
}
