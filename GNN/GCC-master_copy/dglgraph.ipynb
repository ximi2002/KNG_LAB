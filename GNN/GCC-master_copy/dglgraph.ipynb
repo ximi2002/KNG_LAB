{
 "cells": [
  {
   "cell_type": "code",
   "execution_count": 1,
   "metadata": {},
   "outputs": [
    {
     "name": "stderr",
     "output_type": "stream",
     "text": [
      "Using backend: pytorch\n"
     ]
    },
    {
     "data": {
      "text/plain": [
       "'0.5.0'"
      ]
     },
     "execution_count": 1,
     "metadata": {},
     "output_type": "execute_result"
    }
   ],
   "source": [
    "import torch \n",
    "import dgl\n",
    "import networkx as nx\n",
    "dgl.__version__"
   ]
  },
  {
   "cell_type": "code",
   "execution_count": 2,
   "metadata": {},
   "outputs": [
    {
     "name": "stdout",
     "output_type": "stream",
     "text": [
      "<class 'dgl.heterograph.DGLHeteroGraph'>\n"
     ]
    }
   ],
   "source": [
    "u,v=torch.tensor([0,0,0,1]),torch.tensor([1,2,3,3])\n",
    "g=dgl.graph((u,v))\n",
    "print(type(g))"
   ]
  },
  {
   "cell_type": "code",
   "execution_count": 3,
   "metadata": {},
   "outputs": [
    {
     "name": "stdout",
     "output_type": "stream",
     "text": [
      "tensor([0, 1, 2, 3])\n"
     ]
    }
   ],
   "source": [
    "print(g.nodes())"
   ]
  },
  {
   "cell_type": "code",
   "execution_count": 4,
   "metadata": {},
   "outputs": [
    {
     "name": "stdout",
     "output_type": "stream",
     "text": [
      "(tensor([0, 0, 0, 1]), tensor([1, 2, 3, 3]))\n"
     ]
    }
   ],
   "source": [
    "print(g.edges())"
   ]
  },
  {
   "cell_type": "code",
   "execution_count": 5,
   "metadata": {},
   "outputs": [
    {
     "name": "stdout",
     "output_type": "stream",
     "text": [
      "(tensor([0, 0, 0, 1]), tensor([1, 2, 3, 3]), tensor([0, 1, 2, 3]))\n"
     ]
    }
   ],
   "source": [
    "print(g.edges(form='all'))"
   ]
  },
  {
   "cell_type": "code",
   "execution_count": 6,
   "metadata": {},
   "outputs": [],
   "source": [
    "g=dgl.graph((u,v),num_nodes=8)"
   ]
  },
  {
   "cell_type": "code",
   "execution_count": 7,
   "metadata": {},
   "outputs": [],
   "source": [
    "u,v=torch.tensor([0,0,0,1],dtype=torch.int64),torch.tensor([1,2,3,3],dtype=torch.int64)\n",
    "g=dgl.graph((u,v))"
   ]
  },
  {
   "cell_type": "code",
   "execution_count": 8,
   "metadata": {},
   "outputs": [
    {
     "data": {
      "text/plain": [
       "'0.5.0'"
      ]
     },
     "execution_count": 8,
     "metadata": {},
     "output_type": "execute_result"
    }
   ],
   "source": [
    "dgl.__version__"
   ]
  },
  {
   "cell_type": "code",
   "execution_count": 11,
   "metadata": {},
   "outputs": [
    {
     "data": {
      "text/plain": [
       "dgl.heterograph.DGLHeteroGraph"
      ]
     },
     "execution_count": 11,
     "metadata": {},
     "output_type": "execute_result"
    }
   ],
   "source": [
    "type(g)"
   ]
  },
  {
   "cell_type": "code",
   "execution_count": 12,
   "metadata": {},
   "outputs": [
    {
     "data": {
      "text/plain": [
       "(['_N'], ['_E'])"
      ]
     },
     "execution_count": 12,
     "metadata": {},
     "output_type": "execute_result"
    }
   ],
   "source": [
    "edges = torch.tensor([2, 5, 3]), torch.tensor([3, 5, 0]) \n",
    "g64=dgl.graph(edges,idtype=torch.int64)\n",
    "g64.ntypes,g64.etypes"
   ]
  },
  {
   "cell_type": "code",
   "execution_count": 13,
   "metadata": {},
   "outputs": [
    {
     "data": {
      "text/plain": [
       "[('_N', '_E', '_N')]"
      ]
     },
     "execution_count": 13,
     "metadata": {},
     "output_type": "execute_result"
    }
   ],
   "source": [
    "g.canonical_etypes"
   ]
  },
  {
   "cell_type": "code",
   "execution_count": 14,
   "metadata": {},
   "outputs": [
    {
     "data": {
      "text/plain": [
       "[('node_type', 'edge_type', 'node_type')]"
      ]
     },
     "execution_count": 14,
     "metadata": {},
     "output_type": "execute_result"
    }
   ],
   "source": [
    "# 同构图\n",
    "hg=dgl.heterograph({('node_type', 'edge_type', 'node_type'): (u, v)})\n",
    "hg.canonical_etypes"
   ]
  },
  {
   "cell_type": "code",
   "execution_count": 15,
   "metadata": {},
   "outputs": [
    {
     "data": {
      "text/plain": [
       "([('source_type', 'edge_type', 'destination_type')],\n",
       " Graph(num_nodes={'destination_type': 4, 'source_type': 2},\n",
       "       num_edges={('source_type', 'edge_type', 'destination_type'): 4},\n",
       "       metagraph=[('source_type', 'destination_type', 'edge_type')]))"
      ]
     },
     "execution_count": 15,
     "metadata": {},
     "output_type": "execute_result"
    }
   ],
   "source": [
    "# 二分图\n",
    "bg=dgl.heterograph({('source_type', 'edge_type', 'destination_type'): (u, v)})\n",
    "bg.canonical_etypes,bg"
   ]
  },
  {
   "cell_type": "code",
   "execution_count": 25,
   "metadata": {},
   "outputs": [
    {
     "data": {
      "text/plain": [
       "Graph(num_nodes={'disease': 3, 'drug': 3, 'gene': 4},\n",
       "      num_edges={('drug', 'interacts', 'drug'): 2, ('drug', 'interacts', 'gene'): 2, ('drug', 'treats', 'disease'): 1},\n",
       "      metagraph=[('drug', 'drug', 'interacts'), ('drug', 'gene', 'interacts'), ('drug', 'disease', 'treats')])"
      ]
     },
     "execution_count": 25,
     "metadata": {},
     "output_type": "execute_result"
    }
   ],
   "source": [
    "graph_data = {\n",
    "   ('drug', 'interacts', 'drug'): (torch.tensor([0, 1]), torch.tensor([1, 2])),\n",
    "   ('drug', 'interacts', 'gene'): (torch.tensor([0, 1]), torch.tensor([2, 3])),\n",
    "   ('drug', 'treats', 'disease'): (torch.tensor([1]), torch.tensor([2]))\n",
    "}\n",
    "g = dgl.heterograph(graph_data)\n",
    "g"
   ]
  },
  {
   "cell_type": "code",
   "execution_count": 17,
   "metadata": {},
   "outputs": [
    {
     "data": {
      "text/plain": [
       "mappingproxy({'__module__': 'dgl.heterograph',\n",
       "              '__doc__': 'Class for storing graph structure and node/edge feature data.\\n\\n    There are a few ways to create create a DGLGraph:\\n\\n    * To create a homogeneous graph from Tensor data, use :func:`dgl.graph`.\\n    * To create a heterogeneous graph from Tensor data, use :func:`dgl.heterograph`.\\n    * To create a graph from other data sources, use ``dgl.*`` create ops. See\\n      :ref:`api-graph-create-ops`.\\n\\n    Read the user guide chapter :ref:`guide-graph` for an in-depth explanation about its\\n    usage.\\n    ',\n",
       "              'is_block': False,\n",
       "              '__init__': <function dgl.heterograph.DGLHeteroGraph.__init__(self, gidx=[], ntypes=['_U'], etypes=['_V'], node_frames=None, edge_frames=None, **deprecate_kwargs)>,\n",
       "              '_init': <function dgl.heterograph.DGLHeteroGraph._init(self, gidx, ntypes, etypes, node_frames, edge_frames)>,\n",
       "              '__setstate__': <function dgl.heterograph.DGLHeteroGraph.__setstate__(self, state)>,\n",
       "              '__repr__': <function dgl.heterograph.DGLHeteroGraph.__repr__(self)>,\n",
       "              '__copy__': <function dgl.heterograph.DGLHeteroGraph.__copy__(self)>,\n",
       "              'add_nodes': <function dgl.heterograph.DGLHeteroGraph.add_nodes(self, num, data=None, ntype=None)>,\n",
       "              'add_edge': <function dgl.heterograph.DGLHeteroGraph.add_edge(self, u, v, data=None, etype=None)>,\n",
       "              'add_edges': <function dgl.heterograph.DGLHeteroGraph.add_edges(self, u, v, data=None, etype=None)>,\n",
       "              'remove_edges': <function dgl.heterograph.DGLHeteroGraph.remove_edges(self, eids, etype=None)>,\n",
       "              'remove_nodes': <function dgl.heterograph.DGLHeteroGraph.remove_nodes(self, nids, ntype=None)>,\n",
       "              '_reset_cached_info': <function dgl.heterograph.DGLHeteroGraph._reset_cached_info(self)>,\n",
       "              'is_unibipartite': <property at 0x7f88fce29d10>,\n",
       "              'ntypes': <property at 0x7f88fce29d60>,\n",
       "              'etypes': <property at 0x7f88fcdd72c0>,\n",
       "              'canonical_etypes': <property at 0x7f88fcddd270>,\n",
       "              'srctypes': <property at 0x7f88fcddd2c0>,\n",
       "              'dsttypes': <property at 0x7f88fcddd310>,\n",
       "              'metagraph': <function dgl.heterograph.DGLHeteroGraph.metagraph(self)>,\n",
       "              'to_canonical_etype': <function dgl.heterograph.DGLHeteroGraph.to_canonical_etype(self, etype)>,\n",
       "              'get_ntype_id': <function dgl.heterograph.DGLHeteroGraph.get_ntype_id(self, ntype)>,\n",
       "              'get_ntype_id_from_src': <function dgl.heterograph.DGLHeteroGraph.get_ntype_id_from_src(self, ntype)>,\n",
       "              'get_ntype_id_from_dst': <function dgl.heterograph.DGLHeteroGraph.get_ntype_id_from_dst(self, ntype)>,\n",
       "              'get_etype_id': <function dgl.heterograph.DGLHeteroGraph.get_etype_id(self, etype)>,\n",
       "              'batch_size': <property at 0x7f88fcddd360>,\n",
       "              'batch_num_nodes': <function dgl.heterograph.DGLHeteroGraph.batch_num_nodes(self, ntype=None)>,\n",
       "              'set_batch_num_nodes': <function dgl.heterograph.DGLHeteroGraph.set_batch_num_nodes(self, val)>,\n",
       "              'batch_num_edges': <function dgl.heterograph.DGLHeteroGraph.batch_num_edges(self, etype=None)>,\n",
       "              'set_batch_num_edges': <function dgl.heterograph.DGLHeteroGraph.set_batch_num_edges(self, val)>,\n",
       "              'nodes': <property at 0x7f88fcddd3b0>,\n",
       "              'srcnodes': <property at 0x7f88fcddd400>,\n",
       "              'dstnodes': <property at 0x7f88fcddd450>,\n",
       "              'ndata': <property at 0x7f88fcddd4a0>,\n",
       "              'srcdata': <property at 0x7f88fcddd4f0>,\n",
       "              'dstdata': <property at 0x7f88fcddd540>,\n",
       "              'edges': <property at 0x7f88fcddd590>,\n",
       "              'edata': <property at 0x7f88fcddd5e0>,\n",
       "              '_find_etypes': <function dgl.heterograph.DGLHeteroGraph._find_etypes(self, key)>,\n",
       "              '__getitem__': <function dgl.heterograph.DGLHeteroGraph.__getitem__(self, key)>,\n",
       "              'number_of_nodes': <function dgl.heterograph.DGLHeteroGraph.number_of_nodes(self, ntype=None)>,\n",
       "              'num_nodes': <function dgl.heterograph.DGLHeteroGraph.num_nodes(self, ntype=None)>,\n",
       "              'number_of_src_nodes': <function dgl.heterograph.DGLHeteroGraph.number_of_src_nodes(self, ntype=None)>,\n",
       "              'num_src_nodes': <function dgl.heterograph.DGLHeteroGraph.num_src_nodes(self, ntype=None)>,\n",
       "              'number_of_dst_nodes': <function dgl.heterograph.DGLHeteroGraph.number_of_dst_nodes(self, ntype=None)>,\n",
       "              'num_dst_nodes': <function dgl.heterograph.DGLHeteroGraph.num_dst_nodes(self, ntype=None)>,\n",
       "              'number_of_edges': <function dgl.heterograph.DGLHeteroGraph.number_of_edges(self, etype=None)>,\n",
       "              'num_edges': <function dgl.heterograph.DGLHeteroGraph.num_edges(self, etype=None)>,\n",
       "              '__len__': <function dgl.heterograph.DGLHeteroGraph.__len__(self)>,\n",
       "              'is_multigraph': <property at 0x7f88fcddd630>,\n",
       "              'is_homogeneous': <property at 0x7f88fcddd680>,\n",
       "              'is_readonly': <property at 0x7f88fcddd6d0>,\n",
       "              'idtype': <property at 0x7f88fcddd720>,\n",
       "              '_idtype_str': <property at 0x7f88fcddd770>,\n",
       "              '__contains__': <function dgl.heterograph.DGLHeteroGraph.__contains__(self, vid)>,\n",
       "              'has_nodes': <function dgl.heterograph.DGLHeteroGraph.has_nodes(self, vid, ntype=None)>,\n",
       "              'has_node': <function dgl.heterograph.DGLHeteroGraph.has_node(self, vid, ntype=None)>,\n",
       "              'has_edges_between': <function dgl.heterograph.DGLHeteroGraph.has_edges_between(self, u, v, etype=None)>,\n",
       "              'has_edge_between': <function dgl.heterograph.DGLHeteroGraph.has_edge_between(self, u, v, etype=None)>,\n",
       "              'predecessors': <function dgl.heterograph.DGLHeteroGraph.predecessors(self, v, etype=None)>,\n",
       "              'successors': <function dgl.heterograph.DGLHeteroGraph.successors(self, v, etype=None)>,\n",
       "              'edge_id': <function dgl.heterograph.DGLHeteroGraph.edge_id(self, u, v, force_multi=None, return_uv=False, etype=None)>,\n",
       "              'edge_ids': <function dgl.heterograph.DGLHeteroGraph.edge_ids(self, u, v, force_multi=None, return_uv=False, etype=None)>,\n",
       "              'find_edges': <function dgl.heterograph.DGLHeteroGraph.find_edges(self, eid, etype=None)>,\n",
       "              'in_edges': <function dgl.heterograph.DGLHeteroGraph.in_edges(self, v, form='uv', etype=None)>,\n",
       "              'out_edges': <function dgl.heterograph.DGLHeteroGraph.out_edges(self, u, form='uv', etype=None)>,\n",
       "              'all_edges': <function dgl.heterograph.DGLHeteroGraph.all_edges(self, form='uv', order='eid', etype=None)>,\n",
       "              'in_degree': <function dgl.heterograph.DGLHeteroGraph.in_degree(self, v, etype=None)>,\n",
       "              'in_degrees': <function dgl.heterograph.DGLHeteroGraph.in_degrees(self, v='__ALL__', etype=None)>,\n",
       "              'out_degree': <function dgl.heterograph.DGLHeteroGraph.out_degree(self, u, etype=None)>,\n",
       "              'out_degrees': <function dgl.heterograph.DGLHeteroGraph.out_degrees(self, u='__ALL__', etype=None)>,\n",
       "              'adjacency_matrix': <function dgl.heterograph.DGLHeteroGraph.adjacency_matrix(self, transpose=True, ctx=device(type='cpu'), scipy_fmt=None, etype=None)>,\n",
       "              'adj': <function dgl.heterograph.DGLHeteroGraph.adj(self, transpose=True, ctx=device(type='cpu'), scipy_fmt=None, etype=None)>,\n",
       "              'adjacency_matrix_scipy': <function dgl.heterograph.DGLHeteroGraph.adjacency_matrix_scipy(self, transpose=True, fmt='csr', return_edge_ids=None)>,\n",
       "              'inc': <function dgl.heterograph.DGLHeteroGraph.inc(self, typestr, ctx=device(type='cpu'), etype=None)>,\n",
       "              'incidence_matrix': <function dgl.heterograph.DGLHeteroGraph.inc(self, typestr, ctx=device(type='cpu'), etype=None)>,\n",
       "              'node_attr_schemes': <function dgl.heterograph.DGLHeteroGraph.node_attr_schemes(self, ntype=None)>,\n",
       "              'edge_attr_schemes': <function dgl.heterograph.DGLHeteroGraph.edge_attr_schemes(self, etype=None)>,\n",
       "              'set_n_initializer': <function dgl.heterograph.DGLHeteroGraph.set_n_initializer(self, initializer, field=None, ntype=None)>,\n",
       "              'set_e_initializer': <function dgl.heterograph.DGLHeteroGraph.set_e_initializer(self, initializer, field=None, etype=None)>,\n",
       "              '_set_n_repr': <function dgl.heterograph.DGLHeteroGraph._set_n_repr(self, ntid, u, data)>,\n",
       "              '_get_n_repr': <function dgl.heterograph.DGLHeteroGraph._get_n_repr(self, ntid, u)>,\n",
       "              '_pop_n_repr': <function dgl.heterograph.DGLHeteroGraph._pop_n_repr(self, ntid, key)>,\n",
       "              '_set_e_repr': <function dgl.heterograph.DGLHeteroGraph._set_e_repr(self, etid, edges, data)>,\n",
       "              '_get_e_repr': <function dgl.heterograph.DGLHeteroGraph._get_e_repr(self, etid, edges)>,\n",
       "              '_pop_e_repr': <function dgl.heterograph.DGLHeteroGraph._pop_e_repr(self, etid, key)>,\n",
       "              'apply_nodes': <function dgl.heterograph.DGLHeteroGraph.apply_nodes(self, func, v='__ALL__', ntype=None, inplace=False)>,\n",
       "              'apply_edges': <function dgl.heterograph.DGLHeteroGraph.apply_edges(self, func, edges='__ALL__', etype=None, inplace=False)>,\n",
       "              'send_and_recv': <function dgl.heterograph.DGLHeteroGraph.send_and_recv(self, edges, message_func, reduce_func, apply_node_func=None, etype=None, inplace=False)>,\n",
       "              'pull': <function dgl.heterograph.DGLHeteroGraph.pull(self, v, message_func, reduce_func, apply_node_func=None, etype=None, inplace=False)>,\n",
       "              'push': <function dgl.heterograph.DGLHeteroGraph.push(self, u, message_func, reduce_func, apply_node_func=None, etype=None, inplace=False)>,\n",
       "              'update_all': <function dgl.heterograph.DGLHeteroGraph.update_all(self, message_func, reduce_func, apply_node_func=None, etype=None)>,\n",
       "              'multi_update_all': <function dgl.heterograph.DGLHeteroGraph.multi_update_all(self, etype_dict, cross_reducer, apply_node_func=None)>,\n",
       "              'prop_nodes': <function dgl.heterograph.DGLHeteroGraph.prop_nodes(self, nodes_generator, message_func, reduce_func, apply_node_func=None, etype=None)>,\n",
       "              'prop_edges': <function dgl.heterograph.DGLHeteroGraph.prop_edges(self, edges_generator, message_func, reduce_func, apply_node_func=None, etype=None)>,\n",
       "              'filter_nodes': <function dgl.heterograph.DGLHeteroGraph.filter_nodes(self, predicate, nodes='__ALL__', ntype=None)>,\n",
       "              'filter_edges': <function dgl.heterograph.DGLHeteroGraph.filter_edges(self, predicate, edges='__ALL__', etype=None)>,\n",
       "              'device': <property at 0x7f88fcddd810>,\n",
       "              'to': <function dgl.heterograph.DGLHeteroGraph.to(self, device, **kwargs)>,\n",
       "              'cpu': <function dgl.heterograph.DGLHeteroGraph.cpu(self)>,\n",
       "              'clone': <function dgl.heterograph.DGLHeteroGraph.clone(self)>,\n",
       "              'local_var': <function dgl.heterograph.DGLHeteroGraph.local_var(self)>,\n",
       "              'local_scope': <function dgl.heterograph.DGLHeteroGraph.local_scope(self)>,\n",
       "              'formats': <function dgl.heterograph.DGLHeteroGraph.formats(self, formats=None)>,\n",
       "              'create_format_': <function dgl.heterograph.DGLHeteroGraph.create_format_(self)>,\n",
       "              'astype': <function dgl.heterograph.DGLHeteroGraph.astype(self, idtype)>,\n",
       "              'shared_memory': <function dgl.heterograph.DGLHeteroGraph.shared_memory(self, name, formats=('coo', 'csr', 'csc'))>,\n",
       "              'long': <function dgl.heterograph.DGLHeteroGraph.long(self)>,\n",
       "              'int': <function dgl.heterograph.DGLHeteroGraph.int(self)>,\n",
       "              'from_networkx': <function dgl.heterograph.DGLHeteroGraph.from_networkx(self, nx_graph, node_attrs=None, edge_attrs=None)>,\n",
       "              'from_scipy_sparse_matrix': <function dgl.heterograph.DGLHeteroGraph.from_scipy_sparse_matrix(self, spmat, multigraph=None)>,\n",
       "              'register_apply_node_func': <function dgl.heterograph.DGLHeteroGraph.register_apply_node_func(self, func)>,\n",
       "              'register_apply_edge_func': <function dgl.heterograph.DGLHeteroGraph.register_apply_edge_func(self, func)>,\n",
       "              'register_message_func': <function dgl.heterograph.DGLHeteroGraph.register_message_func(self, func)>,\n",
       "              'register_reduce_func': <function dgl.heterograph.DGLHeteroGraph.register_reduce_func(self, func)>,\n",
       "              'group_apply_edges': <function dgl.heterograph.DGLHeteroGraph.group_apply_edges(self, group_by, func, edges='__ALL__', etype=None, inplace=False)>,\n",
       "              'send': <function dgl.heterograph.DGLHeteroGraph.send(self, edges, message_func, etype=None)>,\n",
       "              'recv': <function dgl.heterograph.DGLHeteroGraph.recv(self, v, reduce_func, apply_node_func=None, etype=None, inplace=False)>,\n",
       "              'multi_recv': <function dgl.heterograph.DGLHeteroGraph.multi_recv(self, v, reducer_dict, cross_reducer, apply_node_func=None, inplace=False)>,\n",
       "              'multi_send_and_recv': <function dgl.heterograph.DGLHeteroGraph.multi_send_and_recv(self, etype_dict, cross_reducer, apply_node_func=None, inplace=False)>,\n",
       "              'multi_pull': <function dgl.heterograph.DGLHeteroGraph.multi_pull(self, v, etype_dict, cross_reducer, apply_node_func=None, inplace=False)>,\n",
       "              'readonly': <function dgl.heterograph.DGLHeteroGraph.readonly(self, readonly_state=True)>,\n",
       "              '__dict__': <attribute '__dict__' of 'DGLHeteroGraph' objects>,\n",
       "              '__weakref__': <attribute '__weakref__' of 'DGLHeteroGraph' objects>,\n",
       "              'to_networkx': <function dgl.convert.to_networkx(g, node_attrs=None, edge_attrs=None)>,\n",
       "              'line_graph': <function dgl.transform.line_graph(g, backtracking=True, shared=False)>,\n",
       "              'reverse': <function dgl.transform.reverse(g, copy_ndata=True, copy_edata=False, *, share_ndata=None, share_edata=None)>,\n",
       "              'add_self_loop': <function dgl.transform.add_self_loop(g, etype=None)>,\n",
       "              'remove_self_loop': <function dgl.transform.remove_self_loop(g, etype=None)>,\n",
       "              'to_simple': <function dgl.transform.to_simple(g, return_counts='count', writeback_mapping=False, copy_ndata=True, copy_edata=False)>,\n",
       "              'subgraph': <function dgl.subgraph.node_subgraph(graph, nodes)>,\n",
       "              'edge_subgraph': <function dgl.subgraph.edge_subgraph(graph, edges, preserve_nodes=False)>,\n",
       "              'in_subgraph': <function dgl.subgraph.in_subgraph(g, nodes)>,\n",
       "              'out_subgraph': <function dgl.subgraph.out_subgraph(g, nodes)>,\n",
       "              'node_type_subgraph': <function dgl.subgraph.node_type_subgraph(graph, ntypes)>,\n",
       "              'edge_type_subgraph': <function dgl.subgraph.edge_type_subgraph(graph, etypes)>})"
      ]
     },
     "execution_count": 17,
     "metadata": {},
     "output_type": "execute_result"
    }
   ],
   "source": [
    "g.__class__.__dict__"
   ]
  },
  {
   "cell_type": "code",
   "execution_count": 18,
   "metadata": {},
   "outputs": [],
   "source": [
    "g=dgl.graph((u,v))"
   ]
  },
  {
   "cell_type": "code",
   "execution_count": 19,
   "metadata": {},
   "outputs": [
    {
     "data": {
      "text/plain": [
       "mappingproxy({'__module__': 'dgl.heterograph',\n",
       "              '__doc__': 'Class for storing graph structure and node/edge feature data.\\n\\n    There are a few ways to create create a DGLGraph:\\n\\n    * To create a homogeneous graph from Tensor data, use :func:`dgl.graph`.\\n    * To create a heterogeneous graph from Tensor data, use :func:`dgl.heterograph`.\\n    * To create a graph from other data sources, use ``dgl.*`` create ops. See\\n      :ref:`api-graph-create-ops`.\\n\\n    Read the user guide chapter :ref:`guide-graph` for an in-depth explanation about its\\n    usage.\\n    ',\n",
       "              'is_block': False,\n",
       "              '__init__': <function dgl.heterograph.DGLHeteroGraph.__init__(self, gidx=[], ntypes=['_U'], etypes=['_V'], node_frames=None, edge_frames=None, **deprecate_kwargs)>,\n",
       "              '_init': <function dgl.heterograph.DGLHeteroGraph._init(self, gidx, ntypes, etypes, node_frames, edge_frames)>,\n",
       "              '__setstate__': <function dgl.heterograph.DGLHeteroGraph.__setstate__(self, state)>,\n",
       "              '__repr__': <function dgl.heterograph.DGLHeteroGraph.__repr__(self)>,\n",
       "              '__copy__': <function dgl.heterograph.DGLHeteroGraph.__copy__(self)>,\n",
       "              'add_nodes': <function dgl.heterograph.DGLHeteroGraph.add_nodes(self, num, data=None, ntype=None)>,\n",
       "              'add_edge': <function dgl.heterograph.DGLHeteroGraph.add_edge(self, u, v, data=None, etype=None)>,\n",
       "              'add_edges': <function dgl.heterograph.DGLHeteroGraph.add_edges(self, u, v, data=None, etype=None)>,\n",
       "              'remove_edges': <function dgl.heterograph.DGLHeteroGraph.remove_edges(self, eids, etype=None)>,\n",
       "              'remove_nodes': <function dgl.heterograph.DGLHeteroGraph.remove_nodes(self, nids, ntype=None)>,\n",
       "              '_reset_cached_info': <function dgl.heterograph.DGLHeteroGraph._reset_cached_info(self)>,\n",
       "              'is_unibipartite': <property at 0x7f88fce29d10>,\n",
       "              'ntypes': <property at 0x7f88fce29d60>,\n",
       "              'etypes': <property at 0x7f88fcdd72c0>,\n",
       "              'canonical_etypes': <property at 0x7f88fcddd270>,\n",
       "              'srctypes': <property at 0x7f88fcddd2c0>,\n",
       "              'dsttypes': <property at 0x7f88fcddd310>,\n",
       "              'metagraph': <function dgl.heterograph.DGLHeteroGraph.metagraph(self)>,\n",
       "              'to_canonical_etype': <function dgl.heterograph.DGLHeteroGraph.to_canonical_etype(self, etype)>,\n",
       "              'get_ntype_id': <function dgl.heterograph.DGLHeteroGraph.get_ntype_id(self, ntype)>,\n",
       "              'get_ntype_id_from_src': <function dgl.heterograph.DGLHeteroGraph.get_ntype_id_from_src(self, ntype)>,\n",
       "              'get_ntype_id_from_dst': <function dgl.heterograph.DGLHeteroGraph.get_ntype_id_from_dst(self, ntype)>,\n",
       "              'get_etype_id': <function dgl.heterograph.DGLHeteroGraph.get_etype_id(self, etype)>,\n",
       "              'batch_size': <property at 0x7f88fcddd360>,\n",
       "              'batch_num_nodes': <function dgl.heterograph.DGLHeteroGraph.batch_num_nodes(self, ntype=None)>,\n",
       "              'set_batch_num_nodes': <function dgl.heterograph.DGLHeteroGraph.set_batch_num_nodes(self, val)>,\n",
       "              'batch_num_edges': <function dgl.heterograph.DGLHeteroGraph.batch_num_edges(self, etype=None)>,\n",
       "              'set_batch_num_edges': <function dgl.heterograph.DGLHeteroGraph.set_batch_num_edges(self, val)>,\n",
       "              'nodes': <property at 0x7f88fcddd3b0>,\n",
       "              'srcnodes': <property at 0x7f88fcddd400>,\n",
       "              'dstnodes': <property at 0x7f88fcddd450>,\n",
       "              'ndata': <property at 0x7f88fcddd4a0>,\n",
       "              'srcdata': <property at 0x7f88fcddd4f0>,\n",
       "              'dstdata': <property at 0x7f88fcddd540>,\n",
       "              'edges': <property at 0x7f88fcddd590>,\n",
       "              'edata': <property at 0x7f88fcddd5e0>,\n",
       "              '_find_etypes': <function dgl.heterograph.DGLHeteroGraph._find_etypes(self, key)>,\n",
       "              '__getitem__': <function dgl.heterograph.DGLHeteroGraph.__getitem__(self, key)>,\n",
       "              'number_of_nodes': <function dgl.heterograph.DGLHeteroGraph.number_of_nodes(self, ntype=None)>,\n",
       "              'num_nodes': <function dgl.heterograph.DGLHeteroGraph.num_nodes(self, ntype=None)>,\n",
       "              'number_of_src_nodes': <function dgl.heterograph.DGLHeteroGraph.number_of_src_nodes(self, ntype=None)>,\n",
       "              'num_src_nodes': <function dgl.heterograph.DGLHeteroGraph.num_src_nodes(self, ntype=None)>,\n",
       "              'number_of_dst_nodes': <function dgl.heterograph.DGLHeteroGraph.number_of_dst_nodes(self, ntype=None)>,\n",
       "              'num_dst_nodes': <function dgl.heterograph.DGLHeteroGraph.num_dst_nodes(self, ntype=None)>,\n",
       "              'number_of_edges': <function dgl.heterograph.DGLHeteroGraph.number_of_edges(self, etype=None)>,\n",
       "              'num_edges': <function dgl.heterograph.DGLHeteroGraph.num_edges(self, etype=None)>,\n",
       "              '__len__': <function dgl.heterograph.DGLHeteroGraph.__len__(self)>,\n",
       "              'is_multigraph': <property at 0x7f88fcddd630>,\n",
       "              'is_homogeneous': <property at 0x7f88fcddd680>,\n",
       "              'is_readonly': <property at 0x7f88fcddd6d0>,\n",
       "              'idtype': <property at 0x7f88fcddd720>,\n",
       "              '_idtype_str': <property at 0x7f88fcddd770>,\n",
       "              '__contains__': <function dgl.heterograph.DGLHeteroGraph.__contains__(self, vid)>,\n",
       "              'has_nodes': <function dgl.heterograph.DGLHeteroGraph.has_nodes(self, vid, ntype=None)>,\n",
       "              'has_node': <function dgl.heterograph.DGLHeteroGraph.has_node(self, vid, ntype=None)>,\n",
       "              'has_edges_between': <function dgl.heterograph.DGLHeteroGraph.has_edges_between(self, u, v, etype=None)>,\n",
       "              'has_edge_between': <function dgl.heterograph.DGLHeteroGraph.has_edge_between(self, u, v, etype=None)>,\n",
       "              'predecessors': <function dgl.heterograph.DGLHeteroGraph.predecessors(self, v, etype=None)>,\n",
       "              'successors': <function dgl.heterograph.DGLHeteroGraph.successors(self, v, etype=None)>,\n",
       "              'edge_id': <function dgl.heterograph.DGLHeteroGraph.edge_id(self, u, v, force_multi=None, return_uv=False, etype=None)>,\n",
       "              'edge_ids': <function dgl.heterograph.DGLHeteroGraph.edge_ids(self, u, v, force_multi=None, return_uv=False, etype=None)>,\n",
       "              'find_edges': <function dgl.heterograph.DGLHeteroGraph.find_edges(self, eid, etype=None)>,\n",
       "              'in_edges': <function dgl.heterograph.DGLHeteroGraph.in_edges(self, v, form='uv', etype=None)>,\n",
       "              'out_edges': <function dgl.heterograph.DGLHeteroGraph.out_edges(self, u, form='uv', etype=None)>,\n",
       "              'all_edges': <function dgl.heterograph.DGLHeteroGraph.all_edges(self, form='uv', order='eid', etype=None)>,\n",
       "              'in_degree': <function dgl.heterograph.DGLHeteroGraph.in_degree(self, v, etype=None)>,\n",
       "              'in_degrees': <function dgl.heterograph.DGLHeteroGraph.in_degrees(self, v='__ALL__', etype=None)>,\n",
       "              'out_degree': <function dgl.heterograph.DGLHeteroGraph.out_degree(self, u, etype=None)>,\n",
       "              'out_degrees': <function dgl.heterograph.DGLHeteroGraph.out_degrees(self, u='__ALL__', etype=None)>,\n",
       "              'adjacency_matrix': <function dgl.heterograph.DGLHeteroGraph.adjacency_matrix(self, transpose=True, ctx=device(type='cpu'), scipy_fmt=None, etype=None)>,\n",
       "              'adj': <function dgl.heterograph.DGLHeteroGraph.adj(self, transpose=True, ctx=device(type='cpu'), scipy_fmt=None, etype=None)>,\n",
       "              'adjacency_matrix_scipy': <function dgl.heterograph.DGLHeteroGraph.adjacency_matrix_scipy(self, transpose=True, fmt='csr', return_edge_ids=None)>,\n",
       "              'inc': <function dgl.heterograph.DGLHeteroGraph.inc(self, typestr, ctx=device(type='cpu'), etype=None)>,\n",
       "              'incidence_matrix': <function dgl.heterograph.DGLHeteroGraph.inc(self, typestr, ctx=device(type='cpu'), etype=None)>,\n",
       "              'node_attr_schemes': <function dgl.heterograph.DGLHeteroGraph.node_attr_schemes(self, ntype=None)>,\n",
       "              'edge_attr_schemes': <function dgl.heterograph.DGLHeteroGraph.edge_attr_schemes(self, etype=None)>,\n",
       "              'set_n_initializer': <function dgl.heterograph.DGLHeteroGraph.set_n_initializer(self, initializer, field=None, ntype=None)>,\n",
       "              'set_e_initializer': <function dgl.heterograph.DGLHeteroGraph.set_e_initializer(self, initializer, field=None, etype=None)>,\n",
       "              '_set_n_repr': <function dgl.heterograph.DGLHeteroGraph._set_n_repr(self, ntid, u, data)>,\n",
       "              '_get_n_repr': <function dgl.heterograph.DGLHeteroGraph._get_n_repr(self, ntid, u)>,\n",
       "              '_pop_n_repr': <function dgl.heterograph.DGLHeteroGraph._pop_n_repr(self, ntid, key)>,\n",
       "              '_set_e_repr': <function dgl.heterograph.DGLHeteroGraph._set_e_repr(self, etid, edges, data)>,\n",
       "              '_get_e_repr': <function dgl.heterograph.DGLHeteroGraph._get_e_repr(self, etid, edges)>,\n",
       "              '_pop_e_repr': <function dgl.heterograph.DGLHeteroGraph._pop_e_repr(self, etid, key)>,\n",
       "              'apply_nodes': <function dgl.heterograph.DGLHeteroGraph.apply_nodes(self, func, v='__ALL__', ntype=None, inplace=False)>,\n",
       "              'apply_edges': <function dgl.heterograph.DGLHeteroGraph.apply_edges(self, func, edges='__ALL__', etype=None, inplace=False)>,\n",
       "              'send_and_recv': <function dgl.heterograph.DGLHeteroGraph.send_and_recv(self, edges, message_func, reduce_func, apply_node_func=None, etype=None, inplace=False)>,\n",
       "              'pull': <function dgl.heterograph.DGLHeteroGraph.pull(self, v, message_func, reduce_func, apply_node_func=None, etype=None, inplace=False)>,\n",
       "              'push': <function dgl.heterograph.DGLHeteroGraph.push(self, u, message_func, reduce_func, apply_node_func=None, etype=None, inplace=False)>,\n",
       "              'update_all': <function dgl.heterograph.DGLHeteroGraph.update_all(self, message_func, reduce_func, apply_node_func=None, etype=None)>,\n",
       "              'multi_update_all': <function dgl.heterograph.DGLHeteroGraph.multi_update_all(self, etype_dict, cross_reducer, apply_node_func=None)>,\n",
       "              'prop_nodes': <function dgl.heterograph.DGLHeteroGraph.prop_nodes(self, nodes_generator, message_func, reduce_func, apply_node_func=None, etype=None)>,\n",
       "              'prop_edges': <function dgl.heterograph.DGLHeteroGraph.prop_edges(self, edges_generator, message_func, reduce_func, apply_node_func=None, etype=None)>,\n",
       "              'filter_nodes': <function dgl.heterograph.DGLHeteroGraph.filter_nodes(self, predicate, nodes='__ALL__', ntype=None)>,\n",
       "              'filter_edges': <function dgl.heterograph.DGLHeteroGraph.filter_edges(self, predicate, edges='__ALL__', etype=None)>,\n",
       "              'device': <property at 0x7f88fcddd810>,\n",
       "              'to': <function dgl.heterograph.DGLHeteroGraph.to(self, device, **kwargs)>,\n",
       "              'cpu': <function dgl.heterograph.DGLHeteroGraph.cpu(self)>,\n",
       "              'clone': <function dgl.heterograph.DGLHeteroGraph.clone(self)>,\n",
       "              'local_var': <function dgl.heterograph.DGLHeteroGraph.local_var(self)>,\n",
       "              'local_scope': <function dgl.heterograph.DGLHeteroGraph.local_scope(self)>,\n",
       "              'formats': <function dgl.heterograph.DGLHeteroGraph.formats(self, formats=None)>,\n",
       "              'create_format_': <function dgl.heterograph.DGLHeteroGraph.create_format_(self)>,\n",
       "              'astype': <function dgl.heterograph.DGLHeteroGraph.astype(self, idtype)>,\n",
       "              'shared_memory': <function dgl.heterograph.DGLHeteroGraph.shared_memory(self, name, formats=('coo', 'csr', 'csc'))>,\n",
       "              'long': <function dgl.heterograph.DGLHeteroGraph.long(self)>,\n",
       "              'int': <function dgl.heterograph.DGLHeteroGraph.int(self)>,\n",
       "              'from_networkx': <function dgl.heterograph.DGLHeteroGraph.from_networkx(self, nx_graph, node_attrs=None, edge_attrs=None)>,\n",
       "              'from_scipy_sparse_matrix': <function dgl.heterograph.DGLHeteroGraph.from_scipy_sparse_matrix(self, spmat, multigraph=None)>,\n",
       "              'register_apply_node_func': <function dgl.heterograph.DGLHeteroGraph.register_apply_node_func(self, func)>,\n",
       "              'register_apply_edge_func': <function dgl.heterograph.DGLHeteroGraph.register_apply_edge_func(self, func)>,\n",
       "              'register_message_func': <function dgl.heterograph.DGLHeteroGraph.register_message_func(self, func)>,\n",
       "              'register_reduce_func': <function dgl.heterograph.DGLHeteroGraph.register_reduce_func(self, func)>,\n",
       "              'group_apply_edges': <function dgl.heterograph.DGLHeteroGraph.group_apply_edges(self, group_by, func, edges='__ALL__', etype=None, inplace=False)>,\n",
       "              'send': <function dgl.heterograph.DGLHeteroGraph.send(self, edges, message_func, etype=None)>,\n",
       "              'recv': <function dgl.heterograph.DGLHeteroGraph.recv(self, v, reduce_func, apply_node_func=None, etype=None, inplace=False)>,\n",
       "              'multi_recv': <function dgl.heterograph.DGLHeteroGraph.multi_recv(self, v, reducer_dict, cross_reducer, apply_node_func=None, inplace=False)>,\n",
       "              'multi_send_and_recv': <function dgl.heterograph.DGLHeteroGraph.multi_send_and_recv(self, etype_dict, cross_reducer, apply_node_func=None, inplace=False)>,\n",
       "              'multi_pull': <function dgl.heterograph.DGLHeteroGraph.multi_pull(self, v, etype_dict, cross_reducer, apply_node_func=None, inplace=False)>,\n",
       "              'readonly': <function dgl.heterograph.DGLHeteroGraph.readonly(self, readonly_state=True)>,\n",
       "              '__dict__': <attribute '__dict__' of 'DGLHeteroGraph' objects>,\n",
       "              '__weakref__': <attribute '__weakref__' of 'DGLHeteroGraph' objects>,\n",
       "              'to_networkx': <function dgl.convert.to_networkx(g, node_attrs=None, edge_attrs=None)>,\n",
       "              'line_graph': <function dgl.transform.line_graph(g, backtracking=True, shared=False)>,\n",
       "              'reverse': <function dgl.transform.reverse(g, copy_ndata=True, copy_edata=False, *, share_ndata=None, share_edata=None)>,\n",
       "              'add_self_loop': <function dgl.transform.add_self_loop(g, etype=None)>,\n",
       "              'remove_self_loop': <function dgl.transform.remove_self_loop(g, etype=None)>,\n",
       "              'to_simple': <function dgl.transform.to_simple(g, return_counts='count', writeback_mapping=False, copy_ndata=True, copy_edata=False)>,\n",
       "              'subgraph': <function dgl.subgraph.node_subgraph(graph, nodes)>,\n",
       "              'edge_subgraph': <function dgl.subgraph.edge_subgraph(graph, edges, preserve_nodes=False)>,\n",
       "              'in_subgraph': <function dgl.subgraph.in_subgraph(g, nodes)>,\n",
       "              'out_subgraph': <function dgl.subgraph.out_subgraph(g, nodes)>,\n",
       "              'node_type_subgraph': <function dgl.subgraph.node_type_subgraph(graph, ntypes)>,\n",
       "              'edge_type_subgraph': <function dgl.subgraph.edge_type_subgraph(graph, etypes)>})"
      ]
     },
     "execution_count": 19,
     "metadata": {},
     "output_type": "execute_result"
    }
   ],
   "source": [
    "g.__class__.__dict__"
   ]
  },
  {
   "cell_type": "code",
   "execution_count": 21,
   "metadata": {},
   "outputs": [
    {
     "data": {
      "text/plain": [
       "<bound method DGLHeteroGraph.metagraph of Graph(num_nodes=4, num_edges=4,\n",
       "      ndata_schemes={}\n",
       "      edata_schemes={})>"
      ]
     },
     "execution_count": 21,
     "metadata": {},
     "output_type": "execute_result"
    }
   ],
   "source": [
    "g.metagraph"
   ]
  },
  {
   "cell_type": "code",
   "execution_count": 23,
   "metadata": {},
   "outputs": [
    {
     "data": {
      "text/plain": [
       "4"
      ]
     },
     "execution_count": 23,
     "metadata": {},
     "output_type": "execute_result"
    }
   ],
   "source": [
    "g.number_of_nodes()"
   ]
  },
  {
   "cell_type": "code",
   "execution_count": 26,
   "metadata": {},
   "outputs": [
    {
     "data": {
      "text/plain": [
       "0"
      ]
     },
     "execution_count": 26,
     "metadata": {},
     "output_type": "execute_result"
    }
   ],
   "source": [
    "g.get_ntype_id('disease')"
   ]
  },
  {
   "cell_type": "code",
   "execution_count": 27,
   "metadata": {},
   "outputs": [
    {
     "data": {
      "text/plain": [
       "tensor([0, 1, 2, 3])"
      ]
     },
     "execution_count": 27,
     "metadata": {},
     "output_type": "execute_result"
    }
   ],
   "source": [
    "g.srcnodes('gene')"
   ]
  },
  {
   "cell_type": "code",
   "execution_count": 28,
   "metadata": {},
   "outputs": [
    {
     "data": {
      "text/plain": [
       "tensor([0, 1, 2, 3])"
      ]
     },
     "execution_count": 28,
     "metadata": {},
     "output_type": "execute_result"
    }
   ],
   "source": [
    "g.dstnodes('gene')"
   ]
  },
  {
   "cell_type": "code",
   "execution_count": 29,
   "metadata": {},
   "outputs": [
    {
     "data": {
      "text/plain": [
       "tensor([0, 1, 2])"
      ]
     },
     "execution_count": 29,
     "metadata": {},
     "output_type": "execute_result"
    }
   ],
   "source": [
    "g.nodes('disease')"
   ]
  },
  {
   "cell_type": "code",
   "execution_count": 30,
   "metadata": {},
   "outputs": [
    {
     "data": {
      "text/plain": [
       "tensor([[1.],\n",
       "        [1.],\n",
       "        [1.]])"
      ]
     },
     "execution_count": 30,
     "metadata": {},
     "output_type": "execute_result"
    }
   ],
   "source": [
    "g.nodes['drug'].data['hv']=torch.ones(3,1)\n",
    "g.nodes['drug'].data['hv']"
   ]
  },
  {
   "cell_type": "code",
   "execution_count": 31,
   "metadata": {},
   "outputs": [
    {
     "data": {
      "text/plain": [
       "tensor([[0.]])"
      ]
     },
     "execution_count": 31,
     "metadata": {},
     "output_type": "execute_result"
    }
   ],
   "source": [
    "g.edges['treats'].data['he'] = torch.zeros(1, 1)\n",
    "g.edges['treats'].data['he']"
   ]
  },
  {
   "cell_type": "code",
   "execution_count": 32,
   "metadata": {},
   "outputs": [
    {
     "data": {
      "text/plain": [
       "{'he': tensor([[0.]])}"
      ]
     },
     "execution_count": 32,
     "metadata": {},
     "output_type": "execute_result"
    }
   ],
   "source": [
    "g.edges['treats'].data"
   ]
  },
  {
   "cell_type": "code",
   "execution_count": 33,
   "metadata": {},
   "outputs": [
    {
     "data": {
      "text/plain": [
       "{}"
      ]
     },
     "execution_count": 33,
     "metadata": {},
     "output_type": "execute_result"
    }
   ],
   "source": [
    "g.nodes['gene'].data"
   ]
  },
  {
   "cell_type": "code",
   "execution_count": 34,
   "metadata": {},
   "outputs": [],
   "source": [
    "g = dgl.heterograph({\n",
    "   ('drug', 'interacts', 'drug'): (torch.tensor([0, 1]), torch.tensor([1, 2])),\n",
    "   ('drug', 'is similar', 'drug'): (torch.tensor([0, 1]), torch.tensor([2, 3]))\n",
    "})\n",
    "g.nodes()\n",
    "g.ndata['hv']=torch.ones(4,1)"
   ]
  },
  {
   "cell_type": "code",
   "execution_count": 35,
   "metadata": {},
   "outputs": [
    {
     "data": {
      "text/plain": [
       "NodeSpace(data={'hv': tensor([[1.],\n",
       "        [1.],\n",
       "        [1.],\n",
       "        [1.]])})"
      ]
     },
     "execution_count": 35,
     "metadata": {},
     "output_type": "execute_result"
    }
   ],
   "source": [
    "g.nodes['drug']"
   ]
  },
  {
   "cell_type": "code",
   "execution_count": 36,
   "metadata": {},
   "outputs": [
    {
     "data": {
      "text/plain": [
       "['drug']"
      ]
     },
     "execution_count": 36,
     "metadata": {},
     "output_type": "execute_result"
    }
   ],
   "source": [
    "g.srctypes"
   ]
  },
  {
   "cell_type": "code",
   "execution_count": 37,
   "metadata": {},
   "outputs": [],
   "source": [
    "# 从磁盘加载异构图"
   ]
  },
  {
   "cell_type": "code",
   "execution_count": 38,
   "metadata": {},
   "outputs": [],
   "source": [
    "g = dgl.heterograph({\n",
    "   ('drug', 'interacts', 'drug'): (torch.tensor([0, 1]), torch.tensor([1, 2])),\n",
    "   ('drug', 'interacts', 'gene'): (torch.tensor([0, 1]), torch.tensor([2, 3])),\n",
    "   ('drug', 'treats', 'disease'): (torch.tensor([1]), torch.tensor([2]))\n",
    "})"
   ]
  },
  {
   "cell_type": "code",
   "execution_count": 39,
   "metadata": {},
   "outputs": [],
   "source": [
    "g.nodes['drug'].data['hv'] = torch.ones(3, 1)"
   ]
  },
  {
   "cell_type": "code",
   "execution_count": 40,
   "metadata": {},
   "outputs": [],
   "source": [
    "eg = g.edge_type_subgraph([('drug', 'interacts', 'drug'),('drug', 'treats', 'disease')])"
   ]
  },
  {
   "cell_type": "code",
   "execution_count": 41,
   "metadata": {},
   "outputs": [
    {
     "data": {
      "text/plain": [
       "Graph(num_nodes={'disease': 3, 'drug': 3},\n",
       "      num_edges={('drug', 'interacts', 'drug'): 2, ('drug', 'treats', 'disease'): 1},\n",
       "      metagraph=[('drug', 'drug', 'interacts'), ('drug', 'disease', 'treats')])"
      ]
     },
     "execution_count": 41,
     "metadata": {},
     "output_type": "execute_result"
    }
   ],
   "source": [
    "eg"
   ]
  },
  {
   "cell_type": "code",
   "execution_count": 42,
   "metadata": {},
   "outputs": [
    {
     "data": {
      "text/plain": [
       "tensor([[1.],\n",
       "        [1.],\n",
       "        [1.]])"
      ]
     },
     "execution_count": 42,
     "metadata": {},
     "output_type": "execute_result"
    }
   ],
   "source": [
    "eg.nodes['drug'].data['hv']"
   ]
  },
  {
   "cell_type": "code",
   "execution_count": 43,
   "metadata": {},
   "outputs": [],
   "source": [
    "# 将异构图转化为同构图\n",
    "g = dgl.heterograph({\n",
    "   ('drug', 'interacts', 'drug'): (torch.tensor([0, 1]), torch.tensor([1, 2])),\n",
    "   ('drug', 'treats', 'disease'): (torch.tensor([1]), torch.tensor([2]))})\n",
    "g.nodes['drug'].data['hv'] = torch.zeros(3, 1)\n",
    "g.nodes['disease'].data['hv'] = torch.ones(3, 1)\n",
    "g.edges['interacts'].data['he'] = torch.zeros(2, 1)\n",
    "g.edges['treats'].data['he'] = torch.zeros(1, 2)"
   ]
  },
  {
   "cell_type": "code",
   "execution_count": null,
   "metadata": {},
   "outputs": [
    {
     "ename": "TypeError",
     "evalue": "sum_nodes() missing 1 required positional argument: 'feat'",
     "output_type": "error",
     "traceback": [
      "\u001b[0;31m---------------------------------------------------------------------------\u001b[0m",
      "\u001b[0;31mTypeError\u001b[0m                                 Traceback (most recent call last)",
      "\u001b[0;32m/tmp/ipykernel_44779/1363956364.py\u001b[0m in \u001b[0;36m<module>\u001b[0;34m\u001b[0m\n\u001b[0;32m----> 1\u001b[0;31m \u001b[0mdgl\u001b[0m\u001b[0;34m.\u001b[0m\u001b[0msum_nodes\u001b[0m\u001b[0;34m(\u001b[0m\u001b[0mg\u001b[0m\u001b[0;34m)\u001b[0m\u001b[0;34m\u001b[0m\u001b[0;34m\u001b[0m\u001b[0m\n\u001b[0m",
      "\u001b[0;31mTypeError\u001b[0m: sum_nodes() missing 1 required positional argument: 'feat'"
     ]
    }
   ],
   "source": [
    "dgl.sum_nodes(g)"
   ]
  },
  {
   "cell_type": "code",
   "execution_count": 45,
   "metadata": {},
   "outputs": [
    {
     "data": {
      "text/plain": [
       "mappingproxy({'__module__': 'dgl.heterograph',\n",
       "              '__doc__': 'Class for storing graph structure and node/edge feature data.\\n\\n    There are a few ways to create create a DGLGraph:\\n\\n    * To create a homogeneous graph from Tensor data, use :func:`dgl.graph`.\\n    * To create a heterogeneous graph from Tensor data, use :func:`dgl.heterograph`.\\n    * To create a graph from other data sources, use ``dgl.*`` create ops. See\\n      :ref:`api-graph-create-ops`.\\n\\n    Read the user guide chapter :ref:`guide-graph` for an in-depth explanation about its\\n    usage.\\n    ',\n",
       "              'is_block': False,\n",
       "              '__init__': <function dgl.heterograph.DGLHeteroGraph.__init__(self, gidx=[], ntypes=['_U'], etypes=['_V'], node_frames=None, edge_frames=None, **deprecate_kwargs)>,\n",
       "              '_init': <function dgl.heterograph.DGLHeteroGraph._init(self, gidx, ntypes, etypes, node_frames, edge_frames)>,\n",
       "              '__setstate__': <function dgl.heterograph.DGLHeteroGraph.__setstate__(self, state)>,\n",
       "              '__repr__': <function dgl.heterograph.DGLHeteroGraph.__repr__(self)>,\n",
       "              '__copy__': <function dgl.heterograph.DGLHeteroGraph.__copy__(self)>,\n",
       "              'add_nodes': <function dgl.heterograph.DGLHeteroGraph.add_nodes(self, num, data=None, ntype=None)>,\n",
       "              'add_edge': <function dgl.heterograph.DGLHeteroGraph.add_edge(self, u, v, data=None, etype=None)>,\n",
       "              'add_edges': <function dgl.heterograph.DGLHeteroGraph.add_edges(self, u, v, data=None, etype=None)>,\n",
       "              'remove_edges': <function dgl.heterograph.DGLHeteroGraph.remove_edges(self, eids, etype=None)>,\n",
       "              'remove_nodes': <function dgl.heterograph.DGLHeteroGraph.remove_nodes(self, nids, ntype=None)>,\n",
       "              '_reset_cached_info': <function dgl.heterograph.DGLHeteroGraph._reset_cached_info(self)>,\n",
       "              'is_unibipartite': <property at 0x7f88fce29d10>,\n",
       "              'ntypes': <property at 0x7f88fce29d60>,\n",
       "              'etypes': <property at 0x7f88fcdd72c0>,\n",
       "              'canonical_etypes': <property at 0x7f88fcddd270>,\n",
       "              'srctypes': <property at 0x7f88fcddd2c0>,\n",
       "              'dsttypes': <property at 0x7f88fcddd310>,\n",
       "              'metagraph': <function dgl.heterograph.DGLHeteroGraph.metagraph(self)>,\n",
       "              'to_canonical_etype': <function dgl.heterograph.DGLHeteroGraph.to_canonical_etype(self, etype)>,\n",
       "              'get_ntype_id': <function dgl.heterograph.DGLHeteroGraph.get_ntype_id(self, ntype)>,\n",
       "              'get_ntype_id_from_src': <function dgl.heterograph.DGLHeteroGraph.get_ntype_id_from_src(self, ntype)>,\n",
       "              'get_ntype_id_from_dst': <function dgl.heterograph.DGLHeteroGraph.get_ntype_id_from_dst(self, ntype)>,\n",
       "              'get_etype_id': <function dgl.heterograph.DGLHeteroGraph.get_etype_id(self, etype)>,\n",
       "              'batch_size': <property at 0x7f88fcddd360>,\n",
       "              'batch_num_nodes': <function dgl.heterograph.DGLHeteroGraph.batch_num_nodes(self, ntype=None)>,\n",
       "              'set_batch_num_nodes': <function dgl.heterograph.DGLHeteroGraph.set_batch_num_nodes(self, val)>,\n",
       "              'batch_num_edges': <function dgl.heterograph.DGLHeteroGraph.batch_num_edges(self, etype=None)>,\n",
       "              'set_batch_num_edges': <function dgl.heterograph.DGLHeteroGraph.set_batch_num_edges(self, val)>,\n",
       "              'nodes': <property at 0x7f88fcddd3b0>,\n",
       "              'srcnodes': <property at 0x7f88fcddd400>,\n",
       "              'dstnodes': <property at 0x7f88fcddd450>,\n",
       "              'ndata': <property at 0x7f88fcddd4a0>,\n",
       "              'srcdata': <property at 0x7f88fcddd4f0>,\n",
       "              'dstdata': <property at 0x7f88fcddd540>,\n",
       "              'edges': <property at 0x7f88fcddd590>,\n",
       "              'edata': <property at 0x7f88fcddd5e0>,\n",
       "              '_find_etypes': <function dgl.heterograph.DGLHeteroGraph._find_etypes(self, key)>,\n",
       "              '__getitem__': <function dgl.heterograph.DGLHeteroGraph.__getitem__(self, key)>,\n",
       "              'number_of_nodes': <function dgl.heterograph.DGLHeteroGraph.number_of_nodes(self, ntype=None)>,\n",
       "              'num_nodes': <function dgl.heterograph.DGLHeteroGraph.num_nodes(self, ntype=None)>,\n",
       "              'number_of_src_nodes': <function dgl.heterograph.DGLHeteroGraph.number_of_src_nodes(self, ntype=None)>,\n",
       "              'num_src_nodes': <function dgl.heterograph.DGLHeteroGraph.num_src_nodes(self, ntype=None)>,\n",
       "              'number_of_dst_nodes': <function dgl.heterograph.DGLHeteroGraph.number_of_dst_nodes(self, ntype=None)>,\n",
       "              'num_dst_nodes': <function dgl.heterograph.DGLHeteroGraph.num_dst_nodes(self, ntype=None)>,\n",
       "              'number_of_edges': <function dgl.heterograph.DGLHeteroGraph.number_of_edges(self, etype=None)>,\n",
       "              'num_edges': <function dgl.heterograph.DGLHeteroGraph.num_edges(self, etype=None)>,\n",
       "              '__len__': <function dgl.heterograph.DGLHeteroGraph.__len__(self)>,\n",
       "              'is_multigraph': <property at 0x7f88fcddd630>,\n",
       "              'is_homogeneous': <property at 0x7f88fcddd680>,\n",
       "              'is_readonly': <property at 0x7f88fcddd6d0>,\n",
       "              'idtype': <property at 0x7f88fcddd720>,\n",
       "              '_idtype_str': <property at 0x7f88fcddd770>,\n",
       "              '__contains__': <function dgl.heterograph.DGLHeteroGraph.__contains__(self, vid)>,\n",
       "              'has_nodes': <function dgl.heterograph.DGLHeteroGraph.has_nodes(self, vid, ntype=None)>,\n",
       "              'has_node': <function dgl.heterograph.DGLHeteroGraph.has_node(self, vid, ntype=None)>,\n",
       "              'has_edges_between': <function dgl.heterograph.DGLHeteroGraph.has_edges_between(self, u, v, etype=None)>,\n",
       "              'has_edge_between': <function dgl.heterograph.DGLHeteroGraph.has_edge_between(self, u, v, etype=None)>,\n",
       "              'predecessors': <function dgl.heterograph.DGLHeteroGraph.predecessors(self, v, etype=None)>,\n",
       "              'successors': <function dgl.heterograph.DGLHeteroGraph.successors(self, v, etype=None)>,\n",
       "              'edge_id': <function dgl.heterograph.DGLHeteroGraph.edge_id(self, u, v, force_multi=None, return_uv=False, etype=None)>,\n",
       "              'edge_ids': <function dgl.heterograph.DGLHeteroGraph.edge_ids(self, u, v, force_multi=None, return_uv=False, etype=None)>,\n",
       "              'find_edges': <function dgl.heterograph.DGLHeteroGraph.find_edges(self, eid, etype=None)>,\n",
       "              'in_edges': <function dgl.heterograph.DGLHeteroGraph.in_edges(self, v, form='uv', etype=None)>,\n",
       "              'out_edges': <function dgl.heterograph.DGLHeteroGraph.out_edges(self, u, form='uv', etype=None)>,\n",
       "              'all_edges': <function dgl.heterograph.DGLHeteroGraph.all_edges(self, form='uv', order='eid', etype=None)>,\n",
       "              'in_degree': <function dgl.heterograph.DGLHeteroGraph.in_degree(self, v, etype=None)>,\n",
       "              'in_degrees': <function dgl.heterograph.DGLHeteroGraph.in_degrees(self, v='__ALL__', etype=None)>,\n",
       "              'out_degree': <function dgl.heterograph.DGLHeteroGraph.out_degree(self, u, etype=None)>,\n",
       "              'out_degrees': <function dgl.heterograph.DGLHeteroGraph.out_degrees(self, u='__ALL__', etype=None)>,\n",
       "              'adjacency_matrix': <function dgl.heterograph.DGLHeteroGraph.adjacency_matrix(self, transpose=True, ctx=device(type='cpu'), scipy_fmt=None, etype=None)>,\n",
       "              'adj': <function dgl.heterograph.DGLHeteroGraph.adj(self, transpose=True, ctx=device(type='cpu'), scipy_fmt=None, etype=None)>,\n",
       "              'adjacency_matrix_scipy': <function dgl.heterograph.DGLHeteroGraph.adjacency_matrix_scipy(self, transpose=True, fmt='csr', return_edge_ids=None)>,\n",
       "              'inc': <function dgl.heterograph.DGLHeteroGraph.inc(self, typestr, ctx=device(type='cpu'), etype=None)>,\n",
       "              'incidence_matrix': <function dgl.heterograph.DGLHeteroGraph.inc(self, typestr, ctx=device(type='cpu'), etype=None)>,\n",
       "              'node_attr_schemes': <function dgl.heterograph.DGLHeteroGraph.node_attr_schemes(self, ntype=None)>,\n",
       "              'edge_attr_schemes': <function dgl.heterograph.DGLHeteroGraph.edge_attr_schemes(self, etype=None)>,\n",
       "              'set_n_initializer': <function dgl.heterograph.DGLHeteroGraph.set_n_initializer(self, initializer, field=None, ntype=None)>,\n",
       "              'set_e_initializer': <function dgl.heterograph.DGLHeteroGraph.set_e_initializer(self, initializer, field=None, etype=None)>,\n",
       "              '_set_n_repr': <function dgl.heterograph.DGLHeteroGraph._set_n_repr(self, ntid, u, data)>,\n",
       "              '_get_n_repr': <function dgl.heterograph.DGLHeteroGraph._get_n_repr(self, ntid, u)>,\n",
       "              '_pop_n_repr': <function dgl.heterograph.DGLHeteroGraph._pop_n_repr(self, ntid, key)>,\n",
       "              '_set_e_repr': <function dgl.heterograph.DGLHeteroGraph._set_e_repr(self, etid, edges, data)>,\n",
       "              '_get_e_repr': <function dgl.heterograph.DGLHeteroGraph._get_e_repr(self, etid, edges)>,\n",
       "              '_pop_e_repr': <function dgl.heterograph.DGLHeteroGraph._pop_e_repr(self, etid, key)>,\n",
       "              'apply_nodes': <function dgl.heterograph.DGLHeteroGraph.apply_nodes(self, func, v='__ALL__', ntype=None, inplace=False)>,\n",
       "              'apply_edges': <function dgl.heterograph.DGLHeteroGraph.apply_edges(self, func, edges='__ALL__', etype=None, inplace=False)>,\n",
       "              'send_and_recv': <function dgl.heterograph.DGLHeteroGraph.send_and_recv(self, edges, message_func, reduce_func, apply_node_func=None, etype=None, inplace=False)>,\n",
       "              'pull': <function dgl.heterograph.DGLHeteroGraph.pull(self, v, message_func, reduce_func, apply_node_func=None, etype=None, inplace=False)>,\n",
       "              'push': <function dgl.heterograph.DGLHeteroGraph.push(self, u, message_func, reduce_func, apply_node_func=None, etype=None, inplace=False)>,\n",
       "              'update_all': <function dgl.heterograph.DGLHeteroGraph.update_all(self, message_func, reduce_func, apply_node_func=None, etype=None)>,\n",
       "              'multi_update_all': <function dgl.heterograph.DGLHeteroGraph.multi_update_all(self, etype_dict, cross_reducer, apply_node_func=None)>,\n",
       "              'prop_nodes': <function dgl.heterograph.DGLHeteroGraph.prop_nodes(self, nodes_generator, message_func, reduce_func, apply_node_func=None, etype=None)>,\n",
       "              'prop_edges': <function dgl.heterograph.DGLHeteroGraph.prop_edges(self, edges_generator, message_func, reduce_func, apply_node_func=None, etype=None)>,\n",
       "              'filter_nodes': <function dgl.heterograph.DGLHeteroGraph.filter_nodes(self, predicate, nodes='__ALL__', ntype=None)>,\n",
       "              'filter_edges': <function dgl.heterograph.DGLHeteroGraph.filter_edges(self, predicate, edges='__ALL__', etype=None)>,\n",
       "              'device': <property at 0x7f88fcddd810>,\n",
       "              'to': <function dgl.heterograph.DGLHeteroGraph.to(self, device, **kwargs)>,\n",
       "              'cpu': <function dgl.heterograph.DGLHeteroGraph.cpu(self)>,\n",
       "              'clone': <function dgl.heterograph.DGLHeteroGraph.clone(self)>,\n",
       "              'local_var': <function dgl.heterograph.DGLHeteroGraph.local_var(self)>,\n",
       "              'local_scope': <function dgl.heterograph.DGLHeteroGraph.local_scope(self)>,\n",
       "              'formats': <function dgl.heterograph.DGLHeteroGraph.formats(self, formats=None)>,\n",
       "              'create_format_': <function dgl.heterograph.DGLHeteroGraph.create_format_(self)>,\n",
       "              'astype': <function dgl.heterograph.DGLHeteroGraph.astype(self, idtype)>,\n",
       "              'shared_memory': <function dgl.heterograph.DGLHeteroGraph.shared_memory(self, name, formats=('coo', 'csr', 'csc'))>,\n",
       "              'long': <function dgl.heterograph.DGLHeteroGraph.long(self)>,\n",
       "              'int': <function dgl.heterograph.DGLHeteroGraph.int(self)>,\n",
       "              'from_networkx': <function dgl.heterograph.DGLHeteroGraph.from_networkx(self, nx_graph, node_attrs=None, edge_attrs=None)>,\n",
       "              'from_scipy_sparse_matrix': <function dgl.heterograph.DGLHeteroGraph.from_scipy_sparse_matrix(self, spmat, multigraph=None)>,\n",
       "              'register_apply_node_func': <function dgl.heterograph.DGLHeteroGraph.register_apply_node_func(self, func)>,\n",
       "              'register_apply_edge_func': <function dgl.heterograph.DGLHeteroGraph.register_apply_edge_func(self, func)>,\n",
       "              'register_message_func': <function dgl.heterograph.DGLHeteroGraph.register_message_func(self, func)>,\n",
       "              'register_reduce_func': <function dgl.heterograph.DGLHeteroGraph.register_reduce_func(self, func)>,\n",
       "              'group_apply_edges': <function dgl.heterograph.DGLHeteroGraph.group_apply_edges(self, group_by, func, edges='__ALL__', etype=None, inplace=False)>,\n",
       "              'send': <function dgl.heterograph.DGLHeteroGraph.send(self, edges, message_func, etype=None)>,\n",
       "              'recv': <function dgl.heterograph.DGLHeteroGraph.recv(self, v, reduce_func, apply_node_func=None, etype=None, inplace=False)>,\n",
       "              'multi_recv': <function dgl.heterograph.DGLHeteroGraph.multi_recv(self, v, reducer_dict, cross_reducer, apply_node_func=None, inplace=False)>,\n",
       "              'multi_send_and_recv': <function dgl.heterograph.DGLHeteroGraph.multi_send_and_recv(self, etype_dict, cross_reducer, apply_node_func=None, inplace=False)>,\n",
       "              'multi_pull': <function dgl.heterograph.DGLHeteroGraph.multi_pull(self, v, etype_dict, cross_reducer, apply_node_func=None, inplace=False)>,\n",
       "              'readonly': <function dgl.heterograph.DGLHeteroGraph.readonly(self, readonly_state=True)>,\n",
       "              '__dict__': <attribute '__dict__' of 'DGLHeteroGraph' objects>,\n",
       "              '__weakref__': <attribute '__weakref__' of 'DGLHeteroGraph' objects>,\n",
       "              'to_networkx': <function dgl.convert.to_networkx(g, node_attrs=None, edge_attrs=None)>,\n",
       "              'line_graph': <function dgl.transform.line_graph(g, backtracking=True, shared=False)>,\n",
       "              'reverse': <function dgl.transform.reverse(g, copy_ndata=True, copy_edata=False, *, share_ndata=None, share_edata=None)>,\n",
       "              'add_self_loop': <function dgl.transform.add_self_loop(g, etype=None)>,\n",
       "              'remove_self_loop': <function dgl.transform.remove_self_loop(g, etype=None)>,\n",
       "              'to_simple': <function dgl.transform.to_simple(g, return_counts='count', writeback_mapping=False, copy_ndata=True, copy_edata=False)>,\n",
       "              'subgraph': <function dgl.subgraph.node_subgraph(graph, nodes)>,\n",
       "              'edge_subgraph': <function dgl.subgraph.edge_subgraph(graph, edges, preserve_nodes=False)>,\n",
       "              'in_subgraph': <function dgl.subgraph.in_subgraph(g, nodes)>,\n",
       "              'out_subgraph': <function dgl.subgraph.out_subgraph(g, nodes)>,\n",
       "              'node_type_subgraph': <function dgl.subgraph.node_type_subgraph(graph, ntypes)>,\n",
       "              'edge_type_subgraph': <function dgl.subgraph.edge_type_subgraph(graph, etypes)>})"
      ]
     },
     "execution_count": 45,
     "metadata": {},
     "output_type": "execute_result"
    }
   ],
   "source": [
    "dgl.DGLGraph.__dict__"
   ]
  },
  {
   "cell_type": "code",
   "execution_count": 46,
   "metadata": {},
   "outputs": [
    {
     "data": {
      "text/plain": [
       "dgl.heterograph.DGLHeteroGraph"
      ]
     },
     "execution_count": 46,
     "metadata": {},
     "output_type": "execute_result"
    }
   ],
   "source": [
    "# Source nodes for edges (2, 1), (3, 2), (4, 3)\n",
    "src_ids = torch.tensor([2, 3, 4])\n",
    "# Destination nodes for edges (2, 1), (3, 2), (4, 3)\n",
    "dst_ids = torch.tensor([1, 2, 3])\n",
    "g = dgl.graph((src_ids, dst_ids))\n",
    "g = dgl.graph((src_ids, dst_ids), num_nodes=100)\n",
    "type(g)"
   ]
  },
  {
   "cell_type": "code",
   "execution_count": 47,
   "metadata": {},
   "outputs": [],
   "source": [
    "g = dgl.graph((src_ids, dst_ids), idtype=torch.int32, device='cuda:0')"
   ]
  },
  {
   "cell_type": "code",
   "execution_count": 48,
   "metadata": {},
   "outputs": [
    {
     "data": {
      "text/plain": [
       "dgl.heterograph.DGLHeteroGraph"
      ]
     },
     "execution_count": 48,
     "metadata": {},
     "output_type": "execute_result"
    }
   ],
   "source": [
    "type(g)"
   ]
  },
  {
   "cell_type": "code",
   "execution_count": 49,
   "metadata": {},
   "outputs": [
    {
     "data": {
      "text/plain": [
       "mappingproxy({'__module__': 'dgl.heterograph',\n",
       "              '__doc__': 'Class for storing graph structure and node/edge feature data.\\n\\n    There are a few ways to create create a DGLGraph:\\n\\n    * To create a homogeneous graph from Tensor data, use :func:`dgl.graph`.\\n    * To create a heterogeneous graph from Tensor data, use :func:`dgl.heterograph`.\\n    * To create a graph from other data sources, use ``dgl.*`` create ops. See\\n      :ref:`api-graph-create-ops`.\\n\\n    Read the user guide chapter :ref:`guide-graph` for an in-depth explanation about its\\n    usage.\\n    ',\n",
       "              'is_block': False,\n",
       "              '__init__': <function dgl.heterograph.DGLHeteroGraph.__init__(self, gidx=[], ntypes=['_U'], etypes=['_V'], node_frames=None, edge_frames=None, **deprecate_kwargs)>,\n",
       "              '_init': <function dgl.heterograph.DGLHeteroGraph._init(self, gidx, ntypes, etypes, node_frames, edge_frames)>,\n",
       "              '__setstate__': <function dgl.heterograph.DGLHeteroGraph.__setstate__(self, state)>,\n",
       "              '__repr__': <function dgl.heterograph.DGLHeteroGraph.__repr__(self)>,\n",
       "              '__copy__': <function dgl.heterograph.DGLHeteroGraph.__copy__(self)>,\n",
       "              'add_nodes': <function dgl.heterograph.DGLHeteroGraph.add_nodes(self, num, data=None, ntype=None)>,\n",
       "              'add_edge': <function dgl.heterograph.DGLHeteroGraph.add_edge(self, u, v, data=None, etype=None)>,\n",
       "              'add_edges': <function dgl.heterograph.DGLHeteroGraph.add_edges(self, u, v, data=None, etype=None)>,\n",
       "              'remove_edges': <function dgl.heterograph.DGLHeteroGraph.remove_edges(self, eids, etype=None)>,\n",
       "              'remove_nodes': <function dgl.heterograph.DGLHeteroGraph.remove_nodes(self, nids, ntype=None)>,\n",
       "              '_reset_cached_info': <function dgl.heterograph.DGLHeteroGraph._reset_cached_info(self)>,\n",
       "              'is_unibipartite': <property at 0x7f88fce29d10>,\n",
       "              'ntypes': <property at 0x7f88fce29d60>,\n",
       "              'etypes': <property at 0x7f88fcdd72c0>,\n",
       "              'canonical_etypes': <property at 0x7f88fcddd270>,\n",
       "              'srctypes': <property at 0x7f88fcddd2c0>,\n",
       "              'dsttypes': <property at 0x7f88fcddd310>,\n",
       "              'metagraph': <function dgl.heterograph.DGLHeteroGraph.metagraph(self)>,\n",
       "              'to_canonical_etype': <function dgl.heterograph.DGLHeteroGraph.to_canonical_etype(self, etype)>,\n",
       "              'get_ntype_id': <function dgl.heterograph.DGLHeteroGraph.get_ntype_id(self, ntype)>,\n",
       "              'get_ntype_id_from_src': <function dgl.heterograph.DGLHeteroGraph.get_ntype_id_from_src(self, ntype)>,\n",
       "              'get_ntype_id_from_dst': <function dgl.heterograph.DGLHeteroGraph.get_ntype_id_from_dst(self, ntype)>,\n",
       "              'get_etype_id': <function dgl.heterograph.DGLHeteroGraph.get_etype_id(self, etype)>,\n",
       "              'batch_size': <property at 0x7f88fcddd360>,\n",
       "              'batch_num_nodes': <function dgl.heterograph.DGLHeteroGraph.batch_num_nodes(self, ntype=None)>,\n",
       "              'set_batch_num_nodes': <function dgl.heterograph.DGLHeteroGraph.set_batch_num_nodes(self, val)>,\n",
       "              'batch_num_edges': <function dgl.heterograph.DGLHeteroGraph.batch_num_edges(self, etype=None)>,\n",
       "              'set_batch_num_edges': <function dgl.heterograph.DGLHeteroGraph.set_batch_num_edges(self, val)>,\n",
       "              'nodes': <property at 0x7f88fcddd3b0>,\n",
       "              'srcnodes': <property at 0x7f88fcddd400>,\n",
       "              'dstnodes': <property at 0x7f88fcddd450>,\n",
       "              'ndata': <property at 0x7f88fcddd4a0>,\n",
       "              'srcdata': <property at 0x7f88fcddd4f0>,\n",
       "              'dstdata': <property at 0x7f88fcddd540>,\n",
       "              'edges': <property at 0x7f88fcddd590>,\n",
       "              'edata': <property at 0x7f88fcddd5e0>,\n",
       "              '_find_etypes': <function dgl.heterograph.DGLHeteroGraph._find_etypes(self, key)>,\n",
       "              '__getitem__': <function dgl.heterograph.DGLHeteroGraph.__getitem__(self, key)>,\n",
       "              'number_of_nodes': <function dgl.heterograph.DGLHeteroGraph.number_of_nodes(self, ntype=None)>,\n",
       "              'num_nodes': <function dgl.heterograph.DGLHeteroGraph.num_nodes(self, ntype=None)>,\n",
       "              'number_of_src_nodes': <function dgl.heterograph.DGLHeteroGraph.number_of_src_nodes(self, ntype=None)>,\n",
       "              'num_src_nodes': <function dgl.heterograph.DGLHeteroGraph.num_src_nodes(self, ntype=None)>,\n",
       "              'number_of_dst_nodes': <function dgl.heterograph.DGLHeteroGraph.number_of_dst_nodes(self, ntype=None)>,\n",
       "              'num_dst_nodes': <function dgl.heterograph.DGLHeteroGraph.num_dst_nodes(self, ntype=None)>,\n",
       "              'number_of_edges': <function dgl.heterograph.DGLHeteroGraph.number_of_edges(self, etype=None)>,\n",
       "              'num_edges': <function dgl.heterograph.DGLHeteroGraph.num_edges(self, etype=None)>,\n",
       "              '__len__': <function dgl.heterograph.DGLHeteroGraph.__len__(self)>,\n",
       "              'is_multigraph': <property at 0x7f88fcddd630>,\n",
       "              'is_homogeneous': <property at 0x7f88fcddd680>,\n",
       "              'is_readonly': <property at 0x7f88fcddd6d0>,\n",
       "              'idtype': <property at 0x7f88fcddd720>,\n",
       "              '_idtype_str': <property at 0x7f88fcddd770>,\n",
       "              '__contains__': <function dgl.heterograph.DGLHeteroGraph.__contains__(self, vid)>,\n",
       "              'has_nodes': <function dgl.heterograph.DGLHeteroGraph.has_nodes(self, vid, ntype=None)>,\n",
       "              'has_node': <function dgl.heterograph.DGLHeteroGraph.has_node(self, vid, ntype=None)>,\n",
       "              'has_edges_between': <function dgl.heterograph.DGLHeteroGraph.has_edges_between(self, u, v, etype=None)>,\n",
       "              'has_edge_between': <function dgl.heterograph.DGLHeteroGraph.has_edge_between(self, u, v, etype=None)>,\n",
       "              'predecessors': <function dgl.heterograph.DGLHeteroGraph.predecessors(self, v, etype=None)>,\n",
       "              'successors': <function dgl.heterograph.DGLHeteroGraph.successors(self, v, etype=None)>,\n",
       "              'edge_id': <function dgl.heterograph.DGLHeteroGraph.edge_id(self, u, v, force_multi=None, return_uv=False, etype=None)>,\n",
       "              'edge_ids': <function dgl.heterograph.DGLHeteroGraph.edge_ids(self, u, v, force_multi=None, return_uv=False, etype=None)>,\n",
       "              'find_edges': <function dgl.heterograph.DGLHeteroGraph.find_edges(self, eid, etype=None)>,\n",
       "              'in_edges': <function dgl.heterograph.DGLHeteroGraph.in_edges(self, v, form='uv', etype=None)>,\n",
       "              'out_edges': <function dgl.heterograph.DGLHeteroGraph.out_edges(self, u, form='uv', etype=None)>,\n",
       "              'all_edges': <function dgl.heterograph.DGLHeteroGraph.all_edges(self, form='uv', order='eid', etype=None)>,\n",
       "              'in_degree': <function dgl.heterograph.DGLHeteroGraph.in_degree(self, v, etype=None)>,\n",
       "              'in_degrees': <function dgl.heterograph.DGLHeteroGraph.in_degrees(self, v='__ALL__', etype=None)>,\n",
       "              'out_degree': <function dgl.heterograph.DGLHeteroGraph.out_degree(self, u, etype=None)>,\n",
       "              'out_degrees': <function dgl.heterograph.DGLHeteroGraph.out_degrees(self, u='__ALL__', etype=None)>,\n",
       "              'adjacency_matrix': <function dgl.heterograph.DGLHeteroGraph.adjacency_matrix(self, transpose=True, ctx=device(type='cpu'), scipy_fmt=None, etype=None)>,\n",
       "              'adj': <function dgl.heterograph.DGLHeteroGraph.adj(self, transpose=True, ctx=device(type='cpu'), scipy_fmt=None, etype=None)>,\n",
       "              'adjacency_matrix_scipy': <function dgl.heterograph.DGLHeteroGraph.adjacency_matrix_scipy(self, transpose=True, fmt='csr', return_edge_ids=None)>,\n",
       "              'inc': <function dgl.heterograph.DGLHeteroGraph.inc(self, typestr, ctx=device(type='cpu'), etype=None)>,\n",
       "              'incidence_matrix': <function dgl.heterograph.DGLHeteroGraph.inc(self, typestr, ctx=device(type='cpu'), etype=None)>,\n",
       "              'node_attr_schemes': <function dgl.heterograph.DGLHeteroGraph.node_attr_schemes(self, ntype=None)>,\n",
       "              'edge_attr_schemes': <function dgl.heterograph.DGLHeteroGraph.edge_attr_schemes(self, etype=None)>,\n",
       "              'set_n_initializer': <function dgl.heterograph.DGLHeteroGraph.set_n_initializer(self, initializer, field=None, ntype=None)>,\n",
       "              'set_e_initializer': <function dgl.heterograph.DGLHeteroGraph.set_e_initializer(self, initializer, field=None, etype=None)>,\n",
       "              '_set_n_repr': <function dgl.heterograph.DGLHeteroGraph._set_n_repr(self, ntid, u, data)>,\n",
       "              '_get_n_repr': <function dgl.heterograph.DGLHeteroGraph._get_n_repr(self, ntid, u)>,\n",
       "              '_pop_n_repr': <function dgl.heterograph.DGLHeteroGraph._pop_n_repr(self, ntid, key)>,\n",
       "              '_set_e_repr': <function dgl.heterograph.DGLHeteroGraph._set_e_repr(self, etid, edges, data)>,\n",
       "              '_get_e_repr': <function dgl.heterograph.DGLHeteroGraph._get_e_repr(self, etid, edges)>,\n",
       "              '_pop_e_repr': <function dgl.heterograph.DGLHeteroGraph._pop_e_repr(self, etid, key)>,\n",
       "              'apply_nodes': <function dgl.heterograph.DGLHeteroGraph.apply_nodes(self, func, v='__ALL__', ntype=None, inplace=False)>,\n",
       "              'apply_edges': <function dgl.heterograph.DGLHeteroGraph.apply_edges(self, func, edges='__ALL__', etype=None, inplace=False)>,\n",
       "              'send_and_recv': <function dgl.heterograph.DGLHeteroGraph.send_and_recv(self, edges, message_func, reduce_func, apply_node_func=None, etype=None, inplace=False)>,\n",
       "              'pull': <function dgl.heterograph.DGLHeteroGraph.pull(self, v, message_func, reduce_func, apply_node_func=None, etype=None, inplace=False)>,\n",
       "              'push': <function dgl.heterograph.DGLHeteroGraph.push(self, u, message_func, reduce_func, apply_node_func=None, etype=None, inplace=False)>,\n",
       "              'update_all': <function dgl.heterograph.DGLHeteroGraph.update_all(self, message_func, reduce_func, apply_node_func=None, etype=None)>,\n",
       "              'multi_update_all': <function dgl.heterograph.DGLHeteroGraph.multi_update_all(self, etype_dict, cross_reducer, apply_node_func=None)>,\n",
       "              'prop_nodes': <function dgl.heterograph.DGLHeteroGraph.prop_nodes(self, nodes_generator, message_func, reduce_func, apply_node_func=None, etype=None)>,\n",
       "              'prop_edges': <function dgl.heterograph.DGLHeteroGraph.prop_edges(self, edges_generator, message_func, reduce_func, apply_node_func=None, etype=None)>,\n",
       "              'filter_nodes': <function dgl.heterograph.DGLHeteroGraph.filter_nodes(self, predicate, nodes='__ALL__', ntype=None)>,\n",
       "              'filter_edges': <function dgl.heterograph.DGLHeteroGraph.filter_edges(self, predicate, edges='__ALL__', etype=None)>,\n",
       "              'device': <property at 0x7f88fcddd810>,\n",
       "              'to': <function dgl.heterograph.DGLHeteroGraph.to(self, device, **kwargs)>,\n",
       "              'cpu': <function dgl.heterograph.DGLHeteroGraph.cpu(self)>,\n",
       "              'clone': <function dgl.heterograph.DGLHeteroGraph.clone(self)>,\n",
       "              'local_var': <function dgl.heterograph.DGLHeteroGraph.local_var(self)>,\n",
       "              'local_scope': <function dgl.heterograph.DGLHeteroGraph.local_scope(self)>,\n",
       "              'formats': <function dgl.heterograph.DGLHeteroGraph.formats(self, formats=None)>,\n",
       "              'create_format_': <function dgl.heterograph.DGLHeteroGraph.create_format_(self)>,\n",
       "              'astype': <function dgl.heterograph.DGLHeteroGraph.astype(self, idtype)>,\n",
       "              'shared_memory': <function dgl.heterograph.DGLHeteroGraph.shared_memory(self, name, formats=('coo', 'csr', 'csc'))>,\n",
       "              'long': <function dgl.heterograph.DGLHeteroGraph.long(self)>,\n",
       "              'int': <function dgl.heterograph.DGLHeteroGraph.int(self)>,\n",
       "              'from_networkx': <function dgl.heterograph.DGLHeteroGraph.from_networkx(self, nx_graph, node_attrs=None, edge_attrs=None)>,\n",
       "              'from_scipy_sparse_matrix': <function dgl.heterograph.DGLHeteroGraph.from_scipy_sparse_matrix(self, spmat, multigraph=None)>,\n",
       "              'register_apply_node_func': <function dgl.heterograph.DGLHeteroGraph.register_apply_node_func(self, func)>,\n",
       "              'register_apply_edge_func': <function dgl.heterograph.DGLHeteroGraph.register_apply_edge_func(self, func)>,\n",
       "              'register_message_func': <function dgl.heterograph.DGLHeteroGraph.register_message_func(self, func)>,\n",
       "              'register_reduce_func': <function dgl.heterograph.DGLHeteroGraph.register_reduce_func(self, func)>,\n",
       "              'group_apply_edges': <function dgl.heterograph.DGLHeteroGraph.group_apply_edges(self, group_by, func, edges='__ALL__', etype=None, inplace=False)>,\n",
       "              'send': <function dgl.heterograph.DGLHeteroGraph.send(self, edges, message_func, etype=None)>,\n",
       "              'recv': <function dgl.heterograph.DGLHeteroGraph.recv(self, v, reduce_func, apply_node_func=None, etype=None, inplace=False)>,\n",
       "              'multi_recv': <function dgl.heterograph.DGLHeteroGraph.multi_recv(self, v, reducer_dict, cross_reducer, apply_node_func=None, inplace=False)>,\n",
       "              'multi_send_and_recv': <function dgl.heterograph.DGLHeteroGraph.multi_send_and_recv(self, etype_dict, cross_reducer, apply_node_func=None, inplace=False)>,\n",
       "              'multi_pull': <function dgl.heterograph.DGLHeteroGraph.multi_pull(self, v, etype_dict, cross_reducer, apply_node_func=None, inplace=False)>,\n",
       "              'readonly': <function dgl.heterograph.DGLHeteroGraph.readonly(self, readonly_state=True)>,\n",
       "              '__dict__': <attribute '__dict__' of 'DGLHeteroGraph' objects>,\n",
       "              '__weakref__': <attribute '__weakref__' of 'DGLHeteroGraph' objects>,\n",
       "              'to_networkx': <function dgl.convert.to_networkx(g, node_attrs=None, edge_attrs=None)>,\n",
       "              'line_graph': <function dgl.transform.line_graph(g, backtracking=True, shared=False)>,\n",
       "              'reverse': <function dgl.transform.reverse(g, copy_ndata=True, copy_edata=False, *, share_ndata=None, share_edata=None)>,\n",
       "              'add_self_loop': <function dgl.transform.add_self_loop(g, etype=None)>,\n",
       "              'remove_self_loop': <function dgl.transform.remove_self_loop(g, etype=None)>,\n",
       "              'to_simple': <function dgl.transform.to_simple(g, return_counts='count', writeback_mapping=False, copy_ndata=True, copy_edata=False)>,\n",
       "              'subgraph': <function dgl.subgraph.node_subgraph(graph, nodes)>,\n",
       "              'edge_subgraph': <function dgl.subgraph.edge_subgraph(graph, edges, preserve_nodes=False)>,\n",
       "              'in_subgraph': <function dgl.subgraph.in_subgraph(g, nodes)>,\n",
       "              'out_subgraph': <function dgl.subgraph.out_subgraph(g, nodes)>,\n",
       "              'node_type_subgraph': <function dgl.subgraph.node_type_subgraph(graph, ntypes)>,\n",
       "              'edge_type_subgraph': <function dgl.subgraph.edge_type_subgraph(graph, etypes)>})"
      ]
     },
     "execution_count": 49,
     "metadata": {},
     "output_type": "execute_result"
    }
   ],
   "source": [
    "dgl.DGLGraph.__dict__"
   ]
  },
  {
   "cell_type": "code",
   "execution_count": 51,
   "metadata": {},
   "outputs": [
    {
     "name": "stdout",
     "output_type": "stream",
     "text": [
      "Graph(num_nodes=4, num_edges=4,\n",
      "      ndata_schemes={}\n",
      "      edata_schemes={})\n"
     ]
    }
   ],
   "source": [
    "import torch as th\n",
    "u, v = th.tensor([0, 0, 0, 1]), th.tensor([1, 2, 3, 3])\n",
    "g = dgl.graph((u, v))\n",
    "print(g) "
   ]
  },
  {
   "cell_type": "code",
   "execution_count": 52,
   "metadata": {},
   "outputs": [
    {
     "name": "stdout",
     "output_type": "stream",
     "text": [
      "tensor([0, 1, 2, 3])\n"
     ]
    }
   ],
   "source": [
    "print(g.nodes())"
   ]
  },
  {
   "cell_type": "code",
   "execution_count": 53,
   "metadata": {},
   "outputs": [
    {
     "name": "stdout",
     "output_type": "stream",
     "text": [
      "(tensor([0, 0, 0, 1]), tensor([1, 2, 3, 3]))\n"
     ]
    }
   ],
   "source": [
    "print(g.edges())"
   ]
  },
  {
   "cell_type": "code",
   "execution_count": 54,
   "metadata": {},
   "outputs": [
    {
     "name": "stdout",
     "output_type": "stream",
     "text": [
      "(tensor([0, 0, 0, 1]), tensor([1, 2, 3, 3]), tensor([0, 1, 2, 3]))\n"
     ]
    }
   ],
   "source": [
    "print(g.edges(form='all'))"
   ]
  },
  {
   "cell_type": "code",
   "execution_count": 55,
   "metadata": {},
   "outputs": [],
   "source": [
    "g = dgl.graph((u, v), num_nodes=8)"
   ]
  },
  {
   "cell_type": "code",
   "execution_count": 56,
   "metadata": {},
   "outputs": [],
   "source": [
    "bg = dgl.to_bidirected(g)"
   ]
  },
  {
   "cell_type": "code",
   "execution_count": 57,
   "metadata": {},
   "outputs": [
    {
     "data": {
      "text/plain": [
       "(tensor([0, 0, 0, 1, 1, 2, 3, 3]), tensor([1, 2, 3, 0, 3, 0, 0, 1]))"
      ]
     },
     "execution_count": 57,
     "metadata": {},
     "output_type": "execute_result"
    }
   ],
   "source": [
    "bg.edges()"
   ]
  },
  {
   "cell_type": "code",
   "execution_count": 58,
   "metadata": {},
   "outputs": [
    {
     "name": "stdout",
     "output_type": "stream",
     "text": [
      "torch.int64\n"
     ]
    }
   ],
   "source": [
    "edges=th.tensor([2,5,3]),th.tensor([3,5,0])\n",
    "g64=dgl.graph(edges)\n",
    "print(g64.idtype)"
   ]
  },
  {
   "cell_type": "code",
   "execution_count": 59,
   "metadata": {},
   "outputs": [
    {
     "data": {
      "text/plain": [
       "torch.int32"
      ]
     },
     "execution_count": 59,
     "metadata": {},
     "output_type": "execute_result"
    }
   ],
   "source": [
    "g32=dgl.graph(edges,idtype=th.int32)\n",
    "g32.idtype"
   ]
  },
  {
   "cell_type": "code",
   "execution_count": 60,
   "metadata": {},
   "outputs": [
    {
     "data": {
      "text/plain": [
       "torch.int64"
      ]
     },
     "execution_count": 60,
     "metadata": {},
     "output_type": "execute_result"
    }
   ],
   "source": [
    "g64_2=g32.long()\n",
    "g64_2.idtype"
   ]
  },
  {
   "cell_type": "code",
   "execution_count": 61,
   "metadata": {},
   "outputs": [
    {
     "data": {
      "text/plain": [
       "torch.int32"
      ]
     },
     "execution_count": 61,
     "metadata": {},
     "output_type": "execute_result"
    }
   ],
   "source": [
    "g32_2=g64.int()\n",
    "g32_2.idtype"
   ]
  },
  {
   "cell_type": "code",
   "execution_count": 82,
   "metadata": {},
   "outputs": [
    {
     "data": {
      "text/plain": [
       "dgl.heterograph.DGLHeteroGraph"
      ]
     },
     "execution_count": 82,
     "metadata": {},
     "output_type": "execute_result"
    }
   ],
   "source": [
    "g=dgl.graph(([0,0,1,5],[1,2,2,0]))\n",
    "type(g)"
   ]
  },
  {
   "cell_type": "code",
   "execution_count": 63,
   "metadata": {},
   "outputs": [],
   "source": [
    "g.ndata['x']=th.ones(g.num_nodes(),3)\n",
    "g.edata['x']=th.ones(g.num_edges(),dtype=th.int32)"
   ]
  },
  {
   "cell_type": "code",
   "execution_count": 64,
   "metadata": {},
   "outputs": [
    {
     "data": {
      "text/plain": [
       "Graph(num_nodes=6, num_edges=4,\n",
       "      ndata_schemes={'x': Scheme(shape=(3,), dtype=torch.float32)}\n",
       "      edata_schemes={'x': Scheme(shape=(), dtype=torch.int32)})"
      ]
     },
     "execution_count": 64,
     "metadata": {},
     "output_type": "execute_result"
    }
   ],
   "source": [
    "g"
   ]
  },
  {
   "cell_type": "code",
   "execution_count": 67,
   "metadata": {},
   "outputs": [
    {
     "data": {
      "text/plain": [
       "tensor([[1., 1., 1.],\n",
       "        [1., 1., 1.]])"
      ]
     },
     "execution_count": 67,
     "metadata": {},
     "output_type": "execute_result"
    }
   ],
   "source": [
    "g.ndata['y']=th.randn(g.num_nodes(),5)\n",
    "g.ndata['x'][[1,3]]\n",
    "#特征张量使用”行优先”的原则，即每个行切片储存1个节点或1条边的特征"
   ]
  },
  {
   "cell_type": "code",
   "execution_count": 66,
   "metadata": {},
   "outputs": [
    {
     "data": {
      "text/plain": [
       "tensor([1, 1], dtype=torch.int32)"
      ]
     },
     "execution_count": 66,
     "metadata": {},
     "output_type": "execute_result"
    }
   ],
   "source": [
    "g.edata['x'][th.tensor([0,3])]"
   ]
  },
  {
   "cell_type": "code",
   "execution_count": 68,
   "metadata": {},
   "outputs": [
    {
     "data": {
      "text/plain": [
       "Graph(num_nodes=4, num_edges=4,\n",
       "      ndata_schemes={}\n",
       "      edata_schemes={'w': Scheme(shape=(), dtype=torch.float32)})"
      ]
     },
     "execution_count": 68,
     "metadata": {},
     "output_type": "execute_result"
    }
   ],
   "source": [
    "# 边 0->1, 0->2, 0->3, 1->3\n",
    "edges = th.tensor([0, 0, 0, 1]), th.tensor([1, 2, 3, 3])\n",
    "weights = th.tensor([0.1, 0.6, 0.9, 0.7])  # 每条边的权重\n",
    "g = dgl.graph(edges)\n",
    "g.edata['w'] = weights  # 将其命名为 'w'\n",
    "g"
   ]
  },
  {
   "cell_type": "code",
   "execution_count": 69,
   "metadata": {},
   "outputs": [],
   "source": [
    "import scipy.sparse as sp"
   ]
  },
  {
   "cell_type": "code",
   "execution_count": 70,
   "metadata": {},
   "outputs": [
    {
     "data": {
      "text/plain": [
       "Graph(num_nodes=100, num_edges=500,\n",
       "      ndata_schemes={}\n",
       "      edata_schemes={})"
      ]
     },
     "execution_count": 70,
     "metadata": {},
     "output_type": "execute_result"
    }
   ],
   "source": [
    "# 稀疏矩阵\n",
    "spmat = sp.rand(100, 100, density=0.05) # 5%非零项\n",
    "dgl.from_scipy(spmat)                   # 来自SciPy"
   ]
  },
  {
   "cell_type": "code",
   "execution_count": 73,
   "metadata": {},
   "outputs": [
    {
     "name": "stdout",
     "output_type": "stream",
     "text": [
      "  (15, 16)\t0.5832530923377719\n",
      "  (43, 69)\t0.28736688982524883\n",
      "  (84, 8)\t0.08426376683838288\n",
      "  (38, 97)\t0.6821257953645568\n",
      "  (32, 46)\t0.5673826475013406\n",
      "  (49, 14)\t0.11939496900482494\n",
      "  (98, 5)\t0.35080533739091824\n",
      "  (3, 31)\t0.5984417994977443\n",
      "  (41, 3)\t0.043245407613400566\n",
      "  (95, 71)\t0.030143127626510835\n",
      "  (10, 76)\t0.36136124811105796\n",
      "  (39, 87)\t0.5870975880948296\n",
      "  (77, 98)\t0.5736853124329755\n",
      "  (0, 62)\t0.49002153374519963\n",
      "  (62, 6)\t0.5521775566062669\n",
      "  (24, 48)\t0.04709182436292447\n",
      "  (72, 55)\t0.6109637493062556\n",
      "  (7, 98)\t0.7564606014912362\n",
      "  (30, 59)\t0.6124069010214678\n",
      "  (77, 82)\t0.6006765111610909\n",
      "  (80, 23)\t0.6952900630335996\n",
      "  (60, 22)\t0.6810596147140844\n",
      "  (4, 34)\t0.9590288353894779\n",
      "  (85, 11)\t0.841773385193871\n",
      "  (58, 93)\t0.8962842654234242\n",
      "  :\t:\n",
      "  (54, 30)\t0.012284531808919752\n",
      "  (11, 16)\t0.1689300236448218\n",
      "  (73, 0)\t0.43519200644397416\n",
      "  (90, 16)\t0.2660648375644987\n",
      "  (4, 41)\t0.4052684951201496\n",
      "  (63, 26)\t0.940135493939867\n",
      "  (80, 99)\t0.13140528195365264\n",
      "  (68, 68)\t0.17761796577618527\n",
      "  (68, 79)\t0.24876520431658178\n",
      "  (65, 53)\t0.396092620657156\n",
      "  (34, 70)\t0.37465099930375034\n",
      "  (57, 88)\t0.6316174800830127\n",
      "  (88, 21)\t0.6105954899577789\n",
      "  (91, 68)\t0.25310920125737335\n",
      "  (68, 38)\t0.38886912727900447\n",
      "  (85, 54)\t0.3930149065337182\n",
      "  (89, 54)\t0.7071534222839961\n",
      "  (8, 1)\t0.7706733123293735\n",
      "  (96, 82)\t0.7902514165934785\n",
      "  (10, 14)\t0.5644383909797438\n",
      "  (38, 39)\t0.5438587590769223\n",
      "  (76, 0)\t0.10034779078596878\n",
      "  (56, 73)\t0.5323614231051413\n",
      "  (76, 50)\t0.8412912152338643\n",
      "  (10, 71)\t0.9290247083767383\n"
     ]
    }
   ],
   "source": [
    "print(spmat)"
   ]
  },
  {
   "cell_type": "code",
   "execution_count": 74,
   "metadata": {},
   "outputs": [
    {
     "data": {
      "text/plain": [
       "Graph(num_nodes=5, num_edges=8,\n",
       "      ndata_schemes={}\n",
       "      edata_schemes={})"
      ]
     },
     "execution_count": 74,
     "metadata": {},
     "output_type": "execute_result"
    }
   ],
   "source": [
    "# networkx \n",
    "import networkx as nx\n",
    "nx_g = nx.path_graph(5) # 一条链路0-1-2-3-4\n",
    "dgl.from_networkx(nx_g) # 来自NetworkX"
   ]
  },
  {
   "cell_type": "code",
   "execution_count": 75,
   "metadata": {},
   "outputs": [
    {
     "data": {
      "image/png": "[encoded data removed]",
      "text/plain": [
       "<Figure size 640x480 with 1 Axes>"
      ]
     },
     "metadata": {},
     "output_type": "display_data"
    }
   ],
   "source": [
    "nx.draw(nx_g)"
   ]
  },
  {
   "cell_type": "code",
   "execution_count": 76,
   "metadata": {},
   "outputs": [
    {
     "data": {
      "text/plain": [
       "Graph(num_nodes=4, num_edges=4,\n",
       "      ndata_schemes={}\n",
       "      edata_schemes={})"
      ]
     },
     "execution_count": 76,
     "metadata": {},
     "output_type": "execute_result"
    }
   ],
   "source": [
    "nxg = nx.DiGraph([(2, 1), (1, 2), (2, 3), (0, 0)])\n",
    "dgl.from_networkx(nxg)"
   ]
  },
  {
   "cell_type": "code",
   "execution_count": 77,
   "metadata": {},
   "outputs": [
    {
     "data": {
      "image/png": "[encoded data removed]",
      "text/plain": [
       "<Figure size 640x480 with 1 Axes>"
      ]
     },
     "metadata": {},
     "output_type": "display_data"
    }
   ],
   "source": [
    "nx.draw(nxg)"
   ]
  },
  {
   "cell_type": "code",
   "execution_count": 88,
   "metadata": {},
   "outputs": [
    {
     "data": {
      "text/plain": [
       "['disease', 'drug', 'gene']"
      ]
     },
     "execution_count": 88,
     "metadata": {},
     "output_type": "execute_result"
    }
   ],
   "source": [
    "# 异构图\n",
    "graph_data = {\n",
    "   ('drug', 'interacts', 'drug'): (th.tensor([0, 1]), th.tensor([1, 2])),\n",
    "   ('drug', 'interacts', 'gene'): (th.tensor([0, 1]), th.tensor([2, 3])),\n",
    "   ('drug', 'treats', 'disease'): (th.tensor([1]), th.tensor([2]))\n",
    "}\n",
    "g = dgl.heterograph(graph_data)\n",
    "g.ntypes"
   ]
  },
  {
   "cell_type": "code",
   "execution_count": 79,
   "metadata": {},
   "outputs": [
    {
     "data": {
      "text/plain": [
       "['interacts', 'interacts', 'treats']"
      ]
     },
     "execution_count": 79,
     "metadata": {},
     "output_type": "execute_result"
    }
   ],
   "source": [
    "g.etypes"
   ]
  },
  {
   "cell_type": "code",
   "execution_count": 80,
   "metadata": {},
   "outputs": [
    {
     "data": {
      "text/plain": [
       "[('drug', 'interacts', 'drug'),\n",
       " ('drug', 'interacts', 'gene'),\n",
       " ('drug', 'treats', 'disease')]"
      ]
     },
     "execution_count": 80,
     "metadata": {},
     "output_type": "execute_result"
    }
   ],
   "source": [
    "g.canonical_etypes"
   ]
  },
  {
   "cell_type": "code",
   "execution_count": 85,
   "metadata": {},
   "outputs": [
    {
     "data": {
      "text/plain": [
       "Graph(num_nodes={'destination_type': 4, 'source_type': 2},\n",
       "      num_edges={('source_type', 'edge_type', 'destination_type'): 4},\n",
       "      metagraph=[('source_type', 'destination_type', 'edge_type')])"
      ]
     },
     "execution_count": 85,
     "metadata": {},
     "output_type": "execute_result"
    }
   ],
   "source": [
    "# 一个同构图\n",
    "dgl.heterograph({('node_type', 'edge_type', 'node_type'): (u, v)})\n",
    "# 一个二分图\n",
    "dgl.heterograph({('source_type', 'edge_type', 'destination_type'): (u, v)})"
   ]
  },
  {
   "cell_type": "code",
   "execution_count": 89,
   "metadata": {},
   "outputs": [
    {
     "data": {
      "text/plain": [
       "Graph(num_nodes={'disease': 3, 'drug': 3, 'gene': 4},\n",
       "      num_edges={('drug', 'interacts', 'drug'): 2, ('drug', 'interacts', 'gene'): 2, ('drug', 'treats', 'disease'): 1},\n",
       "      metagraph=[('drug', 'drug', 'interacts'), ('drug', 'gene', 'interacts'), ('drug', 'disease', 'treats')])"
      ]
     },
     "execution_count": 89,
     "metadata": {},
     "output_type": "execute_result"
    }
   ],
   "source": [
    "g"
   ]
  },
  {
   "cell_type": "code",
   "execution_count": 90,
   "metadata": {},
   "outputs": [
    {
     "data": {
      "text/plain": [
       "OutMultiEdgeDataView([('drug', 'drug'), ('drug', 'gene'), ('drug', 'disease')])"
      ]
     },
     "execution_count": 90,
     "metadata": {},
     "output_type": "execute_result"
    }
   ],
   "source": [
    "g.metagraph().edges()"
   ]
  },
  {
   "cell_type": "code",
   "execution_count": 91,
   "metadata": {},
   "outputs": [
    {
     "data": {
      "text/plain": [
       "10"
      ]
     },
     "execution_count": 91,
     "metadata": {},
     "output_type": "execute_result"
    }
   ],
   "source": [
    "g.num_nodes()"
   ]
  },
  {
   "cell_type": "code",
   "execution_count": 92,
   "metadata": {},
   "outputs": [
    {
     "data": {
      "text/plain": [
       "3"
      ]
     },
     "execution_count": 92,
     "metadata": {},
     "output_type": "execute_result"
    }
   ],
   "source": [
    "g.num_nodes('drug')"
   ]
  },
  {
   "cell_type": "code",
   "execution_count": 93,
   "metadata": {},
   "outputs": [],
   "source": [
    "g.nodes['drug'].data['hv']=th.ones(3,1)"
   ]
  },
  {
   "cell_type": "code",
   "execution_count": 94,
   "metadata": {},
   "outputs": [
    {
     "data": {
      "text/plain": [
       "tensor([[1.],\n",
       "        [1.],\n",
       "        [1.]])"
      ]
     },
     "execution_count": 94,
     "metadata": {},
     "output_type": "execute_result"
    }
   ],
   "source": [
    "g.nodes['drug'].data['hv']"
   ]
  },
  {
   "cell_type": "code",
   "execution_count": 95,
   "metadata": {},
   "outputs": [
    {
     "data": {
      "text/plain": [
       "tensor([[0.]])"
      ]
     },
     "execution_count": 95,
     "metadata": {},
     "output_type": "execute_result"
    }
   ],
   "source": [
    "g.edges['treats'].data['he']=th.zeros(1,1)\n",
    "g.edges['treats'].data['he']"
   ]
  },
  {
   "cell_type": "code",
   "execution_count": 96,
   "metadata": {},
   "outputs": [],
   "source": [
    "g = dgl.heterograph({\n",
    "   ('drug', 'interacts', 'drug'): (th.tensor([0, 1]), th.tensor([1, 2])),\n",
    "   ('drug', 'is similar', 'drug'): (th.tensor([0, 1]), th.tensor([2, 3]))\n",
    "})"
   ]
  },
  {
   "cell_type": "code",
   "execution_count": 97,
   "metadata": {},
   "outputs": [
    {
     "data": {
      "text/plain": [
       "tensor([0, 1, 2, 3])"
      ]
     },
     "execution_count": 97,
     "metadata": {},
     "output_type": "execute_result"
    }
   ],
   "source": [
    "g.nodes()"
   ]
  },
  {
   "cell_type": "code",
   "execution_count": 98,
   "metadata": {},
   "outputs": [],
   "source": [
    "g.ndata['hv']=th.ones(4,1)"
   ]
  },
  {
   "cell_type": "code",
   "execution_count": 99,
   "metadata": {},
   "outputs": [],
   "source": [
    "g = dgl.heterograph({\n",
    "   ('drug', 'interacts', 'drug'): (th.tensor([0, 1]), th.tensor([1, 2])),\n",
    "   ('drug', 'interacts', 'gene'): (th.tensor([0, 1]), th.tensor([2, 3])),\n",
    "   ('drug', 'treats', 'disease'): (th.tensor([1]), th.tensor([2]))\n",
    "})"
   ]
  },
  {
   "cell_type": "code",
   "execution_count": 100,
   "metadata": {},
   "outputs": [],
   "source": [
    "g.nodes['drug'].data['hv'] = th.ones(3, 1)"
   ]
  },
  {
   "cell_type": "code",
   "execution_count": 101,
   "metadata": {},
   "outputs": [
    {
     "data": {
      "text/plain": [
       "Graph(num_nodes={'disease': 3, 'drug': 3, 'gene': 4},\n",
       "      num_edges={('drug', 'interacts', 'drug'): 2, ('drug', 'interacts', 'gene'): 2, ('drug', 'treats', 'disease'): 1},\n",
       "      metagraph=[('drug', 'drug', 'interacts'), ('drug', 'gene', 'interacts'), ('drug', 'disease', 'treats')])"
      ]
     },
     "execution_count": 101,
     "metadata": {},
     "output_type": "execute_result"
    }
   ],
   "source": [
    "g"
   ]
  },
  {
   "cell_type": "code",
   "execution_count": 102,
   "metadata": {},
   "outputs": [
    {
     "data": {
      "text/plain": [
       "Graph(num_nodes={'disease': 3, 'drug': 3},\n",
       "      num_edges={('drug', 'interacts', 'drug'): 2, ('drug', 'treats', 'disease'): 1},\n",
       "      metagraph=[('drug', 'drug', 'interacts'), ('drug', 'disease', 'treats')])"
      ]
     },
     "execution_count": 102,
     "metadata": {},
     "output_type": "execute_result"
    }
   ],
   "source": [
    "eg = dgl.edge_type_subgraph(g, [('drug', 'interacts', 'drug'),\n",
    "                                ('drug', 'treats', 'disease')])\n",
    "eg"
   ]
  },
  {
   "cell_type": "code",
   "execution_count": 103,
   "metadata": {},
   "outputs": [
    {
     "data": {
      "text/plain": [
       "tensor([[1.],\n",
       "        [1.],\n",
       "        [1.]])"
      ]
     },
     "execution_count": 103,
     "metadata": {},
     "output_type": "execute_result"
    }
   ],
   "source": [
    "eg.nodes['drug'].data['hv']"
   ]
  },
  {
   "cell_type": "code",
   "execution_count": 104,
   "metadata": {},
   "outputs": [],
   "source": [
    "g = dgl.heterograph({\n",
    "   ('drug', 'interacts', 'drug'): (th.tensor([0, 1]), th.tensor([1, 2])),\n",
    "   ('drug', 'treats', 'disease'): (th.tensor([1]), th.tensor([2]))})"
   ]
  },
  {
   "cell_type": "code",
   "execution_count": 105,
   "metadata": {},
   "outputs": [],
   "source": [
    "g.nodes['drug'].data['hv'] = th.zeros(3, 1)\n",
    "g.nodes['disease'].data['hv'] = th.ones(3, 1)\n",
    "g.edges['interacts'].data['he'] = th.zeros(2, 1)\n",
    "g.edges['treats'].data['he'] = th.zeros(1, 2)"
   ]
  },
  {
   "cell_type": "code",
   "execution_count": 106,
   "metadata": {},
   "outputs": [],
   "source": [
    "hg=dgl.to_homogeneous(g)"
   ]
  },
  {
   "cell_type": "code",
   "execution_count": 108,
   "metadata": {},
   "outputs": [
    {
     "data": {
      "text/plain": [
       "False"
      ]
     },
     "execution_count": 108,
     "metadata": {},
     "output_type": "execute_result"
    }
   ],
   "source": [
    "'hv' in hg.ndata"
   ]
  },
  {
   "cell_type": "code",
   "execution_count": 109,
   "metadata": {},
   "outputs": [
    {
     "ename": "DGLError",
     "evalue": "Cannot concatenate column he with shape Scheme(shape=(2,), dtype=torch.float32) and shape Scheme(shape=(1,), dtype=torch.float32)",
     "output_type": "error",
     "traceback": [
      "\u001b[0;31m---------------------------------------------------------------------------\u001b[0m",
      "\u001b[0;31mDGLError\u001b[0m                                  Traceback (most recent call last)",
      "\u001b[1;32m/home/suzhang/git/GNN/GCC-master_copy/dglgraph.ipynb Cell 91\u001b[0m in \u001b[0;36m<cell line: 1>\u001b[0;34m()\u001b[0m\n\u001b[0;32m----> <a href='vscode-notebook-cell://ssh-remote%2Bximi/home/suzhang/git/GNN/GCC-master_copy/dglgraph.ipynb#Y162sdnNjb2RlLXJlbW90ZQ%3D%3D?line=0'>1</a>\u001b[0m hg \u001b[39m=\u001b[39m dgl\u001b[39m.\u001b[39;49mto_homogeneous(g, edata\u001b[39m=\u001b[39;49m[\u001b[39m'\u001b[39;49m\u001b[39mhe\u001b[39;49m\u001b[39m'\u001b[39;49m])\n",
      "File \u001b[0;32m~/anaconda3/envs/gccplnlp/lib/python3.8/site-packages/dgl/convert.py:666\u001b[0m, in \u001b[0;36mto_homogeneous\u001b[0;34m(G, ndata, edata)\u001b[0m\n\u001b[1;32m    664\u001b[0m     edata \u001b[39m=\u001b[39m []\n\u001b[1;32m    665\u001b[0m comb_nf \u001b[39m=\u001b[39m combine_frames(G\u001b[39m.\u001b[39m_node_frames, \u001b[39mrange\u001b[39m(\u001b[39mlen\u001b[39m(G\u001b[39m.\u001b[39mntypes)), col_names\u001b[39m=\u001b[39mndata)\n\u001b[0;32m--> 666\u001b[0m comb_ef \u001b[39m=\u001b[39m combine_frames(G\u001b[39m.\u001b[39;49m_edge_frames, \u001b[39mrange\u001b[39;49m(\u001b[39mlen\u001b[39;49m(G\u001b[39m.\u001b[39;49metypes)), col_names\u001b[39m=\u001b[39;49medata)\n\u001b[1;32m    667\u001b[0m \u001b[39mif\u001b[39;00m comb_nf \u001b[39mis\u001b[39;00m \u001b[39mnot\u001b[39;00m \u001b[39mNone\u001b[39;00m:\n\u001b[1;32m    668\u001b[0m     retg\u001b[39m.\u001b[39mndata\u001b[39m.\u001b[39mupdate(comb_nf)\n",
      "File \u001b[0;32m~/anaconda3/envs/gccplnlp/lib/python3.8/site-packages/dgl/heterograph.py:5726\u001b[0m, in \u001b[0;36mcombine_frames\u001b[0;34m(frames, ids, col_names)\u001b[0m\n\u001b[1;32m   5724\u001b[0m \u001b[39mif\u001b[39;00m key \u001b[39min\u001b[39;00m frame\u001b[39m.\u001b[39mschemes:\n\u001b[1;32m   5725\u001b[0m     \u001b[39mif\u001b[39;00m frame\u001b[39m.\u001b[39mschemes[key] \u001b[39m!=\u001b[39m scheme:\n\u001b[0;32m-> 5726\u001b[0m         \u001b[39mraise\u001b[39;00m DGLError(\u001b[39m'\u001b[39m\u001b[39mCannot concatenate column \u001b[39m\u001b[39m%s\u001b[39;00m\u001b[39m with shape \u001b[39m\u001b[39m%s\u001b[39;00m\u001b[39m and shape \u001b[39m\u001b[39m%s\u001b[39;00m\u001b[39m'\u001b[39m \u001b[39m%\u001b[39m\n\u001b[1;32m   5727\u001b[0m                        (key, frame\u001b[39m.\u001b[39mschemes[key], scheme))\n\u001b[1;32m   5728\u001b[0m \u001b[39melse\u001b[39;00m:\n\u001b[1;32m   5729\u001b[0m     \u001b[39mdel\u001b[39;00m schemes[key]\n",
      "\u001b[0;31mDGLError\u001b[0m: Cannot concatenate column he with shape Scheme(shape=(2,), dtype=torch.float32) and shape Scheme(shape=(1,), dtype=torch.float32)"
     ]
    }
   ],
   "source": [
    "hg = dgl.to_homogeneous(g, edata=['he'])\n",
    "# 对于要拷贝的特征，DGL假定不同类型的节点或边的需要合并的特征具有相同的大小和数据类型"
   ]
  },
  {
   "cell_type": "code",
   "execution_count": 110,
   "metadata": {},
   "outputs": [
    {
     "data": {
      "text/plain": [
       "tensor([[1.],\n",
       "        [1.],\n",
       "        [1.],\n",
       "        [0.],\n",
       "        [0.],\n",
       "        [0.]])"
      ]
     },
     "execution_count": 110,
     "metadata": {},
     "output_type": "execute_result"
    }
   ],
   "source": [
    "hg = dgl.to_homogeneous(g, ndata=['hv'])\n",
    "hg.ndata['hv']"
   ]
  },
  {
   "cell_type": "code",
   "execution_count": 111,
   "metadata": {},
   "outputs": [
    {
     "data": {
      "text/plain": [
       "'_TYPE'"
      ]
     },
     "execution_count": 111,
     "metadata": {},
     "output_type": "execute_result"
    }
   ],
   "source": [
    "dgl.NTYPE"
   ]
  },
  {
   "cell_type": "code",
   "execution_count": 112,
   "metadata": {},
   "outputs": [
    {
     "data": {
      "text/plain": [
       "['disease', 'drug']"
      ]
     },
     "execution_count": 112,
     "metadata": {},
     "output_type": "execute_result"
    }
   ],
   "source": [
    "g.ntypes"
   ]
  },
  {
   "cell_type": "code",
   "execution_count": 113,
   "metadata": {},
   "outputs": [
    {
     "data": {
      "text/plain": [
       "tensor([0, 0, 0, 1, 1, 1])"
      ]
     },
     "execution_count": 113,
     "metadata": {},
     "output_type": "execute_result"
    }
   ],
   "source": [
    "hg.ndata[dgl.NTYPE]"
   ]
  },
  {
   "cell_type": "code",
   "execution_count": 117,
   "metadata": {},
   "outputs": [
    {
     "data": {
      "text/plain": [
       "tensor([0, 1, 2, 0, 1, 2])"
      ]
     },
     "execution_count": 117,
     "metadata": {},
     "output_type": "execute_result"
    }
   ],
   "source": [
    "hg.ndata[dgl.NID]"
   ]
  },
  {
   "cell_type": "code",
   "execution_count": 118,
   "metadata": {},
   "outputs": [
    {
     "data": {
      "text/plain": [
       "{'hv': tensor([[1.],\n",
       "        [1.],\n",
       "        [1.],\n",
       "        [0.],\n",
       "        [0.],\n",
       "        [0.]]), '_TYPE': tensor([0, 0, 0, 1, 1, 1]), '_ID': tensor([0, 1, 2, 0, 1, 2])}"
      ]
     },
     "execution_count": 118,
     "metadata": {},
     "output_type": "execute_result"
    }
   ],
   "source": [
    "hg.ndata"
   ]
  },
  {
   "cell_type": "code",
   "execution_count": 119,
   "metadata": {},
   "outputs": [
    {
     "data": {
      "text/plain": [
       "Graph(num_nodes=6, num_edges=3,\n",
       "      ndata_schemes={'hv': Scheme(shape=(1,), dtype=torch.float32), '_TYPE': Scheme(shape=(), dtype=torch.int64), '_ID': Scheme(shape=(), dtype=torch.int64)}\n",
       "      edata_schemes={'_TYPE': Scheme(shape=(), dtype=torch.int64), '_ID': Scheme(shape=(), dtype=torch.int64)})"
      ]
     },
     "execution_count": 119,
     "metadata": {},
     "output_type": "execute_result"
    }
   ],
   "source": [
    "hg"
   ]
  },
  {
   "cell_type": "code",
   "execution_count": 122,
   "metadata": {},
   "outputs": [
    {
     "data": {
      "text/plain": [
       "'_TYPE'"
      ]
     },
     "execution_count": 122,
     "metadata": {},
     "output_type": "execute_result"
    }
   ],
   "source": [
    "dgl.ETYPE"
   ]
  },
  {
   "cell_type": "code",
   "execution_count": 123,
   "metadata": {},
   "outputs": [
    {
     "data": {
      "text/plain": [
       "['_N']"
      ]
     },
     "execution_count": 123,
     "metadata": {},
     "output_type": "execute_result"
    }
   ],
   "source": [
    "hg.ntypes"
   ]
  },
  {
   "cell_type": "code",
   "execution_count": 126,
   "metadata": {},
   "outputs": [
    {
     "data": {
      "text/plain": [
       "tensor([0, 0, 0, 1, 1, 1])"
      ]
     },
     "execution_count": 126,
     "metadata": {},
     "output_type": "execute_result"
    }
   ],
   "source": [
    "hg.ndata[dgl.NTYPE]"
   ]
  },
  {
   "cell_type": "code",
   "execution_count": 128,
   "metadata": {},
   "outputs": [
    {
     "data": {
      "image/png": "[encoded data removed]",
      "text/plain": [
       "<Figure size 640x480 with 1 Axes>"
      ]
     },
     "metadata": {},
     "output_type": "display_data"
    }
   ],
   "source": [
    "nx.draw(hg.to_networkx(),with_labels=True)"
   ]
  },
  {
   "cell_type": "code",
   "execution_count": 129,
   "metadata": {},
   "outputs": [
    {
     "data": {
      "text/plain": [
       "{'hv': tensor([[1.],\n",
       "        [1.],\n",
       "        [1.],\n",
       "        [0.],\n",
       "        [0.],\n",
       "        [0.]]), '_TYPE': tensor([0, 0, 0, 1, 1, 1]), '_ID': tensor([0, 1, 2, 0, 1, 2])}"
      ]
     },
     "execution_count": 129,
     "metadata": {},
     "output_type": "execute_result"
    }
   ],
   "source": [
    "hg.ndata"
   ]
  },
  {
   "cell_type": "code",
   "execution_count": 130,
   "metadata": {},
   "outputs": [
    {
     "data": {
      "text/plain": [
       "tensor([0, 1, 2, 0, 1, 2])"
      ]
     },
     "execution_count": 130,
     "metadata": {},
     "output_type": "execute_result"
    }
   ],
   "source": [
    "hg.ndata[dgl.NID]"
   ]
  },
  {
   "cell_type": "code",
   "execution_count": 131,
   "metadata": {},
   "outputs": [
    {
     "data": {
      "text/plain": [
       "['interacts', 'treats']"
      ]
     },
     "execution_count": 131,
     "metadata": {},
     "output_type": "execute_result"
    }
   ],
   "source": [
    "g.etypes"
   ]
  },
  {
   "cell_type": "code",
   "execution_count": 132,
   "metadata": {},
   "outputs": [
    {
     "data": {
      "text/plain": [
       "{'_TYPE': tensor([0, 0, 1]), '_ID': tensor([0, 1, 0])}"
      ]
     },
     "execution_count": 132,
     "metadata": {},
     "output_type": "execute_result"
    }
   ],
   "source": [
    "hg.edata"
   ]
  },
  {
   "cell_type": "code",
   "execution_count": 133,
   "metadata": {},
   "outputs": [
    {
     "data": {
      "text/plain": [
       "tensor([0, 0, 1])"
      ]
     },
     "execution_count": 133,
     "metadata": {},
     "output_type": "execute_result"
    }
   ],
   "source": [
    "hg.edata[dgl.ETYPE]"
   ]
  },
  {
   "cell_type": "code",
   "execution_count": 134,
   "metadata": {},
   "outputs": [
    {
     "data": {
      "text/plain": [
       "tensor([0, 1, 0])"
      ]
     },
     "execution_count": 134,
     "metadata": {},
     "output_type": "execute_result"
    }
   ],
   "source": [
    "hg.edata[dgl.EID]"
   ]
  },
  {
   "cell_type": "code",
   "execution_count": 135,
   "metadata": {},
   "outputs": [
    {
     "data": {
      "text/plain": [
       "Graph(num_nodes=7, num_edges=4,\n",
       "      ndata_schemes={'_TYPE': Scheme(shape=(), dtype=torch.int64), '_ID': Scheme(shape=(), dtype=torch.int64)}\n",
       "      edata_schemes={'_TYPE': Scheme(shape=(), dtype=torch.int64), '_ID': Scheme(shape=(), dtype=torch.int64)})"
      ]
     },
     "execution_count": 135,
     "metadata": {},
     "output_type": "execute_result"
    }
   ],
   "source": [
    "g = dgl.heterograph({\n",
    "   ('drug', 'interacts', 'drug'): (th.tensor([0, 1]), th.tensor([1, 2])),\n",
    "   ('drug', 'interacts', 'gene'): (th.tensor([0, 1]), th.tensor([2, 3])),\n",
    "   ('drug', 'treats', 'disease'): (th.tensor([1]), th.tensor([2]))\n",
    "})\n",
    "sub_g = dgl.edge_type_subgraph(g, [('drug', 'interacts', 'drug'),\n",
    "                                   ('drug', 'interacts', 'gene')])\n",
    "h_sub_g = dgl.to_homogeneous(sub_g)\n",
    "h_sub_g"
   ]
  },
  {
   "cell_type": "code",
   "execution_count": 137,
   "metadata": {},
   "outputs": [
    {
     "data": {
      "image/png": "[encoded data removed]",
      "text/plain": [
       "<Figure size 640x480 with 1 Axes>"
      ]
     },
     "metadata": {},
     "output_type": "display_data"
    }
   ],
   "source": [
    "nx.draw(h_sub_g.to_networkx())"
   ]
  },
  {
   "cell_type": "code",
   "execution_count": 138,
   "metadata": {},
   "outputs": [
    {
     "data": {
      "text/plain": [
       "device(type='cpu')"
      ]
     },
     "execution_count": 138,
     "metadata": {},
     "output_type": "execute_result"
    }
   ],
   "source": [
    "u, v = th.tensor([0, 1, 2]), th.tensor([2, 3, 4])\n",
    "g = dgl.graph((u, v))\n",
    "g.ndata['x'] = th.randn(5, 3)   # 原始特征在CPU上\n",
    "g.device"
   ]
  },
  {
   "cell_type": "code",
   "execution_count": 139,
   "metadata": {},
   "outputs": [
    {
     "data": {
      "text/plain": [
       "device(type='cuda', index=0)"
      ]
     },
     "execution_count": 139,
     "metadata": {},
     "output_type": "execute_result"
    }
   ],
   "source": [
    "cuda_g = g.to('cuda:0')         # 接受来自后端框架的任何设备对象\n",
    "cuda_g.device"
   ]
  },
  {
   "cell_type": "code",
   "execution_count": 140,
   "metadata": {},
   "outputs": [
    {
     "data": {
      "text/plain": [
       "device(type='cuda', index=0)"
      ]
     },
     "execution_count": 140,
     "metadata": {},
     "output_type": "execute_result"
    }
   ],
   "source": [
    "cuda_g.ndata['x'].device        # 特征数据也拷贝到了GPU上"
   ]
  },
  {
   "cell_type": "code",
   "execution_count": 141,
   "metadata": {},
   "outputs": [
    {
     "data": {
      "text/plain": [
       "device(type='cuda', index=0)"
      ]
     },
     "execution_count": 141,
     "metadata": {},
     "output_type": "execute_result"
    }
   ],
   "source": [
    "u, v = u.to('cuda:0'), v.to('cuda:0')\n",
    "g = dgl.graph((u, v))\n",
    "g.device"
   ]
  },
  {
   "cell_type": "code",
   "execution_count": 142,
   "metadata": {},
   "outputs": [],
   "source": [
    "# 使用to或者使用GPU上的张量"
   ]
  },
  {
   "cell_type": "code",
   "execution_count": 143,
   "metadata": {},
   "outputs": [
    {
     "data": {
      "text/plain": [
       "tensor([0, 0, 1, 1, 1], device='cuda:0')"
      ]
     },
     "execution_count": 143,
     "metadata": {},
     "output_type": "execute_result"
    }
   ],
   "source": [
    "cuda_g.in_degrees()"
   ]
  },
  {
   "cell_type": "code",
   "execution_count": 145,
   "metadata": {},
   "outputs": [
    {
     "data": {
      "text/plain": [
       "(tensor([0, 0, 2], device='cuda:0'), tensor([2, 2, 4], device='cuda:0'))"
      ]
     },
     "execution_count": 145,
     "metadata": {},
     "output_type": "execute_result"
    }
   ],
   "source": [
    "cuda_g.in_edges([2, 2, 4]) # 可以接受非张量类型的参数"
   ]
  },
  {
   "cell_type": "code",
   "execution_count": 146,
   "metadata": {},
   "outputs": [
    {
     "data": {
      "text/plain": [
       "(tensor([0, 1, 2], device='cuda:0'), tensor([2, 3, 4], device='cuda:0'))"
      ]
     },
     "execution_count": 146,
     "metadata": {},
     "output_type": "execute_result"
    }
   ],
   "source": [
    "cuda_g.in_edges(th.tensor([2, 3, 4]).to('cuda:0'))  # 张量类型的参数必须在GPU上"
   ]
  },
  {
   "cell_type": "code",
   "execution_count": 147,
   "metadata": {},
   "outputs": [
    {
     "ename": "DGLError",
     "evalue": "Cannot assign node feature \"h\" on device cpu to a graph on device cuda:0. Call DGLGraph.to() to copy the graph to the same device.",
     "output_type": "error",
     "traceback": [
      "\u001b[0;31m---------------------------------------------------------------------------\u001b[0m",
      "\u001b[0;31mDGLError\u001b[0m                                  Traceback (most recent call last)",
      "\u001b[1;32m/home/suzhang/git/GNN/GCC-master_copy/dglgraph.ipynb Cell 119\u001b[0m in \u001b[0;36m<cell line: 1>\u001b[0;34m()\u001b[0m\n\u001b[0;32m----> <a href='vscode-notebook-cell://ssh-remote%2Bximi/home/suzhang/git/GNN/GCC-master_copy/dglgraph.ipynb#Y232sdnNjb2RlLXJlbW90ZQ%3D%3D?line=0'>1</a>\u001b[0m cuda_g\u001b[39m.\u001b[39mndata[\u001b[39m'\u001b[39m\u001b[39mh\u001b[39m\u001b[39m'\u001b[39m] \u001b[39m=\u001b[39m th\u001b[39m.\u001b[39mrandn(\u001b[39m5\u001b[39m, \u001b[39m4\u001b[39m)\n",
      "File \u001b[0;32m~/anaconda3/envs/gccplnlp/lib/python3.8/site-packages/dgl/view.py:81\u001b[0m, in \u001b[0;36mHeteroNodeDataView.__setitem__\u001b[0;34m(self, key, val)\u001b[0m\n\u001b[1;32m     77\u001b[0m \u001b[39melse\u001b[39;00m:\n\u001b[1;32m     78\u001b[0m     \u001b[39massert\u001b[39;00m \u001b[39misinstance\u001b[39m(val, \u001b[39mdict\u001b[39m) \u001b[39mis\u001b[39;00m \u001b[39mFalse\u001b[39;00m, \\\n\u001b[1;32m     79\u001b[0m         \u001b[39m'\u001b[39m\u001b[39mThe HeteroNodeDataView has only one node type. \u001b[39m\u001b[39m'\u001b[39m \\\n\u001b[1;32m     80\u001b[0m         \u001b[39m'\u001b[39m\u001b[39mplease pass a tensor directly\u001b[39m\u001b[39m'\u001b[39m\n\u001b[0;32m---> 81\u001b[0m     \u001b[39mself\u001b[39;49m\u001b[39m.\u001b[39;49m_graph\u001b[39m.\u001b[39;49m_set_n_repr(\u001b[39mself\u001b[39;49m\u001b[39m.\u001b[39;49m_ntid, \u001b[39mself\u001b[39;49m\u001b[39m.\u001b[39;49m_nodes, {key : val})\n",
      "File \u001b[0;32m~/anaconda3/envs/gccplnlp/lib/python3.8/site-packages/dgl/heterograph.py:3754\u001b[0m, in \u001b[0;36mDGLHeteroGraph._set_n_repr\u001b[0;34m(self, ntid, u, data)\u001b[0m\n\u001b[1;32m   3751\u001b[0m         \u001b[39mraise\u001b[39;00m DGLError(\u001b[39m'\u001b[39m\u001b[39mExpect number of features to match number of nodes (len(u)).\u001b[39m\u001b[39m'\u001b[39m\n\u001b[1;32m   3752\u001b[0m                        \u001b[39m'\u001b[39m\u001b[39m Got \u001b[39m\u001b[39m%d\u001b[39;00m\u001b[39m and \u001b[39m\u001b[39m%d\u001b[39;00m\u001b[39m instead.\u001b[39m\u001b[39m'\u001b[39m \u001b[39m%\u001b[39m (nfeats, num_nodes))\n\u001b[1;32m   3753\u001b[0m     \u001b[39mif\u001b[39;00m F\u001b[39m.\u001b[39mcontext(val) \u001b[39m!=\u001b[39m \u001b[39mself\u001b[39m\u001b[39m.\u001b[39mdevice:\n\u001b[0;32m-> 3754\u001b[0m         \u001b[39mraise\u001b[39;00m DGLError(\u001b[39m'\u001b[39m\u001b[39mCannot assign node feature \u001b[39m\u001b[39m\"\u001b[39m\u001b[39m{}\u001b[39;00m\u001b[39m\"\u001b[39m\u001b[39m on device \u001b[39m\u001b[39m{}\u001b[39;00m\u001b[39m to a graph on\u001b[39m\u001b[39m'\u001b[39m\n\u001b[1;32m   3755\u001b[0m                        \u001b[39m'\u001b[39m\u001b[39m device \u001b[39m\u001b[39m{}\u001b[39;00m\u001b[39m. Call DGLGraph.to() to copy the graph to the\u001b[39m\u001b[39m'\u001b[39m\n\u001b[1;32m   3756\u001b[0m                        \u001b[39m'\u001b[39m\u001b[39m same device.\u001b[39m\u001b[39m'\u001b[39m\u001b[39m.\u001b[39mformat(key, F\u001b[39m.\u001b[39mcontext(val), \u001b[39mself\u001b[39m\u001b[39m.\u001b[39mdevice))\n\u001b[1;32m   3758\u001b[0m \u001b[39mif\u001b[39;00m is_all(u):\n\u001b[1;32m   3759\u001b[0m     \u001b[39mself\u001b[39m\u001b[39m.\u001b[39m_node_frames[ntid]\u001b[39m.\u001b[39mupdate(data)\n",
      "\u001b[0;31mDGLError\u001b[0m: Cannot assign node feature \"h\" on device cpu to a graph on device cuda:0. Call DGLGraph.to() to copy the graph to the same device."
     ]
    }
   ],
   "source": [
    "cuda_g.ndata['h'] = th.randn(5, 4) \n",
    "# gpu cpu 不互通 "
   ]
  },
  {
   "cell_type": "code",
   "execution_count": 179,
   "metadata": {},
   "outputs": [],
   "source": [
    "import dgl\n",
    "import torch\n",
    "import dgl.function as fn\n",
    "g = dgl.graph(([1, 3, 5, 0, 4, 2, 3, 3, 4, 5], [1, 1, 0, 0, 1, 2, 2, 0, 3, 3]))\n",
    "g.edata['eid'] = torch.arange(10,dtype=torch.float32)\n",
    "def reducer(nodes):\n",
    "    print(nodes.mailbox['eid'])\n",
    "    return {'n': nodes.mailbox['eid'].sum(1)}"
   ]
  },
  {
   "cell_type": "code",
   "execution_count": 175,
   "metadata": {},
   "outputs": [
    {
     "data": {
      "image/png": "[encoded data removed]",
      "text/plain": [
       "<Figure size 640x480 with 1 Axes>"
      ]
     },
     "metadata": {},
     "output_type": "display_data"
    }
   ],
   "source": [
    "nx.draw(g.to_networkx(),with_labels=True)"
   ]
  },
  {
   "cell_type": "code",
   "execution_count": 176,
   "metadata": {},
   "outputs": [
    {
     "data": {
      "text/plain": [
       "{'eid': tensor([0, 1, 2, 3, 4, 5, 6, 7, 8, 9])}"
      ]
     },
     "execution_count": 176,
     "metadata": {},
     "output_type": "execute_result"
    }
   ],
   "source": [
    "g.edata"
   ]
  },
  {
   "cell_type": "code",
   "execution_count": 177,
   "metadata": {},
   "outputs": [
    {
     "name": "stdout",
     "output_type": "stream",
     "text": [
      "tensor([[5, 6],\n",
      "        [8, 9]])\n",
      "tensor([[3, 7, 2],\n",
      "        [0, 1, 4]])\n"
     ]
    }
   ],
   "source": [
    "g.update_all(fn.copy_e('eid', 'eid'), reducer)"
   ]
  },
  {
   "cell_type": "code",
   "execution_count": 178,
   "metadata": {},
   "outputs": [
    {
     "data": {
      "text/plain": [
       "{'n': tensor([12,  5, 11, 17,  0,  0])}"
      ]
     },
     "execution_count": 178,
     "metadata": {},
     "output_type": "execute_result"
    }
   ],
   "source": [
    "g.ndata"
   ]
  },
  {
   "cell_type": "code",
   "execution_count": 165,
   "metadata": {},
   "outputs": [],
   "source": []
  },
  {
   "cell_type": "code",
   "execution_count": 166,
   "metadata": {},
   "outputs": [
    {
     "data": {
      "text/plain": [
       "{'eid': tensor([0, 1, 2, 3, 4, 5, 6, 7, 8, 9]), 'ed': tensor([0, 1, 2, 3, 4, 5, 6, 7, 8, 9])}"
      ]
     },
     "execution_count": 166,
     "metadata": {},
     "output_type": "execute_result"
    }
   ],
   "source": [
    "g.edata"
   ]
  },
  {
   "cell_type": "code",
   "execution_count": 170,
   "metadata": {},
   "outputs": [],
   "source": [
    "def fn_ns(nodes):\n",
    "    print(nodes.mailbox)  # 查看一下mailbox\n",
    "    return {'h': nodes.data['x'] + 1}"
   ]
  },
  {
   "cell_type": "code",
   "execution_count": 172,
   "metadata": {},
   "outputs": [],
   "source": [
    "def update_all_example(graph):\n",
    "    # 在graph.ndata['ft']中存储结果\n",
    "    graph.update_all(fn.u_mul_e('ft', 'a', 'm'),\n",
    "                     fn.sum('m', 'ft'))\n",
    "    # 在update_all外调用更新函数\n",
    "    final_ft = graph.ndata['ft'] * 2\n",
    "    return final_ft"
   ]
  },
  {
   "cell_type": "code",
   "execution_count": 180,
   "metadata": {},
   "outputs": [
    {
     "data": {
      "text/plain": [
       "{'m': tensor([12.,  5., 11., 17.,  0.,  0.])}"
      ]
     },
     "execution_count": 180,
     "metadata": {},
     "output_type": "execute_result"
    }
   ],
   "source": [
    "g.update_all(fn.copy_e('eid','eid'),fn.sum('eid','m'))\n",
    "g.ndata"
   ]
  },
  {
   "cell_type": "code",
   "execution_count": null,
   "metadata": {},
   "outputs": [],
   "source": [
    "import torch\n",
    "import torch.nn as nn\n",
    "node_feat_dim=100\n",
    "out_dim=30\n",
    "\n",
    "linear = nn.Parameter(torch.FloatTensor(size=(node_feat_dim * 2, out_dim)))\n",
    "def concat_message_function(edges):\n",
    "     return {'cat_feat': torch.cat([edges.src['feat'], edges.dst['feat']], dim=1)}\n",
    "g.apply_edges(concat_message_function)\n",
    "g.edata['out'] = g.edata['cat_feat'] @ linear\n",
    "# 用线性层降维"
   ]
  },
  {
   "cell_type": "code",
   "execution_count": 186,
   "metadata": {},
   "outputs": [
    {
     "data": {
      "text/plain": [
       "mappingproxy({'__module__': 'dgl.view',\n",
       "              '__doc__': 'The data view class when G.ndata[ntype] is called.',\n",
       "              '__slots__': ['_graph', '_ntype', '_ntid', '_nodes'],\n",
       "              '__init__': <function dgl.view.HeteroNodeDataView.__init__(self, graph, ntype, ntid, nodes)>,\n",
       "              '__getitem__': <function dgl.view.HeteroNodeDataView.__getitem__(self, key)>,\n",
       "              '__setitem__': <function dgl.view.HeteroNodeDataView.__setitem__(self, key, val)>,\n",
       "              '__delitem__': <function dgl.view.HeteroNodeDataView.__delitem__(self, key)>,\n",
       "              '__len__': <function dgl.view.HeteroNodeDataView.__len__(self)>,\n",
       "              '__iter__': <function dgl.view.HeteroNodeDataView.__iter__(self)>,\n",
       "              'keys': <function dgl.view.HeteroNodeDataView.keys(self)>,\n",
       "              'values': <function dgl.view.HeteroNodeDataView.values(self)>,\n",
       "              '__repr__': <function dgl.view.HeteroNodeDataView.__repr__(self)>,\n",
       "              '_graph': <member '_graph' of 'HeteroNodeDataView' objects>,\n",
       "              '_nodes': <member '_nodes' of 'HeteroNodeDataView' objects>,\n",
       "              '_ntid': <member '_ntid' of 'HeteroNodeDataView' objects>,\n",
       "              '_ntype': <member '_ntype' of 'HeteroNodeDataView' objects>,\n",
       "              '__abstractmethods__': frozenset(),\n",
       "              '_abc_impl': <_abc_data at 0x7f88fcdde0f0>})"
      ]
     },
     "execution_count": 186,
     "metadata": {},
     "output_type": "execute_result"
    }
   ],
   "source": [
    "g.srcdata.__class__.__dict__"
   ]
  },
  {
   "cell_type": "code",
   "execution_count": 187,
   "metadata": {},
   "outputs": [],
   "source": [
    "g.srcdata.update({'m':th.tensor([0,0,0,0,0,0])})"
   ]
  },
  {
   "cell_type": "code",
   "execution_count": 188,
   "metadata": {},
   "outputs": [
    {
     "data": {
      "text/plain": [
       "{'m': tensor([0, 0, 0, 0, 0, 0])}"
      ]
     },
     "execution_count": 188,
     "metadata": {},
     "output_type": "execute_result"
    }
   ],
   "source": [
    "g.srcdata"
   ]
  },
  {
   "cell_type": "code",
   "execution_count": null,
   "metadata": {},
   "outputs": [],
   "source": [
    "import dgl.function as fn\n",
    "\n",
    "linear_src = nn.Parameter(torch.FloatTensor(size=(node_feat_dim, out_dim)))\n",
    "linear_dst = nn.Parameter(torch.FloatTensor(size=(node_feat_dim, out_dim)))\n",
    "out_src = g.ndata['feat'] @ linear_src\n",
    "out_dst = g.ndata['feat'] @ linear_dst\n",
    "g.srcdata.update({'out_src': out_src})\n",
    "g.dstdata.update({'out_dst': out_dst})\n",
    "g.apply_edges(fn.u_add_v('out_src', 'out_dst', 'out'))\n",
    "# 高效 内存不用保存高维feat\n",
    "# 可以使用 u_add_v 优化"
   ]
  },
  {
   "cell_type": "code",
   "execution_count": null,
   "metadata": {},
   "outputs": [],
   "source": [
    "nid = [0, 2, 3, 6, 7, 9]\n",
    "sg = g.subgraph(nid)\n",
    "sg.update_all(message_func, reduce_func, apply_node_func)\n",
    "# 先给出子图 然后在子图上聚合"
   ]
  },
  {
   "cell_type": "code",
   "execution_count": null,
   "metadata": {},
   "outputs": [],
   "source": []
  }
 ],
 "metadata": {
  "kernelspec": {
   "display_name": "Python 3 (ipykernel)",
   "language": "python",
   "name": "python3"
  },
  "language_info": {
   "codemirror_mode": {
    "name": "ipython",
    "version": 3
   },
   "file_extension": ".py",
   "mimetype": "text/x-python",
   "name": "python",
   "nbconvert_exporter": "python",
   "pygments_lexer": "ipython3",
   "version": "3.8.13"
  },
  "orig_nbformat": 4
 },
 "nbformat": 4,
 "nbformat_minor": 2
}
