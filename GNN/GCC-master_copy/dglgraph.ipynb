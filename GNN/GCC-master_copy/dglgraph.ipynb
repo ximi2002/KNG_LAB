{
 "cells": [
  {
   "cell_type": "code",
   "execution_count": 191,
   "metadata": {},
   "outputs": [
    {
     "data": {
      "text/plain": [
       "'0.5.0'"
      ]
     },
     "execution_count": 191,
     "metadata": {},
     "output_type": "execute_result"
    }
   ],
   "source": [
    "import torch \n",
    "import dgl\n",
    "import networkx as nx\n",
    "dgl.__version__"
   ]
  },
  {
   "cell_type": "code",
   "execution_count": 192,
   "metadata": {},
   "outputs": [
    {
     "name": "stdout",
     "output_type": "stream",
     "text": [
      "<class 'dgl.heterograph.DGLHeteroGraph'>\n"
     ]
    }
   ],
   "source": [
    "u,v=torch.tensor([0,0,0,1]),torch.tensor([1,2,3,3])\n",
    "g=dgl.graph((u,v))\n",
    "print(type(g))"
   ]
  },
  {
   "cell_type": "code",
   "execution_count": 193,
   "metadata": {},
   "outputs": [
    {
     "name": "stdout",
     "output_type": "stream",
     "text": [
      "tensor([0, 1, 2, 3])\n"
     ]
    }
   ],
   "source": [
    "print(g.nodes())"
   ]
  },
  {
   "cell_type": "code",
   "execution_count": 194,
   "metadata": {},
   "outputs": [
    {
     "name": "stdout",
     "output_type": "stream",
     "text": [
      "(tensor([0, 0, 0, 1]), tensor([1, 2, 3, 3]))\n"
     ]
    }
   ],
   "source": [
    "print(g.edges())"
   ]
  },
  {
   "cell_type": "code",
   "execution_count": 195,
   "metadata": {},
   "outputs": [
    {
     "name": "stdout",
     "output_type": "stream",
     "text": [
      "(tensor([0, 0, 0, 1]), tensor([1, 2, 3, 3]), tensor([0, 1, 2, 3]))\n"
     ]
    }
   ],
   "source": [
    "print(g.edges(form='all'))"
   ]
  },
  {
   "cell_type": "code",
   "execution_count": 196,
   "metadata": {},
   "outputs": [],
   "source": [
    "g=dgl.graph((u,v),num_nodes=8)"
   ]
  },
  {
   "cell_type": "code",
   "execution_count": 197,
   "metadata": {},
   "outputs": [],
   "source": [
    "u,v=torch.tensor([0,0,0,1],dtype=torch.int64),torch.tensor([1,2,3,3],dtype=torch.int64)\n",
    "g=dgl.graph((u,v))"
   ]
  },
  {
   "cell_type": "code",
   "execution_count": 198,
   "metadata": {},
   "outputs": [
    {
     "data": {
      "text/plain": [
       "'0.5.0'"
      ]
     },
     "execution_count": 198,
     "metadata": {},
     "output_type": "execute_result"
    }
   ],
   "source": [
    "dgl.__version__"
   ]
  },
  {
   "cell_type": "code",
   "execution_count": 199,
   "metadata": {},
   "outputs": [
    {
     "data": {
      "text/plain": [
       "dgl.heterograph.DGLHeteroGraph"
      ]
     },
     "execution_count": 199,
     "metadata": {},
     "output_type": "execute_result"
    }
   ],
   "source": [
    "type(g)"
   ]
  },
  {
   "cell_type": "code",
   "execution_count": 200,
   "metadata": {},
   "outputs": [
    {
     "data": {
      "text/plain": [
       "(['_N'], ['_E'])"
      ]
     },
     "execution_count": 200,
     "metadata": {},
     "output_type": "execute_result"
    }
   ],
   "source": [
    "edges = torch.tensor([2, 5, 3]), torch.tensor([3, 5, 0]) \n",
    "g64=dgl.graph(edges,idtype=torch.int64)\n",
    "g64.ntypes,g64.etypes"
   ]
  },
  {
   "cell_type": "code",
   "execution_count": 201,
   "metadata": {},
   "outputs": [
    {
     "data": {
      "text/plain": [
       "[('_N', '_E', '_N')]"
      ]
     },
     "execution_count": 201,
     "metadata": {},
     "output_type": "execute_result"
    }
   ],
   "source": [
    "g.canonical_etypes"
   ]
  },
  {
   "cell_type": "code",
   "execution_count": 202,
   "metadata": {},
   "outputs": [
    {
     "data": {
      "text/plain": [
       "[('node_type', 'edge_type', 'node_type')]"
      ]
     },
     "execution_count": 202,
     "metadata": {},
     "output_type": "execute_result"
    }
   ],
   "source": [
    "# 同构图\n",
    "hg=dgl.heterograph({('node_type', 'edge_type', 'node_type'): (u, v)})\n",
    "hg.canonical_etypes"
   ]
  },
  {
   "cell_type": "code",
   "execution_count": 203,
   "metadata": {},
   "outputs": [
    {
     "data": {
      "text/plain": [
       "([('source_type', 'edge_type', 'destination_type')],\n",
       " Graph(num_nodes={'destination_type': 4, 'source_type': 2},\n",
       "       num_edges={('source_type', 'edge_type', 'destination_type'): 4},\n",
       "       metagraph=[('source_type', 'destination_type', 'edge_type')]))"
      ]
     },
     "execution_count": 203,
     "metadata": {},
     "output_type": "execute_result"
    }
   ],
   "source": [
    "# 二分图\n",
    "bg=dgl.heterograph({('source_type', 'edge_type', 'destination_type'): (u, v)})\n",
    "bg.canonical_etypes,bg"
   ]
  },
  {
   "cell_type": "code",
   "execution_count": 211,
   "metadata": {},
   "outputs": [
    {
     "data": {
      "text/plain": [
       "Graph(num_nodes={'disease': 3, 'drug': 3, 'gene': 4},\n",
       "      num_edges={('drug', 'interacts', 'drug'): 2, ('drug', 'interacts', 'gene'): 2, ('drug', 'treats', 'disease'): 1},\n",
       "      metagraph=[('drug', 'drug', 'interacts'), ('drug', 'gene', 'interacts'), ('drug', 'disease', 'treats')])"
      ]
     },
     "execution_count": 211,
     "metadata": {},
     "output_type": "execute_result"
    }
   ],
   "source": [
    "graph_data = {\n",
    "   ('drug', 'interacts', 'drug'): (torch.tensor([0, 1]), torch.tensor([1, 2])),\n",
    "   ('drug', 'interacts', 'gene'): (torch.tensor([0, 1]), torch.tensor([2, 3])),\n",
    "   ('drug', 'treats', 'disease'): (torch.tensor([1]), torch.tensor([2]))\n",
    "}\n",
    "g = dgl.heterograph(graph_data)\n",
    "g"
   ]
  },
  {
   "cell_type": "code",
   "execution_count": 205,
   "metadata": {},
   "outputs": [
    {
     "data": {
      "text/plain": [
       "mappingproxy({'__module__': 'dgl.heterograph',\n",
       "              '__doc__': 'Class for storing graph structure and node/edge feature data.\\n\\n    There are a few ways to create create a DGLGraph:\\n\\n    * To create a homogeneous graph from Tensor data, use :func:`dgl.graph`.\\n    * To create a heterogeneous graph from Tensor data, use :func:`dgl.heterograph`.\\n    * To create a graph from other data sources, use ``dgl.*`` create ops. See\\n      :ref:`api-graph-create-ops`.\\n\\n    Read the user guide chapter :ref:`guide-graph` for an in-depth explanation about its\\n    usage.\\n    ',\n",
       "              'is_block': False,\n",
       "              '__init__': <function dgl.heterograph.DGLHeteroGraph.__init__(self, gidx=[], ntypes=['_U'], etypes=['_V'], node_frames=None, edge_frames=None, **deprecate_kwargs)>,\n",
       "              '_init': <function dgl.heterograph.DGLHeteroGraph._init(self, gidx, ntypes, etypes, node_frames, edge_frames)>,\n",
       "              '__setstate__': <function dgl.heterograph.DGLHeteroGraph.__setstate__(self, state)>,\n",
       "              '__repr__': <function dgl.heterograph.DGLHeteroGraph.__repr__(self)>,\n",
       "              '__copy__': <function dgl.heterograph.DGLHeteroGraph.__copy__(self)>,\n",
       "              'add_nodes': <function dgl.heterograph.DGLHeteroGraph.add_nodes(self, num, data=None, ntype=None)>,\n",
       "              'add_edge': <function dgl.heterograph.DGLHeteroGraph.add_edge(self, u, v, data=None, etype=None)>,\n",
       "              'add_edges': <function dgl.heterograph.DGLHeteroGraph.add_edges(self, u, v, data=None, etype=None)>,\n",
       "              'remove_edges': <function dgl.heterograph.DGLHeteroGraph.remove_edges(self, eids, etype=None)>,\n",
       "              'remove_nodes': <function dgl.heterograph.DGLHeteroGraph.remove_nodes(self, nids, ntype=None)>,\n",
       "              '_reset_cached_info': <function dgl.heterograph.DGLHeteroGraph._reset_cached_info(self)>,\n",
       "              'is_unibipartite': <property at 0x7f88fce29d10>,\n",
       "              'ntypes': <property at 0x7f88fce29d60>,\n",
       "              'etypes': <property at 0x7f88fcdd72c0>,\n",
       "              'canonical_etypes': <property at 0x7f88fcddd270>,\n",
       "              'srctypes': <property at 0x7f88fcddd2c0>,\n",
       "              'dsttypes': <property at 0x7f88fcddd310>,\n",
       "              'metagraph': <function dgl.heterograph.DGLHeteroGraph.metagraph(self)>,\n",
       "              'to_canonical_etype': <function dgl.heterograph.DGLHeteroGraph.to_canonical_etype(self, etype)>,\n",
       "              'get_ntype_id': <function dgl.heterograph.DGLHeteroGraph.get_ntype_id(self, ntype)>,\n",
       "              'get_ntype_id_from_src': <function dgl.heterograph.DGLHeteroGraph.get_ntype_id_from_src(self, ntype)>,\n",
       "              'get_ntype_id_from_dst': <function dgl.heterograph.DGLHeteroGraph.get_ntype_id_from_dst(self, ntype)>,\n",
       "              'get_etype_id': <function dgl.heterograph.DGLHeteroGraph.get_etype_id(self, etype)>,\n",
       "              'batch_size': <property at 0x7f88fcddd360>,\n",
       "              'batch_num_nodes': <function dgl.heterograph.DGLHeteroGraph.batch_num_nodes(self, ntype=None)>,\n",
       "              'set_batch_num_nodes': <function dgl.heterograph.DGLHeteroGraph.set_batch_num_nodes(self, val)>,\n",
       "              'batch_num_edges': <function dgl.heterograph.DGLHeteroGraph.batch_num_edges(self, etype=None)>,\n",
       "              'set_batch_num_edges': <function dgl.heterograph.DGLHeteroGraph.set_batch_num_edges(self, val)>,\n",
       "              'nodes': <property at 0x7f88fcddd3b0>,\n",
       "              'srcnodes': <property at 0x7f88fcddd400>,\n",
       "              'dstnodes': <property at 0x7f88fcddd450>,\n",
       "              'ndata': <property at 0x7f88fcddd4a0>,\n",
       "              'srcdata': <property at 0x7f88fcddd4f0>,\n",
       "              'dstdata': <property at 0x7f88fcddd540>,\n",
       "              'edges': <property at 0x7f88fcddd590>,\n",
       "              'edata': <property at 0x7f88fcddd5e0>,\n",
       "              '_find_etypes': <function dgl.heterograph.DGLHeteroGraph._find_etypes(self, key)>,\n",
       "              '__getitem__': <function dgl.heterograph.DGLHeteroGraph.__getitem__(self, key)>,\n",
       "              'number_of_nodes': <function dgl.heterograph.DGLHeteroGraph.number_of_nodes(self, ntype=None)>,\n",
       "              'num_nodes': <function dgl.heterograph.DGLHeteroGraph.num_nodes(self, ntype=None)>,\n",
       "              'number_of_src_nodes': <function dgl.heterograph.DGLHeteroGraph.number_of_src_nodes(self, ntype=None)>,\n",
       "              'num_src_nodes': <function dgl.heterograph.DGLHeteroGraph.num_src_nodes(self, ntype=None)>,\n",
       "              'number_of_dst_nodes': <function dgl.heterograph.DGLHeteroGraph.number_of_dst_nodes(self, ntype=None)>,\n",
       "              'num_dst_nodes': <function dgl.heterograph.DGLHeteroGraph.num_dst_nodes(self, ntype=None)>,\n",
       "              'number_of_edges': <function dgl.heterograph.DGLHeteroGraph.number_of_edges(self, etype=None)>,\n",
       "              'num_edges': <function dgl.heterograph.DGLHeteroGraph.num_edges(self, etype=None)>,\n",
       "              '__len__': <function dgl.heterograph.DGLHeteroGraph.__len__(self)>,\n",
       "              'is_multigraph': <property at 0x7f88fcddd630>,\n",
       "              'is_homogeneous': <property at 0x7f88fcddd680>,\n",
       "              'is_readonly': <property at 0x7f88fcddd6d0>,\n",
       "              'idtype': <property at 0x7f88fcddd720>,\n",
       "              '_idtype_str': <property at 0x7f88fcddd770>,\n",
       "              '__contains__': <function dgl.heterograph.DGLHeteroGraph.__contains__(self, vid)>,\n",
       "              'has_nodes': <function dgl.heterograph.DGLHeteroGraph.has_nodes(self, vid, ntype=None)>,\n",
       "              'has_node': <function dgl.heterograph.DGLHeteroGraph.has_node(self, vid, ntype=None)>,\n",
       "              'has_edges_between': <function dgl.heterograph.DGLHeteroGraph.has_edges_between(self, u, v, etype=None)>,\n",
       "              'has_edge_between': <function dgl.heterograph.DGLHeteroGraph.has_edge_between(self, u, v, etype=None)>,\n",
       "              'predecessors': <function dgl.heterograph.DGLHeteroGraph.predecessors(self, v, etype=None)>,\n",
       "              'successors': <function dgl.heterograph.DGLHeteroGraph.successors(self, v, etype=None)>,\n",
       "              'edge_id': <function dgl.heterograph.DGLHeteroGraph.edge_id(self, u, v, force_multi=None, return_uv=False, etype=None)>,\n",
       "              'edge_ids': <function dgl.heterograph.DGLHeteroGraph.edge_ids(self, u, v, force_multi=None, return_uv=False, etype=None)>,\n",
       "              'find_edges': <function dgl.heterograph.DGLHeteroGraph.find_edges(self, eid, etype=None)>,\n",
       "              'in_edges': <function dgl.heterograph.DGLHeteroGraph.in_edges(self, v, form='uv', etype=None)>,\n",
       "              'out_edges': <function dgl.heterograph.DGLHeteroGraph.out_edges(self, u, form='uv', etype=None)>,\n",
       "              'all_edges': <function dgl.heterograph.DGLHeteroGraph.all_edges(self, form='uv', order='eid', etype=None)>,\n",
       "              'in_degree': <function dgl.heterograph.DGLHeteroGraph.in_degree(self, v, etype=None)>,\n",
       "              'in_degrees': <function dgl.heterograph.DGLHeteroGraph.in_degrees(self, v='__ALL__', etype=None)>,\n",
       "              'out_degree': <function dgl.heterograph.DGLHeteroGraph.out_degree(self, u, etype=None)>,\n",
       "              'out_degrees': <function dgl.heterograph.DGLHeteroGraph.out_degrees(self, u='__ALL__', etype=None)>,\n",
       "              'adjacency_matrix': <function dgl.heterograph.DGLHeteroGraph.adjacency_matrix(self, transpose=True, ctx=device(type='cpu'), scipy_fmt=None, etype=None)>,\n",
       "              'adj': <function dgl.heterograph.DGLHeteroGraph.adj(self, transpose=True, ctx=device(type='cpu'), scipy_fmt=None, etype=None)>,\n",
       "              'adjacency_matrix_scipy': <function dgl.heterograph.DGLHeteroGraph.adjacency_matrix_scipy(self, transpose=True, fmt='csr', return_edge_ids=None)>,\n",
       "              'inc': <function dgl.heterograph.DGLHeteroGraph.inc(self, typestr, ctx=device(type='cpu'), etype=None)>,\n",
       "              'incidence_matrix': <function dgl.heterograph.DGLHeteroGraph.inc(self, typestr, ctx=device(type='cpu'), etype=None)>,\n",
       "              'node_attr_schemes': <function dgl.heterograph.DGLHeteroGraph.node_attr_schemes(self, ntype=None)>,\n",
       "              'edge_attr_schemes': <function dgl.heterograph.DGLHeteroGraph.edge_attr_schemes(self, etype=None)>,\n",
       "              'set_n_initializer': <function dgl.heterograph.DGLHeteroGraph.set_n_initializer(self, initializer, field=None, ntype=None)>,\n",
       "              'set_e_initializer': <function dgl.heterograph.DGLHeteroGraph.set_e_initializer(self, initializer, field=None, etype=None)>,\n",
       "              '_set_n_repr': <function dgl.heterograph.DGLHeteroGraph._set_n_repr(self, ntid, u, data)>,\n",
       "              '_get_n_repr': <function dgl.heterograph.DGLHeteroGraph._get_n_repr(self, ntid, u)>,\n",
       "              '_pop_n_repr': <function dgl.heterograph.DGLHeteroGraph._pop_n_repr(self, ntid, key)>,\n",
       "              '_set_e_repr': <function dgl.heterograph.DGLHeteroGraph._set_e_repr(self, etid, edges, data)>,\n",
       "              '_get_e_repr': <function dgl.heterograph.DGLHeteroGraph._get_e_repr(self, etid, edges)>,\n",
       "              '_pop_e_repr': <function dgl.heterograph.DGLHeteroGraph._pop_e_repr(self, etid, key)>,\n",
       "              'apply_nodes': <function dgl.heterograph.DGLHeteroGraph.apply_nodes(self, func, v='__ALL__', ntype=None, inplace=False)>,\n",
       "              'apply_edges': <function dgl.heterograph.DGLHeteroGraph.apply_edges(self, func, edges='__ALL__', etype=None, inplace=False)>,\n",
       "              'send_and_recv': <function dgl.heterograph.DGLHeteroGraph.send_and_recv(self, edges, message_func, reduce_func, apply_node_func=None, etype=None, inplace=False)>,\n",
       "              'pull': <function dgl.heterograph.DGLHeteroGraph.pull(self, v, message_func, reduce_func, apply_node_func=None, etype=None, inplace=False)>,\n",
       "              'push': <function dgl.heterograph.DGLHeteroGraph.push(self, u, message_func, reduce_func, apply_node_func=None, etype=None, inplace=False)>,\n",
       "              'update_all': <function dgl.heterograph.DGLHeteroGraph.update_all(self, message_func, reduce_func, apply_node_func=None, etype=None)>,\n",
       "              'multi_update_all': <function dgl.heterograph.DGLHeteroGraph.multi_update_all(self, etype_dict, cross_reducer, apply_node_func=None)>,\n",
       "              'prop_nodes': <function dgl.heterograph.DGLHeteroGraph.prop_nodes(self, nodes_generator, message_func, reduce_func, apply_node_func=None, etype=None)>,\n",
       "              'prop_edges': <function dgl.heterograph.DGLHeteroGraph.prop_edges(self, edges_generator, message_func, reduce_func, apply_node_func=None, etype=None)>,\n",
       "              'filter_nodes': <function dgl.heterograph.DGLHeteroGraph.filter_nodes(self, predicate, nodes='__ALL__', ntype=None)>,\n",
       "              'filter_edges': <function dgl.heterograph.DGLHeteroGraph.filter_edges(self, predicate, edges='__ALL__', etype=None)>,\n",
       "              'device': <property at 0x7f88fcddd810>,\n",
       "              'to': <function dgl.heterograph.DGLHeteroGraph.to(self, device, **kwargs)>,\n",
       "              'cpu': <function dgl.heterograph.DGLHeteroGraph.cpu(self)>,\n",
       "              'clone': <function dgl.heterograph.DGLHeteroGraph.clone(self)>,\n",
       "              'local_var': <function dgl.heterograph.DGLHeteroGraph.local_var(self)>,\n",
       "              'local_scope': <function dgl.heterograph.DGLHeteroGraph.local_scope(self)>,\n",
       "              'formats': <function dgl.heterograph.DGLHeteroGraph.formats(self, formats=None)>,\n",
       "              'create_format_': <function dgl.heterograph.DGLHeteroGraph.create_format_(self)>,\n",
       "              'astype': <function dgl.heterograph.DGLHeteroGraph.astype(self, idtype)>,\n",
       "              'shared_memory': <function dgl.heterograph.DGLHeteroGraph.shared_memory(self, name, formats=('coo', 'csr', 'csc'))>,\n",
       "              'long': <function dgl.heterograph.DGLHeteroGraph.long(self)>,\n",
       "              'int': <function dgl.heterograph.DGLHeteroGraph.int(self)>,\n",
       "              'from_networkx': <function dgl.heterograph.DGLHeteroGraph.from_networkx(self, nx_graph, node_attrs=None, edge_attrs=None)>,\n",
       "              'from_scipy_sparse_matrix': <function dgl.heterograph.DGLHeteroGraph.from_scipy_sparse_matrix(self, spmat, multigraph=None)>,\n",
       "              'register_apply_node_func': <function dgl.heterograph.DGLHeteroGraph.register_apply_node_func(self, func)>,\n",
       "              'register_apply_edge_func': <function dgl.heterograph.DGLHeteroGraph.register_apply_edge_func(self, func)>,\n",
       "              'register_message_func': <function dgl.heterograph.DGLHeteroGraph.register_message_func(self, func)>,\n",
       "              'register_reduce_func': <function dgl.heterograph.DGLHeteroGraph.register_reduce_func(self, func)>,\n",
       "              'group_apply_edges': <function dgl.heterograph.DGLHeteroGraph.group_apply_edges(self, group_by, func, edges='__ALL__', etype=None, inplace=False)>,\n",
       "              'send': <function dgl.heterograph.DGLHeteroGraph.send(self, edges, message_func, etype=None)>,\n",
       "              'recv': <function dgl.heterograph.DGLHeteroGraph.recv(self, v, reduce_func, apply_node_func=None, etype=None, inplace=False)>,\n",
       "              'multi_recv': <function dgl.heterograph.DGLHeteroGraph.multi_recv(self, v, reducer_dict, cross_reducer, apply_node_func=None, inplace=False)>,\n",
       "              'multi_send_and_recv': <function dgl.heterograph.DGLHeteroGraph.multi_send_and_recv(self, etype_dict, cross_reducer, apply_node_func=None, inplace=False)>,\n",
       "              'multi_pull': <function dgl.heterograph.DGLHeteroGraph.multi_pull(self, v, etype_dict, cross_reducer, apply_node_func=None, inplace=False)>,\n",
       "              'readonly': <function dgl.heterograph.DGLHeteroGraph.readonly(self, readonly_state=True)>,\n",
       "              '__dict__': <attribute '__dict__' of 'DGLHeteroGraph' objects>,\n",
       "              '__weakref__': <attribute '__weakref__' of 'DGLHeteroGraph' objects>,\n",
       "              'to_networkx': <function dgl.convert.to_networkx(g, node_attrs=None, edge_attrs=None)>,\n",
       "              'line_graph': <function dgl.transform.line_graph(g, backtracking=True, shared=False)>,\n",
       "              'reverse': <function dgl.transform.reverse(g, copy_ndata=True, copy_edata=False, *, share_ndata=None, share_edata=None)>,\n",
       "              'add_self_loop': <function dgl.transform.add_self_loop(g, etype=None)>,\n",
       "              'remove_self_loop': <function dgl.transform.remove_self_loop(g, etype=None)>,\n",
       "              'to_simple': <function dgl.transform.to_simple(g, return_counts='count', writeback_mapping=False, copy_ndata=True, copy_edata=False)>,\n",
       "              'subgraph': <function dgl.subgraph.node_subgraph(graph, nodes)>,\n",
       "              'edge_subgraph': <function dgl.subgraph.edge_subgraph(graph, edges, preserve_nodes=False)>,\n",
       "              'in_subgraph': <function dgl.subgraph.in_subgraph(g, nodes)>,\n",
       "              'out_subgraph': <function dgl.subgraph.out_subgraph(g, nodes)>,\n",
       "              'node_type_subgraph': <function dgl.subgraph.node_type_subgraph(graph, ntypes)>,\n",
       "              'edge_type_subgraph': <function dgl.subgraph.edge_type_subgraph(graph, etypes)>})"
      ]
     },
     "execution_count": 205,
     "metadata": {},
     "output_type": "execute_result"
    }
   ],
   "source": [
    "g.__class__.__dict__"
   ]
  },
  {
   "cell_type": "code",
   "execution_count": 206,
   "metadata": {},
   "outputs": [],
   "source": [
    "g=dgl.graph((u,v))"
   ]
  },
  {
   "cell_type": "code",
   "execution_count": 207,
   "metadata": {},
   "outputs": [
    {
     "data": {
      "text/plain": [
       "mappingproxy({'__module__': 'dgl.heterograph',\n",
       "              '__doc__': 'Class for storing graph structure and node/edge feature data.\\n\\n    There are a few ways to create create a DGLGraph:\\n\\n    * To create a homogeneous graph from Tensor data, use :func:`dgl.graph`.\\n    * To create a heterogeneous graph from Tensor data, use :func:`dgl.heterograph`.\\n    * To create a graph from other data sources, use ``dgl.*`` create ops. See\\n      :ref:`api-graph-create-ops`.\\n\\n    Read the user guide chapter :ref:`guide-graph` for an in-depth explanation about its\\n    usage.\\n    ',\n",
       "              'is_block': False,\n",
       "              '__init__': <function dgl.heterograph.DGLHeteroGraph.__init__(self, gidx=[], ntypes=['_U'], etypes=['_V'], node_frames=None, edge_frames=None, **deprecate_kwargs)>,\n",
       "              '_init': <function dgl.heterograph.DGLHeteroGraph._init(self, gidx, ntypes, etypes, node_frames, edge_frames)>,\n",
       "              '__setstate__': <function dgl.heterograph.DGLHeteroGraph.__setstate__(self, state)>,\n",
       "              '__repr__': <function dgl.heterograph.DGLHeteroGraph.__repr__(self)>,\n",
       "              '__copy__': <function dgl.heterograph.DGLHeteroGraph.__copy__(self)>,\n",
       "              'add_nodes': <function dgl.heterograph.DGLHeteroGraph.add_nodes(self, num, data=None, ntype=None)>,\n",
       "              'add_edge': <function dgl.heterograph.DGLHeteroGraph.add_edge(self, u, v, data=None, etype=None)>,\n",
       "              'add_edges': <function dgl.heterograph.DGLHeteroGraph.add_edges(self, u, v, data=None, etype=None)>,\n",
       "              'remove_edges': <function dgl.heterograph.DGLHeteroGraph.remove_edges(self, eids, etype=None)>,\n",
       "              'remove_nodes': <function dgl.heterograph.DGLHeteroGraph.remove_nodes(self, nids, ntype=None)>,\n",
       "              '_reset_cached_info': <function dgl.heterograph.DGLHeteroGraph._reset_cached_info(self)>,\n",
       "              'is_unibipartite': <property at 0x7f88fce29d10>,\n",
       "              'ntypes': <property at 0x7f88fce29d60>,\n",
       "              'etypes': <property at 0x7f88fcdd72c0>,\n",
       "              'canonical_etypes': <property at 0x7f88fcddd270>,\n",
       "              'srctypes': <property at 0x7f88fcddd2c0>,\n",
       "              'dsttypes': <property at 0x7f88fcddd310>,\n",
       "              'metagraph': <function dgl.heterograph.DGLHeteroGraph.metagraph(self)>,\n",
       "              'to_canonical_etype': <function dgl.heterograph.DGLHeteroGraph.to_canonical_etype(self, etype)>,\n",
       "              'get_ntype_id': <function dgl.heterograph.DGLHeteroGraph.get_ntype_id(self, ntype)>,\n",
       "              'get_ntype_id_from_src': <function dgl.heterograph.DGLHeteroGraph.get_ntype_id_from_src(self, ntype)>,\n",
       "              'get_ntype_id_from_dst': <function dgl.heterograph.DGLHeteroGraph.get_ntype_id_from_dst(self, ntype)>,\n",
       "              'get_etype_id': <function dgl.heterograph.DGLHeteroGraph.get_etype_id(self, etype)>,\n",
       "              'batch_size': <property at 0x7f88fcddd360>,\n",
       "              'batch_num_nodes': <function dgl.heterograph.DGLHeteroGraph.batch_num_nodes(self, ntype=None)>,\n",
       "              'set_batch_num_nodes': <function dgl.heterograph.DGLHeteroGraph.set_batch_num_nodes(self, val)>,\n",
       "              'batch_num_edges': <function dgl.heterograph.DGLHeteroGraph.batch_num_edges(self, etype=None)>,\n",
       "              'set_batch_num_edges': <function dgl.heterograph.DGLHeteroGraph.set_batch_num_edges(self, val)>,\n",
       "              'nodes': <property at 0x7f88fcddd3b0>,\n",
       "              'srcnodes': <property at 0x7f88fcddd400>,\n",
       "              'dstnodes': <property at 0x7f88fcddd450>,\n",
       "              'ndata': <property at 0x7f88fcddd4a0>,\n",
       "              'srcdata': <property at 0x7f88fcddd4f0>,\n",
       "              'dstdata': <property at 0x7f88fcddd540>,\n",
       "              'edges': <property at 0x7f88fcddd590>,\n",
       "              'edata': <property at 0x7f88fcddd5e0>,\n",
       "              '_find_etypes': <function dgl.heterograph.DGLHeteroGraph._find_etypes(self, key)>,\n",
       "              '__getitem__': <function dgl.heterograph.DGLHeteroGraph.__getitem__(self, key)>,\n",
       "              'number_of_nodes': <function dgl.heterograph.DGLHeteroGraph.number_of_nodes(self, ntype=None)>,\n",
       "              'num_nodes': <function dgl.heterograph.DGLHeteroGraph.num_nodes(self, ntype=None)>,\n",
       "              'number_of_src_nodes': <function dgl.heterograph.DGLHeteroGraph.number_of_src_nodes(self, ntype=None)>,\n",
       "              'num_src_nodes': <function dgl.heterograph.DGLHeteroGraph.num_src_nodes(self, ntype=None)>,\n",
       "              'number_of_dst_nodes': <function dgl.heterograph.DGLHeteroGraph.number_of_dst_nodes(self, ntype=None)>,\n",
       "              'num_dst_nodes': <function dgl.heterograph.DGLHeteroGraph.num_dst_nodes(self, ntype=None)>,\n",
       "              'number_of_edges': <function dgl.heterograph.DGLHeteroGraph.number_of_edges(self, etype=None)>,\n",
       "              'num_edges': <function dgl.heterograph.DGLHeteroGraph.num_edges(self, etype=None)>,\n",
       "              '__len__': <function dgl.heterograph.DGLHeteroGraph.__len__(self)>,\n",
       "              'is_multigraph': <property at 0x7f88fcddd630>,\n",
       "              'is_homogeneous': <property at 0x7f88fcddd680>,\n",
       "              'is_readonly': <property at 0x7f88fcddd6d0>,\n",
       "              'idtype': <property at 0x7f88fcddd720>,\n",
       "              '_idtype_str': <property at 0x7f88fcddd770>,\n",
       "              '__contains__': <function dgl.heterograph.DGLHeteroGraph.__contains__(self, vid)>,\n",
       "              'has_nodes': <function dgl.heterograph.DGLHeteroGraph.has_nodes(self, vid, ntype=None)>,\n",
       "              'has_node': <function dgl.heterograph.DGLHeteroGraph.has_node(self, vid, ntype=None)>,\n",
       "              'has_edges_between': <function dgl.heterograph.DGLHeteroGraph.has_edges_between(self, u, v, etype=None)>,\n",
       "              'has_edge_between': <function dgl.heterograph.DGLHeteroGraph.has_edge_between(self, u, v, etype=None)>,\n",
       "              'predecessors': <function dgl.heterograph.DGLHeteroGraph.predecessors(self, v, etype=None)>,\n",
       "              'successors': <function dgl.heterograph.DGLHeteroGraph.successors(self, v, etype=None)>,\n",
       "              'edge_id': <function dgl.heterograph.DGLHeteroGraph.edge_id(self, u, v, force_multi=None, return_uv=False, etype=None)>,\n",
       "              'edge_ids': <function dgl.heterograph.DGLHeteroGraph.edge_ids(self, u, v, force_multi=None, return_uv=False, etype=None)>,\n",
       "              'find_edges': <function dgl.heterograph.DGLHeteroGraph.find_edges(self, eid, etype=None)>,\n",
       "              'in_edges': <function dgl.heterograph.DGLHeteroGraph.in_edges(self, v, form='uv', etype=None)>,\n",
       "              'out_edges': <function dgl.heterograph.DGLHeteroGraph.out_edges(self, u, form='uv', etype=None)>,\n",
       "              'all_edges': <function dgl.heterograph.DGLHeteroGraph.all_edges(self, form='uv', order='eid', etype=None)>,\n",
       "              'in_degree': <function dgl.heterograph.DGLHeteroGraph.in_degree(self, v, etype=None)>,\n",
       "              'in_degrees': <function dgl.heterograph.DGLHeteroGraph.in_degrees(self, v='__ALL__', etype=None)>,\n",
       "              'out_degree': <function dgl.heterograph.DGLHeteroGraph.out_degree(self, u, etype=None)>,\n",
       "              'out_degrees': <function dgl.heterograph.DGLHeteroGraph.out_degrees(self, u='__ALL__', etype=None)>,\n",
       "              'adjacency_matrix': <function dgl.heterograph.DGLHeteroGraph.adjacency_matrix(self, transpose=True, ctx=device(type='cpu'), scipy_fmt=None, etype=None)>,\n",
       "              'adj': <function dgl.heterograph.DGLHeteroGraph.adj(self, transpose=True, ctx=device(type='cpu'), scipy_fmt=None, etype=None)>,\n",
       "              'adjacency_matrix_scipy': <function dgl.heterograph.DGLHeteroGraph.adjacency_matrix_scipy(self, transpose=True, fmt='csr', return_edge_ids=None)>,\n",
       "              'inc': <function dgl.heterograph.DGLHeteroGraph.inc(self, typestr, ctx=device(type='cpu'), etype=None)>,\n",
       "              'incidence_matrix': <function dgl.heterograph.DGLHeteroGraph.inc(self, typestr, ctx=device(type='cpu'), etype=None)>,\n",
       "              'node_attr_schemes': <function dgl.heterograph.DGLHeteroGraph.node_attr_schemes(self, ntype=None)>,\n",
       "              'edge_attr_schemes': <function dgl.heterograph.DGLHeteroGraph.edge_attr_schemes(self, etype=None)>,\n",
       "              'set_n_initializer': <function dgl.heterograph.DGLHeteroGraph.set_n_initializer(self, initializer, field=None, ntype=None)>,\n",
       "              'set_e_initializer': <function dgl.heterograph.DGLHeteroGraph.set_e_initializer(self, initializer, field=None, etype=None)>,\n",
       "              '_set_n_repr': <function dgl.heterograph.DGLHeteroGraph._set_n_repr(self, ntid, u, data)>,\n",
       "              '_get_n_repr': <function dgl.heterograph.DGLHeteroGraph._get_n_repr(self, ntid, u)>,\n",
       "              '_pop_n_repr': <function dgl.heterograph.DGLHeteroGraph._pop_n_repr(self, ntid, key)>,\n",
       "              '_set_e_repr': <function dgl.heterograph.DGLHeteroGraph._set_e_repr(self, etid, edges, data)>,\n",
       "              '_get_e_repr': <function dgl.heterograph.DGLHeteroGraph._get_e_repr(self, etid, edges)>,\n",
       "              '_pop_e_repr': <function dgl.heterograph.DGLHeteroGraph._pop_e_repr(self, etid, key)>,\n",
       "              'apply_nodes': <function dgl.heterograph.DGLHeteroGraph.apply_nodes(self, func, v='__ALL__', ntype=None, inplace=False)>,\n",
       "              'apply_edges': <function dgl.heterograph.DGLHeteroGraph.apply_edges(self, func, edges='__ALL__', etype=None, inplace=False)>,\n",
       "              'send_and_recv': <function dgl.heterograph.DGLHeteroGraph.send_and_recv(self, edges, message_func, reduce_func, apply_node_func=None, etype=None, inplace=False)>,\n",
       "              'pull': <function dgl.heterograph.DGLHeteroGraph.pull(self, v, message_func, reduce_func, apply_node_func=None, etype=None, inplace=False)>,\n",
       "              'push': <function dgl.heterograph.DGLHeteroGraph.push(self, u, message_func, reduce_func, apply_node_func=None, etype=None, inplace=False)>,\n",
       "              'update_all': <function dgl.heterograph.DGLHeteroGraph.update_all(self, message_func, reduce_func, apply_node_func=None, etype=None)>,\n",
       "              'multi_update_all': <function dgl.heterograph.DGLHeteroGraph.multi_update_all(self, etype_dict, cross_reducer, apply_node_func=None)>,\n",
       "              'prop_nodes': <function dgl.heterograph.DGLHeteroGraph.prop_nodes(self, nodes_generator, message_func, reduce_func, apply_node_func=None, etype=None)>,\n",
       "              'prop_edges': <function dgl.heterograph.DGLHeteroGraph.prop_edges(self, edges_generator, message_func, reduce_func, apply_node_func=None, etype=None)>,\n",
       "              'filter_nodes': <function dgl.heterograph.DGLHeteroGraph.filter_nodes(self, predicate, nodes='__ALL__', ntype=None)>,\n",
       "              'filter_edges': <function dgl.heterograph.DGLHeteroGraph.filter_edges(self, predicate, edges='__ALL__', etype=None)>,\n",
       "              'device': <property at 0x7f88fcddd810>,\n",
       "              'to': <function dgl.heterograph.DGLHeteroGraph.to(self, device, **kwargs)>,\n",
       "              'cpu': <function dgl.heterograph.DGLHeteroGraph.cpu(self)>,\n",
       "              'clone': <function dgl.heterograph.DGLHeteroGraph.clone(self)>,\n",
       "              'local_var': <function dgl.heterograph.DGLHeteroGraph.local_var(self)>,\n",
       "              'local_scope': <function dgl.heterograph.DGLHeteroGraph.local_scope(self)>,\n",
       "              'formats': <function dgl.heterograph.DGLHeteroGraph.formats(self, formats=None)>,\n",
       "              'create_format_': <function dgl.heterograph.DGLHeteroGraph.create_format_(self)>,\n",
       "              'astype': <function dgl.heterograph.DGLHeteroGraph.astype(self, idtype)>,\n",
       "              'shared_memory': <function dgl.heterograph.DGLHeteroGraph.shared_memory(self, name, formats=('coo', 'csr', 'csc'))>,\n",
       "              'long': <function dgl.heterograph.DGLHeteroGraph.long(self)>,\n",
       "              'int': <function dgl.heterograph.DGLHeteroGraph.int(self)>,\n",
       "              'from_networkx': <function dgl.heterograph.DGLHeteroGraph.from_networkx(self, nx_graph, node_attrs=None, edge_attrs=None)>,\n",
       "              'from_scipy_sparse_matrix': <function dgl.heterograph.DGLHeteroGraph.from_scipy_sparse_matrix(self, spmat, multigraph=None)>,\n",
       "              'register_apply_node_func': <function dgl.heterograph.DGLHeteroGraph.register_apply_node_func(self, func)>,\n",
       "              'register_apply_edge_func': <function dgl.heterograph.DGLHeteroGraph.register_apply_edge_func(self, func)>,\n",
       "              'register_message_func': <function dgl.heterograph.DGLHeteroGraph.register_message_func(self, func)>,\n",
       "              'register_reduce_func': <function dgl.heterograph.DGLHeteroGraph.register_reduce_func(self, func)>,\n",
       "              'group_apply_edges': <function dgl.heterograph.DGLHeteroGraph.group_apply_edges(self, group_by, func, edges='__ALL__', etype=None, inplace=False)>,\n",
       "              'send': <function dgl.heterograph.DGLHeteroGraph.send(self, edges, message_func, etype=None)>,\n",
       "              'recv': <function dgl.heterograph.DGLHeteroGraph.recv(self, v, reduce_func, apply_node_func=None, etype=None, inplace=False)>,\n",
       "              'multi_recv': <function dgl.heterograph.DGLHeteroGraph.multi_recv(self, v, reducer_dict, cross_reducer, apply_node_func=None, inplace=False)>,\n",
       "              'multi_send_and_recv': <function dgl.heterograph.DGLHeteroGraph.multi_send_and_recv(self, etype_dict, cross_reducer, apply_node_func=None, inplace=False)>,\n",
       "              'multi_pull': <function dgl.heterograph.DGLHeteroGraph.multi_pull(self, v, etype_dict, cross_reducer, apply_node_func=None, inplace=False)>,\n",
       "              'readonly': <function dgl.heterograph.DGLHeteroGraph.readonly(self, readonly_state=True)>,\n",
       "              '__dict__': <attribute '__dict__' of 'DGLHeteroGraph' objects>,\n",
       "              '__weakref__': <attribute '__weakref__' of 'DGLHeteroGraph' objects>,\n",
       "              'to_networkx': <function dgl.convert.to_networkx(g, node_attrs=None, edge_attrs=None)>,\n",
       "              'line_graph': <function dgl.transform.line_graph(g, backtracking=True, shared=False)>,\n",
       "              'reverse': <function dgl.transform.reverse(g, copy_ndata=True, copy_edata=False, *, share_ndata=None, share_edata=None)>,\n",
       "              'add_self_loop': <function dgl.transform.add_self_loop(g, etype=None)>,\n",
       "              'remove_self_loop': <function dgl.transform.remove_self_loop(g, etype=None)>,\n",
       "              'to_simple': <function dgl.transform.to_simple(g, return_counts='count', writeback_mapping=False, copy_ndata=True, copy_edata=False)>,\n",
       "              'subgraph': <function dgl.subgraph.node_subgraph(graph, nodes)>,\n",
       "              'edge_subgraph': <function dgl.subgraph.edge_subgraph(graph, edges, preserve_nodes=False)>,\n",
       "              'in_subgraph': <function dgl.subgraph.in_subgraph(g, nodes)>,\n",
       "              'out_subgraph': <function dgl.subgraph.out_subgraph(g, nodes)>,\n",
       "              'node_type_subgraph': <function dgl.subgraph.node_type_subgraph(graph, ntypes)>,\n",
       "              'edge_type_subgraph': <function dgl.subgraph.edge_type_subgraph(graph, etypes)>})"
      ]
     },
     "execution_count": 207,
     "metadata": {},
     "output_type": "execute_result"
    }
   ],
   "source": [
    "g.__class__.__dict__"
   ]
  },
  {
   "cell_type": "code",
   "execution_count": 208,
   "metadata": {},
   "outputs": [
    {
     "data": {
      "text/plain": [
       "<bound method DGLHeteroGraph.metagraph of Graph(num_nodes=4, num_edges=4,\n",
       "      ndata_schemes={}\n",
       "      edata_schemes={})>"
      ]
     },
     "execution_count": 208,
     "metadata": {},
     "output_type": "execute_result"
    }
   ],
   "source": [
    "g.metagraph"
   ]
  },
  {
   "cell_type": "code",
   "execution_count": 209,
   "metadata": {},
   "outputs": [
    {
     "data": {
      "text/plain": [
       "4"
      ]
     },
     "execution_count": 209,
     "metadata": {},
     "output_type": "execute_result"
    }
   ],
   "source": [
    "g.number_of_nodes()"
   ]
  },
  {
   "cell_type": "code",
   "execution_count": 212,
   "metadata": {},
   "outputs": [
    {
     "data": {
      "text/plain": [
       "0"
      ]
     },
     "execution_count": 212,
     "metadata": {},
     "output_type": "execute_result"
    }
   ],
   "source": [
    "g.get_ntype_id('disease')"
   ]
  },
  {
   "cell_type": "code",
   "execution_count": 213,
   "metadata": {},
   "outputs": [
    {
     "data": {
      "text/plain": [
       "tensor([0, 1, 2, 3])"
      ]
     },
     "execution_count": 213,
     "metadata": {},
     "output_type": "execute_result"
    }
   ],
   "source": [
    "g.srcnodes('gene')"
   ]
  },
  {
   "cell_type": "code",
   "execution_count": 214,
   "metadata": {},
   "outputs": [
    {
     "data": {
      "text/plain": [
       "tensor([0, 1, 2, 3])"
      ]
     },
     "execution_count": 214,
     "metadata": {},
     "output_type": "execute_result"
    }
   ],
   "source": [
    "g.dstnodes('gene')"
   ]
  },
  {
   "cell_type": "code",
   "execution_count": 215,
   "metadata": {},
   "outputs": [
    {
     "data": {
      "text/plain": [
       "tensor([0, 1, 2])"
      ]
     },
     "execution_count": 215,
     "metadata": {},
     "output_type": "execute_result"
    }
   ],
   "source": [
    "g.nodes('disease')"
   ]
  },
  {
   "cell_type": "code",
   "execution_count": 216,
   "metadata": {},
   "outputs": [
    {
     "data": {
      "text/plain": [
       "tensor([[1.],\n",
       "        [1.],\n",
       "        [1.]])"
      ]
     },
     "execution_count": 216,
     "metadata": {},
     "output_type": "execute_result"
    }
   ],
   "source": [
    "g.nodes['drug'].data['hv']=torch.ones(3,1)\n",
    "g.nodes['drug'].data['hv']"
   ]
  },
  {
   "cell_type": "code",
   "execution_count": 217,
   "metadata": {},
   "outputs": [
    {
     "data": {
      "text/plain": [
       "tensor([[0.]])"
      ]
     },
     "execution_count": 217,
     "metadata": {},
     "output_type": "execute_result"
    }
   ],
   "source": [
    "g.edges['treats'].data['he'] = torch.zeros(1, 1)\n",
    "g.edges['treats'].data['he']"
   ]
  },
  {
   "cell_type": "code",
   "execution_count": 218,
   "metadata": {},
   "outputs": [
    {
     "data": {
      "text/plain": [
       "{'he': tensor([[0.]])}"
      ]
     },
     "execution_count": 218,
     "metadata": {},
     "output_type": "execute_result"
    }
   ],
   "source": [
    "g.edges['treats'].data"
   ]
  },
  {
   "cell_type": "code",
   "execution_count": 219,
   "metadata": {},
   "outputs": [
    {
     "data": {
      "text/plain": [
       "{}"
      ]
     },
     "execution_count": 219,
     "metadata": {},
     "output_type": "execute_result"
    }
   ],
   "source": [
    "g.nodes['gene'].data"
   ]
  },
  {
   "cell_type": "code",
   "execution_count": 220,
   "metadata": {},
   "outputs": [],
   "source": [
    "g = dgl.heterograph({\n",
    "   ('drug', 'interacts', 'drug'): (torch.tensor([0, 1]), torch.tensor([1, 2])),\n",
    "   ('drug', 'is similar', 'drug'): (torch.tensor([0, 1]), torch.tensor([2, 3]))\n",
    "})\n",
    "g.nodes()\n",
    "g.ndata['hv']=torch.ones(4,1)"
   ]
  },
  {
   "cell_type": "code",
   "execution_count": 221,
   "metadata": {},
   "outputs": [
    {
     "data": {
      "text/plain": [
       "NodeSpace(data={'hv': tensor([[1.],\n",
       "        [1.],\n",
       "        [1.],\n",
       "        [1.]])})"
      ]
     },
     "execution_count": 221,
     "metadata": {},
     "output_type": "execute_result"
    }
   ],
   "source": [
    "g.nodes['drug']"
   ]
  },
  {
   "cell_type": "code",
   "execution_count": 222,
   "metadata": {},
   "outputs": [
    {
     "data": {
      "text/plain": [
       "['drug']"
      ]
     },
     "execution_count": 222,
     "metadata": {},
     "output_type": "execute_result"
    }
   ],
   "source": [
    "g.srctypes"
   ]
  },
  {
   "cell_type": "code",
   "execution_count": 223,
   "metadata": {},
   "outputs": [],
   "source": [
    "# 从磁盘加载异构图"
   ]
  },
  {
   "cell_type": "code",
   "execution_count": 224,
   "metadata": {},
   "outputs": [],
   "source": [
    "g = dgl.heterograph({\n",
    "   ('drug', 'interacts', 'drug'): (torch.tensor([0, 1]), torch.tensor([1, 2])),\n",
    "   ('drug', 'interacts', 'gene'): (torch.tensor([0, 1]), torch.tensor([2, 3])),\n",
    "   ('drug', 'treats', 'disease'): (torch.tensor([1]), torch.tensor([2]))\n",
    "})"
   ]
  },
  {
   "cell_type": "code",
   "execution_count": 225,
   "metadata": {},
   "outputs": [],
   "source": [
    "g.nodes['drug'].data['hv'] = torch.ones(3, 1)"
   ]
  },
  {
   "cell_type": "code",
   "execution_count": 226,
   "metadata": {},
   "outputs": [],
   "source": [
    "eg = g.edge_type_subgraph([('drug', 'interacts', 'drug'),('drug', 'treats', 'disease')])"
   ]
  },
  {
   "cell_type": "code",
   "execution_count": 227,
   "metadata": {},
   "outputs": [
    {
     "data": {
      "text/plain": [
       "Graph(num_nodes={'disease': 3, 'drug': 3},\n",
       "      num_edges={('drug', 'interacts', 'drug'): 2, ('drug', 'treats', 'disease'): 1},\n",
       "      metagraph=[('drug', 'drug', 'interacts'), ('drug', 'disease', 'treats')])"
      ]
     },
     "execution_count": 227,
     "metadata": {},
     "output_type": "execute_result"
    }
   ],
   "source": [
    "eg"
   ]
  },
  {
   "cell_type": "code",
   "execution_count": 228,
   "metadata": {},
   "outputs": [
    {
     "data": {
      "text/plain": [
       "tensor([[1.],\n",
       "        [1.],\n",
       "        [1.]])"
      ]
     },
     "execution_count": 228,
     "metadata": {},
     "output_type": "execute_result"
    }
   ],
   "source": [
    "eg.nodes['drug'].data['hv']"
   ]
  },
  {
   "cell_type": "code",
   "execution_count": 229,
   "metadata": {},
   "outputs": [],
   "source": [
    "# 将异构图转化为同构图\n",
    "g = dgl.heterograph({\n",
    "   ('drug', 'interacts', 'drug'): (torch.tensor([0, 1]), torch.tensor([1, 2])),\n",
    "   ('drug', 'treats', 'disease'): (torch.tensor([1]), torch.tensor([2]))})\n",
    "g.nodes['drug'].data['hv'] = torch.zeros(3, 1)\n",
    "g.nodes['disease'].data['hv'] = torch.ones(3, 1)\n",
    "g.edges['interacts'].data['he'] = torch.zeros(2, 1)\n",
    "g.edges['treats'].data['he'] = torch.zeros(1, 2)"
   ]
  },
  {
   "cell_type": "code",
   "execution_count": 233,
   "metadata": {},
   "outputs": [
    {
     "ename": "TypeError",
     "evalue": "sum_nodes() missing 1 required positional argument: 'feat'",
     "output_type": "error",
     "traceback": [
      "\u001b[0;31m---------------------------------------------------------------------------\u001b[0m",
      "\u001b[0;31mTypeError\u001b[0m                                 Traceback (most recent call last)",
      "\u001b[1;32m/home/suzhang/git/GNN/GCC-master_copy/dglgraph.ipynb Cell 38\u001b[0m in \u001b[0;36m<cell line: 1>\u001b[0;34m()\u001b[0m\n\u001b[0;32m----> <a href='vscode-notebook-cell://ssh-remote%2Bximi/home/suzhang/git/GNN/GCC-master_copy/dglgraph.ipynb#X52sdnNjb2RlLXJlbW90ZQ%3D%3D?line=0'>1</a>\u001b[0m dgl\u001b[39m.\u001b[39;49msum_nodes(g)\n",
      "\u001b[0;31mTypeError\u001b[0m: sum_nodes() missing 1 required positional argument: 'feat'"
     ]
    }
   ],
   "source": [
    "dgl.sum_nodes(g)"
   ]
  },
  {
   "cell_type": "code",
   "execution_count": 234,
   "metadata": {},
   "outputs": [
    {
     "data": {
      "text/plain": [
       "mappingproxy({'__module__': 'dgl.heterograph',\n",
       "              '__doc__': 'Class for storing graph structure and node/edge feature data.\\n\\n    There are a few ways to create create a DGLGraph:\\n\\n    * To create a homogeneous graph from Tensor data, use :func:`dgl.graph`.\\n    * To create a heterogeneous graph from Tensor data, use :func:`dgl.heterograph`.\\n    * To create a graph from other data sources, use ``dgl.*`` create ops. See\\n      :ref:`api-graph-create-ops`.\\n\\n    Read the user guide chapter :ref:`guide-graph` for an in-depth explanation about its\\n    usage.\\n    ',\n",
       "              'is_block': False,\n",
       "              '__init__': <function dgl.heterograph.DGLHeteroGraph.__init__(self, gidx=[], ntypes=['_U'], etypes=['_V'], node_frames=None, edge_frames=None, **deprecate_kwargs)>,\n",
       "              '_init': <function dgl.heterograph.DGLHeteroGraph._init(self, gidx, ntypes, etypes, node_frames, edge_frames)>,\n",
       "              '__setstate__': <function dgl.heterograph.DGLHeteroGraph.__setstate__(self, state)>,\n",
       "              '__repr__': <function dgl.heterograph.DGLHeteroGraph.__repr__(self)>,\n",
       "              '__copy__': <function dgl.heterograph.DGLHeteroGraph.__copy__(self)>,\n",
       "              'add_nodes': <function dgl.heterograph.DGLHeteroGraph.add_nodes(self, num, data=None, ntype=None)>,\n",
       "              'add_edge': <function dgl.heterograph.DGLHeteroGraph.add_edge(self, u, v, data=None, etype=None)>,\n",
       "              'add_edges': <function dgl.heterograph.DGLHeteroGraph.add_edges(self, u, v, data=None, etype=None)>,\n",
       "              'remove_edges': <function dgl.heterograph.DGLHeteroGraph.remove_edges(self, eids, etype=None)>,\n",
       "              'remove_nodes': <function dgl.heterograph.DGLHeteroGraph.remove_nodes(self, nids, ntype=None)>,\n",
       "              '_reset_cached_info': <function dgl.heterograph.DGLHeteroGraph._reset_cached_info(self)>,\n",
       "              'is_unibipartite': <property at 0x7f88fce29d10>,\n",
       "              'ntypes': <property at 0x7f88fce29d60>,\n",
       "              'etypes': <property at 0x7f88fcdd72c0>,\n",
       "              'canonical_etypes': <property at 0x7f88fcddd270>,\n",
       "              'srctypes': <property at 0x7f88fcddd2c0>,\n",
       "              'dsttypes': <property at 0x7f88fcddd310>,\n",
       "              'metagraph': <function dgl.heterograph.DGLHeteroGraph.metagraph(self)>,\n",
       "              'to_canonical_etype': <function dgl.heterograph.DGLHeteroGraph.to_canonical_etype(self, etype)>,\n",
       "              'get_ntype_id': <function dgl.heterograph.DGLHeteroGraph.get_ntype_id(self, ntype)>,\n",
       "              'get_ntype_id_from_src': <function dgl.heterograph.DGLHeteroGraph.get_ntype_id_from_src(self, ntype)>,\n",
       "              'get_ntype_id_from_dst': <function dgl.heterograph.DGLHeteroGraph.get_ntype_id_from_dst(self, ntype)>,\n",
       "              'get_etype_id': <function dgl.heterograph.DGLHeteroGraph.get_etype_id(self, etype)>,\n",
       "              'batch_size': <property at 0x7f88fcddd360>,\n",
       "              'batch_num_nodes': <function dgl.heterograph.DGLHeteroGraph.batch_num_nodes(self, ntype=None)>,\n",
       "              'set_batch_num_nodes': <function dgl.heterograph.DGLHeteroGraph.set_batch_num_nodes(self, val)>,\n",
       "              'batch_num_edges': <function dgl.heterograph.DGLHeteroGraph.batch_num_edges(self, etype=None)>,\n",
       "              'set_batch_num_edges': <function dgl.heterograph.DGLHeteroGraph.set_batch_num_edges(self, val)>,\n",
       "              'nodes': <property at 0x7f88fcddd3b0>,\n",
       "              'srcnodes': <property at 0x7f88fcddd400>,\n",
       "              'dstnodes': <property at 0x7f88fcddd450>,\n",
       "              'ndata': <property at 0x7f88fcddd4a0>,\n",
       "              'srcdata': <property at 0x7f88fcddd4f0>,\n",
       "              'dstdata': <property at 0x7f88fcddd540>,\n",
       "              'edges': <property at 0x7f88fcddd590>,\n",
       "              'edata': <property at 0x7f88fcddd5e0>,\n",
       "              '_find_etypes': <function dgl.heterograph.DGLHeteroGraph._find_etypes(self, key)>,\n",
       "              '__getitem__': <function dgl.heterograph.DGLHeteroGraph.__getitem__(self, key)>,\n",
       "              'number_of_nodes': <function dgl.heterograph.DGLHeteroGraph.number_of_nodes(self, ntype=None)>,\n",
       "              'num_nodes': <function dgl.heterograph.DGLHeteroGraph.num_nodes(self, ntype=None)>,\n",
       "              'number_of_src_nodes': <function dgl.heterograph.DGLHeteroGraph.number_of_src_nodes(self, ntype=None)>,\n",
       "              'num_src_nodes': <function dgl.heterograph.DGLHeteroGraph.num_src_nodes(self, ntype=None)>,\n",
       "              'number_of_dst_nodes': <function dgl.heterograph.DGLHeteroGraph.number_of_dst_nodes(self, ntype=None)>,\n",
       "              'num_dst_nodes': <function dgl.heterograph.DGLHeteroGraph.num_dst_nodes(self, ntype=None)>,\n",
       "              'number_of_edges': <function dgl.heterograph.DGLHeteroGraph.number_of_edges(self, etype=None)>,\n",
       "              'num_edges': <function dgl.heterograph.DGLHeteroGraph.num_edges(self, etype=None)>,\n",
       "              '__len__': <function dgl.heterograph.DGLHeteroGraph.__len__(self)>,\n",
       "              'is_multigraph': <property at 0x7f88fcddd630>,\n",
       "              'is_homogeneous': <property at 0x7f88fcddd680>,\n",
       "              'is_readonly': <property at 0x7f88fcddd6d0>,\n",
       "              'idtype': <property at 0x7f88fcddd720>,\n",
       "              '_idtype_str': <property at 0x7f88fcddd770>,\n",
       "              '__contains__': <function dgl.heterograph.DGLHeteroGraph.__contains__(self, vid)>,\n",
       "              'has_nodes': <function dgl.heterograph.DGLHeteroGraph.has_nodes(self, vid, ntype=None)>,\n",
       "              'has_node': <function dgl.heterograph.DGLHeteroGraph.has_node(self, vid, ntype=None)>,\n",
       "              'has_edges_between': <function dgl.heterograph.DGLHeteroGraph.has_edges_between(self, u, v, etype=None)>,\n",
       "              'has_edge_between': <function dgl.heterograph.DGLHeteroGraph.has_edge_between(self, u, v, etype=None)>,\n",
       "              'predecessors': <function dgl.heterograph.DGLHeteroGraph.predecessors(self, v, etype=None)>,\n",
       "              'successors': <function dgl.heterograph.DGLHeteroGraph.successors(self, v, etype=None)>,\n",
       "              'edge_id': <function dgl.heterograph.DGLHeteroGraph.edge_id(self, u, v, force_multi=None, return_uv=False, etype=None)>,\n",
       "              'edge_ids': <function dgl.heterograph.DGLHeteroGraph.edge_ids(self, u, v, force_multi=None, return_uv=False, etype=None)>,\n",
       "              'find_edges': <function dgl.heterograph.DGLHeteroGraph.find_edges(self, eid, etype=None)>,\n",
       "              'in_edges': <function dgl.heterograph.DGLHeteroGraph.in_edges(self, v, form='uv', etype=None)>,\n",
       "              'out_edges': <function dgl.heterograph.DGLHeteroGraph.out_edges(self, u, form='uv', etype=None)>,\n",
       "              'all_edges': <function dgl.heterograph.DGLHeteroGraph.all_edges(self, form='uv', order='eid', etype=None)>,\n",
       "              'in_degree': <function dgl.heterograph.DGLHeteroGraph.in_degree(self, v, etype=None)>,\n",
       "              'in_degrees': <function dgl.heterograph.DGLHeteroGraph.in_degrees(self, v='__ALL__', etype=None)>,\n",
       "              'out_degree': <function dgl.heterograph.DGLHeteroGraph.out_degree(self, u, etype=None)>,\n",
       "              'out_degrees': <function dgl.heterograph.DGLHeteroGraph.out_degrees(self, u='__ALL__', etype=None)>,\n",
       "              'adjacency_matrix': <function dgl.heterograph.DGLHeteroGraph.adjacency_matrix(self, transpose=True, ctx=device(type='cpu'), scipy_fmt=None, etype=None)>,\n",
       "              'adj': <function dgl.heterograph.DGLHeteroGraph.adj(self, transpose=True, ctx=device(type='cpu'), scipy_fmt=None, etype=None)>,\n",
       "              'adjacency_matrix_scipy': <function dgl.heterograph.DGLHeteroGraph.adjacency_matrix_scipy(self, transpose=True, fmt='csr', return_edge_ids=None)>,\n",
       "              'inc': <function dgl.heterograph.DGLHeteroGraph.inc(self, typestr, ctx=device(type='cpu'), etype=None)>,\n",
       "              'incidence_matrix': <function dgl.heterograph.DGLHeteroGraph.inc(self, typestr, ctx=device(type='cpu'), etype=None)>,\n",
       "              'node_attr_schemes': <function dgl.heterograph.DGLHeteroGraph.node_attr_schemes(self, ntype=None)>,\n",
       "              'edge_attr_schemes': <function dgl.heterograph.DGLHeteroGraph.edge_attr_schemes(self, etype=None)>,\n",
       "              'set_n_initializer': <function dgl.heterograph.DGLHeteroGraph.set_n_initializer(self, initializer, field=None, ntype=None)>,\n",
       "              'set_e_initializer': <function dgl.heterograph.DGLHeteroGraph.set_e_initializer(self, initializer, field=None, etype=None)>,\n",
       "              '_set_n_repr': <function dgl.heterograph.DGLHeteroGraph._set_n_repr(self, ntid, u, data)>,\n",
       "              '_get_n_repr': <function dgl.heterograph.DGLHeteroGraph._get_n_repr(self, ntid, u)>,\n",
       "              '_pop_n_repr': <function dgl.heterograph.DGLHeteroGraph._pop_n_repr(self, ntid, key)>,\n",
       "              '_set_e_repr': <function dgl.heterograph.DGLHeteroGraph._set_e_repr(self, etid, edges, data)>,\n",
       "              '_get_e_repr': <function dgl.heterograph.DGLHeteroGraph._get_e_repr(self, etid, edges)>,\n",
       "              '_pop_e_repr': <function dgl.heterograph.DGLHeteroGraph._pop_e_repr(self, etid, key)>,\n",
       "              'apply_nodes': <function dgl.heterograph.DGLHeteroGraph.apply_nodes(self, func, v='__ALL__', ntype=None, inplace=False)>,\n",
       "              'apply_edges': <function dgl.heterograph.DGLHeteroGraph.apply_edges(self, func, edges='__ALL__', etype=None, inplace=False)>,\n",
       "              'send_and_recv': <function dgl.heterograph.DGLHeteroGraph.send_and_recv(self, edges, message_func, reduce_func, apply_node_func=None, etype=None, inplace=False)>,\n",
       "              'pull': <function dgl.heterograph.DGLHeteroGraph.pull(self, v, message_func, reduce_func, apply_node_func=None, etype=None, inplace=False)>,\n",
       "              'push': <function dgl.heterograph.DGLHeteroGraph.push(self, u, message_func, reduce_func, apply_node_func=None, etype=None, inplace=False)>,\n",
       "              'update_all': <function dgl.heterograph.DGLHeteroGraph.update_all(self, message_func, reduce_func, apply_node_func=None, etype=None)>,\n",
       "              'multi_update_all': <function dgl.heterograph.DGLHeteroGraph.multi_update_all(self, etype_dict, cross_reducer, apply_node_func=None)>,\n",
       "              'prop_nodes': <function dgl.heterograph.DGLHeteroGraph.prop_nodes(self, nodes_generator, message_func, reduce_func, apply_node_func=None, etype=None)>,\n",
       "              'prop_edges': <function dgl.heterograph.DGLHeteroGraph.prop_edges(self, edges_generator, message_func, reduce_func, apply_node_func=None, etype=None)>,\n",
       "              'filter_nodes': <function dgl.heterograph.DGLHeteroGraph.filter_nodes(self, predicate, nodes='__ALL__', ntype=None)>,\n",
       "              'filter_edges': <function dgl.heterograph.DGLHeteroGraph.filter_edges(self, predicate, edges='__ALL__', etype=None)>,\n",
       "              'device': <property at 0x7f88fcddd810>,\n",
       "              'to': <function dgl.heterograph.DGLHeteroGraph.to(self, device, **kwargs)>,\n",
       "              'cpu': <function dgl.heterograph.DGLHeteroGraph.cpu(self)>,\n",
       "              'clone': <function dgl.heterograph.DGLHeteroGraph.clone(self)>,\n",
       "              'local_var': <function dgl.heterograph.DGLHeteroGraph.local_var(self)>,\n",
       "              'local_scope': <function dgl.heterograph.DGLHeteroGraph.local_scope(self)>,\n",
       "              'formats': <function dgl.heterograph.DGLHeteroGraph.formats(self, formats=None)>,\n",
       "              'create_format_': <function dgl.heterograph.DGLHeteroGraph.create_format_(self)>,\n",
       "              'astype': <function dgl.heterograph.DGLHeteroGraph.astype(self, idtype)>,\n",
       "              'shared_memory': <function dgl.heterograph.DGLHeteroGraph.shared_memory(self, name, formats=('coo', 'csr', 'csc'))>,\n",
       "              'long': <function dgl.heterograph.DGLHeteroGraph.long(self)>,\n",
       "              'int': <function dgl.heterograph.DGLHeteroGraph.int(self)>,\n",
       "              'from_networkx': <function dgl.heterograph.DGLHeteroGraph.from_networkx(self, nx_graph, node_attrs=None, edge_attrs=None)>,\n",
       "              'from_scipy_sparse_matrix': <function dgl.heterograph.DGLHeteroGraph.from_scipy_sparse_matrix(self, spmat, multigraph=None)>,\n",
       "              'register_apply_node_func': <function dgl.heterograph.DGLHeteroGraph.register_apply_node_func(self, func)>,\n",
       "              'register_apply_edge_func': <function dgl.heterograph.DGLHeteroGraph.register_apply_edge_func(self, func)>,\n",
       "              'register_message_func': <function dgl.heterograph.DGLHeteroGraph.register_message_func(self, func)>,\n",
       "              'register_reduce_func': <function dgl.heterograph.DGLHeteroGraph.register_reduce_func(self, func)>,\n",
       "              'group_apply_edges': <function dgl.heterograph.DGLHeteroGraph.group_apply_edges(self, group_by, func, edges='__ALL__', etype=None, inplace=False)>,\n",
       "              'send': <function dgl.heterograph.DGLHeteroGraph.send(self, edges, message_func, etype=None)>,\n",
       "              'recv': <function dgl.heterograph.DGLHeteroGraph.recv(self, v, reduce_func, apply_node_func=None, etype=None, inplace=False)>,\n",
       "              'multi_recv': <function dgl.heterograph.DGLHeteroGraph.multi_recv(self, v, reducer_dict, cross_reducer, apply_node_func=None, inplace=False)>,\n",
       "              'multi_send_and_recv': <function dgl.heterograph.DGLHeteroGraph.multi_send_and_recv(self, etype_dict, cross_reducer, apply_node_func=None, inplace=False)>,\n",
       "              'multi_pull': <function dgl.heterograph.DGLHeteroGraph.multi_pull(self, v, etype_dict, cross_reducer, apply_node_func=None, inplace=False)>,\n",
       "              'readonly': <function dgl.heterograph.DGLHeteroGraph.readonly(self, readonly_state=True)>,\n",
       "              '__dict__': <attribute '__dict__' of 'DGLHeteroGraph' objects>,\n",
       "              '__weakref__': <attribute '__weakref__' of 'DGLHeteroGraph' objects>,\n",
       "              'to_networkx': <function dgl.convert.to_networkx(g, node_attrs=None, edge_attrs=None)>,\n",
       "              'line_graph': <function dgl.transform.line_graph(g, backtracking=True, shared=False)>,\n",
       "              'reverse': <function dgl.transform.reverse(g, copy_ndata=True, copy_edata=False, *, share_ndata=None, share_edata=None)>,\n",
       "              'add_self_loop': <function dgl.transform.add_self_loop(g, etype=None)>,\n",
       "              'remove_self_loop': <function dgl.transform.remove_self_loop(g, etype=None)>,\n",
       "              'to_simple': <function dgl.transform.to_simple(g, return_counts='count', writeback_mapping=False, copy_ndata=True, copy_edata=False)>,\n",
       "              'subgraph': <function dgl.subgraph.node_subgraph(graph, nodes)>,\n",
       "              'edge_subgraph': <function dgl.subgraph.edge_subgraph(graph, edges, preserve_nodes=False)>,\n",
       "              'in_subgraph': <function dgl.subgraph.in_subgraph(g, nodes)>,\n",
       "              'out_subgraph': <function dgl.subgraph.out_subgraph(g, nodes)>,\n",
       "              'node_type_subgraph': <function dgl.subgraph.node_type_subgraph(graph, ntypes)>,\n",
       "              'edge_type_subgraph': <function dgl.subgraph.edge_type_subgraph(graph, etypes)>})"
      ]
     },
     "execution_count": 234,
     "metadata": {},
     "output_type": "execute_result"
    }
   ],
   "source": [
    "dgl.DGLGraph.__dict__"
   ]
  },
  {
   "cell_type": "code",
   "execution_count": 235,
   "metadata": {},
   "outputs": [
    {
     "data": {
      "text/plain": [
       "dgl.heterograph.DGLHeteroGraph"
      ]
     },
     "execution_count": 235,
     "metadata": {},
     "output_type": "execute_result"
    }
   ],
   "source": [
    "# Source nodes for edges (2, 1), (3, 2), (4, 3)\n",
    "src_ids = torch.tensor([2, 3, 4])\n",
    "# Destination nodes for edges (2, 1), (3, 2), (4, 3)\n",
    "dst_ids = torch.tensor([1, 2, 3])\n",
    "g = dgl.graph((src_ids, dst_ids))\n",
    "g = dgl.graph((src_ids, dst_ids), num_nodes=100)\n",
    "type(g)"
   ]
  },
  {
   "cell_type": "code",
   "execution_count": 236,
   "metadata": {},
   "outputs": [],
   "source": [
    "g = dgl.graph((src_ids, dst_ids), idtype=torch.int32, device='cuda:0')"
   ]
  },
  {
   "cell_type": "code",
   "execution_count": 237,
   "metadata": {},
   "outputs": [
    {
     "data": {
      "text/plain": [
       "dgl.heterograph.DGLHeteroGraph"
      ]
     },
     "execution_count": 237,
     "metadata": {},
     "output_type": "execute_result"
    }
   ],
   "source": [
    "type(g)"
   ]
  },
  {
   "cell_type": "code",
   "execution_count": 238,
   "metadata": {},
   "outputs": [
    {
     "data": {
      "text/plain": [
       "mappingproxy({'__module__': 'dgl.heterograph',\n",
       "              '__doc__': 'Class for storing graph structure and node/edge feature data.\\n\\n    There are a few ways to create create a DGLGraph:\\n\\n    * To create a homogeneous graph from Tensor data, use :func:`dgl.graph`.\\n    * To create a heterogeneous graph from Tensor data, use :func:`dgl.heterograph`.\\n    * To create a graph from other data sources, use ``dgl.*`` create ops. See\\n      :ref:`api-graph-create-ops`.\\n\\n    Read the user guide chapter :ref:`guide-graph` for an in-depth explanation about its\\n    usage.\\n    ',\n",
       "              'is_block': False,\n",
       "              '__init__': <function dgl.heterograph.DGLHeteroGraph.__init__(self, gidx=[], ntypes=['_U'], etypes=['_V'], node_frames=None, edge_frames=None, **deprecate_kwargs)>,\n",
       "              '_init': <function dgl.heterograph.DGLHeteroGraph._init(self, gidx, ntypes, etypes, node_frames, edge_frames)>,\n",
       "              '__setstate__': <function dgl.heterograph.DGLHeteroGraph.__setstate__(self, state)>,\n",
       "              '__repr__': <function dgl.heterograph.DGLHeteroGraph.__repr__(self)>,\n",
       "              '__copy__': <function dgl.heterograph.DGLHeteroGraph.__copy__(self)>,\n",
       "              'add_nodes': <function dgl.heterograph.DGLHeteroGraph.add_nodes(self, num, data=None, ntype=None)>,\n",
       "              'add_edge': <function dgl.heterograph.DGLHeteroGraph.add_edge(self, u, v, data=None, etype=None)>,\n",
       "              'add_edges': <function dgl.heterograph.DGLHeteroGraph.add_edges(self, u, v, data=None, etype=None)>,\n",
       "              'remove_edges': <function dgl.heterograph.DGLHeteroGraph.remove_edges(self, eids, etype=None)>,\n",
       "              'remove_nodes': <function dgl.heterograph.DGLHeteroGraph.remove_nodes(self, nids, ntype=None)>,\n",
       "              '_reset_cached_info': <function dgl.heterograph.DGLHeteroGraph._reset_cached_info(self)>,\n",
       "              'is_unibipartite': <property at 0x7f88fce29d10>,\n",
       "              'ntypes': <property at 0x7f88fce29d60>,\n",
       "              'etypes': <property at 0x7f88fcdd72c0>,\n",
       "              'canonical_etypes': <property at 0x7f88fcddd270>,\n",
       "              'srctypes': <property at 0x7f88fcddd2c0>,\n",
       "              'dsttypes': <property at 0x7f88fcddd310>,\n",
       "              'metagraph': <function dgl.heterograph.DGLHeteroGraph.metagraph(self)>,\n",
       "              'to_canonical_etype': <function dgl.heterograph.DGLHeteroGraph.to_canonical_etype(self, etype)>,\n",
       "              'get_ntype_id': <function dgl.heterograph.DGLHeteroGraph.get_ntype_id(self, ntype)>,\n",
       "              'get_ntype_id_from_src': <function dgl.heterograph.DGLHeteroGraph.get_ntype_id_from_src(self, ntype)>,\n",
       "              'get_ntype_id_from_dst': <function dgl.heterograph.DGLHeteroGraph.get_ntype_id_from_dst(self, ntype)>,\n",
       "              'get_etype_id': <function dgl.heterograph.DGLHeteroGraph.get_etype_id(self, etype)>,\n",
       "              'batch_size': <property at 0x7f88fcddd360>,\n",
       "              'batch_num_nodes': <function dgl.heterograph.DGLHeteroGraph.batch_num_nodes(self, ntype=None)>,\n",
       "              'set_batch_num_nodes': <function dgl.heterograph.DGLHeteroGraph.set_batch_num_nodes(self, val)>,\n",
       "              'batch_num_edges': <function dgl.heterograph.DGLHeteroGraph.batch_num_edges(self, etype=None)>,\n",
       "              'set_batch_num_edges': <function dgl.heterograph.DGLHeteroGraph.set_batch_num_edges(self, val)>,\n",
       "              'nodes': <property at 0x7f88fcddd3b0>,\n",
       "              'srcnodes': <property at 0x7f88fcddd400>,\n",
       "              'dstnodes': <property at 0x7f88fcddd450>,\n",
       "              'ndata': <property at 0x7f88fcddd4a0>,\n",
       "              'srcdata': <property at 0x7f88fcddd4f0>,\n",
       "              'dstdata': <property at 0x7f88fcddd540>,\n",
       "              'edges': <property at 0x7f88fcddd590>,\n",
       "              'edata': <property at 0x7f88fcddd5e0>,\n",
       "              '_find_etypes': <function dgl.heterograph.DGLHeteroGraph._find_etypes(self, key)>,\n",
       "              '__getitem__': <function dgl.heterograph.DGLHeteroGraph.__getitem__(self, key)>,\n",
       "              'number_of_nodes': <function dgl.heterograph.DGLHeteroGraph.number_of_nodes(self, ntype=None)>,\n",
       "              'num_nodes': <function dgl.heterograph.DGLHeteroGraph.num_nodes(self, ntype=None)>,\n",
       "              'number_of_src_nodes': <function dgl.heterograph.DGLHeteroGraph.number_of_src_nodes(self, ntype=None)>,\n",
       "              'num_src_nodes': <function dgl.heterograph.DGLHeteroGraph.num_src_nodes(self, ntype=None)>,\n",
       "              'number_of_dst_nodes': <function dgl.heterograph.DGLHeteroGraph.number_of_dst_nodes(self, ntype=None)>,\n",
       "              'num_dst_nodes': <function dgl.heterograph.DGLHeteroGraph.num_dst_nodes(self, ntype=None)>,\n",
       "              'number_of_edges': <function dgl.heterograph.DGLHeteroGraph.number_of_edges(self, etype=None)>,\n",
       "              'num_edges': <function dgl.heterograph.DGLHeteroGraph.num_edges(self, etype=None)>,\n",
       "              '__len__': <function dgl.heterograph.DGLHeteroGraph.__len__(self)>,\n",
       "              'is_multigraph': <property at 0x7f88fcddd630>,\n",
       "              'is_homogeneous': <property at 0x7f88fcddd680>,\n",
       "              'is_readonly': <property at 0x7f88fcddd6d0>,\n",
       "              'idtype': <property at 0x7f88fcddd720>,\n",
       "              '_idtype_str': <property at 0x7f88fcddd770>,\n",
       "              '__contains__': <function dgl.heterograph.DGLHeteroGraph.__contains__(self, vid)>,\n",
       "              'has_nodes': <function dgl.heterograph.DGLHeteroGraph.has_nodes(self, vid, ntype=None)>,\n",
       "              'has_node': <function dgl.heterograph.DGLHeteroGraph.has_node(self, vid, ntype=None)>,\n",
       "              'has_edges_between': <function dgl.heterograph.DGLHeteroGraph.has_edges_between(self, u, v, etype=None)>,\n",
       "              'has_edge_between': <function dgl.heterograph.DGLHeteroGraph.has_edge_between(self, u, v, etype=None)>,\n",
       "              'predecessors': <function dgl.heterograph.DGLHeteroGraph.predecessors(self, v, etype=None)>,\n",
       "              'successors': <function dgl.heterograph.DGLHeteroGraph.successors(self, v, etype=None)>,\n",
       "              'edge_id': <function dgl.heterograph.DGLHeteroGraph.edge_id(self, u, v, force_multi=None, return_uv=False, etype=None)>,\n",
       "              'edge_ids': <function dgl.heterograph.DGLHeteroGraph.edge_ids(self, u, v, force_multi=None, return_uv=False, etype=None)>,\n",
       "              'find_edges': <function dgl.heterograph.DGLHeteroGraph.find_edges(self, eid, etype=None)>,\n",
       "              'in_edges': <function dgl.heterograph.DGLHeteroGraph.in_edges(self, v, form='uv', etype=None)>,\n",
       "              'out_edges': <function dgl.heterograph.DGLHeteroGraph.out_edges(self, u, form='uv', etype=None)>,\n",
       "              'all_edges': <function dgl.heterograph.DGLHeteroGraph.all_edges(self, form='uv', order='eid', etype=None)>,\n",
       "              'in_degree': <function dgl.heterograph.DGLHeteroGraph.in_degree(self, v, etype=None)>,\n",
       "              'in_degrees': <function dgl.heterograph.DGLHeteroGraph.in_degrees(self, v='__ALL__', etype=None)>,\n",
       "              'out_degree': <function dgl.heterograph.DGLHeteroGraph.out_degree(self, u, etype=None)>,\n",
       "              'out_degrees': <function dgl.heterograph.DGLHeteroGraph.out_degrees(self, u='__ALL__', etype=None)>,\n",
       "              'adjacency_matrix': <function dgl.heterograph.DGLHeteroGraph.adjacency_matrix(self, transpose=True, ctx=device(type='cpu'), scipy_fmt=None, etype=None)>,\n",
       "              'adj': <function dgl.heterograph.DGLHeteroGraph.adj(self, transpose=True, ctx=device(type='cpu'), scipy_fmt=None, etype=None)>,\n",
       "              'adjacency_matrix_scipy': <function dgl.heterograph.DGLHeteroGraph.adjacency_matrix_scipy(self, transpose=True, fmt='csr', return_edge_ids=None)>,\n",
       "              'inc': <function dgl.heterograph.DGLHeteroGraph.inc(self, typestr, ctx=device(type='cpu'), etype=None)>,\n",
       "              'incidence_matrix': <function dgl.heterograph.DGLHeteroGraph.inc(self, typestr, ctx=device(type='cpu'), etype=None)>,\n",
       "              'node_attr_schemes': <function dgl.heterograph.DGLHeteroGraph.node_attr_schemes(self, ntype=None)>,\n",
       "              'edge_attr_schemes': <function dgl.heterograph.DGLHeteroGraph.edge_attr_schemes(self, etype=None)>,\n",
       "              'set_n_initializer': <function dgl.heterograph.DGLHeteroGraph.set_n_initializer(self, initializer, field=None, ntype=None)>,\n",
       "              'set_e_initializer': <function dgl.heterograph.DGLHeteroGraph.set_e_initializer(self, initializer, field=None, etype=None)>,\n",
       "              '_set_n_repr': <function dgl.heterograph.DGLHeteroGraph._set_n_repr(self, ntid, u, data)>,\n",
       "              '_get_n_repr': <function dgl.heterograph.DGLHeteroGraph._get_n_repr(self, ntid, u)>,\n",
       "              '_pop_n_repr': <function dgl.heterograph.DGLHeteroGraph._pop_n_repr(self, ntid, key)>,\n",
       "              '_set_e_repr': <function dgl.heterograph.DGLHeteroGraph._set_e_repr(self, etid, edges, data)>,\n",
       "              '_get_e_repr': <function dgl.heterograph.DGLHeteroGraph._get_e_repr(self, etid, edges)>,\n",
       "              '_pop_e_repr': <function dgl.heterograph.DGLHeteroGraph._pop_e_repr(self, etid, key)>,\n",
       "              'apply_nodes': <function dgl.heterograph.DGLHeteroGraph.apply_nodes(self, func, v='__ALL__', ntype=None, inplace=False)>,\n",
       "              'apply_edges': <function dgl.heterograph.DGLHeteroGraph.apply_edges(self, func, edges='__ALL__', etype=None, inplace=False)>,\n",
       "              'send_and_recv': <function dgl.heterograph.DGLHeteroGraph.send_and_recv(self, edges, message_func, reduce_func, apply_node_func=None, etype=None, inplace=False)>,\n",
       "              'pull': <function dgl.heterograph.DGLHeteroGraph.pull(self, v, message_func, reduce_func, apply_node_func=None, etype=None, inplace=False)>,\n",
       "              'push': <function dgl.heterograph.DGLHeteroGraph.push(self, u, message_func, reduce_func, apply_node_func=None, etype=None, inplace=False)>,\n",
       "              'update_all': <function dgl.heterograph.DGLHeteroGraph.update_all(self, message_func, reduce_func, apply_node_func=None, etype=None)>,\n",
       "              'multi_update_all': <function dgl.heterograph.DGLHeteroGraph.multi_update_all(self, etype_dict, cross_reducer, apply_node_func=None)>,\n",
       "              'prop_nodes': <function dgl.heterograph.DGLHeteroGraph.prop_nodes(self, nodes_generator, message_func, reduce_func, apply_node_func=None, etype=None)>,\n",
       "              'prop_edges': <function dgl.heterograph.DGLHeteroGraph.prop_edges(self, edges_generator, message_func, reduce_func, apply_node_func=None, etype=None)>,\n",
       "              'filter_nodes': <function dgl.heterograph.DGLHeteroGraph.filter_nodes(self, predicate, nodes='__ALL__', ntype=None)>,\n",
       "              'filter_edges': <function dgl.heterograph.DGLHeteroGraph.filter_edges(self, predicate, edges='__ALL__', etype=None)>,\n",
       "              'device': <property at 0x7f88fcddd810>,\n",
       "              'to': <function dgl.heterograph.DGLHeteroGraph.to(self, device, **kwargs)>,\n",
       "              'cpu': <function dgl.heterograph.DGLHeteroGraph.cpu(self)>,\n",
       "              'clone': <function dgl.heterograph.DGLHeteroGraph.clone(self)>,\n",
       "              'local_var': <function dgl.heterograph.DGLHeteroGraph.local_var(self)>,\n",
       "              'local_scope': <function dgl.heterograph.DGLHeteroGraph.local_scope(self)>,\n",
       "              'formats': <function dgl.heterograph.DGLHeteroGraph.formats(self, formats=None)>,\n",
       "              'create_format_': <function dgl.heterograph.DGLHeteroGraph.create_format_(self)>,\n",
       "              'astype': <function dgl.heterograph.DGLHeteroGraph.astype(self, idtype)>,\n",
       "              'shared_memory': <function dgl.heterograph.DGLHeteroGraph.shared_memory(self, name, formats=('coo', 'csr', 'csc'))>,\n",
       "              'long': <function dgl.heterograph.DGLHeteroGraph.long(self)>,\n",
       "              'int': <function dgl.heterograph.DGLHeteroGraph.int(self)>,\n",
       "              'from_networkx': <function dgl.heterograph.DGLHeteroGraph.from_networkx(self, nx_graph, node_attrs=None, edge_attrs=None)>,\n",
       "              'from_scipy_sparse_matrix': <function dgl.heterograph.DGLHeteroGraph.from_scipy_sparse_matrix(self, spmat, multigraph=None)>,\n",
       "              'register_apply_node_func': <function dgl.heterograph.DGLHeteroGraph.register_apply_node_func(self, func)>,\n",
       "              'register_apply_edge_func': <function dgl.heterograph.DGLHeteroGraph.register_apply_edge_func(self, func)>,\n",
       "              'register_message_func': <function dgl.heterograph.DGLHeteroGraph.register_message_func(self, func)>,\n",
       "              'register_reduce_func': <function dgl.heterograph.DGLHeteroGraph.register_reduce_func(self, func)>,\n",
       "              'group_apply_edges': <function dgl.heterograph.DGLHeteroGraph.group_apply_edges(self, group_by, func, edges='__ALL__', etype=None, inplace=False)>,\n",
       "              'send': <function dgl.heterograph.DGLHeteroGraph.send(self, edges, message_func, etype=None)>,\n",
       "              'recv': <function dgl.heterograph.DGLHeteroGraph.recv(self, v, reduce_func, apply_node_func=None, etype=None, inplace=False)>,\n",
       "              'multi_recv': <function dgl.heterograph.DGLHeteroGraph.multi_recv(self, v, reducer_dict, cross_reducer, apply_node_func=None, inplace=False)>,\n",
       "              'multi_send_and_recv': <function dgl.heterograph.DGLHeteroGraph.multi_send_and_recv(self, etype_dict, cross_reducer, apply_node_func=None, inplace=False)>,\n",
       "              'multi_pull': <function dgl.heterograph.DGLHeteroGraph.multi_pull(self, v, etype_dict, cross_reducer, apply_node_func=None, inplace=False)>,\n",
       "              'readonly': <function dgl.heterograph.DGLHeteroGraph.readonly(self, readonly_state=True)>,\n",
       "              '__dict__': <attribute '__dict__' of 'DGLHeteroGraph' objects>,\n",
       "              '__weakref__': <attribute '__weakref__' of 'DGLHeteroGraph' objects>,\n",
       "              'to_networkx': <function dgl.convert.to_networkx(g, node_attrs=None, edge_attrs=None)>,\n",
       "              'line_graph': <function dgl.transform.line_graph(g, backtracking=True, shared=False)>,\n",
       "              'reverse': <function dgl.transform.reverse(g, copy_ndata=True, copy_edata=False, *, share_ndata=None, share_edata=None)>,\n",
       "              'add_self_loop': <function dgl.transform.add_self_loop(g, etype=None)>,\n",
       "              'remove_self_loop': <function dgl.transform.remove_self_loop(g, etype=None)>,\n",
       "              'to_simple': <function dgl.transform.to_simple(g, return_counts='count', writeback_mapping=False, copy_ndata=True, copy_edata=False)>,\n",
       "              'subgraph': <function dgl.subgraph.node_subgraph(graph, nodes)>,\n",
       "              'edge_subgraph': <function dgl.subgraph.edge_subgraph(graph, edges, preserve_nodes=False)>,\n",
       "              'in_subgraph': <function dgl.subgraph.in_subgraph(g, nodes)>,\n",
       "              'out_subgraph': <function dgl.subgraph.out_subgraph(g, nodes)>,\n",
       "              'node_type_subgraph': <function dgl.subgraph.node_type_subgraph(graph, ntypes)>,\n",
       "              'edge_type_subgraph': <function dgl.subgraph.edge_type_subgraph(graph, etypes)>})"
      ]
     },
     "execution_count": 238,
     "metadata": {},
     "output_type": "execute_result"
    }
   ],
   "source": [
    "dgl.DGLGraph.__dict__"
   ]
  },
  {
   "cell_type": "code",
   "execution_count": 239,
   "metadata": {},
   "outputs": [
    {
     "name": "stdout",
     "output_type": "stream",
     "text": [
      "Graph(num_nodes=4, num_edges=4,\n",
      "      ndata_schemes={}\n",
      "      edata_schemes={})\n"
     ]
    }
   ],
   "source": [
    "import torch as th\n",
    "u, v = th.tensor([0, 0, 0, 1]), th.tensor([1, 2, 3, 3])\n",
    "g = dgl.graph((u, v))\n",
    "print(g) "
   ]
  },
  {
   "cell_type": "code",
   "execution_count": 240,
   "metadata": {},
   "outputs": [
    {
     "name": "stdout",
     "output_type": "stream",
     "text": [
      "tensor([0, 1, 2, 3])\n"
     ]
    }
   ],
   "source": [
    "print(g.nodes())"
   ]
  },
  {
   "cell_type": "code",
   "execution_count": 241,
   "metadata": {},
   "outputs": [
    {
     "name": "stdout",
     "output_type": "stream",
     "text": [
      "(tensor([0, 0, 0, 1]), tensor([1, 2, 3, 3]))\n"
     ]
    }
   ],
   "source": [
    "print(g.edges())"
   ]
  },
  {
   "cell_type": "code",
   "execution_count": 242,
   "metadata": {},
   "outputs": [
    {
     "name": "stdout",
     "output_type": "stream",
     "text": [
      "(tensor([0, 0, 0, 1]), tensor([1, 2, 3, 3]), tensor([0, 1, 2, 3]))\n"
     ]
    }
   ],
   "source": [
    "print(g.edges(form='all'))"
   ]
  },
  {
   "cell_type": "code",
   "execution_count": 243,
   "metadata": {},
   "outputs": [],
   "source": [
    "g = dgl.graph((u, v), num_nodes=8)"
   ]
  },
  {
   "cell_type": "code",
   "execution_count": 244,
   "metadata": {},
   "outputs": [],
   "source": [
    "bg = dgl.to_bidirected(g)"
   ]
  },
  {
   "cell_type": "code",
   "execution_count": 245,
   "metadata": {},
   "outputs": [
    {
     "data": {
      "text/plain": [
       "(tensor([0, 0, 0, 1, 1, 2, 3, 3]), tensor([1, 2, 3, 0, 3, 0, 0, 1]))"
      ]
     },
     "execution_count": 245,
     "metadata": {},
     "output_type": "execute_result"
    }
   ],
   "source": [
    "bg.edges()"
   ]
  },
  {
   "cell_type": "code",
   "execution_count": 246,
   "metadata": {},
   "outputs": [
    {
     "name": "stdout",
     "output_type": "stream",
     "text": [
      "torch.int64\n"
     ]
    }
   ],
   "source": [
    "edges=th.tensor([2,5,3]),th.tensor([3,5,0])\n",
    "g64=dgl.graph(edges)\n",
    "print(g64.idtype)"
   ]
  },
  {
   "cell_type": "code",
   "execution_count": 247,
   "metadata": {},
   "outputs": [
    {
     "data": {
      "text/plain": [
       "torch.int32"
      ]
     },
     "execution_count": 247,
     "metadata": {},
     "output_type": "execute_result"
    }
   ],
   "source": [
    "g32=dgl.graph(edges,idtype=th.int32)\n",
    "g32.idtype"
   ]
  },
  {
   "cell_type": "code",
   "execution_count": 248,
   "metadata": {},
   "outputs": [
    {
     "data": {
      "text/plain": [
       "torch.int64"
      ]
     },
     "execution_count": 248,
     "metadata": {},
     "output_type": "execute_result"
    }
   ],
   "source": [
    "g64_2=g32.long()\n",
    "g64_2.idtype"
   ]
  },
  {
   "cell_type": "code",
   "execution_count": 249,
   "metadata": {},
   "outputs": [
    {
     "data": {
      "text/plain": [
       "torch.int32"
      ]
     },
     "execution_count": 249,
     "metadata": {},
     "output_type": "execute_result"
    }
   ],
   "source": [
    "g32_2=g64.int()\n",
    "g32_2.idtype"
   ]
  },
  {
   "cell_type": "code",
   "execution_count": 250,
   "metadata": {},
   "outputs": [
    {
     "data": {
      "text/plain": [
       "dgl.heterograph.DGLHeteroGraph"
      ]
     },
     "execution_count": 250,
     "metadata": {},
     "output_type": "execute_result"
    }
   ],
   "source": [
    "g=dgl.graph(([0,0,1,5],[1,2,2,0]))\n",
    "type(g)"
   ]
  },
  {
   "cell_type": "code",
   "execution_count": 251,
   "metadata": {},
   "outputs": [],
   "source": [
    "g.ndata['x']=th.ones(g.num_nodes(),3)\n",
    "g.edata['x']=th.ones(g.num_edges(),dtype=th.int32)"
   ]
  },
  {
   "cell_type": "code",
   "execution_count": 252,
   "metadata": {},
   "outputs": [
    {
     "data": {
      "text/plain": [
       "Graph(num_nodes=6, num_edges=4,\n",
       "      ndata_schemes={'x': Scheme(shape=(3,), dtype=torch.float32)}\n",
       "      edata_schemes={'x': Scheme(shape=(), dtype=torch.int32)})"
      ]
     },
     "execution_count": 252,
     "metadata": {},
     "output_type": "execute_result"
    }
   ],
   "source": [
    "g"
   ]
  },
  {
   "cell_type": "code",
   "execution_count": 253,
   "metadata": {},
   "outputs": [
    {
     "data": {
      "text/plain": [
       "tensor([[1., 1., 1.],\n",
       "        [1., 1., 1.]])"
      ]
     },
     "execution_count": 253,
     "metadata": {},
     "output_type": "execute_result"
    }
   ],
   "source": [
    "g.ndata['y']=th.randn(g.num_nodes(),5)\n",
    "g.ndata['x'][[1,3]]\n",
    "#特征张量使用”行优先”的原则，即每个行切片储存1个节点或1条边的特征"
   ]
  },
  {
   "cell_type": "code",
   "execution_count": 254,
   "metadata": {},
   "outputs": [
    {
     "data": {
      "text/plain": [
       "tensor([1, 1], dtype=torch.int32)"
      ]
     },
     "execution_count": 254,
     "metadata": {},
     "output_type": "execute_result"
    }
   ],
   "source": [
    "g.edata['x'][th.tensor([0,3])]"
   ]
  },
  {
   "cell_type": "code",
   "execution_count": 255,
   "metadata": {},
   "outputs": [
    {
     "data": {
      "text/plain": [
       "Graph(num_nodes=4, num_edges=4,\n",
       "      ndata_schemes={}\n",
       "      edata_schemes={'w': Scheme(shape=(), dtype=torch.float32)})"
      ]
     },
     "execution_count": 255,
     "metadata": {},
     "output_type": "execute_result"
    }
   ],
   "source": [
    "# 边 0->1, 0->2, 0->3, 1->3\n",
    "edges = th.tensor([0, 0, 0, 1]), th.tensor([1, 2, 3, 3])\n",
    "weights = th.tensor([0.1, 0.6, 0.9, 0.7])  # 每条边的权重\n",
    "g = dgl.graph(edges)\n",
    "g.edata['w'] = weights  # 将其命名为 'w'\n",
    "g"
   ]
  },
  {
   "cell_type": "code",
   "execution_count": 256,
   "metadata": {},
   "outputs": [],
   "source": [
    "import scipy.sparse as sp"
   ]
  },
  {
   "cell_type": "code",
   "execution_count": 257,
   "metadata": {},
   "outputs": [
    {
     "data": {
      "text/plain": [
       "Graph(num_nodes=100, num_edges=500,\n",
       "      ndata_schemes={}\n",
       "      edata_schemes={})"
      ]
     },
     "execution_count": 257,
     "metadata": {},
     "output_type": "execute_result"
    }
   ],
   "source": [
    "# 稀疏矩阵\n",
    "spmat = sp.rand(100, 100, density=0.05) # 5%非零项\n",
    "dgl.from_scipy(spmat)                   # 来自SciPy"
   ]
  },
  {
   "cell_type": "code",
   "execution_count": 258,
   "metadata": {},
   "outputs": [
    {
     "name": "stdout",
     "output_type": "stream",
     "text": [
      "  (34, 83)\t0.07939921311767872\n",
      "  (50, 5)\t0.6227385627651911\n",
      "  (87, 82)\t0.5553487742207279\n",
      "  (92, 97)\t0.06098421964044476\n",
      "  (15, 24)\t0.49925163914381887\n",
      "  (54, 64)\t0.388647090163485\n",
      "  (39, 73)\t0.7753539913160398\n",
      "  (14, 92)\t0.41355906179960433\n",
      "  (29, 6)\t0.5956792212305867\n",
      "  (91, 66)\t0.9044212992084206\n",
      "  (17, 77)\t0.5728680397455964\n",
      "  (85, 80)\t0.41354825592298705\n",
      "  (27, 96)\t0.254177969334771\n",
      "  (45, 56)\t0.97028093327497\n",
      "  (72, 10)\t0.9183660125262597\n",
      "  (25, 6)\t0.7129011207218053\n",
      "  (25, 26)\t0.7482871429754023\n",
      "  (43, 78)\t0.9584877017716043\n",
      "  (57, 59)\t0.03887762957940866\n",
      "  (28, 28)\t0.31626862964396574\n",
      "  (32, 69)\t0.02490519583322348\n",
      "  (42, 61)\t0.07908657968514843\n",
      "  (32, 60)\t0.35210260209303\n",
      "  (52, 76)\t0.5609684413975489\n",
      "  (33, 30)\t0.8628692600742043\n",
      "  :\t:\n",
      "  (53, 97)\t0.5111141780402435\n",
      "  (64, 44)\t0.37825000140161524\n",
      "  (95, 9)\t0.7507554150024993\n",
      "  (72, 87)\t0.5014528583971822\n",
      "  (93, 14)\t0.9346126360005846\n",
      "  (22, 32)\t0.9594238849106653\n",
      "  (40, 2)\t0.8974940558343383\n",
      "  (48, 19)\t0.9059740286586647\n",
      "  (73, 6)\t0.09984158944728505\n",
      "  (18, 29)\t0.9872094237516434\n",
      "  (46, 36)\t0.8650303639488482\n",
      "  (78, 96)\t0.19599816557460892\n",
      "  (76, 34)\t0.7608357664226464\n",
      "  (29, 45)\t0.7189311235564313\n",
      "  (61, 32)\t0.8905812671240196\n",
      "  (85, 35)\t0.9458173996130987\n",
      "  (12, 43)\t0.44014046121441674\n",
      "  (92, 36)\t0.44398581923149283\n",
      "  (23, 11)\t0.7763295005109389\n",
      "  (39, 97)\t0.2663909104263328\n",
      "  (94, 92)\t0.9530698519534587\n",
      "  (26, 95)\t0.28332027498808177\n",
      "  (85, 53)\t0.44237093525601046\n",
      "  (58, 75)\t0.13728214866708466\n",
      "  (32, 32)\t0.6797192821883685\n"
     ]
    }
   ],
   "source": [
    "print(spmat)"
   ]
  },
  {
   "cell_type": "code",
   "execution_count": 259,
   "metadata": {},
   "outputs": [
    {
     "data": {
      "text/plain": [
       "Graph(num_nodes=5, num_edges=8,\n",
       "      ndata_schemes={}\n",
       "      edata_schemes={})"
      ]
     },
     "execution_count": 259,
     "metadata": {},
     "output_type": "execute_result"
    }
   ],
   "source": [
    "# networkx \n",
    "import networkx as nx\n",
    "nx_g = nx.path_graph(5) # 一条链路0-1-2-3-4\n",
    "dgl.from_networkx(nx_g) # 来自NetworkX"
   ]
  },
  {
   "cell_type": "code",
   "execution_count": 260,
   "metadata": {},
   "outputs": [
    {
     "data": {
      "image/png": "[encoded data removed]",
      "text/plain": [
       "<Figure size 640x480 with 1 Axes>"
      ]
     },
     "metadata": {},
     "output_type": "display_data"
    }
   ],
   "source": [
    "nx.draw(nx_g)"
   ]
  },
  {
   "cell_type": "code",
   "execution_count": 261,
   "metadata": {},
   "outputs": [
    {
     "data": {
      "text/plain": [
       "Graph(num_nodes=4, num_edges=4,\n",
       "      ndata_schemes={}\n",
       "      edata_schemes={})"
      ]
     },
     "execution_count": 261,
     "metadata": {},
     "output_type": "execute_result"
    }
   ],
   "source": [
    "nxg = nx.DiGraph([(2, 1), (1, 2), (2, 3), (0, 0)])\n",
    "dgl.from_networkx(nxg)"
   ]
  },
  {
   "cell_type": "code",
   "execution_count": 262,
   "metadata": {},
   "outputs": [
    {
     "data": {
      "image/png": "[encoded data removed]",
      "text/plain": [
       "<Figure size 640x480 with 1 Axes>"
      ]
     },
     "metadata": {},
     "output_type": "display_data"
    }
   ],
   "source": [
    "nx.draw(nxg)"
   ]
  },
  {
   "cell_type": "code",
   "execution_count": 263,
   "metadata": {},
   "outputs": [
    {
     "data": {
      "text/plain": [
       "['disease', 'drug', 'gene']"
      ]
     },
     "execution_count": 263,
     "metadata": {},
     "output_type": "execute_result"
    }
   ],
   "source": [
    "# 异构图\n",
    "graph_data = {\n",
    "   ('drug', 'interacts', 'drug'): (th.tensor([0, 1]), th.tensor([1, 2])),\n",
    "   ('drug', 'interacts', 'gene'): (th.tensor([0, 1]), th.tensor([2, 3])),\n",
    "   ('drug', 'treats', 'disease'): (th.tensor([1]), th.tensor([2]))\n",
    "}\n",
    "g = dgl.heterograph(graph_data)\n",
    "g.ntypes"
   ]
  },
  {
   "cell_type": "code",
   "execution_count": 264,
   "metadata": {},
   "outputs": [
    {
     "data": {
      "text/plain": [
       "['interacts', 'interacts', 'treats']"
      ]
     },
     "execution_count": 264,
     "metadata": {},
     "output_type": "execute_result"
    }
   ],
   "source": [
    "g.etypes"
   ]
  },
  {
   "cell_type": "code",
   "execution_count": 265,
   "metadata": {},
   "outputs": [
    {
     "data": {
      "text/plain": [
       "[('drug', 'interacts', 'drug'),\n",
       " ('drug', 'interacts', 'gene'),\n",
       " ('drug', 'treats', 'disease')]"
      ]
     },
     "execution_count": 265,
     "metadata": {},
     "output_type": "execute_result"
    }
   ],
   "source": [
    "g.canonical_etypes"
   ]
  },
  {
   "cell_type": "code",
   "execution_count": 266,
   "metadata": {},
   "outputs": [
    {
     "data": {
      "text/plain": [
       "Graph(num_nodes={'destination_type': 4, 'source_type': 2},\n",
       "      num_edges={('source_type', 'edge_type', 'destination_type'): 4},\n",
       "      metagraph=[('source_type', 'destination_type', 'edge_type')])"
      ]
     },
     "execution_count": 266,
     "metadata": {},
     "output_type": "execute_result"
    }
   ],
   "source": [
    "# 一个同构图\n",
    "dgl.heterograph({('node_type', 'edge_type', 'node_type'): (u, v)})\n",
    "# 一个二分图\n",
    "dgl.heterograph({('source_type', 'edge_type', 'destination_type'): (u, v)})"
   ]
  },
  {
   "cell_type": "code",
   "execution_count": 267,
   "metadata": {},
   "outputs": [
    {
     "data": {
      "text/plain": [
       "Graph(num_nodes={'disease': 3, 'drug': 3, 'gene': 4},\n",
       "      num_edges={('drug', 'interacts', 'drug'): 2, ('drug', 'interacts', 'gene'): 2, ('drug', 'treats', 'disease'): 1},\n",
       "      metagraph=[('drug', 'drug', 'interacts'), ('drug', 'gene', 'interacts'), ('drug', 'disease', 'treats')])"
      ]
     },
     "execution_count": 267,
     "metadata": {},
     "output_type": "execute_result"
    }
   ],
   "source": [
    "g"
   ]
  },
  {
   "cell_type": "code",
   "execution_count": 268,
   "metadata": {},
   "outputs": [
    {
     "data": {
      "text/plain": [
       "OutMultiEdgeDataView([('drug', 'drug'), ('drug', 'gene'), ('drug', 'disease')])"
      ]
     },
     "execution_count": 268,
     "metadata": {},
     "output_type": "execute_result"
    }
   ],
   "source": [
    "g.metagraph().edges()"
   ]
  },
  {
   "cell_type": "code",
   "execution_count": 269,
   "metadata": {},
   "outputs": [
    {
     "data": {
      "text/plain": [
       "10"
      ]
     },
     "execution_count": 269,
     "metadata": {},
     "output_type": "execute_result"
    }
   ],
   "source": [
    "g.num_nodes()"
   ]
  },
  {
   "cell_type": "code",
   "execution_count": 270,
   "metadata": {},
   "outputs": [
    {
     "data": {
      "text/plain": [
       "3"
      ]
     },
     "execution_count": 270,
     "metadata": {},
     "output_type": "execute_result"
    }
   ],
   "source": [
    "g.num_nodes('drug')"
   ]
  },
  {
   "cell_type": "code",
   "execution_count": 271,
   "metadata": {},
   "outputs": [],
   "source": [
    "g.nodes['drug'].data['hv']=th.ones(3,1)"
   ]
  },
  {
   "cell_type": "code",
   "execution_count": 272,
   "metadata": {},
   "outputs": [
    {
     "data": {
      "text/plain": [
       "tensor([[1.],\n",
       "        [1.],\n",
       "        [1.]])"
      ]
     },
     "execution_count": 272,
     "metadata": {},
     "output_type": "execute_result"
    }
   ],
   "source": [
    "g.nodes['drug'].data['hv']"
   ]
  },
  {
   "cell_type": "code",
   "execution_count": 273,
   "metadata": {},
   "outputs": [
    {
     "data": {
      "text/plain": [
       "tensor([[0.]])"
      ]
     },
     "execution_count": 273,
     "metadata": {},
     "output_type": "execute_result"
    }
   ],
   "source": [
    "g.edges['treats'].data['he']=th.zeros(1,1)\n",
    "g.edges['treats'].data['he']"
   ]
  },
  {
   "cell_type": "code",
   "execution_count": 274,
   "metadata": {},
   "outputs": [],
   "source": [
    "g = dgl.heterograph({\n",
    "   ('drug', 'interacts', 'drug'): (th.tensor([0, 1]), th.tensor([1, 2])),\n",
    "   ('drug', 'is similar', 'drug'): (th.tensor([0, 1]), th.tensor([2, 3]))\n",
    "})"
   ]
  },
  {
   "cell_type": "code",
   "execution_count": 275,
   "metadata": {},
   "outputs": [
    {
     "data": {
      "text/plain": [
       "tensor([0, 1, 2, 3])"
      ]
     },
     "execution_count": 275,
     "metadata": {},
     "output_type": "execute_result"
    }
   ],
   "source": [
    "g.nodes()"
   ]
  },
  {
   "cell_type": "code",
   "execution_count": 276,
   "metadata": {},
   "outputs": [],
   "source": [
    "g.ndata['hv']=th.ones(4,1)"
   ]
  },
  {
   "cell_type": "code",
   "execution_count": 277,
   "metadata": {},
   "outputs": [],
   "source": [
    "g = dgl.heterograph({\n",
    "   ('drug', 'interacts', 'drug'): (th.tensor([0, 1]), th.tensor([1, 2])),\n",
    "   ('drug', 'interacts', 'gene'): (th.tensor([0, 1]), th.tensor([2, 3])),\n",
    "   ('drug', 'treats', 'disease'): (th.tensor([1]), th.tensor([2]))\n",
    "})"
   ]
  },
  {
   "cell_type": "code",
   "execution_count": 278,
   "metadata": {},
   "outputs": [],
   "source": [
    "g.nodes['drug'].data['hv'] = th.ones(3, 1)"
   ]
  },
  {
   "cell_type": "code",
   "execution_count": 279,
   "metadata": {},
   "outputs": [
    {
     "data": {
      "text/plain": [
       "Graph(num_nodes={'disease': 3, 'drug': 3, 'gene': 4},\n",
       "      num_edges={('drug', 'interacts', 'drug'): 2, ('drug', 'interacts', 'gene'): 2, ('drug', 'treats', 'disease'): 1},\n",
       "      metagraph=[('drug', 'drug', 'interacts'), ('drug', 'gene', 'interacts'), ('drug', 'disease', 'treats')])"
      ]
     },
     "execution_count": 279,
     "metadata": {},
     "output_type": "execute_result"
    }
   ],
   "source": [
    "g"
   ]
  },
  {
   "cell_type": "code",
   "execution_count": 280,
   "metadata": {},
   "outputs": [
    {
     "data": {
      "text/plain": [
       "Graph(num_nodes={'disease': 3, 'drug': 3},\n",
       "      num_edges={('drug', 'interacts', 'drug'): 2, ('drug', 'treats', 'disease'): 1},\n",
       "      metagraph=[('drug', 'drug', 'interacts'), ('drug', 'disease', 'treats')])"
      ]
     },
     "execution_count": 280,
     "metadata": {},
     "output_type": "execute_result"
    }
   ],
   "source": [
    "eg = dgl.edge_type_subgraph(g, [('drug', 'interacts', 'drug'),\n",
    "                                ('drug', 'treats', 'disease')])\n",
    "eg"
   ]
  },
  {
   "cell_type": "code",
   "execution_count": 281,
   "metadata": {},
   "outputs": [
    {
     "data": {
      "text/plain": [
       "tensor([[1.],\n",
       "        [1.],\n",
       "        [1.]])"
      ]
     },
     "execution_count": 281,
     "metadata": {},
     "output_type": "execute_result"
    }
   ],
   "source": [
    "eg.nodes['drug'].data['hv']"
   ]
  },
  {
   "cell_type": "code",
   "execution_count": 282,
   "metadata": {},
   "outputs": [],
   "source": [
    "g = dgl.heterograph({\n",
    "   ('drug', 'interacts', 'drug'): (th.tensor([0, 1]), th.tensor([1, 2])),\n",
    "   ('drug', 'treats', 'disease'): (th.tensor([1]), th.tensor([2]))})"
   ]
  },
  {
   "cell_type": "code",
   "execution_count": 283,
   "metadata": {},
   "outputs": [],
   "source": [
    "g.nodes['drug'].data['hv'] = th.zeros(3, 1)\n",
    "g.nodes['disease'].data['hv'] = th.ones(3, 1)\n",
    "g.edges['interacts'].data['he'] = th.zeros(2, 1)\n",
    "g.edges['treats'].data['he'] = th.zeros(1, 2)"
   ]
  },
  {
   "cell_type": "code",
   "execution_count": 284,
   "metadata": {},
   "outputs": [],
   "source": [
    "hg=dgl.to_homogeneous(g)"
   ]
  },
  {
   "cell_type": "code",
   "execution_count": 285,
   "metadata": {},
   "outputs": [
    {
     "data": {
      "text/plain": [
       "False"
      ]
     },
     "execution_count": 285,
     "metadata": {},
     "output_type": "execute_result"
    }
   ],
   "source": [
    "'hv' in hg.ndata"
   ]
  },
  {
   "cell_type": "code",
   "execution_count": 286,
   "metadata": {},
   "outputs": [
    {
     "ename": "DGLError",
     "evalue": "Cannot concatenate column he with shape Scheme(shape=(2,), dtype=torch.float32) and shape Scheme(shape=(1,), dtype=torch.float32)",
     "output_type": "error",
     "traceback": [
      "\u001b[0;31m---------------------------------------------------------------------------\u001b[0m",
      "\u001b[0;31mDGLError\u001b[0m                                  Traceback (most recent call last)",
      "\u001b[1;32m/home/suzhang/git/GNN/GCC-master_copy/dglgraph.ipynb Cell 91\u001b[0m in \u001b[0;36m<cell line: 1>\u001b[0;34m()\u001b[0m\n\u001b[0;32m----> <a href='vscode-notebook-cell://ssh-remote%2Bximi/home/suzhang/git/GNN/GCC-master_copy/dglgraph.ipynb#Y156sdnNjb2RlLXJlbW90ZQ%3D%3D?line=0'>1</a>\u001b[0m hg \u001b[39m=\u001b[39m dgl\u001b[39m.\u001b[39;49mto_homogeneous(g, edata\u001b[39m=\u001b[39;49m[\u001b[39m'\u001b[39;49m\u001b[39mhe\u001b[39;49m\u001b[39m'\u001b[39;49m])\n",
      "File \u001b[0;32m~/anaconda3/envs/gccplnlp/lib/python3.8/site-packages/dgl/convert.py:666\u001b[0m, in \u001b[0;36mto_homogeneous\u001b[0;34m(G, ndata, edata)\u001b[0m\n\u001b[1;32m    664\u001b[0m     edata \u001b[39m=\u001b[39m []\n\u001b[1;32m    665\u001b[0m comb_nf \u001b[39m=\u001b[39m combine_frames(G\u001b[39m.\u001b[39m_node_frames, \u001b[39mrange\u001b[39m(\u001b[39mlen\u001b[39m(G\u001b[39m.\u001b[39mntypes)), col_names\u001b[39m=\u001b[39mndata)\n\u001b[0;32m--> 666\u001b[0m comb_ef \u001b[39m=\u001b[39m combine_frames(G\u001b[39m.\u001b[39;49m_edge_frames, \u001b[39mrange\u001b[39;49m(\u001b[39mlen\u001b[39;49m(G\u001b[39m.\u001b[39;49metypes)), col_names\u001b[39m=\u001b[39;49medata)\n\u001b[1;32m    667\u001b[0m \u001b[39mif\u001b[39;00m comb_nf \u001b[39mis\u001b[39;00m \u001b[39mnot\u001b[39;00m \u001b[39mNone\u001b[39;00m:\n\u001b[1;32m    668\u001b[0m     retg\u001b[39m.\u001b[39mndata\u001b[39m.\u001b[39mupdate(comb_nf)\n",
      "File \u001b[0;32m~/anaconda3/envs/gccplnlp/lib/python3.8/site-packages/dgl/heterograph.py:5726\u001b[0m, in \u001b[0;36mcombine_frames\u001b[0;34m(frames, ids, col_names)\u001b[0m\n\u001b[1;32m   5724\u001b[0m \u001b[39mif\u001b[39;00m key \u001b[39min\u001b[39;00m frame\u001b[39m.\u001b[39mschemes:\n\u001b[1;32m   5725\u001b[0m     \u001b[39mif\u001b[39;00m frame\u001b[39m.\u001b[39mschemes[key] \u001b[39m!=\u001b[39m scheme:\n\u001b[0;32m-> 5726\u001b[0m         \u001b[39mraise\u001b[39;00m DGLError(\u001b[39m'\u001b[39m\u001b[39mCannot concatenate column \u001b[39m\u001b[39m%s\u001b[39;00m\u001b[39m with shape \u001b[39m\u001b[39m%s\u001b[39;00m\u001b[39m and shape \u001b[39m\u001b[39m%s\u001b[39;00m\u001b[39m'\u001b[39m \u001b[39m%\u001b[39m\n\u001b[1;32m   5727\u001b[0m                        (key, frame\u001b[39m.\u001b[39mschemes[key], scheme))\n\u001b[1;32m   5728\u001b[0m \u001b[39melse\u001b[39;00m:\n\u001b[1;32m   5729\u001b[0m     \u001b[39mdel\u001b[39;00m schemes[key]\n",
      "\u001b[0;31mDGLError\u001b[0m: Cannot concatenate column he with shape Scheme(shape=(2,), dtype=torch.float32) and shape Scheme(shape=(1,), dtype=torch.float32)"
     ]
    }
   ],
   "source": [
    "hg = dgl.to_homogeneous(g, edata=['he'])\n",
    "# 对于要拷贝的特征，DGL假定不同类型的节点或边的需要合并的特征具有相同的大小和数据类型"
   ]
  },
  {
   "cell_type": "code",
   "execution_count": 287,
   "metadata": {},
   "outputs": [
    {
     "data": {
      "text/plain": [
       "tensor([[1.],\n",
       "        [1.],\n",
       "        [1.],\n",
       "        [0.],\n",
       "        [0.],\n",
       "        [0.]])"
      ]
     },
     "execution_count": 287,
     "metadata": {},
     "output_type": "execute_result"
    }
   ],
   "source": [
    "hg = dgl.to_homogeneous(g, ndata=['hv'])\n",
    "hg.ndata['hv']"
   ]
  },
  {
   "cell_type": "code",
   "execution_count": 288,
   "metadata": {},
   "outputs": [
    {
     "data": {
      "text/plain": [
       "'_TYPE'"
      ]
     },
     "execution_count": 288,
     "metadata": {},
     "output_type": "execute_result"
    }
   ],
   "source": [
    "dgl.NTYPE"
   ]
  },
  {
   "cell_type": "code",
   "execution_count": 289,
   "metadata": {},
   "outputs": [
    {
     "data": {
      "text/plain": [
       "['disease', 'drug']"
      ]
     },
     "execution_count": 289,
     "metadata": {},
     "output_type": "execute_result"
    }
   ],
   "source": [
    "g.ntypes"
   ]
  },
  {
   "cell_type": "code",
   "execution_count": 290,
   "metadata": {},
   "outputs": [
    {
     "data": {
      "text/plain": [
       "tensor([0, 0, 0, 1, 1, 1])"
      ]
     },
     "execution_count": 290,
     "metadata": {},
     "output_type": "execute_result"
    }
   ],
   "source": [
    "hg.ndata[dgl.NTYPE]"
   ]
  },
  {
   "cell_type": "code",
   "execution_count": 291,
   "metadata": {},
   "outputs": [
    {
     "data": {
      "text/plain": [
       "tensor([0, 1, 2, 0, 1, 2])"
      ]
     },
     "execution_count": 291,
     "metadata": {},
     "output_type": "execute_result"
    }
   ],
   "source": [
    "hg.ndata[dgl.NID]"
   ]
  },
  {
   "cell_type": "code",
   "execution_count": 292,
   "metadata": {},
   "outputs": [
    {
     "data": {
      "text/plain": [
       "{'hv': tensor([[1.],\n",
       "        [1.],\n",
       "        [1.],\n",
       "        [0.],\n",
       "        [0.],\n",
       "        [0.]]), '_TYPE': tensor([0, 0, 0, 1, 1, 1]), '_ID': tensor([0, 1, 2, 0, 1, 2])}"
      ]
     },
     "execution_count": 292,
     "metadata": {},
     "output_type": "execute_result"
    }
   ],
   "source": [
    "hg.ndata"
   ]
  },
  {
   "cell_type": "code",
   "execution_count": 293,
   "metadata": {},
   "outputs": [
    {
     "data": {
      "text/plain": [
       "Graph(num_nodes=6, num_edges=3,\n",
       "      ndata_schemes={'hv': Scheme(shape=(1,), dtype=torch.float32), '_TYPE': Scheme(shape=(), dtype=torch.int64), '_ID': Scheme(shape=(), dtype=torch.int64)}\n",
       "      edata_schemes={'_TYPE': Scheme(shape=(), dtype=torch.int64), '_ID': Scheme(shape=(), dtype=torch.int64)})"
      ]
     },
     "execution_count": 293,
     "metadata": {},
     "output_type": "execute_result"
    }
   ],
   "source": [
    "hg"
   ]
  },
  {
   "cell_type": "code",
   "execution_count": 294,
   "metadata": {},
   "outputs": [
    {
     "data": {
      "text/plain": [
       "'_TYPE'"
      ]
     },
     "execution_count": 294,
     "metadata": {},
     "output_type": "execute_result"
    }
   ],
   "source": [
    "dgl.ETYPE"
   ]
  },
  {
   "cell_type": "code",
   "execution_count": 295,
   "metadata": {},
   "outputs": [
    {
     "data": {
      "text/plain": [
       "['_N']"
      ]
     },
     "execution_count": 295,
     "metadata": {},
     "output_type": "execute_result"
    }
   ],
   "source": [
    "hg.ntypes"
   ]
  },
  {
   "cell_type": "code",
   "execution_count": 296,
   "metadata": {},
   "outputs": [
    {
     "data": {
      "text/plain": [
       "tensor([0, 0, 0, 1, 1, 1])"
      ]
     },
     "execution_count": 296,
     "metadata": {},
     "output_type": "execute_result"
    }
   ],
   "source": [
    "hg.ndata[dgl.NTYPE]"
   ]
  },
  {
   "cell_type": "code",
   "execution_count": 297,
   "metadata": {},
   "outputs": [
    {
     "data": {
      "image/png": "[encoded data removed]",
      "text/plain": [
       "<Figure size 640x480 with 1 Axes>"
      ]
     },
     "metadata": {},
     "output_type": "display_data"
    }
   ],
   "source": [
    "nx.draw(hg.to_networkx(),with_labels=True)"
   ]
  },
  {
   "cell_type": "code",
   "execution_count": 298,
   "metadata": {},
   "outputs": [
    {
     "data": {
      "text/plain": [
       "{'hv': tensor([[1.],\n",
       "        [1.],\n",
       "        [1.],\n",
       "        [0.],\n",
       "        [0.],\n",
       "        [0.]]), '_TYPE': tensor([0, 0, 0, 1, 1, 1]), '_ID': tensor([0, 1, 2, 0, 1, 2])}"
      ]
     },
     "execution_count": 298,
     "metadata": {},
     "output_type": "execute_result"
    }
   ],
   "source": [
    "hg.ndata"
   ]
  },
  {
   "cell_type": "code",
   "execution_count": 299,
   "metadata": {},
   "outputs": [
    {
     "data": {
      "text/plain": [
       "tensor([0, 1, 2, 0, 1, 2])"
      ]
     },
     "execution_count": 299,
     "metadata": {},
     "output_type": "execute_result"
    }
   ],
   "source": [
    "hg.ndata[dgl.NID]"
   ]
  },
  {
   "cell_type": "code",
   "execution_count": 300,
   "metadata": {},
   "outputs": [
    {
     "data": {
      "text/plain": [
       "['interacts', 'treats']"
      ]
     },
     "execution_count": 300,
     "metadata": {},
     "output_type": "execute_result"
    }
   ],
   "source": [
    "g.etypes"
   ]
  },
  {
   "cell_type": "code",
   "execution_count": 301,
   "metadata": {},
   "outputs": [
    {
     "data": {
      "text/plain": [
       "{'_TYPE': tensor([0, 0, 1]), '_ID': tensor([0, 1, 0])}"
      ]
     },
     "execution_count": 301,
     "metadata": {},
     "output_type": "execute_result"
    }
   ],
   "source": [
    "hg.edata"
   ]
  },
  {
   "cell_type": "code",
   "execution_count": 302,
   "metadata": {},
   "outputs": [
    {
     "data": {
      "text/plain": [
       "tensor([0, 0, 1])"
      ]
     },
     "execution_count": 302,
     "metadata": {},
     "output_type": "execute_result"
    }
   ],
   "source": [
    "hg.edata[dgl.ETYPE]"
   ]
  },
  {
   "cell_type": "code",
   "execution_count": 303,
   "metadata": {},
   "outputs": [
    {
     "data": {
      "text/plain": [
       "tensor([0, 1, 0])"
      ]
     },
     "execution_count": 303,
     "metadata": {},
     "output_type": "execute_result"
    }
   ],
   "source": [
    "hg.edata[dgl.EID]"
   ]
  },
  {
   "cell_type": "code",
   "execution_count": 304,
   "metadata": {},
   "outputs": [
    {
     "data": {
      "text/plain": [
       "Graph(num_nodes=7, num_edges=4,\n",
       "      ndata_schemes={'_TYPE': Scheme(shape=(), dtype=torch.int64), '_ID': Scheme(shape=(), dtype=torch.int64)}\n",
       "      edata_schemes={'_TYPE': Scheme(shape=(), dtype=torch.int64), '_ID': Scheme(shape=(), dtype=torch.int64)})"
      ]
     },
     "execution_count": 304,
     "metadata": {},
     "output_type": "execute_result"
    }
   ],
   "source": [
    "g = dgl.heterograph({\n",
    "   ('drug', 'interacts', 'drug'): (th.tensor([0, 1]), th.tensor([1, 2])),\n",
    "   ('drug', 'interacts', 'gene'): (th.tensor([0, 1]), th.tensor([2, 3])),\n",
    "   ('drug', 'treats', 'disease'): (th.tensor([1]), th.tensor([2]))\n",
    "})\n",
    "sub_g = dgl.edge_type_subgraph(g, [('drug', 'interacts', 'drug'),\n",
    "                                   ('drug', 'interacts', 'gene')])\n",
    "h_sub_g = dgl.to_homogeneous(sub_g)\n",
    "h_sub_g"
   ]
  },
  {
   "cell_type": "code",
   "execution_count": 305,
   "metadata": {},
   "outputs": [
    {
     "data": {
      "image/png": "[encoded data removed]",
      "text/plain": [
       "<Figure size 640x480 with 1 Axes>"
      ]
     },
     "metadata": {},
     "output_type": "display_data"
    }
   ],
   "source": [
    "nx.draw(h_sub_g.to_networkx())"
   ]
  },
  {
   "cell_type": "code",
   "execution_count": 306,
   "metadata": {},
   "outputs": [
    {
     "data": {
      "text/plain": [
       "device(type='cpu')"
      ]
     },
     "execution_count": 306,
     "metadata": {},
     "output_type": "execute_result"
    }
   ],
   "source": [
    "u, v = th.tensor([0, 1, 2]), th.tensor([2, 3, 4])\n",
    "g = dgl.graph((u, v))\n",
    "g.ndata['x'] = th.randn(5, 3)   # 原始特征在CPU上\n",
    "g.device"
   ]
  },
  {
   "cell_type": "code",
   "execution_count": 307,
   "metadata": {},
   "outputs": [
    {
     "data": {
      "text/plain": [
       "device(type='cuda', index=0)"
      ]
     },
     "execution_count": 307,
     "metadata": {},
     "output_type": "execute_result"
    }
   ],
   "source": [
    "cuda_g = g.to('cuda:0')         # 接受来自后端框架的任何设备对象\n",
    "cuda_g.device"
   ]
  },
  {
   "cell_type": "code",
   "execution_count": 308,
   "metadata": {},
   "outputs": [
    {
     "data": {
      "text/plain": [
       "device(type='cuda', index=0)"
      ]
     },
     "execution_count": 308,
     "metadata": {},
     "output_type": "execute_result"
    }
   ],
   "source": [
    "cuda_g.ndata['x'].device        # 特征数据也拷贝到了GPU上"
   ]
  },
  {
   "cell_type": "code",
   "execution_count": 309,
   "metadata": {},
   "outputs": [
    {
     "data": {
      "text/plain": [
       "device(type='cuda', index=0)"
      ]
     },
     "execution_count": 309,
     "metadata": {},
     "output_type": "execute_result"
    }
   ],
   "source": [
    "u, v = u.to('cuda:0'), v.to('cuda:0')\n",
    "g = dgl.graph((u, v))\n",
    "g.device"
   ]
  },
  {
   "cell_type": "code",
   "execution_count": 310,
   "metadata": {},
   "outputs": [],
   "source": [
    "# 使用to或者使用GPU上的张量"
   ]
  },
  {
   "cell_type": "code",
   "execution_count": 311,
   "metadata": {},
   "outputs": [
    {
     "data": {
      "text/plain": [
       "tensor([0, 0, 1, 1, 1], device='cuda:0')"
      ]
     },
     "execution_count": 311,
     "metadata": {},
     "output_type": "execute_result"
    }
   ],
   "source": [
    "cuda_g.in_degrees()"
   ]
  },
  {
   "cell_type": "code",
   "execution_count": 312,
   "metadata": {},
   "outputs": [
    {
     "data": {
      "text/plain": [
       "(tensor([0, 0, 2], device='cuda:0'), tensor([2, 2, 4], device='cuda:0'))"
      ]
     },
     "execution_count": 312,
     "metadata": {},
     "output_type": "execute_result"
    }
   ],
   "source": [
    "cuda_g.in_edges([2, 2, 4]) # 可以接受非张量类型的参数"
   ]
  },
  {
   "cell_type": "code",
   "execution_count": 313,
   "metadata": {},
   "outputs": [
    {
     "data": {
      "text/plain": [
       "(tensor([0, 1, 2], device='cuda:0'), tensor([2, 3, 4], device='cuda:0'))"
      ]
     },
     "execution_count": 313,
     "metadata": {},
     "output_type": "execute_result"
    }
   ],
   "source": [
    "cuda_g.in_edges(th.tensor([2, 3, 4]).to('cuda:0'))  # 张量类型的参数必须在GPU上"
   ]
  },
  {
   "cell_type": "code",
   "execution_count": 314,
   "metadata": {},
   "outputs": [
    {
     "ename": "DGLError",
     "evalue": "Cannot assign node feature \"h\" on device cpu to a graph on device cuda:0. Call DGLGraph.to() to copy the graph to the same device.",
     "output_type": "error",
     "traceback": [
      "\u001b[0;31m---------------------------------------------------------------------------\u001b[0m",
      "\u001b[0;31mDGLError\u001b[0m                                  Traceback (most recent call last)",
      "\u001b[1;32m/home/suzhang/git/GNN/GCC-master_copy/dglgraph.ipynb Cell 119\u001b[0m in \u001b[0;36m<cell line: 1>\u001b[0;34m()\u001b[0m\n\u001b[0;32m----> <a href='vscode-notebook-cell://ssh-remote%2Bximi/home/suzhang/git/GNN/GCC-master_copy/dglgraph.ipynb#Y226sdnNjb2RlLXJlbW90ZQ%3D%3D?line=0'>1</a>\u001b[0m cuda_g\u001b[39m.\u001b[39mndata[\u001b[39m'\u001b[39m\u001b[39mh\u001b[39m\u001b[39m'\u001b[39m] \u001b[39m=\u001b[39m th\u001b[39m.\u001b[39mrandn(\u001b[39m5\u001b[39m, \u001b[39m4\u001b[39m)\n",
      "File \u001b[0;32m~/anaconda3/envs/gccplnlp/lib/python3.8/site-packages/dgl/view.py:81\u001b[0m, in \u001b[0;36mHeteroNodeDataView.__setitem__\u001b[0;34m(self, key, val)\u001b[0m\n\u001b[1;32m     77\u001b[0m \u001b[39melse\u001b[39;00m:\n\u001b[1;32m     78\u001b[0m     \u001b[39massert\u001b[39;00m \u001b[39misinstance\u001b[39m(val, \u001b[39mdict\u001b[39m) \u001b[39mis\u001b[39;00m \u001b[39mFalse\u001b[39;00m, \\\n\u001b[1;32m     79\u001b[0m         \u001b[39m'\u001b[39m\u001b[39mThe HeteroNodeDataView has only one node type. \u001b[39m\u001b[39m'\u001b[39m \\\n\u001b[1;32m     80\u001b[0m         \u001b[39m'\u001b[39m\u001b[39mplease pass a tensor directly\u001b[39m\u001b[39m'\u001b[39m\n\u001b[0;32m---> 81\u001b[0m     \u001b[39mself\u001b[39;49m\u001b[39m.\u001b[39;49m_graph\u001b[39m.\u001b[39;49m_set_n_repr(\u001b[39mself\u001b[39;49m\u001b[39m.\u001b[39;49m_ntid, \u001b[39mself\u001b[39;49m\u001b[39m.\u001b[39;49m_nodes, {key : val})\n",
      "File \u001b[0;32m~/anaconda3/envs/gccplnlp/lib/python3.8/site-packages/dgl/heterograph.py:3754\u001b[0m, in \u001b[0;36mDGLHeteroGraph._set_n_repr\u001b[0;34m(self, ntid, u, data)\u001b[0m\n\u001b[1;32m   3751\u001b[0m         \u001b[39mraise\u001b[39;00m DGLError(\u001b[39m'\u001b[39m\u001b[39mExpect number of features to match number of nodes (len(u)).\u001b[39m\u001b[39m'\u001b[39m\n\u001b[1;32m   3752\u001b[0m                        \u001b[39m'\u001b[39m\u001b[39m Got \u001b[39m\u001b[39m%d\u001b[39;00m\u001b[39m and \u001b[39m\u001b[39m%d\u001b[39;00m\u001b[39m instead.\u001b[39m\u001b[39m'\u001b[39m \u001b[39m%\u001b[39m (nfeats, num_nodes))\n\u001b[1;32m   3753\u001b[0m     \u001b[39mif\u001b[39;00m F\u001b[39m.\u001b[39mcontext(val) \u001b[39m!=\u001b[39m \u001b[39mself\u001b[39m\u001b[39m.\u001b[39mdevice:\n\u001b[0;32m-> 3754\u001b[0m         \u001b[39mraise\u001b[39;00m DGLError(\u001b[39m'\u001b[39m\u001b[39mCannot assign node feature \u001b[39m\u001b[39m\"\u001b[39m\u001b[39m{}\u001b[39;00m\u001b[39m\"\u001b[39m\u001b[39m on device \u001b[39m\u001b[39m{}\u001b[39;00m\u001b[39m to a graph on\u001b[39m\u001b[39m'\u001b[39m\n\u001b[1;32m   3755\u001b[0m                        \u001b[39m'\u001b[39m\u001b[39m device \u001b[39m\u001b[39m{}\u001b[39;00m\u001b[39m. Call DGLGraph.to() to copy the graph to the\u001b[39m\u001b[39m'\u001b[39m\n\u001b[1;32m   3756\u001b[0m                        \u001b[39m'\u001b[39m\u001b[39m same device.\u001b[39m\u001b[39m'\u001b[39m\u001b[39m.\u001b[39mformat(key, F\u001b[39m.\u001b[39mcontext(val), \u001b[39mself\u001b[39m\u001b[39m.\u001b[39mdevice))\n\u001b[1;32m   3758\u001b[0m \u001b[39mif\u001b[39;00m is_all(u):\n\u001b[1;32m   3759\u001b[0m     \u001b[39mself\u001b[39m\u001b[39m.\u001b[39m_node_frames[ntid]\u001b[39m.\u001b[39mupdate(data)\n",
      "\u001b[0;31mDGLError\u001b[0m: Cannot assign node feature \"h\" on device cpu to a graph on device cuda:0. Call DGLGraph.to() to copy the graph to the same device."
     ]
    }
   ],
   "source": [
    "cuda_g.ndata['h'] = th.randn(5, 4) \n",
    "# gpu cpu 不互通 "
   ]
  },
  {
   "cell_type": "code",
   "execution_count": 315,
   "metadata": {},
   "outputs": [],
   "source": [
    "import dgl\n",
    "import torch\n",
    "import dgl.function as fn\n",
    "g = dgl.graph(([1, 3, 5, 0, 4, 2, 3, 3, 4, 5], [1, 1, 0, 0, 1, 2, 2, 0, 3, 3]))\n",
    "g.edata['eid'] = torch.arange(10,dtype=torch.float32)\n",
    "def reducer(nodes):\n",
    "    print(nodes.mailbox['eid'])\n",
    "    return {'n': nodes.mailbox['eid'].sum(1)}"
   ]
  },
  {
   "cell_type": "code",
   "execution_count": 316,
   "metadata": {},
   "outputs": [
    {
     "data": {
      "image/png": "[encoded data removed]",
      "text/plain": [
       "<Figure size 640x480 with 1 Axes>"
      ]
     },
     "metadata": {},
     "output_type": "display_data"
    }
   ],
   "source": [
    "nx.draw(g.to_networkx(),with_labels=True)"
   ]
  },
  {
   "cell_type": "code",
   "execution_count": 317,
   "metadata": {},
   "outputs": [
    {
     "data": {
      "text/plain": [
       "{'eid': tensor([0., 1., 2., 3., 4., 5., 6., 7., 8., 9.])}"
      ]
     },
     "execution_count": 317,
     "metadata": {},
     "output_type": "execute_result"
    }
   ],
   "source": [
    "g.edata"
   ]
  },
  {
   "cell_type": "code",
   "execution_count": 318,
   "metadata": {},
   "outputs": [
    {
     "name": "stdout",
     "output_type": "stream",
     "text": [
      "tensor([[5., 6.],\n",
      "        [8., 9.]])\n",
      "tensor([[3., 7., 2.],\n",
      "        [0., 1., 4.]])\n"
     ]
    }
   ],
   "source": [
    "g.update_all(fn.copy_e('eid', 'eid'), reducer)"
   ]
  },
  {
   "cell_type": "code",
   "execution_count": 319,
   "metadata": {},
   "outputs": [
    {
     "data": {
      "text/plain": [
       "{'n': tensor([12.,  5., 11., 17.,  0.,  0.])}"
      ]
     },
     "execution_count": 319,
     "metadata": {},
     "output_type": "execute_result"
    }
   ],
   "source": [
    "g.ndata"
   ]
  },
  {
   "cell_type": "code",
   "execution_count": null,
   "metadata": {},
   "outputs": [],
   "source": []
  },
  {
   "cell_type": "code",
   "execution_count": 320,
   "metadata": {},
   "outputs": [
    {
     "data": {
      "text/plain": [
       "{'eid': tensor([0., 1., 2., 3., 4., 5., 6., 7., 8., 9.])}"
      ]
     },
     "execution_count": 320,
     "metadata": {},
     "output_type": "execute_result"
    }
   ],
   "source": [
    "g.edata"
   ]
  },
  {
   "cell_type": "code",
   "execution_count": 321,
   "metadata": {},
   "outputs": [],
   "source": [
    "def fn_ns(nodes):\n",
    "    print(nodes.mailbox)  # 查看一下mailbox\n",
    "    return {'h': nodes.data['x'] + 1}"
   ]
  },
  {
   "cell_type": "code",
   "execution_count": 322,
   "metadata": {},
   "outputs": [],
   "source": [
    "def update_all_example(graph):\n",
    "    # 在graph.ndata['ft']中存储结果\n",
    "    graph.update_all(fn.u_mul_e('ft', 'a', 'm'),\n",
    "                     fn.sum('m', 'ft'))\n",
    "    # 在update_all外调用更新函数\n",
    "    final_ft = graph.ndata['ft'] * 2\n",
    "    return final_ft"
   ]
  },
  {
   "cell_type": "code",
   "execution_count": 323,
   "metadata": {},
   "outputs": [
    {
     "data": {
      "text/plain": [
       "{'n': tensor([12.,  5., 11., 17.,  0.,  0.]), 'm': tensor([12.,  5., 11., 17.,  0.,  0.])}"
      ]
     },
     "execution_count": 323,
     "metadata": {},
     "output_type": "execute_result"
    }
   ],
   "source": [
    "g.update_all(fn.copy_e('eid','eid'),fn.sum('eid','m'))\n",
    "g.ndata"
   ]
  },
  {
   "cell_type": "code",
   "execution_count": 324,
   "metadata": {},
   "outputs": [
    {
     "ename": "KeyError",
     "evalue": "'feat'",
     "output_type": "error",
     "traceback": [
      "\u001b[0;31m---------------------------------------------------------------------------\u001b[0m",
      "\u001b[0;31mKeyError\u001b[0m                                  Traceback (most recent call last)",
      "\u001b[1;32m/home/suzhang/git/GNN/GCC-master_copy/dglgraph.ipynb Cell 130\u001b[0m in \u001b[0;36m<cell line: 9>\u001b[0;34m()\u001b[0m\n\u001b[1;32m      <a href='vscode-notebook-cell://ssh-remote%2Bximi/home/suzhang/git/GNN/GCC-master_copy/dglgraph.ipynb#Y243sdnNjb2RlLXJlbW90ZQ%3D%3D?line=6'>7</a>\u001b[0m \u001b[39mdef\u001b[39;00m \u001b[39mconcat_message_function\u001b[39m(edges):\n\u001b[1;32m      <a href='vscode-notebook-cell://ssh-remote%2Bximi/home/suzhang/git/GNN/GCC-master_copy/dglgraph.ipynb#Y243sdnNjb2RlLXJlbW90ZQ%3D%3D?line=7'>8</a>\u001b[0m      \u001b[39mreturn\u001b[39;00m {\u001b[39m'\u001b[39m\u001b[39mcat_feat\u001b[39m\u001b[39m'\u001b[39m: torch\u001b[39m.\u001b[39mcat([edges\u001b[39m.\u001b[39msrc[\u001b[39m'\u001b[39m\u001b[39mfeat\u001b[39m\u001b[39m'\u001b[39m], edges\u001b[39m.\u001b[39mdst[\u001b[39m'\u001b[39m\u001b[39mfeat\u001b[39m\u001b[39m'\u001b[39m]], dim\u001b[39m=\u001b[39m\u001b[39m1\u001b[39m)}\n\u001b[0;32m----> <a href='vscode-notebook-cell://ssh-remote%2Bximi/home/suzhang/git/GNN/GCC-master_copy/dglgraph.ipynb#Y243sdnNjb2RlLXJlbW90ZQ%3D%3D?line=8'>9</a>\u001b[0m g\u001b[39m.\u001b[39;49mapply_edges(concat_message_function)\n\u001b[1;32m     <a href='vscode-notebook-cell://ssh-remote%2Bximi/home/suzhang/git/GNN/GCC-master_copy/dglgraph.ipynb#Y243sdnNjb2RlLXJlbW90ZQ%3D%3D?line=9'>10</a>\u001b[0m g\u001b[39m.\u001b[39medata[\u001b[39m'\u001b[39m\u001b[39mout\u001b[39m\u001b[39m'\u001b[39m] \u001b[39m=\u001b[39m g\u001b[39m.\u001b[39medata[\u001b[39m'\u001b[39m\u001b[39mcat_feat\u001b[39m\u001b[39m'\u001b[39m] \u001b[39m@\u001b[39m linear\n",
      "File \u001b[0;32m~/anaconda3/envs/gccplnlp/lib/python3.8/site-packages/dgl/heterograph.py:4066\u001b[0m, in \u001b[0;36mDGLHeteroGraph.apply_edges\u001b[0;34m(self, func, edges, etype, inplace)\u001b[0m\n\u001b[1;32m   4064\u001b[0m     edata \u001b[39m=\u001b[39m core\u001b[39m.\u001b[39minvoke_gsddmm(g, func)\n\u001b[1;32m   4065\u001b[0m \u001b[39melse\u001b[39;00m:\n\u001b[0;32m-> 4066\u001b[0m     edata \u001b[39m=\u001b[39m core\u001b[39m.\u001b[39;49minvoke_edge_udf(g, eid, etype, func)\n\u001b[1;32m   4067\u001b[0m \u001b[39mself\u001b[39m\u001b[39m.\u001b[39m_set_e_repr(etid, eid, edata)\n",
      "File \u001b[0;32m~/anaconda3/envs/gccplnlp/lib/python3.8/site-packages/dgl/core.py:81\u001b[0m, in \u001b[0;36minvoke_edge_udf\u001b[0;34m(graph, eid, etype, func, orig_eid)\u001b[0m\n\u001b[1;32m     78\u001b[0m dstdata \u001b[39m=\u001b[39m graph\u001b[39m.\u001b[39m_node_frames[dtid]\u001b[39m.\u001b[39msubframe(v)\n\u001b[1;32m     79\u001b[0m ebatch \u001b[39m=\u001b[39m EdgeBatch(graph, eid \u001b[39mif\u001b[39;00m orig_eid \u001b[39mis\u001b[39;00m \u001b[39mNone\u001b[39;00m \u001b[39melse\u001b[39;00m orig_eid,\n\u001b[1;32m     80\u001b[0m                    etype, srcdata, edata, dstdata)\n\u001b[0;32m---> 81\u001b[0m \u001b[39mreturn\u001b[39;00m func(ebatch)\n",
      "\u001b[1;32m/home/suzhang/git/GNN/GCC-master_copy/dglgraph.ipynb Cell 130\u001b[0m in \u001b[0;36mconcat_message_function\u001b[0;34m(edges)\u001b[0m\n\u001b[1;32m      <a href='vscode-notebook-cell://ssh-remote%2Bximi/home/suzhang/git/GNN/GCC-master_copy/dglgraph.ipynb#Y243sdnNjb2RlLXJlbW90ZQ%3D%3D?line=6'>7</a>\u001b[0m \u001b[39mdef\u001b[39;00m \u001b[39mconcat_message_function\u001b[39m(edges):\n\u001b[0;32m----> <a href='vscode-notebook-cell://ssh-remote%2Bximi/home/suzhang/git/GNN/GCC-master_copy/dglgraph.ipynb#Y243sdnNjb2RlLXJlbW90ZQ%3D%3D?line=7'>8</a>\u001b[0m      \u001b[39mreturn\u001b[39;00m {\u001b[39m'\u001b[39m\u001b[39mcat_feat\u001b[39m\u001b[39m'\u001b[39m: torch\u001b[39m.\u001b[39mcat([edges\u001b[39m.\u001b[39;49msrc[\u001b[39m'\u001b[39;49m\u001b[39mfeat\u001b[39;49m\u001b[39m'\u001b[39;49m], edges\u001b[39m.\u001b[39mdst[\u001b[39m'\u001b[39m\u001b[39mfeat\u001b[39m\u001b[39m'\u001b[39m]], dim\u001b[39m=\u001b[39m\u001b[39m1\u001b[39m)}\n",
      "File \u001b[0;32m~/anaconda3/envs/gccplnlp/lib/python3.8/site-packages/dgl/frame.py:373\u001b[0m, in \u001b[0;36mFrame.__getitem__\u001b[0;34m(self, name)\u001b[0m\n\u001b[1;32m    360\u001b[0m \u001b[39mdef\u001b[39;00m \u001b[39m__getitem__\u001b[39m(\u001b[39mself\u001b[39m, name):\n\u001b[1;32m    361\u001b[0m     \u001b[39m\"\"\"Return the column of the given name.\u001b[39;00m\n\u001b[1;32m    362\u001b[0m \n\u001b[1;32m    363\u001b[0m \u001b[39m    Parameters\u001b[39;00m\n\u001b[0;32m   (...)\u001b[0m\n\u001b[1;32m    371\u001b[0m \u001b[39m        Column data.\u001b[39;00m\n\u001b[1;32m    372\u001b[0m \u001b[39m    \"\"\"\u001b[39;00m\n\u001b[0;32m--> 373\u001b[0m     \u001b[39mreturn\u001b[39;00m \u001b[39mself\u001b[39;49m\u001b[39m.\u001b[39;49m_columns[name]\u001b[39m.\u001b[39mdata\n",
      "\u001b[0;31mKeyError\u001b[0m: 'feat'"
     ]
    }
   ],
   "source": [
    "import torch\n",
    "import torch.nn as nn\n",
    "node_feat_dim=100\n",
    "out_dim=30\n",
    "\n",
    "linear = nn.Parameter(torch.FloatTensor(size=(node_feat_dim * 2, out_dim)))\n",
    "def concat_message_function(edges):\n",
    "     return {'cat_feat': torch.cat([edges.src['feat'], edges.dst['feat']], dim=1)}\n",
    "g.apply_edges(concat_message_function)\n",
    "g.edata['out'] = g.edata['cat_feat'] @ linear\n",
    "# 用线性层降维"
   ]
  },
  {
   "cell_type": "code",
   "execution_count": null,
   "metadata": {},
   "outputs": [
    {
     "data": {
      "text/plain": [
       "mappingproxy({'__module__': 'dgl.view',\n",
       "              '__doc__': 'The data view class when G.ndata[ntype] is called.',\n",
       "              '__slots__': ['_graph', '_ntype', '_ntid', '_nodes'],\n",
       "              '__init__': <function dgl.view.HeteroNodeDataView.__init__(self, graph, ntype, ntid, nodes)>,\n",
       "              '__getitem__': <function dgl.view.HeteroNodeDataView.__getitem__(self, key)>,\n",
       "              '__setitem__': <function dgl.view.HeteroNodeDataView.__setitem__(self, key, val)>,\n",
       "              '__delitem__': <function dgl.view.HeteroNodeDataView.__delitem__(self, key)>,\n",
       "              '__len__': <function dgl.view.HeteroNodeDataView.__len__(self)>,\n",
       "              '__iter__': <function dgl.view.HeteroNodeDataView.__iter__(self)>,\n",
       "              'keys': <function dgl.view.HeteroNodeDataView.keys(self)>,\n",
       "              'values': <function dgl.view.HeteroNodeDataView.values(self)>,\n",
       "              '__repr__': <function dgl.view.HeteroNodeDataView.__repr__(self)>,\n",
       "              '_graph': <member '_graph' of 'HeteroNodeDataView' objects>,\n",
       "              '_nodes': <member '_nodes' of 'HeteroNodeDataView' objects>,\n",
       "              '_ntid': <member '_ntid' of 'HeteroNodeDataView' objects>,\n",
       "              '_ntype': <member '_ntype' of 'HeteroNodeDataView' objects>,\n",
       "              '__abstractmethods__': frozenset(),\n",
       "              '_abc_impl': <_abc_data at 0x7f88fcdde0f0>})"
      ]
     },
     "execution_count": 186,
     "metadata": {},
     "output_type": "execute_result"
    }
   ],
   "source": [
    "g.srcdata.__class__.__dict__"
   ]
  },
  {
   "cell_type": "code",
   "execution_count": null,
   "metadata": {},
   "outputs": [],
   "source": [
    "g.srcdata.update({'m':th.tensor([0,0,0,0,0,0])})"
   ]
  },
  {
   "cell_type": "code",
   "execution_count": null,
   "metadata": {},
   "outputs": [
    {
     "data": {
      "text/plain": [
       "{'m': tensor([0, 0, 0, 0, 0, 0])}"
      ]
     },
     "execution_count": 188,
     "metadata": {},
     "output_type": "execute_result"
    }
   ],
   "source": [
    "g.srcdata"
   ]
  },
  {
   "cell_type": "code",
   "execution_count": null,
   "metadata": {},
   "outputs": [],
   "source": [
    "import dgl.function as fn\n",
    "\n",
    "linear_src = nn.Parameter(torch.FloatTensor(size=(node_feat_dim, out_dim)))\n",
    "linear_dst = nn.Parameter(torch.FloatTensor(size=(node_feat_dim, out_dim)))\n",
    "out_src = g.ndata['feat'] @ linear_src\n",
    "out_dst = g.ndata['feat'] @ linear_dst\n",
    "g.srcdata.update({'out_src': out_src})\n",
    "g.dstdata.update({'out_dst': out_dst})\n",
    "g.apply_edges(fn.u_add_v('out_src', 'out_dst', 'out'))\n",
    "# 高效 内存不用保存高维feat\n",
    "# 可以使用 u_add_v 优化"
   ]
  },
  {
   "cell_type": "code",
   "execution_count": null,
   "metadata": {},
   "outputs": [],
   "source": [
    "nid = [0, 2, 3, 6, 7, 9]\n",
    "sg = g.subgraph(nid)\n",
    "sg.update_all(message_func, reduce_func, apply_node_func)\n",
    "# 先给出子图 然后在子图上聚合"
   ]
  },
  {
   "cell_type": "code",
   "execution_count": null,
   "metadata": {},
   "outputs": [
    {
     "data": {
      "text/plain": [
       "[('_N', '_E', '_N')]"
      ]
     },
     "execution_count": 190,
     "metadata": {},
     "output_type": "execute_result"
    }
   ],
   "source": [
    "g.canonical_etypes"
   ]
  },
  {
   "cell_type": "code",
   "execution_count": 325,
   "metadata": {},
   "outputs": [
    {
     "ename": "NameError",
     "evalue": "name 'self' is not defined",
     "output_type": "error",
     "traceback": [
      "\u001b[0;31m---------------------------------------------------------------------------\u001b[0m",
      "\u001b[0;31mNameError\u001b[0m                                 Traceback (most recent call last)",
      "\u001b[1;32m/home/suzhang/git/GNN/GCC-master_copy/dglgraph.ipynb Cell 137\u001b[0m in \u001b[0;36m<cell line: 3>\u001b[0;34m()\u001b[0m\n\u001b[1;32m      <a href='vscode-notebook-cell://ssh-remote%2Bximi/home/suzhang/git/GNN/GCC-master_copy/dglgraph.ipynb#Y253sdnNjb2RlLXJlbW90ZQ%3D%3D?line=2'>3</a>\u001b[0m \u001b[39mfor\u001b[39;00m c_etype \u001b[39min\u001b[39;00m g\u001b[39m.\u001b[39mcanonical_etypes:\n\u001b[1;32m      <a href='vscode-notebook-cell://ssh-remote%2Bximi/home/suzhang/git/GNN/GCC-master_copy/dglgraph.ipynb#Y253sdnNjb2RlLXJlbW90ZQ%3D%3D?line=3'>4</a>\u001b[0m     srctype, etype, dsttype \u001b[39m=\u001b[39m c_etype\n\u001b[0;32m----> <a href='vscode-notebook-cell://ssh-remote%2Bximi/home/suzhang/git/GNN/GCC-master_copy/dglgraph.ipynb#Y253sdnNjb2RlLXJlbW90ZQ%3D%3D?line=4'>5</a>\u001b[0m     Wh \u001b[39m=\u001b[39m \u001b[39mself\u001b[39;49m\u001b[39m.\u001b[39mweight[etype](feat_dict[srctype])\n\u001b[1;32m      <a href='vscode-notebook-cell://ssh-remote%2Bximi/home/suzhang/git/GNN/GCC-master_copy/dglgraph.ipynb#Y253sdnNjb2RlLXJlbW90ZQ%3D%3D?line=5'>6</a>\u001b[0m     \u001b[39m# 把它存在图中用来做消息传递\u001b[39;00m\n\u001b[1;32m      <a href='vscode-notebook-cell://ssh-remote%2Bximi/home/suzhang/git/GNN/GCC-master_copy/dglgraph.ipynb#Y253sdnNjb2RlLXJlbW90ZQ%3D%3D?line=6'>7</a>\u001b[0m     g\u001b[39m.\u001b[39mnodes[srctype]\u001b[39m.\u001b[39mdata[\u001b[39m'\u001b[39m\u001b[39mWh_\u001b[39m\u001b[39m%s\u001b[39;00m\u001b[39m'\u001b[39m \u001b[39m%\u001b[39m etype] \u001b[39m=\u001b[39m Wh\n",
      "\u001b[0;31mNameError\u001b[0m: name 'self' is not defined"
     ]
    }
   ],
   "source": [
    "import dgl.function as fn\n",
    "\n",
    "for c_etype in g.canonical_etypes:\n",
    "    srctype, etype, dsttype = c_etype\n",
    "    Wh = self.weight[etype](feat_dict[srctype])\n",
    "    # 把它存在图中用来做消息传递\n",
    "    g.nodes[srctype].data['Wh_%s' % etype] = Wh\n",
    "    # 指定每个关系的消息传递函数：(message_func, reduce_func).\n",
    "    # 注意结果保存在同一个目标特征“h”，说明聚合是逐类进行的。\n",
    "    funcs[etype] = (fn.copy_u('Wh_%s' % etype, 'm'), fn.mean('m', 'h'))\n",
    "# 将每个类型消息聚合的结果相加。\n",
    "g.multi_update_all(funcs, 'sum')\n",
    "# 返回更新过的节点特征字典\n",
    "return {ntype : G.nodes[ntype].data['h'] for ntype in G.ntypes}"
   ]
  },
  {
   "cell_type": "code",
   "execution_count": 326,
   "metadata": {},
   "outputs": [],
   "source": [
    "import torch.nn as nn \n",
    "from dgl.utils import expand_as_pair\n",
    "\n",
    "class SAGEConv(nn.Module):\n",
    "    def __init__(self,in_feats,out_feats,aggregator_type,\n",
    "                 bias=True,norm=None,activation=None):\n",
    "        super(SAGEConv,self).__init__()\n",
    "        \n",
    "        self._in_src_feats,self._in_dst_feats=expand_as_pair(in_feats)\n",
    "        self._out_feats=out_feats\n",
    "        self._aggre_type=aggregator_type\n",
    "        self.norm=norm \n",
    "        self.activation=activation \n",
    "        if aggregator_type not in ['mean', 'pool', 'lstm', 'gcn']:\n",
    "            raise KeyError('Aggregator type {} not supported.'.format(aggregator_type))\n",
    "        if aggregator_type == 'pool':\n",
    "            self.fc_pool = nn.Linear(self._in_src_feats, self._in_src_feats)\n",
    "        if aggregator_type == 'lstm':\n",
    "            self.lstm = nn.LSTM(self._in_src_feats, self._in_src_feats, batch_first=True)\n",
    "        if aggregator_type in ['mean', 'pool', 'lstm']:\n",
    "            self.fc_self = nn.Linear(self._in_dst_feats, out_feats, bias=bias)\n",
    "        self.fc_neigh = nn.Linear(self._in_src_feats, out_feats, bias=bias)\n",
    "        self.reset_parameters()\n",
    "    \n",
    "    def reset_parameters(self):\n",
    "    \"\"\"重新初始化可学习的参数\"\"\"\n",
    "        gain = nn.init.calculate_gain('relu')\n",
    "        if self._aggre_type == 'pool':\n",
    "            nn.init.xavier_uniform_(self.fc_pool.weight, gain=gain)\n",
    "        if self._aggre_type == 'lstm':\n",
    "            self.lstm.reset_parameters()\n",
    "        if self._aggre_type != 'gcn':\n",
    "            nn.init.xavier_uniform_(self.fc_self.weight, gain=gain)\n",
    "        nn.init.xavier_uniform_(self.fc_neigh.weight, gain=gain)"
   ]
  },
  {
   "cell_type": "code",
   "execution_count": null,
   "metadata": {},
   "outputs": [],
   "source": [
    "def forward(self, graph, feat):\n",
    "    with graph.local_scope():\n",
    "        # 指定图类型，然后根据图类型扩展输入特征\n",
    "        feat_src, feat_dst = expand_as_pair(feat, graph)"
   ]
  },
  {
   "cell_type": "code",
   "execution_count": 330,
   "metadata": {},
   "outputs": [
    {
     "data": {
      "text/plain": [
       "{'__name__': 'torch.nn.functional',\n",
       " '__doc__': 'Functional interface',\n",
       " '__package__': 'torch.nn',\n",
       " '__loader__': <_frozen_importlib_external.SourceFileLoader at 0x7f898c0e64f0>,\n",
       " '__spec__': ModuleSpec(name='torch.nn.functional', loader=<_frozen_importlib_external.SourceFileLoader object at 0x7f898c0e64f0>, origin='/home/suzhang/anaconda3/envs/gccplnlp/lib/python3.8/site-packages/torch/nn/functional.py'),\n",
       " '__file__': '/home/suzhang/anaconda3/envs/gccplnlp/lib/python3.8/site-packages/torch/nn/functional.py',\n",
       " '__cached__': '/home/suzhang/anaconda3/envs/gccplnlp/lib/python3.8/site-packages/torch/nn/__pycache__/functional.cpython-38.pyc',\n",
       " '__builtins__': {'__name__': 'builtins',\n",
       "  '__doc__': \"Built-in functions, exceptions, and other objects.\\n\\nNoteworthy: None is the `nil' object; Ellipsis represents `...' in slices.\",\n",
       "  '__package__': '',\n",
       "  '__loader__': _frozen_importlib.BuiltinImporter,\n",
       "  '__spec__': ModuleSpec(name='builtins', loader=<class '_frozen_importlib.BuiltinImporter'>),\n",
       "  '__build_class__': <function __build_class__>,\n",
       "  '__import__': <function __import__>,\n",
       "  'abs': <function abs(x, /)>,\n",
       "  'all': <function all(iterable, /)>,\n",
       "  'any': <function any(iterable, /)>,\n",
       "  'ascii': <function ascii(obj, /)>,\n",
       "  'bin': <function bin(number, /)>,\n",
       "  'breakpoint': <function breakpoint>,\n",
       "  'callable': <function callable(obj, /)>,\n",
       "  'chr': <function chr(i, /)>,\n",
       "  'compile': <function compile(source, filename, mode, flags=0, dont_inherit=False, optimize=-1, *, _feature_version=-1)>,\n",
       "  'delattr': <function delattr(obj, name, /)>,\n",
       "  'dir': <function dir>,\n",
       "  'divmod': <function divmod(x, y, /)>,\n",
       "  'eval': <function eval(source, globals=None, locals=None, /)>,\n",
       "  'exec': <function exec(source, globals=None, locals=None, /)>,\n",
       "  'format': <function format(value, format_spec='', /)>,\n",
       "  'getattr': <function getattr>,\n",
       "  'globals': <function globals()>,\n",
       "  'hasattr': <function hasattr(obj, name, /)>,\n",
       "  'hash': <function hash(obj, /)>,\n",
       "  'hex': <function hex(number, /)>,\n",
       "  'id': <function id(obj, /)>,\n",
       "  'input': <bound method Kernel.raw_input of <ipykernel.ipkernel.IPythonKernel object at 0x7f89b1bf97f0>>,\n",
       "  'isinstance': <function isinstance(obj, class_or_tuple, /)>,\n",
       "  'issubclass': <function issubclass(cls, class_or_tuple, /)>,\n",
       "  'iter': <function iter>,\n",
       "  'len': <function len(obj, /)>,\n",
       "  'locals': <function locals()>,\n",
       "  'max': <function max>,\n",
       "  'min': <function min>,\n",
       "  'next': <function next>,\n",
       "  'oct': <function oct(number, /)>,\n",
       "  'ord': <function ord(c, /)>,\n",
       "  'pow': <function pow(base, exp, mod=None)>,\n",
       "  'print': <function print>,\n",
       "  'repr': <function repr(obj, /)>,\n",
       "  'round': <function round(number, ndigits=None)>,\n",
       "  'setattr': <function setattr(obj, name, value, /)>,\n",
       "  'sorted': <function sorted(iterable, /, *, key=None, reverse=False)>,\n",
       "  'sum': <function sum(iterable, /, start=0)>,\n",
       "  'vars': <function vars>,\n",
       "  'None': None,\n",
       "  'Ellipsis': Ellipsis,\n",
       "  'NotImplemented': NotImplemented,\n",
       "  'False': False,\n",
       "  'True': True,\n",
       "  'bool': bool,\n",
       "  'memoryview': memoryview,\n",
       "  'bytearray': bytearray,\n",
       "  'bytes': bytes,\n",
       "  'classmethod': classmethod,\n",
       "  'complex': complex,\n",
       "  'dict': dict,\n",
       "  'enumerate': enumerate,\n",
       "  'filter': filter,\n",
       "  'float': float,\n",
       "  'frozenset': frozenset,\n",
       "  'property': property,\n",
       "  'int': int,\n",
       "  'list': list,\n",
       "  'map': map,\n",
       "  'object': object,\n",
       "  'range': range,\n",
       "  'reversed': reversed,\n",
       "  'set': set,\n",
       "  'slice': slice,\n",
       "  'staticmethod': staticmethod,\n",
       "  'str': str,\n",
       "  'super': super,\n",
       "  'tuple': tuple,\n",
       "  'type': type,\n",
       "  'zip': zip,\n",
       "  '__debug__': True,\n",
       "  'BaseException': BaseException,\n",
       "  'Exception': Exception,\n",
       "  'TypeError': TypeError,\n",
       "  'StopAsyncIteration': StopAsyncIteration,\n",
       "  'StopIteration': StopIteration,\n",
       "  'GeneratorExit': GeneratorExit,\n",
       "  'SystemExit': SystemExit,\n",
       "  'KeyboardInterrupt': KeyboardInterrupt,\n",
       "  'ImportError': ImportError,\n",
       "  'ModuleNotFoundError': ModuleNotFoundError,\n",
       "  'OSError': OSError,\n",
       "  'EnvironmentError': OSError,\n",
       "  'IOError': OSError,\n",
       "  'EOFError': EOFError,\n",
       "  'RuntimeError': RuntimeError,\n",
       "  'RecursionError': RecursionError,\n",
       "  'NotImplementedError': NotImplementedError,\n",
       "  'NameError': NameError,\n",
       "  'UnboundLocalError': UnboundLocalError,\n",
       "  'AttributeError': AttributeError,\n",
       "  'SyntaxError': SyntaxError,\n",
       "  'IndentationError': IndentationError,\n",
       "  'TabError': TabError,\n",
       "  'LookupError': LookupError,\n",
       "  'IndexError': IndexError,\n",
       "  'KeyError': KeyError,\n",
       "  'ValueError': ValueError,\n",
       "  'UnicodeError': UnicodeError,\n",
       "  'UnicodeEncodeError': UnicodeEncodeError,\n",
       "  'UnicodeDecodeError': UnicodeDecodeError,\n",
       "  'UnicodeTranslateError': UnicodeTranslateError,\n",
       "  'AssertionError': AssertionError,\n",
       "  'ArithmeticError': ArithmeticError,\n",
       "  'FloatingPointError': FloatingPointError,\n",
       "  'OverflowError': OverflowError,\n",
       "  'ZeroDivisionError': ZeroDivisionError,\n",
       "  'SystemError': SystemError,\n",
       "  'ReferenceError': ReferenceError,\n",
       "  'MemoryError': MemoryError,\n",
       "  'BufferError': BufferError,\n",
       "  'Warning': Warning,\n",
       "  'UserWarning': UserWarning,\n",
       "  'DeprecationWarning': DeprecationWarning,\n",
       "  'PendingDeprecationWarning': PendingDeprecationWarning,\n",
       "  'SyntaxWarning': SyntaxWarning,\n",
       "  'RuntimeWarning': RuntimeWarning,\n",
       "  'FutureWarning': FutureWarning,\n",
       "  'ImportWarning': ImportWarning,\n",
       "  'UnicodeWarning': UnicodeWarning,\n",
       "  'BytesWarning': BytesWarning,\n",
       "  'ResourceWarning': ResourceWarning,\n",
       "  'ConnectionError': ConnectionError,\n",
       "  'BlockingIOError': BlockingIOError,\n",
       "  'BrokenPipeError': BrokenPipeError,\n",
       "  'ChildProcessError': ChildProcessError,\n",
       "  'ConnectionAbortedError': ConnectionAbortedError,\n",
       "  'ConnectionRefusedError': ConnectionRefusedError,\n",
       "  'ConnectionResetError': ConnectionResetError,\n",
       "  'FileExistsError': FileExistsError,\n",
       "  'FileNotFoundError': FileNotFoundError,\n",
       "  'IsADirectoryError': IsADirectoryError,\n",
       "  'NotADirectoryError': NotADirectoryError,\n",
       "  'InterruptedError': InterruptedError,\n",
       "  'PermissionError': PermissionError,\n",
       "  'ProcessLookupError': ProcessLookupError,\n",
       "  'TimeoutError': TimeoutError,\n",
       "  'open': <function io.open(file, mode='r', buffering=-1, encoding=None, errors=None, newline=None, closefd=True, opener=None)>,\n",
       "  'copyright': Copyright (c) 2001-2022 Python Software Foundation.\n",
       "  All Rights Reserved.\n",
       "  \n",
       "  Copyright (c) 2000 BeOpen.com.\n",
       "  All Rights Reserved.\n",
       "  \n",
       "  Copyright (c) 1995-2001 Corporation for National Research Initiatives.\n",
       "  All Rights Reserved.\n",
       "  \n",
       "  Copyright (c) 1991-1995 Stichting Mathematisch Centrum, Amsterdam.\n",
       "  All Rights Reserved.,\n",
       "  'credits':     Thanks to CWI, CNRI, BeOpen.com, Zope Corporation and a cast of thousands\n",
       "      for supporting Python development.  See www.python.org for more information.,\n",
       "  'license': Type license() to see the full license text,\n",
       "  'help': Type help() for interactive help, or help(object) for help about object.,\n",
       "  'execfile': <function _pydev_imps._pydev_execfile.execfile(file, glob=None, loc=None)>,\n",
       "  'runfile': <function _pydev_bundle.pydev_umd.runfile(filename, args=None, wdir=None, namespace=None)>,\n",
       "  '__IPYTHON__': True,\n",
       "  'display': <function IPython.core.display_functions.display(*objs, include=None, exclude=None, metadata=None, transient=None, display_id=None, raw=False, clear=False, **kwargs)>,\n",
       "  '__pybind11_internals_v4_gcc_libstdcpp_cxxabi1011__': <capsule object NULL at 0x7f898f68b600>,\n",
       "  'get_ipython': <bound method InteractiveShell.get_ipython of <ipykernel.zmqshell.ZMQInteractiveShell object at 0x7f89b1bba430>>},\n",
       " 'Callable': typing.Callable,\n",
       " 'List': typing.List,\n",
       " 'Optional': typing.Optional,\n",
       " 'Tuple': typing.Tuple,\n",
       " 'math': <module 'math' from '/home/suzhang/anaconda3/envs/gccplnlp/lib/python3.8/lib-dynload/math.cpython-38-x86_64-linux-gnu.so'>,\n",
       " 'warnings': <module 'warnings' from '/home/suzhang/anaconda3/envs/gccplnlp/lib/python3.8/warnings.py'>,\n",
       " 'torch': <module 'torch' from '/home/suzhang/anaconda3/envs/gccplnlp/lib/python3.8/site-packages/torch/__init__.py'>,\n",
       " '_VF': <module 'torch._VF'>,\n",
       " '_infer_size': <function torch._C._infer_size>,\n",
       " '_add_docstr': <function torch._C._add_docstr>,\n",
       " 'reproducibility_notes': {'forward_reproducibility_note': 'This operation may behave nondeterministically when given tensors on a CUDA device. See :doc:`/notes/randomness` for more information.',\n",
       "  'backward_reproducibility_note': 'This operation may produce nondeterministic gradients when given tensors on a CUDA device. See :doc:`/notes/randomness` for more information.',\n",
       "  'cudnn_reproducibility_note': 'In some circumstances when given tensors on a CUDA device and using CuDNN, this operator may select a nondeterministic algorithm to increase performance. If this is undesirable, you can try to make the operation deterministic (potentially at a performance cost) by setting ``torch.backends.cudnn.deterministic = True``. See :doc:`/notes/randomness` for more information.'},\n",
       " 'tf32_notes': {'tf32_note': 'This operator supports :ref:`TensorFloat32<tf32_on_ampere>`.'},\n",
       " 'TYPE_CHECKING': False,\n",
       " 'DType': int,\n",
       " 'boolean_dispatch': <function torch._jit_internal.boolean_dispatch(arg_name, arg_index, default, if_true, if_false, module_name, func_name)>,\n",
       " '_overload': <function torch._jit_internal._overload(func)>,\n",
       " 'BroadcastingList1': <torch._jit_internal.BroadcastingListCls at 0x7f898c09e5b0>,\n",
       " 'BroadcastingList2': <torch._jit_internal.BroadcastingListCls at 0x7f898c09e5b0>,\n",
       " 'BroadcastingList3': <torch._jit_internal.BroadcastingListCls at 0x7f898c09e5b0>,\n",
       " 'has_torch_function': <function torch._C._has_torch_function>,\n",
       " 'has_torch_function_unary': <function torch._C._has_torch_function_unary>,\n",
       " 'has_torch_function_variadic': <function torch._C._has_torch_function_variadic>,\n",
       " 'handle_torch_function': <function torch.overrides.handle_torch_function(public_api: Callable, relevant_args: Iterable[Any], *args, **kwargs) -> Any>,\n",
       " '_Reduction': <module 'torch.nn._reduction' from '/home/suzhang/anaconda3/envs/gccplnlp/lib/python3.8/site-packages/torch/nn/_reduction.py'>,\n",
       " 'grad': <module 'torch.nn.grad' from '/home/suzhang/anaconda3/envs/gccplnlp/lib/python3.8/site-packages/torch/nn/grad.py'>,\n",
       " 'utils': <module 'torch.nn.modules.utils' from '/home/suzhang/anaconda3/envs/gccplnlp/lib/python3.8/site-packages/torch/nn/modules/utils.py'>,\n",
       " '_single': <function torch.nn.modules.utils._ntuple.<locals>.parse(x)>,\n",
       " '_pair': <function torch.nn.modules.utils._ntuple.<locals>.parse(x)>,\n",
       " '_triple': <function torch.nn.modules.utils._ntuple.<locals>.parse(x)>,\n",
       " '_list_with_default': <function torch.nn.modules.utils._list_with_default(out_size: List[int], defaults: List[int]) -> List[int]>,\n",
       " 'Tensor': torch.Tensor,\n",
       " 'conv1d': <function _VariableFunctionsClass.conv1d>,\n",
       " 'conv2d': <function _VariableFunctionsClass.conv2d>,\n",
       " 'conv3d': <function _VariableFunctionsClass.conv3d>,\n",
       " 'conv_transpose1d': <function _VariableFunctionsClass.conv_transpose1d>,\n",
       " 'conv_transpose2d': <function _VariableFunctionsClass.conv_transpose2d>,\n",
       " 'conv_transpose3d': <function _VariableFunctionsClass.conv_transpose3d>,\n",
       " 'conv_tbc': <function _VariableFunctionsClass.conv_tbc>,\n",
       " 'avg_pool1d': <function _VariableFunctionsClass.avg_pool1d>,\n",
       " 'avg_pool2d': <function torch._C._nn.avg_pool2d>,\n",
       " 'avg_pool3d': <function torch._C._nn.avg_pool3d>,\n",
       " 'fractional_max_pool2d_with_indices': <function torch.nn.functional.fractional_max_pool2d_with_indices(input: torch.Tensor, kernel_size: None, output_size: NoneType = None, output_ratio: NoneType = None, return_indices: bool = False, _random_samples: Union[torch.Tensor, NoneType] = None) -> Tuple[torch.Tensor, torch.Tensor]>,\n",
       " '_fractional_max_pool2d': <function torch.nn.functional._fractional_max_pool2d(input: torch.Tensor, kernel_size: None, output_size: NoneType = None, output_ratio: NoneType = None, return_indices: bool = False, _random_samples: Union[torch.Tensor, NoneType] = None) -> torch.Tensor>,\n",
       " 'fractional_max_pool2d': <function torch.nn.functional.boolean_dispatch.<locals>.fn(*args, **kwargs)>,\n",
       " 'fractional_max_pool3d_with_indices': <function torch.nn.functional.fractional_max_pool3d_with_indices(input: torch.Tensor, kernel_size: None, output_size: NoneType = None, output_ratio: NoneType = None, return_indices: bool = False, _random_samples: Union[torch.Tensor, NoneType] = None) -> Tuple[torch.Tensor, torch.Tensor]>,\n",
       " '_fractional_max_pool3d': <function torch.nn.functional._fractional_max_pool3d(input: torch.Tensor, kernel_size: None, output_size: NoneType = None, output_ratio: NoneType = None, return_indices: bool = False, _random_samples: Union[torch.Tensor, NoneType] = None) -> torch.Tensor>,\n",
       " 'fractional_max_pool3d': <function torch.nn.functional.boolean_dispatch.<locals>.fn(*args, **kwargs)>,\n",
       " 'max_pool1d_with_indices': <function torch.nn.functional.max_pool1d_with_indices(input: torch.Tensor, kernel_size: None, stride: NoneType = None, padding: None = 0, dilation: None = 1, ceil_mode: bool = False, return_indices: bool = False) -> Tuple[torch.Tensor, torch.Tensor]>,\n",
       " '_max_pool1d': <function torch.nn.functional._max_pool1d(input: torch.Tensor, kernel_size: None, stride: NoneType = None, padding: None = 0, dilation: None = 1, ceil_mode: bool = False, return_indices: bool = False) -> torch.Tensor>,\n",
       " 'max_pool1d': <function torch.nn.functional.boolean_dispatch.<locals>.fn(*args, **kwargs)>,\n",
       " 'max_pool2d_with_indices': <function torch.nn.functional.max_pool2d_with_indices(input: torch.Tensor, kernel_size: None, stride: NoneType = None, padding: None = 0, dilation: None = 1, ceil_mode: bool = False, return_indices: bool = False) -> Tuple[torch.Tensor, torch.Tensor]>,\n",
       " '_max_pool2d': <function torch.nn.functional._max_pool2d(input: torch.Tensor, kernel_size: None, stride: NoneType = None, padding: None = 0, dilation: None = 1, ceil_mode: bool = False, return_indices: bool = False) -> torch.Tensor>,\n",
       " 'max_pool2d': <function torch.nn.functional.boolean_dispatch.<locals>.fn(*args, **kwargs)>,\n",
       " 'max_pool3d_with_indices': <function torch.nn.functional.max_pool3d_with_indices(input: torch.Tensor, kernel_size: None, stride: NoneType = None, padding: None = 0, dilation: None = 1, ceil_mode: bool = False, return_indices: bool = False) -> Tuple[torch.Tensor, torch.Tensor]>,\n",
       " '_max_pool3d': <function torch.nn.functional._max_pool3d(input: torch.Tensor, kernel_size: None, stride: NoneType = None, padding: None = 0, dilation: None = 1, ceil_mode: bool = False, return_indices: bool = False) -> torch.Tensor>,\n",
       " 'max_pool3d': <function torch.nn.functional.boolean_dispatch.<locals>.fn(*args, **kwargs)>,\n",
       " '_unpool_output_size': <function torch.nn.functional._unpool_output_size(input: torch.Tensor, kernel_size: List[int], stride: List[int], padding: List[int], output_size: Union[List[int], NoneType]) -> List[int]>,\n",
       " 'max_unpool1d': <function torch.nn.functional.max_unpool1d(input: torch.Tensor, indices: torch.Tensor, kernel_size: None, stride: NoneType = None, padding: None = 0, output_size: NoneType = None) -> torch.Tensor>,\n",
       " 'max_unpool2d': <function torch.nn.functional.max_unpool2d(input: torch.Tensor, indices: torch.Tensor, kernel_size: None, stride: NoneType = None, padding: None = 0, output_size: NoneType = None) -> torch.Tensor>,\n",
       " 'max_unpool3d': <function torch.nn.functional.max_unpool3d(input: torch.Tensor, indices: torch.Tensor, kernel_size: None, stride: NoneType = None, padding: None = 0, output_size: NoneType = None) -> torch.Tensor>,\n",
       " 'lp_pool2d': <function torch.nn.functional.lp_pool2d(input: torch.Tensor, norm_type: float, kernel_size: int, stride: NoneType = None, ceil_mode: bool = False) -> torch.Tensor>,\n",
       " 'lp_pool1d': <function torch.nn.functional.lp_pool1d(input: torch.Tensor, norm_type: float, kernel_size: int, stride: NoneType = None, ceil_mode: bool = False) -> torch.Tensor>,\n",
       " 'adaptive_max_pool1d_with_indices': <function torch.nn.functional.adaptive_max_pool1d_with_indices(input: torch.Tensor, output_size: None, return_indices: bool = False) -> Tuple[torch.Tensor, torch.Tensor]>,\n",
       " '_adaptive_max_pool1d': <function torch.nn.functional._adaptive_max_pool1d(input: torch.Tensor, output_size: None, return_indices: bool = False) -> torch.Tensor>,\n",
       " 'adaptive_max_pool1d': <function torch.nn.functional.boolean_dispatch.<locals>.fn(*args, **kwargs)>,\n",
       " 'adaptive_max_pool2d_with_indices': <function torch.nn.functional.adaptive_max_pool2d_with_indices(input: torch.Tensor, output_size: None, return_indices: bool = False) -> Tuple[torch.Tensor, torch.Tensor]>,\n",
       " '_adaptive_max_pool2d': <function torch.nn.functional._adaptive_max_pool2d(input: torch.Tensor, output_size: None, return_indices: bool = False) -> torch.Tensor>,\n",
       " 'adaptive_max_pool2d': <function torch.nn.functional.boolean_dispatch.<locals>.fn(*args, **kwargs)>,\n",
       " 'adaptive_max_pool3d_with_indices': <function torch.nn.functional.adaptive_max_pool3d_with_indices(input: torch.Tensor, output_size: None, return_indices: bool = False) -> Tuple[torch.Tensor, torch.Tensor]>,\n",
       " '_adaptive_max_pool3d': <function torch.nn.functional._adaptive_max_pool3d(input: torch.Tensor, output_size: None, return_indices: bool = False) -> torch.Tensor>,\n",
       " 'adaptive_max_pool3d': <function torch.nn.functional.boolean_dispatch.<locals>.fn(*args, **kwargs)>,\n",
       " 'adaptive_avg_pool1d': <function _VariableFunctionsClass.adaptive_avg_pool1d>,\n",
       " 'adaptive_avg_pool2d': <function torch.nn.functional.adaptive_avg_pool2d(input: torch.Tensor, output_size: None) -> torch.Tensor>,\n",
       " 'adaptive_avg_pool3d': <function torch.nn.functional.adaptive_avg_pool3d(input: torch.Tensor, output_size: None) -> torch.Tensor>,\n",
       " 'dropout': <function torch.nn.functional.dropout(input: torch.Tensor, p: float = 0.5, training: bool = True, inplace: bool = False) -> torch.Tensor>,\n",
       " 'alpha_dropout': <function torch.nn.functional.alpha_dropout(input: torch.Tensor, p: float = 0.5, training: bool = False, inplace: bool = False) -> torch.Tensor>,\n",
       " 'dropout2d': <function torch.nn.functional.dropout2d(input: torch.Tensor, p: float = 0.5, training: bool = True, inplace: bool = False) -> torch.Tensor>,\n",
       " 'dropout3d': <function torch.nn.functional.dropout3d(input: torch.Tensor, p: float = 0.5, training: bool = True, inplace: bool = False) -> torch.Tensor>,\n",
       " 'feature_alpha_dropout': <function torch.nn.functional.feature_alpha_dropout(input: torch.Tensor, p: float = 0.5, training: bool = False, inplace: bool = False) -> torch.Tensor>,\n",
       " '_threshold': <function torch.nn.functional._threshold(input: torch.Tensor, threshold: float, value: float, inplace: bool = False) -> torch.Tensor>,\n",
       " 'threshold': <function torch.nn.functional._threshold(input: torch.Tensor, threshold: float, value: float, inplace: bool = False) -> torch.Tensor>,\n",
       " 'threshold_': <function _VariableFunctionsClass.threshold_>,\n",
       " 'relu': <function torch.nn.functional.relu(input: torch.Tensor, inplace: bool = False) -> torch.Tensor>,\n",
       " 'relu_': <function _VariableFunctionsClass.relu_>,\n",
       " 'glu': <function torch.nn.functional.glu(input: torch.Tensor, dim: int = -1) -> torch.Tensor>,\n",
       " 'hardtanh': <function torch.nn.functional.hardtanh(input: torch.Tensor, min_val: float = -1.0, max_val: float = 1.0, inplace: bool = False) -> torch.Tensor>,\n",
       " 'hardtanh_': <function torch._C._nn.hardtanh_>,\n",
       " 'relu6': <function torch.nn.functional.relu6(input: torch.Tensor, inplace: bool = False) -> torch.Tensor>,\n",
       " 'elu': <function torch.nn.functional.elu(input: torch.Tensor, alpha: float = 1.0, inplace: bool = False) -> torch.Tensor>,\n",
       " 'elu_': <function torch._C._nn.elu_>,\n",
       " 'selu': <function torch.nn.functional.selu(input: torch.Tensor, inplace: bool = False) -> torch.Tensor>,\n",
       " 'selu_': <function _VariableFunctionsClass.selu_>,\n",
       " 'celu': <function torch.nn.functional.celu(input: torch.Tensor, alpha: float = 1.0, inplace: bool = False) -> torch.Tensor>,\n",
       " 'celu_': <function _VariableFunctionsClass.celu_>,\n",
       " 'leaky_relu': <function torch.nn.functional.leaky_relu(input: torch.Tensor, negative_slope: float = 0.01, inplace: bool = False) -> torch.Tensor>,\n",
       " 'leaky_relu_': <function torch._C._nn.leaky_relu_>,\n",
       " 'prelu': <function _VariableFunctionsClass.prelu>,\n",
       " 'rrelu': <function torch.nn.functional.rrelu(input: torch.Tensor, lower: float = 0.125, upper: float = 0.3333333333333333, training: bool = False, inplace: bool = False) -> torch.Tensor>,\n",
       " 'rrelu_': <function _VariableFunctionsClass.rrelu_>,\n",
       " 'logsigmoid': <function torch._C._nn.log_sigmoid>,\n",
       " 'gelu': <function torch._C._nn.gelu>,\n",
       " 'hardshrink': <function _VariableFunctionsClass.hardshrink>,\n",
       " 'tanhshrink': <function torch.nn.functional.tanhshrink(input)>,\n",
       " 'softsign': <function torch.nn.functional.softsign(input)>,\n",
       " 'softplus': <function torch._C._nn.softplus>,\n",
       " '_get_softmax_dim': <function torch.nn.functional._get_softmax_dim(name: str, ndim: int, stacklevel: int) -> int>,\n",
       " 'softmin': <function torch.nn.functional.softmin(input: torch.Tensor, dim: Union[int, NoneType] = None, _stacklevel: int = 3, dtype: Union[int, NoneType] = None) -> torch.Tensor>,\n",
       " 'softmax': <function torch.nn.functional.softmax(input: torch.Tensor, dim: Union[int, NoneType] = None, _stacklevel: int = 3, dtype: Union[int, NoneType] = None) -> torch.Tensor>,\n",
       " 'gumbel_softmax': <function torch.nn.functional.gumbel_softmax(logits: torch.Tensor, tau: float = 1, hard: bool = False, eps: float = 1e-10, dim: int = -1) -> torch.Tensor>,\n",
       " 'log_softmax': <function torch.nn.functional.log_softmax(input: torch.Tensor, dim: Union[int, NoneType] = None, _stacklevel: int = 3, dtype: Union[int, NoneType] = None) -> torch.Tensor>,\n",
       " 'softshrink': <function torch._C._nn.softshrink>,\n",
       " 'tanh': <function torch.nn.functional.tanh(input)>,\n",
       " 'sigmoid': <function torch.nn.functional.sigmoid(input)>,\n",
       " 'hardsigmoid': <function torch.nn.functional.hardsigmoid(input: torch.Tensor, inplace: bool = False) -> torch.Tensor>,\n",
       " 'linear': <function torch._C._nn.linear>,\n",
       " 'bilinear': <function _VariableFunctionsClass.bilinear>,\n",
       " 'silu': <function torch.nn.functional.silu(input: torch.Tensor, inplace: bool = False) -> torch.Tensor>,\n",
       " 'mish': <function torch.nn.functional.mish(input: torch.Tensor, inplace: bool = False) -> torch.Tensor>,\n",
       " 'hardswish': <function torch.nn.functional.hardswish(input: torch.Tensor, inplace: bool = False) -> torch.Tensor>,\n",
       " '_no_grad_embedding_renorm_': <function torch.nn.functional._no_grad_embedding_renorm_(weight: torch.Tensor, input: torch.Tensor, max_norm: float, norm_type: float) -> torch.Tensor>,\n",
       " 'embedding': <function torch.nn.functional.embedding(input: torch.Tensor, weight: torch.Tensor, padding_idx: Union[int, NoneType] = None, max_norm: Union[float, NoneType] = None, norm_type: float = 2.0, scale_grad_by_freq: bool = False, sparse: bool = False) -> torch.Tensor>,\n",
       " 'embedding_bag': <function torch.nn.functional.embedding_bag(input: torch.Tensor, weight: torch.Tensor, offsets: Union[torch.Tensor, NoneType] = None, max_norm: Union[float, NoneType] = None, norm_type: float = 2, scale_grad_by_freq: bool = False, mode: str = 'mean', sparse: bool = False, per_sample_weights: Union[torch.Tensor, NoneType] = None, include_last_offset: bool = False, padding_idx: Union[int, NoneType] = None) -> torch.Tensor>,\n",
       " '_verify_batch_size': <function torch.nn.functional._verify_batch_size(size: List[int]) -> None>,\n",
       " 'batch_norm': <function torch.nn.functional.batch_norm(input: torch.Tensor, running_mean: Union[torch.Tensor, NoneType], running_var: Union[torch.Tensor, NoneType], weight: Union[torch.Tensor, NoneType] = None, bias: Union[torch.Tensor, NoneType] = None, training: bool = False, momentum: float = 0.1, eps: float = 1e-05) -> torch.Tensor>,\n",
       " '_verify_spatial_size': <function torch.nn.functional._verify_spatial_size(size: List[int]) -> None>,\n",
       " 'instance_norm': <function torch.nn.functional.instance_norm(input: torch.Tensor, running_mean: Union[torch.Tensor, NoneType] = None, running_var: Union[torch.Tensor, NoneType] = None, weight: Union[torch.Tensor, NoneType] = None, bias: Union[torch.Tensor, NoneType] = None, use_input_stats: bool = True, momentum: float = 0.1, eps: float = 1e-05) -> torch.Tensor>,\n",
       " 'layer_norm': <function torch.nn.functional.layer_norm(input: torch.Tensor, normalized_shape: List[int], weight: Union[torch.Tensor, NoneType] = None, bias: Union[torch.Tensor, NoneType] = None, eps: float = 1e-05) -> torch.Tensor>,\n",
       " 'group_norm': <function torch.nn.functional.group_norm(input: torch.Tensor, num_groups: int, weight: Union[torch.Tensor, NoneType] = None, bias: Union[torch.Tensor, NoneType] = None, eps: float = 1e-05) -> torch.Tensor>,\n",
       " 'local_response_norm': <function torch.nn.functional.local_response_norm(input: torch.Tensor, size: int, alpha: float = 0.0001, beta: float = 0.75, k: float = 1.0) -> torch.Tensor>,\n",
       " 'ctc_loss': <function torch.nn.functional.ctc_loss(log_probs: torch.Tensor, targets: torch.Tensor, input_lengths: torch.Tensor, target_lengths: torch.Tensor, blank: int = 0, reduction: str = 'mean', zero_infinity: bool = False) -> torch.Tensor>,\n",
       " 'nll_loss': <function torch.nn.functional.nll_loss(input: torch.Tensor, target: torch.Tensor, weight: Union[torch.Tensor, NoneType] = None, size_average: Union[bool, NoneType] = None, ignore_index: int = -100, reduce: Union[bool, NoneType] = None, reduction: str = 'mean') -> torch.Tensor>,\n",
       " 'poisson_nll_loss': <function torch.nn.functional.poisson_nll_loss(input: torch.Tensor, target: torch.Tensor, log_input: bool = True, full: bool = False, size_average: Union[bool, NoneType] = None, eps: float = 1e-08, reduce: Union[bool, NoneType] = None, reduction: str = 'mean') -> torch.Tensor>,\n",
       " 'gaussian_nll_loss': <function torch.nn.functional.gaussian_nll_loss(input: torch.Tensor, target: torch.Tensor, var: torch.Tensor, full: bool = False, eps: float = 1e-06, reduction: str = 'mean') -> torch.Tensor>,\n",
       " 'kl_div': <function torch.nn.functional.kl_div(input: torch.Tensor, target: torch.Tensor, size_average: Union[bool, NoneType] = None, reduce: Union[bool, NoneType] = None, reduction: str = 'mean', log_target: bool = False) -> torch.Tensor>,\n",
       " 'cross_entropy': <function torch.nn.functional.cross_entropy(input: torch.Tensor, target: torch.Tensor, weight: Union[torch.Tensor, NoneType] = None, size_average: Union[bool, NoneType] = None, ignore_index: int = -100, reduce: Union[bool, NoneType] = None, reduction: str = 'mean', label_smoothing: float = 0.0) -> torch.Tensor>,\n",
       " 'binary_cross_entropy': <function torch.nn.functional.binary_cross_entropy(input: torch.Tensor, target: torch.Tensor, weight: Union[torch.Tensor, NoneType] = None, size_average: Union[bool, NoneType] = None, reduce: Union[bool, NoneType] = None, reduction: str = 'mean') -> torch.Tensor>,\n",
       " 'binary_cross_entropy_with_logits': <function torch.nn.functional.binary_cross_entropy_with_logits(input: torch.Tensor, target: torch.Tensor, weight: Union[torch.Tensor, NoneType] = None, size_average: Union[bool, NoneType] = None, reduce: Union[bool, NoneType] = None, reduction: str = 'mean', pos_weight: Union[torch.Tensor, NoneType] = None) -> torch.Tensor>,\n",
       " 'smooth_l1_loss': <function torch.nn.functional.smooth_l1_loss(input: torch.Tensor, target: torch.Tensor, size_average: Union[bool, NoneType] = None, reduce: Union[bool, NoneType] = None, reduction: str = 'mean', beta: float = 1.0) -> torch.Tensor>,\n",
       " 'huber_loss': <function torch.nn.functional.huber_loss(input: torch.Tensor, target: torch.Tensor, reduction: str = 'mean', delta: float = 1.0) -> torch.Tensor>,\n",
       " 'l1_loss': <function torch.nn.functional.l1_loss(input: torch.Tensor, target: torch.Tensor, size_average: Union[bool, NoneType] = None, reduce: Union[bool, NoneType] = None, reduction: str = 'mean') -> torch.Tensor>,\n",
       " 'mse_loss': <function torch.nn.functional.mse_loss(input: torch.Tensor, target: torch.Tensor, size_average: Union[bool, NoneType] = None, reduce: Union[bool, NoneType] = None, reduction: str = 'mean') -> torch.Tensor>,\n",
       " 'margin_ranking_loss': <function torch.nn.functional.margin_ranking_loss(input1: torch.Tensor, input2: torch.Tensor, target: torch.Tensor, margin: float = 0, size_average: Union[bool, NoneType] = None, reduce: Union[bool, NoneType] = None, reduction: str = 'mean') -> torch.Tensor>,\n",
       " 'hinge_embedding_loss': <function torch.nn.functional.hinge_embedding_loss(input: torch.Tensor, target: torch.Tensor, margin: float = 1.0, size_average: Union[bool, NoneType] = None, reduce: Union[bool, NoneType] = None, reduction: str = 'mean') -> torch.Tensor>,\n",
       " 'multilabel_margin_loss': <function torch.nn.functional.multilabel_margin_loss(input: torch.Tensor, target: torch.Tensor, size_average: Union[bool, NoneType] = None, reduce: Union[bool, NoneType] = None, reduction: str = 'mean') -> torch.Tensor>,\n",
       " 'soft_margin_loss': <function torch.nn.functional.soft_margin_loss(input: torch.Tensor, target: torch.Tensor, size_average: Union[bool, NoneType] = None, reduce: Union[bool, NoneType] = None, reduction: str = 'mean') -> torch.Tensor>,\n",
       " 'multilabel_soft_margin_loss': <function torch.nn.functional.multilabel_soft_margin_loss(input: torch.Tensor, target: torch.Tensor, weight: Union[torch.Tensor, NoneType] = None, size_average: Union[bool, NoneType] = None, reduce: Union[bool, NoneType] = None, reduction: str = 'mean') -> torch.Tensor>,\n",
       " 'cosine_embedding_loss': <function torch.nn.functional.cosine_embedding_loss(input1: torch.Tensor, input2: torch.Tensor, target: torch.Tensor, margin: float = 0, size_average: Union[bool, NoneType] = None, reduce: Union[bool, NoneType] = None, reduction: str = 'mean') -> torch.Tensor>,\n",
       " 'multi_margin_loss': <function torch.nn.functional.multi_margin_loss(input: torch.Tensor, target: torch.Tensor, p: int = 1, margin: float = 1.0, weight: Union[torch.Tensor, NoneType] = None, size_average: Union[bool, NoneType] = None, reduce: Union[bool, NoneType] = None, reduction: str = 'mean') -> torch.Tensor>,\n",
       " 'pixel_shuffle': <function _VariableFunctionsClass.pixel_shuffle>,\n",
       " 'pixel_unshuffle': <function _VariableFunctionsClass.pixel_unshuffle>,\n",
       " 'channel_shuffle': <function _VariableFunctionsClass.channel_shuffle>,\n",
       " 'native_channel_shuffle': <function _VariableFunctionsClass.native_channel_shuffle>,\n",
       " 'upsample': <function torch.nn.functional.upsample(input, size=None, scale_factor=None, mode='nearest', align_corners=None)>,\n",
       " 'interpolate': <function torch.nn.functional.interpolate(input: torch.Tensor, size: Union[int, NoneType] = None, scale_factor: Union[List[float], NoneType] = None, mode: str = 'nearest', align_corners: Union[bool, NoneType] = None, recompute_scale_factor: Union[bool, NoneType] = None, antialias: bool = False) -> torch.Tensor>,\n",
       " 'upsample_nearest': <function torch.nn.functional.upsample_nearest(input, size=None, scale_factor=None)>,\n",
       " 'upsample_bilinear': <function torch.nn.functional.upsample_bilinear(input, size=None, scale_factor=None)>,\n",
       " 'GRID_SAMPLE_INTERPOLATION_MODES': {'bilinear': 0,\n",
       "  'nearest': 1,\n",
       "  'bicubic': 2},\n",
       " 'GRID_SAMPLE_PADDING_MODES': {'zeros': 0, 'border': 1, 'reflection': 2},\n",
       " 'grid_sample': <function torch.nn.functional.grid_sample(input: torch.Tensor, grid: torch.Tensor, mode: str = 'bilinear', padding_mode: str = 'zeros', align_corners: Union[bool, NoneType] = None) -> torch.Tensor>,\n",
       " 'affine_grid': <function torch.nn.functional.affine_grid(theta: torch.Tensor, size: List[int], align_corners: Union[bool, NoneType] = None) -> torch.Tensor>,\n",
       " '_pad': <function torch.nn.functional._pad(input: torch.Tensor, pad: List[int], mode: str = 'constant', value: float = 0.0) -> torch.Tensor>,\n",
       " 'pad': <function torch.nn.functional._pad(input: torch.Tensor, pad: List[int], mode: str = 'constant', value: float = 0.0) -> torch.Tensor>,\n",
       " 'pairwise_distance': <function _VariableFunctionsClass.pairwise_distance>,\n",
       " 'pdist': <function _VariableFunctionsClass.pdist>,\n",
       " 'cosine_similarity': <function _VariableFunctionsClass.cosine_similarity>,\n",
       " 'one_hot': <function torch._C._nn.one_hot>,\n",
       " 'triplet_margin_loss': <function torch.nn.functional.triplet_margin_loss(anchor: torch.Tensor, positive: torch.Tensor, negative: torch.Tensor, margin: float = 1.0, p: float = 2, eps: float = 1e-06, swap: bool = False, size_average: Union[bool, NoneType] = None, reduce: Union[bool, NoneType] = None, reduction: str = 'mean') -> torch.Tensor>,\n",
       " 'triplet_margin_with_distance_loss': <function torch.nn.functional.triplet_margin_with_distance_loss(anchor: torch.Tensor, positive: torch.Tensor, negative: torch.Tensor, *, distance_function: Union[Callable[[torch.Tensor, torch.Tensor], torch.Tensor], NoneType] = None, margin: float = 1.0, swap: bool = False, reduction: str = 'mean') -> torch.Tensor>,\n",
       " 'normalize': <function torch.nn.functional.normalize(input: torch.Tensor, p: float = 2.0, dim: int = 1, eps: float = 1e-12, out: Union[torch.Tensor, NoneType] = None) -> torch.Tensor>,\n",
       " 'assert_int_or_pair': <function torch.nn.functional.assert_int_or_pair(arg: List[int], arg_name: str, message: str) -> None>,\n",
       " 'unfold': <function torch.nn.functional.unfold(input: torch.Tensor, kernel_size: None, dilation: None = 1, padding: None = 0, stride: None = 1) -> torch.Tensor>,\n",
       " 'fold': <function torch.nn.functional.fold(input: torch.Tensor, output_size: None, kernel_size: None, dilation: None = 1, padding: None = 0, stride: None = 1) -> torch.Tensor>,\n",
       " '_pad_circular': <function torch.nn.functional._pad_circular(input: torch.Tensor, padding: List[int]) -> torch.Tensor>,\n",
       " '_in_projection_packed': <function torch.nn.functional._in_projection_packed(q: torch.Tensor, k: torch.Tensor, v: torch.Tensor, w: torch.Tensor, b: Union[torch.Tensor, NoneType] = None) -> List[torch.Tensor]>,\n",
       " '_in_projection': <function torch.nn.functional._in_projection(q: torch.Tensor, k: torch.Tensor, v: torch.Tensor, w_q: torch.Tensor, w_k: torch.Tensor, w_v: torch.Tensor, b_q: Union[torch.Tensor, NoneType] = None, b_k: Union[torch.Tensor, NoneType] = None, b_v: Union[torch.Tensor, NoneType] = None) -> Tuple[torch.Tensor, torch.Tensor, torch.Tensor]>,\n",
       " '_scaled_dot_product_attention': <function torch.nn.functional._scaled_dot_product_attention(q: torch.Tensor, k: torch.Tensor, v: torch.Tensor, attn_mask: Union[torch.Tensor, NoneType] = None, dropout_p: float = 0.0) -> Tuple[torch.Tensor, torch.Tensor]>,\n",
       " '_mha_shape_check': <function torch.nn.functional._mha_shape_check(query: torch.Tensor, key: torch.Tensor, value: torch.Tensor, key_padding_mask: Union[torch.Tensor, NoneType], attn_mask: Union[torch.Tensor, NoneType], num_heads: int)>,\n",
       " 'multi_head_attention_forward': <function torch.nn.functional.multi_head_attention_forward(query: torch.Tensor, key: torch.Tensor, value: torch.Tensor, embed_dim_to_check: int, num_heads: int, in_proj_weight: torch.Tensor, in_proj_bias: Union[torch.Tensor, NoneType], bias_k: Union[torch.Tensor, NoneType], bias_v: Union[torch.Tensor, NoneType], add_zero_attn: bool, dropout_p: float, out_proj_weight: torch.Tensor, out_proj_bias: Union[torch.Tensor, NoneType], training: bool = True, key_padding_mask: Union[torch.Tensor, NoneType] = None, need_weights: bool = True, attn_mask: Union[torch.Tensor, NoneType] = None, use_separate_proj_weight: bool = False, q_proj_weight: Union[torch.Tensor, NoneType] = None, k_proj_weight: Union[torch.Tensor, NoneType] = None, v_proj_weight: Union[torch.Tensor, NoneType] = None, static_k: Union[torch.Tensor, NoneType] = None, static_v: Union[torch.Tensor, NoneType] = None, average_attn_weights: bool = True) -> Tuple[torch.Tensor, Union[torch.Tensor, NoneType]]>}"
      ]
     },
     "execution_count": 330,
     "metadata": {},
     "output_type": "execute_result"
    }
   ],
   "source": [
    "import torch.nn.functional as F \n",
    "F.__dict__"
   ]
  },
  {
   "cell_type": "code",
   "execution_count": 331,
   "metadata": {},
   "outputs": [],
   "source": [
    "import os \n",
    "from dgl.data.utils import download"
   ]
  },
  {
   "cell_type": "code",
   "execution_count": 332,
   "metadata": {},
   "outputs": [],
   "source": [
    "from dgl.data import DGLDataset\n",
    "\n",
    "class MyDataset(DGLDataset):\n",
    "    \"\"\" 用于在DGL中自定义图数据集的模板：\n",
    "\n",
    "    Parameters\n",
    "    ----------\n",
    "    url : str\n",
    "        下载原始数据集的url。\n",
    "    raw_dir : str\n",
    "        指定下载数据的存储目录或已下载数据的存储目录。默认: ~/.dgl/\n",
    "    save_dir : str\n",
    "        处理完成的数据集的保存目录。默认：raw_dir指定的值\n",
    "    force_reload : bool\n",
    "        是否重新导入数据集。默认：False\n",
    "    verbose : bool\n",
    "        是否打印进度信息。\n",
    "    \"\"\"\n",
    "    def __init__(self,\n",
    "                 url=None,\n",
    "                 raw_dir=None,\n",
    "                 save_dir=None,\n",
    "                 force_reload=False,\n",
    "                 verbose=False):\n",
    "        super(MyDataset, self).__init__(name='dataset_name',\n",
    "                                        url=url,\n",
    "                                        raw_dir=raw_dir,\n",
    "                                        save_dir=save_dir,\n",
    "                                        force_reload=force_reload,\n",
    "                                        verbose=verbose)\n",
    "\n",
    "    def download(self):\n",
    "        # 将原始数据下载到本地磁盘\n",
    "        file_path=os.path.join(self.raw_dir,self.name+'.mat')\n",
    "        # 下载文件\n",
    "        download(self.url,path=file_path)\n",
    "\n",
    "    def process(self):\n",
    "        # 将原始数据处理为图、标签和数据集划分的掩码\n",
    "        pass\n",
    "\n",
    "    def __getitem__(self, idx):\n",
    "        # 通过idx得到与之对应的一个样本\n",
    "        pass\n",
    "\n",
    "    def __len__(self):\n",
    "        # 数据样本的数量\n",
    "        pass\n",
    "\n",
    "    def save(self):\n",
    "        # 将处理后的数据保存至 `self.save_path`\n",
    "        pass\n",
    "\n",
    "    def load(self):\n",
    "        # 从 `self.save_path` 导入处理后的数据\n",
    "        pass\n",
    "\n",
    "    def has_cache(self):\n",
    "        # 检查在 `self.save_path` 中是否存有处理后的数据\n",
    "        pass"
   ]
  },
  {
   "cell_type": "code",
   "execution_count": null,
   "metadata": {},
   "outputs": [],
   "source": [
    "from dgl.data import DGLDataset\n",
    "\n",
    "class QM7bDataset(DGLDataset):\n",
    "    _url = 'http://deepchem.io.s3-website-us-west-1.amazonaws.com/' \\\n",
    "           'datasets/qm7b.mat'\n",
    "    _sha1_str = '4102c744bb9d6fd7b40ac67a300e49cd87e28392'\n",
    "\n",
    "    def __init__(self, raw_dir=None, force_reload=False, verbose=False):\n",
    "        super(QM7bDataset, self).__init__(name='qm7b',\n",
    "                                          url=self._url,\n",
    "                                          raw_dir=raw_dir,\n",
    "                                          force_reload=force_reload,\n",
    "                                          verbose=verbose)\n",
    "    \n",
    "    def download(self):\n",
    "        # 将原始数据下载到本地磁盘\n",
    "        file_path=os.path.join(self.raw_dir,self.name+'.mat')\n",
    "        # 下载文件\n",
    "        download(self.url,path=file_path)\n",
    "        \n",
    "    def process(self):\n",
    "        mat_path = self.raw_path + '.mat'\n",
    "        # 将数据处理为图列表和标签列表\n",
    "        self.graphs, self.label = self._load_graph(mat_path)\n",
    "\n",
    "    def __getitem__(self, idx):\n",
    "        \"\"\" 通过idx获取对应的图和标签\n",
    "\n",
    "        Parameters\n",
    "        ----------\n",
    "        idx : int\n",
    "            Item index\n",
    "\n",
    "        Returns\n",
    "        -------\n",
    "        (dgl.DGLGraph, Tensor)\n",
    "        \"\"\"\n",
    "        return self.graphs[idx], self.label[idx]\n",
    "\n",
    "    def __len__(self):\n",
    "        \"\"\"数据集中图的数量\"\"\"\n",
    "        return len(self.graphs)"
   ]
  },
  {
   "cell_type": "code",
   "execution_count": 335,
   "metadata": {},
   "outputs": [
    {
     "ename": "ImportError",
     "evalue": "attempted relative import with no known parent package",
     "output_type": "error",
     "traceback": [
      "\u001b[0;31m---------------------------------------------------------------------------\u001b[0m",
      "\u001b[0;31mImportError\u001b[0m                               Traceback (most recent call last)",
      "\u001b[1;32m/home/suzhang/git/GNN/GCC-master_copy/dglgraph.ipynb Cell 144\u001b[0m in \u001b[0;36m<cell line: 6>\u001b[0;34m()\u001b[0m\n\u001b[1;32m      <a href='vscode-notebook-cell://ssh-remote%2Bximi/home/suzhang/git/GNN/GCC-master_copy/dglgraph.ipynb#Y263sdnNjb2RlLXJlbW90ZQ%3D%3D?line=2'>3</a>\u001b[0m \u001b[39mimport\u001b[39;00m \u001b[39mnumpy\u001b[39;00m \u001b[39mas\u001b[39;00m \u001b[39mnp\u001b[39;00m\n\u001b[1;32m      <a href='vscode-notebook-cell://ssh-remote%2Bximi/home/suzhang/git/GNN/GCC-master_copy/dglgraph.ipynb#Y263sdnNjb2RlLXJlbW90ZQ%3D%3D?line=3'>4</a>\u001b[0m \u001b[39mimport\u001b[39;00m \u001b[39mos\u001b[39;00m\n\u001b[0;32m----> <a href='vscode-notebook-cell://ssh-remote%2Bximi/home/suzhang/git/GNN/GCC-master_copy/dglgraph.ipynb#Y263sdnNjb2RlLXJlbW90ZQ%3D%3D?line=5'>6</a>\u001b[0m \u001b[39mfrom\u001b[39;00m \u001b[39m.\u001b[39;00m\u001b[39mdgl_dataset\u001b[39;00m \u001b[39mimport\u001b[39;00m DGLDataset\n\u001b[1;32m      <a href='vscode-notebook-cell://ssh-remote%2Bximi/home/suzhang/git/GNN/GCC-master_copy/dglgraph.ipynb#Y263sdnNjb2RlLXJlbW90ZQ%3D%3D?line=6'>7</a>\u001b[0m \u001b[39mfrom\u001b[39;00m \u001b[39m.\u001b[39;00m\u001b[39mutils\u001b[39;00m \u001b[39mimport\u001b[39;00m download, save_graphs, load_graphs, \\\n\u001b[1;32m      <a href='vscode-notebook-cell://ssh-remote%2Bximi/home/suzhang/git/GNN/GCC-master_copy/dglgraph.ipynb#Y263sdnNjb2RlLXJlbW90ZQ%3D%3D?line=7'>8</a>\u001b[0m     check_sha1, deprecate_property\n\u001b[1;32m      <a href='vscode-notebook-cell://ssh-remote%2Bximi/home/suzhang/git/GNN/GCC-master_copy/dglgraph.ipynb#Y263sdnNjb2RlLXJlbW90ZQ%3D%3D?line=8'>9</a>\u001b[0m \u001b[39mfrom\u001b[39;00m \u001b[39m.\u001b[39;00m\u001b[39m.\u001b[39;00m \u001b[39mimport\u001b[39;00m backend \u001b[39mas\u001b[39;00m F\n",
      "\u001b[0;31mImportError\u001b[0m: attempted relative import with no known parent package"
     ]
    }
   ],
   "source": [
    "\"\"\"QM7b dataset for graph property prediction (regression).\"\"\"\n",
    "from scipy import io\n",
    "import numpy as np\n",
    "import os\n",
    "\n",
    "from .dgl_dataset import DGLDataset\n",
    "from .utils import download, save_graphs, load_graphs, \\\n",
    "    check_sha1, deprecate_property\n",
    "from .. import backend as F\n",
    "from ..convert import graph as dgl_graph\n",
    "\n",
    "\n",
    "\n",
    "class QM7bDataset(DGLDataset):\n",
    "    r\"\"\"QM7b dataset for graph property prediction (regression)\n",
    "\n",
    "    This dataset consists of 7,211 molecules with 14 regression targets.\n",
    "    Nodes means atoms and edges means bonds. Edge data 'h' means\n",
    "    the entry of Coulomb matrix.\n",
    "\n",
    "    Reference: `<http://quantum-machine.org/datasets/>`_\n",
    "\n",
    "    Statistics:\n",
    "\n",
    "    - Number of graphs: 7,211\n",
    "    - Number of regression targets: 14\n",
    "    - Average number of nodes: 15\n",
    "    - Average number of edges: 245\n",
    "    - Edge feature size: 1\n",
    "\n",
    "    Parameters\n",
    "    ----------\n",
    "    raw_dir : str\n",
    "        Raw file directory to download/contains the input data directory.\n",
    "        Default: ~/.dgl/\n",
    "    force_reload : bool\n",
    "        Whether to reload the dataset. Default: False\n",
    "    verbose: bool\n",
    "        Whether to print out progress information. Default: True.\n",
    "\n",
    "    Attributes\n",
    "    ----------\n",
    "    num_labels : int\n",
    "        Number of labels for each graph, i.e. number of prediction tasks\n",
    "\n",
    "    Raises\n",
    "    ------\n",
    "    UserWarning\n",
    "        If the raw data is changed in the remote server by the author.\n",
    "\n",
    "    Examples\n",
    "    --------\n",
    "    >>> data = QM7bDataset()\n",
    "    >>> data.num_labels\n",
    "    14\n",
    "    >>>\n",
    "    >>> # iterate over the dataset\n",
    "    >>> for g, label in data:\n",
    "    ...     edge_feat = g.edata['h']  # get edge feature\n",
    "    ...     # your code here...\n",
    "    ...\n",
    "    >>>\n",
    "    \"\"\"\n",
    "\n",
    "    _url = 'http://deepchem.io.s3-website-us-west-1.amazonaws.com/' \\\n",
    "           'datasets/qm7b.mat'\n",
    "    _sha1_str = '4102c744bb9d6fd7b40ac67a300e49cd87e28392'\n",
    "\n",
    "    def __init__(self, raw_dir=None, force_reload=False, verbose=False):\n",
    "        super(QM7bDataset, self).__init__(name='qm7b',\n",
    "                                          url=self._url,\n",
    "                                          raw_dir=raw_dir,\n",
    "                                          force_reload=force_reload,\n",
    "                                          verbose=verbose)\n",
    "\n",
    "    def process(self):\n",
    "        mat_path = self.raw_path + '.mat'\n",
    "        self.graphs, self.label = self._load_graph(mat_path)\n",
    "\n",
    "    def _load_graph(self, filename):\n",
    "        data = io.loadmat(filename)\n",
    "        labels = F.tensor(data['T'], dtype=F.data_type_dict['float32'])\n",
    "        feats = data['X']\n",
    "        num_graphs = labels.shape[0]\n",
    "        graphs = []\n",
    "        for i in range(num_graphs):\n",
    "            edge_list = feats[i].nonzero()\n",
    "            g = dgl_graph(edge_list)\n",
    "            g.edata['h'] = F.tensor(feats[i][edge_list[0], edge_list[1]].reshape(-1, 1),\n",
    "                                    dtype=F.data_type_dict['float32'])\n",
    "            graphs.append(g)\n",
    "        return graphs, labels\n",
    "\n",
    "    def save(self):\n",
    "        \"\"\"save the graph list and the labels\"\"\"\n",
    "        graph_path = os.path.join(self.save_path, 'dgl_graph.bin')\n",
    "        save_graphs(str(graph_path), self.graphs, {'labels': self.label})\n",
    "\n",
    "    def has_cache(self):\n",
    "        graph_path = os.path.join(self.save_path, 'dgl_graph.bin')\n",
    "        return os.path.exists(graph_path)\n",
    "\n",
    "    def load(self):\n",
    "        graphs, label_dict = load_graphs(os.path.join(self.save_path, 'dgl_graph.bin'))\n",
    "        self.graphs = graphs\n",
    "        self.label = label_dict['labels']\n",
    "\n",
    "    def download(self):\n",
    "        file_path = os.path.join(self.raw_dir, self.name + '.mat')\n",
    "        download(self.url, path=file_path)\n",
    "        if not check_sha1(file_path, self._sha1_str):\n",
    "            raise UserWarning('File {} is downloaded but the content hash does not match.'\n",
    "                              'The repo may be outdated or download may be incomplete. '\n",
    "                              'Otherwise you can create an issue for it.'.format(self.name))\n",
    "\n",
    "    @property\n",
    "    def num_labels(self):\n",
    "        \"\"\"Number of labels for each graph, i.e. number of prediction tasks.\"\"\"\n",
    "        return 14\n",
    "\n",
    "\n",
    "    def __getitem__(self, idx):\n",
    "        r\"\"\" Get graph and label by index\n",
    "\n",
    "        Parameters\n",
    "        ----------\n",
    "        idx : int\n",
    "            Item index\n",
    "\n",
    "        Returns\n",
    "        -------\n",
    "        (:class:`dgl.DGLGraph`, Tensor)\n",
    "        \"\"\"\n",
    "        return self.graphs[idx], self.label[idx]\n",
    "\n",
    "\n",
    "\n",
    "    def __len__(self):\n",
    "        r\"\"\"Number of graphs in the dataset.\n",
    "\n",
    "        Return\n",
    "        -------\n",
    "        int\n",
    "        \"\"\"\n",
    "        return len(self.graphs)\n",
    "\n",
    "\n",
    "\n",
    "QM7b = QM7bDataset"
   ]
  },
  {
   "cell_type": "code",
   "execution_count": 338,
   "metadata": {},
   "outputs": [],
   "source": [
    "from scipy import io \n",
    "import numpy as np \n",
    "import os \n",
    "\n",
    "from dgl.data import DGLDataset \n",
    "from dgl.data.utils import download,save_graphs,load_graphs,check_sha1,deprecate_property\n",
    "import torch as F \n",
    "from dgl.convert import graph as dgl_graph"
   ]
  },
  {
   "cell_type": "code",
   "execution_count": null,
   "metadata": {},
   "outputs": [],
   "source": [
    "class QM7bDataset(DGLDataset):\n",
    "    _url='http://deepchem.io.s3-website-us-west-1.amazonaws.com/' \\\n",
    "           'datasets/qm7b.mat'\n",
    "    _sha1_str = '4102c744bb9d6fd7b40ac67a300e49cd87e28392'\n",
    "    \n",
    "    def __init__(self,raw_dir=None,force_reload=False,verbose=False):\n",
    "        super(QM7bDataset,self).__init__(\n",
    "            name='qm7b',url=self._url,raw_dir=raw_dir,force_reload=force_reload,verbose=verbose\n",
    "        )    \n",
    "    \n",
    "    def process(self):\n",
    "        mat_path=self.raw_path+'.mat'\n",
    "        self.graphs,self.labels=self._load_graph(mat_path)\n",
    "        \n",
    "    def _load_graph(self,filename):\n",
    "        data=io.loadmat(filename)\n",
    "        labels=F.tensor()\n",
    "        \n",
    "     def download(self):\n",
    "        file_path = os.path.join(self.raw_dir, self.name + '.mat')\n",
    "        download(self.url, path=file_path)\n",
    "        if not check_sha1(file_path, self._sha1_str):\n",
    "            raise UserWarning('File {} is downloaded but the content hash does not match.'\n",
    "                              'The repo may be outdated or download may be incomplete. '\n",
    "                              'Otherwise you can create an issue for it.'.format(self.name))"
   ]
  },
  {
   "cell_type": "code",
   "execution_count": 341,
   "metadata": {},
   "outputs": [
    {
     "name": "stdout",
     "output_type": "stream",
     "text": [
      "Downloading /home/suzhang/.dgl/qm7b.mat from http://deepchem.io.s3-website-us-west-1.amazonaws.com/datasets/qm7b.mat...\n"
     ]
    },
    {
     "ename": "AttributeError",
     "evalue": "module 'torch' has no attribute 'data_type_dict'",
     "output_type": "error",
     "traceback": [
      "\u001b[0;31m---------------------------------------------------------------------------\u001b[0m",
      "\u001b[0;31mAttributeError\u001b[0m                            Traceback (most recent call last)",
      "\u001b[1;32m/home/suzhang/git/GNN/GCC-master_copy/dglgraph.ipynb Cell 147\u001b[0m in \u001b[0;36m<cell line: 133>\u001b[0;34m()\u001b[0m\n\u001b[1;32m    <a href='vscode-notebook-cell://ssh-remote%2Bximi/home/suzhang/git/GNN/GCC-master_copy/dglgraph.ipynb#Y266sdnNjb2RlLXJlbW90ZQ%3D%3D?line=122'>123</a>\u001b[0m         \u001b[39mr\u001b[39m\u001b[39m\"\"\"Number of graphs in the dataset.\u001b[39;00m\n\u001b[1;32m    <a href='vscode-notebook-cell://ssh-remote%2Bximi/home/suzhang/git/GNN/GCC-master_copy/dglgraph.ipynb#Y266sdnNjb2RlLXJlbW90ZQ%3D%3D?line=123'>124</a>\u001b[0m \n\u001b[1;32m    <a href='vscode-notebook-cell://ssh-remote%2Bximi/home/suzhang/git/GNN/GCC-master_copy/dglgraph.ipynb#Y266sdnNjb2RlLXJlbW90ZQ%3D%3D?line=124'>125</a>\u001b[0m \u001b[39m        Return\u001b[39;00m\n\u001b[1;32m    <a href='vscode-notebook-cell://ssh-remote%2Bximi/home/suzhang/git/GNN/GCC-master_copy/dglgraph.ipynb#Y266sdnNjb2RlLXJlbW90ZQ%3D%3D?line=125'>126</a>\u001b[0m \u001b[39m        -------\u001b[39;00m\n\u001b[1;32m    <a href='vscode-notebook-cell://ssh-remote%2Bximi/home/suzhang/git/GNN/GCC-master_copy/dglgraph.ipynb#Y266sdnNjb2RlLXJlbW90ZQ%3D%3D?line=126'>127</a>\u001b[0m \u001b[39m        int\u001b[39;00m\n\u001b[1;32m    <a href='vscode-notebook-cell://ssh-remote%2Bximi/home/suzhang/git/GNN/GCC-master_copy/dglgraph.ipynb#Y266sdnNjb2RlLXJlbW90ZQ%3D%3D?line=127'>128</a>\u001b[0m \u001b[39m        \"\"\"\u001b[39;00m\n\u001b[1;32m    <a href='vscode-notebook-cell://ssh-remote%2Bximi/home/suzhang/git/GNN/GCC-master_copy/dglgraph.ipynb#Y266sdnNjb2RlLXJlbW90ZQ%3D%3D?line=128'>129</a>\u001b[0m         \u001b[39mreturn\u001b[39;00m \u001b[39mlen\u001b[39m(\u001b[39mself\u001b[39m\u001b[39m.\u001b[39mgraphs)\n\u001b[0;32m--> <a href='vscode-notebook-cell://ssh-remote%2Bximi/home/suzhang/git/GNN/GCC-master_copy/dglgraph.ipynb#Y266sdnNjb2RlLXJlbW90ZQ%3D%3D?line=132'>133</a>\u001b[0m QM7b \u001b[39m=\u001b[39m QM7bDataset()\n",
      "\u001b[1;32m/home/suzhang/git/GNN/GCC-master_copy/dglgraph.ipynb Cell 147\u001b[0m in \u001b[0;36mQM7bDataset.__init__\u001b[0;34m(self, raw_dir, force_reload, verbose)\u001b[0m\n\u001b[1;32m     <a href='vscode-notebook-cell://ssh-remote%2Bximi/home/suzhang/git/GNN/GCC-master_copy/dglgraph.ipynb#Y266sdnNjb2RlLXJlbW90ZQ%3D%3D?line=55'>56</a>\u001b[0m \u001b[39mdef\u001b[39;00m \u001b[39m__init__\u001b[39m(\u001b[39mself\u001b[39m, raw_dir\u001b[39m=\u001b[39m\u001b[39mNone\u001b[39;00m, force_reload\u001b[39m=\u001b[39m\u001b[39mFalse\u001b[39;00m, verbose\u001b[39m=\u001b[39m\u001b[39mFalse\u001b[39;00m):\n\u001b[0;32m---> <a href='vscode-notebook-cell://ssh-remote%2Bximi/home/suzhang/git/GNN/GCC-master_copy/dglgraph.ipynb#Y266sdnNjb2RlLXJlbW90ZQ%3D%3D?line=56'>57</a>\u001b[0m     \u001b[39msuper\u001b[39;49m(QM7bDataset, \u001b[39mself\u001b[39;49m)\u001b[39m.\u001b[39;49m\u001b[39m__init__\u001b[39;49m(name\u001b[39m=\u001b[39;49m\u001b[39m'\u001b[39;49m\u001b[39mqm7b\u001b[39;49m\u001b[39m'\u001b[39;49m,\n\u001b[1;32m     <a href='vscode-notebook-cell://ssh-remote%2Bximi/home/suzhang/git/GNN/GCC-master_copy/dglgraph.ipynb#Y266sdnNjb2RlLXJlbW90ZQ%3D%3D?line=57'>58</a>\u001b[0m                                       url\u001b[39m=\u001b[39;49m\u001b[39mself\u001b[39;49m\u001b[39m.\u001b[39;49m_url,\n\u001b[1;32m     <a href='vscode-notebook-cell://ssh-remote%2Bximi/home/suzhang/git/GNN/GCC-master_copy/dglgraph.ipynb#Y266sdnNjb2RlLXJlbW90ZQ%3D%3D?line=58'>59</a>\u001b[0m                                       raw_dir\u001b[39m=\u001b[39;49mraw_dir,\n\u001b[1;32m     <a href='vscode-notebook-cell://ssh-remote%2Bximi/home/suzhang/git/GNN/GCC-master_copy/dglgraph.ipynb#Y266sdnNjb2RlLXJlbW90ZQ%3D%3D?line=59'>60</a>\u001b[0m                                       force_reload\u001b[39m=\u001b[39;49mforce_reload,\n\u001b[1;32m     <a href='vscode-notebook-cell://ssh-remote%2Bximi/home/suzhang/git/GNN/GCC-master_copy/dglgraph.ipynb#Y266sdnNjb2RlLXJlbW90ZQ%3D%3D?line=60'>61</a>\u001b[0m                                       verbose\u001b[39m=\u001b[39;49mverbose)\n",
      "File \u001b[0;32m~/anaconda3/envs/gccplnlp/lib/python3.8/site-packages/dgl/data/dgl_dataset.py:91\u001b[0m, in \u001b[0;36mDGLDataset.__init__\u001b[0;34m(self, name, url, raw_dir, save_dir, hash_key, force_reload, verbose)\u001b[0m\n\u001b[1;32m     88\u001b[0m \u001b[39mif\u001b[39;00m save_dir \u001b[39mis\u001b[39;00m \u001b[39mNone\u001b[39;00m:\n\u001b[1;32m     89\u001b[0m     \u001b[39mself\u001b[39m\u001b[39m.\u001b[39m_save_dir \u001b[39m=\u001b[39m \u001b[39mself\u001b[39m\u001b[39m.\u001b[39m_raw_dir\n\u001b[0;32m---> 91\u001b[0m \u001b[39mself\u001b[39;49m\u001b[39m.\u001b[39;49m_load()\n",
      "File \u001b[0;32m~/anaconda3/envs/gccplnlp/lib/python3.8/site-packages/dgl/data/dgl_dataset.py:175\u001b[0m, in \u001b[0;36mDGLDataset._load\u001b[0;34m(self)\u001b[0m\n\u001b[1;32m    173\u001b[0m \u001b[39mif\u001b[39;00m \u001b[39mnot\u001b[39;00m load_flag:\n\u001b[1;32m    174\u001b[0m     \u001b[39mself\u001b[39m\u001b[39m.\u001b[39m_download()\n\u001b[0;32m--> 175\u001b[0m     \u001b[39mself\u001b[39;49m\u001b[39m.\u001b[39;49mprocess()\n\u001b[1;32m    176\u001b[0m     \u001b[39mself\u001b[39m\u001b[39m.\u001b[39msave()\n\u001b[1;32m    177\u001b[0m     \u001b[39mif\u001b[39;00m \u001b[39mself\u001b[39m\u001b[39m.\u001b[39mverbose:\n",
      "\u001b[1;32m/home/suzhang/git/GNN/GCC-master_copy/dglgraph.ipynb Cell 147\u001b[0m in \u001b[0;36mQM7bDataset.process\u001b[0;34m(self)\u001b[0m\n\u001b[1;32m     <a href='vscode-notebook-cell://ssh-remote%2Bximi/home/suzhang/git/GNN/GCC-master_copy/dglgraph.ipynb#Y266sdnNjb2RlLXJlbW90ZQ%3D%3D?line=62'>63</a>\u001b[0m \u001b[39mdef\u001b[39;00m \u001b[39mprocess\u001b[39m(\u001b[39mself\u001b[39m):\n\u001b[1;32m     <a href='vscode-notebook-cell://ssh-remote%2Bximi/home/suzhang/git/GNN/GCC-master_copy/dglgraph.ipynb#Y266sdnNjb2RlLXJlbW90ZQ%3D%3D?line=63'>64</a>\u001b[0m     mat_path \u001b[39m=\u001b[39m \u001b[39mself\u001b[39m\u001b[39m.\u001b[39mraw_path \u001b[39m+\u001b[39m \u001b[39m'\u001b[39m\u001b[39m.mat\u001b[39m\u001b[39m'\u001b[39m\n\u001b[0;32m---> <a href='vscode-notebook-cell://ssh-remote%2Bximi/home/suzhang/git/GNN/GCC-master_copy/dglgraph.ipynb#Y266sdnNjb2RlLXJlbW90ZQ%3D%3D?line=64'>65</a>\u001b[0m     \u001b[39mself\u001b[39m\u001b[39m.\u001b[39mgraphs, \u001b[39mself\u001b[39m\u001b[39m.\u001b[39mlabel \u001b[39m=\u001b[39m \u001b[39mself\u001b[39;49m\u001b[39m.\u001b[39;49m_load_graph(mat_path)\n",
      "\u001b[1;32m/home/suzhang/git/GNN/GCC-master_copy/dglgraph.ipynb Cell 147\u001b[0m in \u001b[0;36mQM7bDataset._load_graph\u001b[0;34m(self, filename)\u001b[0m\n\u001b[1;32m     <a href='vscode-notebook-cell://ssh-remote%2Bximi/home/suzhang/git/GNN/GCC-master_copy/dglgraph.ipynb#Y266sdnNjb2RlLXJlbW90ZQ%3D%3D?line=66'>67</a>\u001b[0m \u001b[39mdef\u001b[39;00m \u001b[39m_load_graph\u001b[39m(\u001b[39mself\u001b[39m, filename):\n\u001b[1;32m     <a href='vscode-notebook-cell://ssh-remote%2Bximi/home/suzhang/git/GNN/GCC-master_copy/dglgraph.ipynb#Y266sdnNjb2RlLXJlbW90ZQ%3D%3D?line=67'>68</a>\u001b[0m     data \u001b[39m=\u001b[39m io\u001b[39m.\u001b[39mloadmat(filename)\n\u001b[0;32m---> <a href='vscode-notebook-cell://ssh-remote%2Bximi/home/suzhang/git/GNN/GCC-master_copy/dglgraph.ipynb#Y266sdnNjb2RlLXJlbW90ZQ%3D%3D?line=68'>69</a>\u001b[0m     labels \u001b[39m=\u001b[39m F\u001b[39m.\u001b[39mtensor(data[\u001b[39m'\u001b[39m\u001b[39mT\u001b[39m\u001b[39m'\u001b[39m], dtype\u001b[39m=\u001b[39mF\u001b[39m.\u001b[39;49mdata_type_dict[\u001b[39m'\u001b[39m\u001b[39mfloat32\u001b[39m\u001b[39m'\u001b[39m])\n\u001b[1;32m     <a href='vscode-notebook-cell://ssh-remote%2Bximi/home/suzhang/git/GNN/GCC-master_copy/dglgraph.ipynb#Y266sdnNjb2RlLXJlbW90ZQ%3D%3D?line=69'>70</a>\u001b[0m     feats \u001b[39m=\u001b[39m data[\u001b[39m'\u001b[39m\u001b[39mX\u001b[39m\u001b[39m'\u001b[39m]\n\u001b[1;32m     <a href='vscode-notebook-cell://ssh-remote%2Bximi/home/suzhang/git/GNN/GCC-master_copy/dglgraph.ipynb#Y266sdnNjb2RlLXJlbW90ZQ%3D%3D?line=70'>71</a>\u001b[0m     num_graphs \u001b[39m=\u001b[39m labels\u001b[39m.\u001b[39mshape[\u001b[39m0\u001b[39m]\n",
      "\u001b[0;31mAttributeError\u001b[0m: module 'torch' has no attribute 'data_type_dict'"
     ]
    }
   ],
   "source": [
    "class QM7bDataset(DGLDataset):\n",
    "    r\"\"\"QM7b dataset for graph property prediction (regression)\n",
    "\n",
    "    This dataset consists of 7,211 molecules with 14 regression targets.\n",
    "    Nodes means atoms and edges means bonds. Edge data 'h' means\n",
    "    the entry of Coulomb matrix.\n",
    "\n",
    "    Reference: `<http://quantum-machine.org/datasets/>`_\n",
    "\n",
    "    Statistics:\n",
    "\n",
    "    - Number of graphs: 7,211\n",
    "    - Number of regression targets: 14\n",
    "    - Average number of nodes: 15\n",
    "    - Average number of edges: 245\n",
    "    - Edge feature size: 1\n",
    "\n",
    "    Parameters\n",
    "    ----------\n",
    "    raw_dir : str\n",
    "        Raw file directory to download/contains the input data directory.\n",
    "        Default: ~/.dgl/\n",
    "    force_reload : bool\n",
    "        Whether to reload the dataset. Default: False\n",
    "    verbose: bool\n",
    "        Whether to print out progress information. Default: True.\n",
    "\n",
    "    Attributes\n",
    "    ----------\n",
    "    num_labels : int\n",
    "        Number of labels for each graph, i.e. number of prediction tasks\n",
    "\n",
    "    Raises\n",
    "    ------\n",
    "    UserWarning\n",
    "        If the raw data is changed in the remote server by the author.\n",
    "\n",
    "    Examples\n",
    "    --------\n",
    "    >>> data = QM7bDataset()\n",
    "    >>> data.num_labels\n",
    "    14\n",
    "    >>>\n",
    "    >>> # iterate over the dataset\n",
    "    >>> for g, label in data:\n",
    "    ...     edge_feat = g.edata['h']  # get edge feature\n",
    "    ...     # your code here...\n",
    "    ...\n",
    "    >>>\n",
    "    \"\"\"\n",
    "\n",
    "    _url = 'http://deepchem.io.s3-website-us-west-1.amazonaws.com/' \\\n",
    "           'datasets/qm7b.mat'\n",
    "    _sha1_str = '4102c744bb9d6fd7b40ac67a300e49cd87e28392'\n",
    "\n",
    "    def __init__(self, raw_dir=None, force_reload=False, verbose=False):\n",
    "        super(QM7bDataset, self).__init__(name='qm7b',\n",
    "                                          url=self._url,\n",
    "                                          raw_dir=raw_dir,\n",
    "                                          force_reload=force_reload,\n",
    "                                          verbose=verbose)\n",
    "\n",
    "    def process(self):\n",
    "        mat_path = self.raw_path + '.mat'\n",
    "        self.graphs, self.label = self._load_graph(mat_path)\n",
    "\n",
    "    def _load_graph(self, filename):\n",
    "        data = io.loadmat(filename)\n",
    "        labels = F.tensor(data['T'], dtype=F.data_type_dict['float32'])\n",
    "        feats = data['X']\n",
    "        num_graphs = labels.shape[0]\n",
    "        graphs = []\n",
    "        for i in range(num_graphs):\n",
    "            edge_list = feats[i].nonzero()\n",
    "            g = dgl_graph(edge_list)\n",
    "            g.edata['h'] = F.tensor(feats[i][edge_list[0], edge_list[1]].reshape(-1, 1),\n",
    "                                    dtype=F.data_type_dict['float32'])\n",
    "            graphs.append(g)\n",
    "        return graphs, labels\n",
    "\n",
    "    def save(self):\n",
    "        \"\"\"save the graph list and the labels\"\"\"\n",
    "        graph_path = os.path.join(self.save_path, 'dgl_graph.bin')\n",
    "        save_graphs(str(graph_path), self.graphs, {'labels': self.label})\n",
    "\n",
    "    def has_cache(self):\n",
    "        graph_path = os.path.join(self.save_path, 'dgl_graph.bin')\n",
    "        return os.path.exists(graph_path)\n",
    "\n",
    "    def load(self):\n",
    "        graphs, label_dict = load_graphs(os.path.join(self.save_path, 'dgl_graph.bin'))\n",
    "        self.graphs = graphs\n",
    "        self.label = label_dict['labels']\n",
    "\n",
    "    def download(self):\n",
    "        file_path = os.path.join(self.raw_dir, self.name + '.mat')\n",
    "        download(self.url, path=file_path)\n",
    "        if not check_sha1(file_path, self._sha1_str):\n",
    "            raise UserWarning('File {} is downloaded but the content hash does not match.'\n",
    "                              'The repo may be outdated or download may be incomplete. '\n",
    "                              'Otherwise you can create an issue for it.'.format(self.name))\n",
    "\n",
    "    @property\n",
    "    def num_labels(self):\n",
    "        \"\"\"Number of labels for each graph, i.e. number of prediction tasks.\"\"\"\n",
    "        return 14\n",
    "\n",
    "    def __getitem__(self, idx):\n",
    "        r\"\"\" Get graph and label by index\n",
    "\n",
    "        Parameters\n",
    "        ----------\n",
    "        idx : int\n",
    "            Item index\n",
    "\n",
    "        Returns\n",
    "        -------\n",
    "        (:class:`dgl.DGLGraph`, Tensor)\n",
    "        \"\"\"\n",
    "        return self.graphs[idx], self.label[idx]\n",
    "\n",
    "    def __len__(self):\n",
    "        r\"\"\"Number of graphs in the dataset.\n",
    "\n",
    "        Return\n",
    "        -------\n",
    "        int\n",
    "        \"\"\"\n",
    "        return len(self.graphs)\n",
    "\n",
    "\n",
    "\n",
    "QM7b = QM7bDataset()"
   ]
  }
 ],
 "metadata": {
  "kernelspec": {
   "display_name": "Python 3 (ipykernel)",
   "language": "python",
   "name": "python3"
  },
  "language_info": {
   "codemirror_mode": {
    "name": "ipython",
    "version": 3
   },
   "file_extension": ".py",
   "mimetype": "text/x-python",
   "name": "python",
   "nbconvert_exporter": "python",
   "pygments_lexer": "ipython3",
   "version": "3.8.13"
  },
  "orig_nbformat": 4
 },
 "nbformat": 4,
 "nbformat_minor": 2
}
