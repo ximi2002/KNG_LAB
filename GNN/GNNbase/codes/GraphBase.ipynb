{
 "cells": [
  {
   "cell_type": "code",
   "execution_count": 1,
   "metadata": {},
   "outputs": [],
   "source": [
    "# 图的基础知识"
   ]
  },
  {
   "cell_type": "code",
   "execution_count": 3,
   "metadata": {},
   "outputs": [],
   "source": [
    "# 边 点\n",
    "# 有向图 无向图\n",
    "# 邻接矩阵(Adjacency)\n",
    "# 度(无向图/有向图)\n",
    "# 子图\n",
    "# 连通图/非连通图\n",
    "# 连通分量:极大连通子图\n",
    "# 有向图的连通性\n",
    "# 强连通图/弱连通图\n",
    "# 互可达/有节点不满足互可达，但是无向图连通\n",
    "# 最短路径/图直径(最短路径的极大值)\n",
    "# 度中心性\n",
    "# N_degree/(n-1) (n是节点数)\n",
    "# 特征向量中心性 Eigenvector Centrality\n",
    "# A*x=lambda*x\n",
    "# 自己节点度大 自己的特征向量中心性大\n",
    "# 连接的节点度大 自己的特征向量中心性大\n",
    "# 中介中心性 Betweenness Centrality\n",
    "# 经过节点的最短路径/其余两两节点的最短路径\n",
    "# 连接中心性 Closeness Centrality\n",
    "# (n-1)/节点到其他节点的最短路径之和 (n是节点数)\n",
    "# PageRank\n",
    "# HITS"
   ]
  },
  {
   "cell_type": "code",
   "execution_count": 4,
   "metadata": {},
   "outputs": [],
   "source": [
    "import numpy as np \n",
    "import pandas as pd \n",
    "import networkx as nx"
   ]
  },
  {
   "cell_type": "code",
   "execution_count": 5,
   "metadata": {},
   "outputs": [],
   "source": [
    "edges=pd.DataFrame()\n",
    "edges[\"sources\"]=[1,1,1,2,2,3,3,4,4,5,5,5,]\n",
    "edges[\"targets\"]=[2,4,5,3,1,2,5,1,5,1,3,4,]\n",
    "edges[\"weights\"]=[1,1,1,1,1,1,1,1,1,1,1,1,]"
   ]
  },
  {
   "cell_type": "code",
   "execution_count": 6,
   "metadata": {},
   "outputs": [],
   "source": [
    "G=nx.from_pandas_edgelist(edges,source=\"sources\",target=\"targets\",edge_attr=\"weights\")"
   ]
  },
  {
   "cell_type": "code",
   "execution_count": 7,
   "metadata": {},
   "outputs": [
    {
     "name": "stdout",
     "output_type": "stream",
     "text": [
      "[(1, 3), (2, 2), (4, 2), (5, 3), (3, 2)]\n"
     ]
    }
   ],
   "source": [
    "# degree\n",
    "print(nx.degree(G))"
   ]
  },
  {
   "cell_type": "code",
   "execution_count": 9,
   "metadata": {},
   "outputs": [
    {
     "name": "stdout",
     "output_type": "stream",
     "text": [
      "[{1, 2, 3, 4, 5}]\n"
     ]
    }
   ],
   "source": [
    "# 连通分量\n",
    "print(list(nx.connected_components(G)))"
   ]
  },
  {
   "cell_type": "code",
   "execution_count": 10,
   "metadata": {},
   "outputs": [
    {
     "name": "stdout",
     "output_type": "stream",
     "text": [
      "2\n"
     ]
    }
   ],
   "source": [
    "# 图直径\n",
    "print(nx.diameter(G))"
   ]
  },
  {
   "cell_type": "code",
   "execution_count": 12,
   "metadata": {},
   "outputs": [
    {
     "name": "stdout",
     "output_type": "stream",
     "text": [
      "{1: 0.75, 2: 0.5, 4: 0.5, 5: 0.75, 3: 0.5}\n"
     ]
    }
   ],
   "source": [
    "# 度中心性\n",
    "print(nx.degree_centrality(G))"
   ]
  },
  {
   "cell_type": "code",
   "execution_count": 13,
   "metadata": {},
   "outputs": [
    {
     "name": "stdout",
     "output_type": "stream",
     "text": [
      "{1: 0.5298988890761731, 2: 0.35775191431708964, 4: 0.4271316779596084, 5: 0.5298988890761731, 3: 0.35775191431708964}\n"
     ]
    }
   ],
   "source": [
    "# 特征向量中心性\n",
    "print(nx.eigenvector_centrality(G))"
   ]
  },
  {
   "cell_type": "code",
   "execution_count": 14,
   "metadata": {},
   "outputs": [
    {
     "name": "stdout",
     "output_type": "stream",
     "text": [
      "{1: 0.25, 2: 0.08333333333333333, 4: 0.0, 5: 0.25, 3: 0.08333333333333333}\n"
     ]
    }
   ],
   "source": [
    "# Betweenness\n",
    "print(nx.betweenness_centrality(G))"
   ]
  },
  {
   "cell_type": "code",
   "execution_count": 15,
   "metadata": {},
   "outputs": [
    {
     "name": "stdout",
     "output_type": "stream",
     "text": [
      "{1: 0.8, 2: 0.6666666666666666, 4: 0.6666666666666666, 5: 0.8, 3: 0.6666666666666666}\n"
     ]
    }
   ],
   "source": [
    "# closeness\n",
    "print(nx.closeness_centrality(G))"
   ]
  },
  {
   "cell_type": "code",
   "execution_count": 16,
   "metadata": {},
   "outputs": [
    {
     "name": "stdout",
     "output_type": "stream",
     "text": [
      "{1: 0.24369622576677996, 2: 0.17225629712058638, 4: 0.16809495422526693, 5: 0.2436962257667799, 3: 0.17225629712058638}\n"
     ]
    }
   ],
   "source": [
    "# pagerank\n",
    "print(nx.pagerank(G))"
   ]
  },
  {
   "cell_type": "code",
   "execution_count": 17,
   "metadata": {},
   "outputs": [
    {
     "name": "stdout",
     "output_type": "stream",
     "text": [
      "({1: 0.24059715195481507, 2: 0.1624345647450478, 4: 0.19393656660027417, 5: 0.2405971519548151, 3: 0.1624345647450478}, {1: 0.2405971522393837, 2: 0.1624345646565165, 4: 0.19393656620819955, 5: 0.2405971522393837, 3: 0.1624345646565165})\n"
     ]
    }
   ],
   "source": [
    "# HITS(H,A)\n",
    "print(nx.hits(G))"
   ]
  },
  {
   "cell_type": "code",
   "execution_count": null,
   "metadata": {},
   "outputs": [],
   "source": [
    "# Graph Embedding\n",
    "# 降低维数 表达图结构特征\n",
    "# 1. DeepWalk"
   ]
  }
 ],
 "metadata": {
  "kernelspec": {
   "display_name": "Python 3.7.0 ('ogb')",
   "language": "python",
   "name": "python3"
  },
  "language_info": {
   "codemirror_mode": {
    "name": "ipython",
    "version": 3
   },
   "file_extension": ".py",
   "mimetype": "text/x-python",
   "name": "python",
   "nbconvert_exporter": "python",
   "pygments_lexer": "ipython3",
   "version": "3.7.0"
  },
  "orig_nbformat": 4,
  "vscode": {
   "interpreter": {
    "hash": "e823c50ccb644dc52d769ac47d58038dc0ab442baeffc4211a51b80e542be21a"
   }
  }
 },
 "nbformat": 4,
 "nbformat_minor": 2
}
