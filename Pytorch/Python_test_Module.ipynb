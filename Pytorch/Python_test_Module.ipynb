{
 "cells": [
  {
   "cell_type": "markdown",
   "id": "76ed3401",
   "metadata": {},
   "source": [
    "### 模块"
   ]
  },
  {
   "cell_type": "markdown",
   "id": "eca87092",
   "metadata": {},
   "source": [
    "模块的导入"
   ]
  },
  {
   "cell_type": "code",
   "execution_count": 1,
   "id": "a281277d",
   "metadata": {},
   "outputs": [],
   "source": [
    "import Fib"
   ]
  },
  {
   "cell_type": "code",
   "execution_count": 2,
   "id": "72cff0ad",
   "metadata": {},
   "outputs": [
    {
     "name": "stdout",
     "output_type": "stream",
     "text": [
      "0 1 1 2 3 5 8 13 21 34 55 89 144 233 377 610 987 \n"
     ]
    }
   ],
   "source": [
    "Fib.fib(1000)"
   ]
  },
  {
   "cell_type": "code",
   "execution_count": 8,
   "id": "720314ea",
   "metadata": {},
   "outputs": [
    {
     "name": "stdout",
     "output_type": "stream",
     "text": [
      "0 1 1 2 3 5 8 13 21 34 55 89 144 233 377 \n"
     ]
    }
   ],
   "source": [
    "from Fib import fib,fib2\n",
    "fib(500)"
   ]
  },
  {
   "cell_type": "code",
   "execution_count": 9,
   "id": "e49e9afe",
   "metadata": {},
   "outputs": [
    {
     "name": "stdout",
     "output_type": "stream",
     "text": [
      "0 1 1 2 3 5 8 13 21 34 55 89 144 233 377 \n"
     ]
    }
   ],
   "source": [
    "from Fib import*\n",
    "# 这会调入所有非以下划线（_）开头的名称\n",
    "fib(500)"
   ]
  },
  {
   "cell_type": "code",
   "execution_count": 10,
   "id": "c7e2525a",
   "metadata": {},
   "outputs": [
    {
     "name": "stdout",
     "output_type": "stream",
     "text": [
      "0 1 1 2 3 5 8 13 21 34 55 89 144 233 377 610 987 \n"
     ]
    }
   ],
   "source": [
    "import Fib as fib\n",
    "fib.fib(1000)"
   ]
  },
  {
   "cell_type": "markdown",
   "id": "e3d0651d",
   "metadata": {},
   "source": [
    "*出于效率的考虑，每个模块在每个解释器会话中只被导入一次。因此，如果你更改了你的模块，则必须重新启动解释器， 或者，如果它只是一个要交互式地测试的模块，请使用 importlib.reload()，例如 import importlib; importlib.reload(modulename)*"
   ]
  },
  {
   "cell_type": "code",
   "execution_count": null,
   "id": "56d65b61",
   "metadata": {},
   "outputs": [],
   "source": []
  }
 ],
 "metadata": {
  "kernelspec": {
   "display_name": "Python 3 (ipykernel)",
   "language": "python",
   "name": "python3"
  },
  "language_info": {
   "codemirror_mode": {
    "name": "ipython",
    "version": 3
   },
   "file_extension": ".py",
   "mimetype": "text/x-python",
   "name": "python",
   "nbconvert_exporter": "python",
   "pygments_lexer": "ipython3",
   "version": "3.7.0"
  }
 },
 "nbformat": 4,
 "nbformat_minor": 5
}
