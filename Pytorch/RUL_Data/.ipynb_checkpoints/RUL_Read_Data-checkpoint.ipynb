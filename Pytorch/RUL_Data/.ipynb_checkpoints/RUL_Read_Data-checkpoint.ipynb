{
 "cells": [
  {
   "cell_type": "markdown",
   "metadata": {},
   "source": [
    "### 数据读入和保存"
   ]
  },
  {
   "cell_type": "code",
   "execution_count": 5,
   "metadata": {
    "vscode": {
     "languageId": "plaintext"
    }
   },
   "outputs": [],
   "source": [
    "# 读入数据文件\n",
    "Files={}\n",
    "for i in range(1,5):\n",
    "    Files[\"rfile\"+str(i)]=open(\"./train_FD00\"+str(i)+\".txt\",\"r\")\n",
    "    Files[\"tfile\"+str(i)]=open(\"./test_FD00\"+str(i)+\".txt\",\"r\")\n",
    "    Files[\"RULfile\"+str(i)]=open(\"./RUL_FD00\"+str(i)+\".txt\",\"r\")\n",
    "\n"
   ]
  },
  {
   "cell_type": "code",
   "execution_count": null,
   "metadata": {},
   "outputs": [],
   "source": []
  }
 ],
 "metadata": {
  "kernelspec": {
   "display_name": "Python 3 (ipykernel)",
   "language": "python",
   "name": "python3"
  },
  "language_info": {
   "codemirror_mode": {
    "name": "ipython",
    "version": 3
   },
   "file_extension": ".py",
   "mimetype": "text/x-python",
   "name": "python",
   "nbconvert_exporter": "python",
   "pygments_lexer": "ipython3",
   "version": "3.7.0"
  }
 },
 "nbformat": 4,
 "nbformat_minor": 2
}
