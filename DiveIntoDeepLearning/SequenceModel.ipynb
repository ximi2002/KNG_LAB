{
 "cells": [
  {
   "cell_type": "code",
   "execution_count": 1,
   "metadata": {},
   "outputs": [],
   "source": [
    "# 序列模型\n",
    "# 时间信息\n",
    "# 数据具有时序结构 "
   ]
  },
  {
   "cell_type": "code",
   "execution_count": null,
   "metadata": {},
   "outputs": [],
   "source": [
    "# 统计工具\n",
    "# 在时间t观察到xt,那么得到T个不独立的随机变量\n",
    "# (x1,..,xT)~p(X)\n",
    "# 使用条件概率展开\n",
    "# P(a,b)=P(a)P(b|a)=P(b)P(a|b)\n",
    "# P(X)=P(x1)P(x2|x1)P(x3|x1,x2)..P(xT|x1,..,x(T-1))\n",
    "# P(X)=P(xT)P(x(T-1)|xT)..P(x1|x2,..,xT)(反序)\n",
    "# 物理上不一定可行 \n",
    "# 序列模型 \n",
    "# P(X)=P(x1)P(x2|x1)P(x3|x1,x2)..P(xT|x1,..,x(T-1))\n",
    "# 对条件概率建模(对见过的模型建模，自回归模型)\n",
    "# P(xt|x1,..,x(t-1))=P(xt|f(x1,..,x(t-1)))"
   ]
  },
  {
   "cell_type": "code",
   "execution_count": null,
   "metadata": {},
   "outputs": [],
   "source": []
  }
 ],
 "metadata": {
  "kernelspec": {
   "display_name": "Python 3.7.0 ('ogb')",
   "language": "python",
   "name": "python3"
  },
  "language_info": {
   "codemirror_mode": {
    "name": "ipython",
    "version": 3
   },
   "file_extension": ".py",
   "mimetype": "text/x-python",
   "name": "python",
   "nbconvert_exporter": "python",
   "pygments_lexer": "ipython3",
   "version": "3.7.0"
  },
  "orig_nbformat": 4,
  "vscode": {
   "interpreter": {
    "hash": "e823c50ccb644dc52d769ac47d58038dc0ab442baeffc4211a51b80e542be21a"
   }
  }
 },
 "nbformat": 4,
 "nbformat_minor": 2
}
