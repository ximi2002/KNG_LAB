{
 "cells": [
  {
   "cell_type": "code",
   "execution_count": 2,
   "metadata": {},
   "outputs": [],
   "source": [
    "# 链式法则导致的梯度消失和梯度爆炸\n",
    "\n",
    "# 梯度爆炸(ReLU)\n",
    "# 值超出值域\n",
    "# --16位浮点数严重\n",
    "# 对于学习率敏感\n",
    "# --学习率太大->大参数值->更大的梯度\n",
    "# --学习率太小->训练没有进展\n",
    "# 不是不能训练 只是调学习率参困难\n",
    "\n",
    "# 梯度消失()\n",
    "# Sigmoid作为激活函数\n",
    "# 梯度变成0\n",
    "# --对16位浮点数严重\n",
    "# 训练没有进展\n",
    "# --不管如何选择学习率\n",
    "# 对于底部层严重\n",
    "# --仅仅顶部训练较好\n",
    "# --无法让神经网络更深\n",
    "\n",
    "# 深度模型会对n个数累乘\n",
    "\n",
    "# 模型初始化和激活函数\n",
    "\n",
    "# 目标 让梯度值在合理范围内\n",
    "# [1e-6,1e3]\n",
    "# 乘法变加法\n",
    "# ResNet,LSTM\n",
    "# 归一化\n",
    "# 梯度归一化,梯度裁剪\n",
    "###\n",
    "# 合理的权重初始和激活函数\n",
    "###\n",
    "\n",
    "# 每层输出和梯度都视为随机变量\n",
    "# 让他们均值和方差一致\n",
    "# 权重初始化\n",
    "# 小网络 N(0,0.01)\n",
    "# 但深度神经网络不能保证\n",
    "\n",
    "# Xavier 初始\n",
    "# 需要满足 n_{t-1}*gamma_t=1\n",
    "# & n_{t}*gamma_t=1\n",
    "# Xavier 使得 gamma_t*(n_{t-1}+n_t)/2=1\n",
    "# 正态分布 N(0,\\sqrt{2/(n_{t-1}+n_t)})\n",
    "# 均匀分布 N(-\\sqrt{6/(n_{t-1}+n_t)},\n",
    "# \\sqrt{6/(n_{t-1}+n_t)}+)\n",
    "# 适配权重形状变化\n",
    "\n",
    "# 激活函数\n",
    "# 假设线性 \\sigma(x)=\\alpha*x+\\beta\n",
    "# beta=0 alpha=1\n",
    "# F(x) 必须是 y=x\n",
    "# sigmoid(x)=0.5+0.25x-x^3/48+...\n",
    "# tanh(x)=0+x-x^3/3+...\n",
    "# relu(x)=0+x for x>=0\n",
    "\n",
    "# 调整sigmoid\n",
    "# 4*sigmoid-2\n",
    "\n",
    "# relu数值稳定性好\n",
    "\n",
    "# inf lr太大\n",
    "# nan 1/0\n",
    "# 解决方法:调小lr,调小初始值方差\n",
    "# 数值稳定性 模型 初始化 normal lr\n",
    "# 正态分布不是关键 关键是方差和期望\n",
    "# 不影响数值表达能力"
   ]
  }
 ],
 "metadata": {
  "kernelspec": {
   "display_name": "Python 3.7.0 ('ogb')",
   "language": "python",
   "name": "python3"
  },
  "language_info": {
   "codemirror_mode": {
    "name": "ipython",
    "version": 3
   },
   "file_extension": ".py",
   "mimetype": "text/x-python",
   "name": "python",
   "nbconvert_exporter": "python",
   "pygments_lexer": "ipython3",
   "version": "3.7.0"
  },
  "orig_nbformat": 4,
  "vscode": {
   "interpreter": {
    "hash": "e823c50ccb644dc52d769ac47d58038dc0ab442baeffc4211a51b80e542be21a"
   }
  }
 },
 "nbformat": 4,
 "nbformat_minor": 2
}
