{
 "cells": [
  {
   "cell_type": "code",
   "execution_count": 1,
   "metadata": {},
   "outputs": [],
   "source": [
    "# Softmax Regression"
   ]
  },
  {
   "cell_type": "code",
   "execution_count": 2,
   "id": "fa22f126",
   "metadata": {},
   "outputs": [],
   "source": [
    "# 图像分类数据集(Fashion-MNIST)\n",
    "import torch\n",
    "import torchvision\n",
    "import matplotlib.pyplot as plt \n",
    "from torch.utils import data \n",
    "from torchvision import transforms \n"
   ]
  },
  {
   "cell_type": "code",
   "execution_count": 4,
   "id": "16a757fd",
   "metadata": {},
   "outputs": [
    {
     "name": "stdout",
     "output_type": "stream",
     "text": [
      "Downloading http://fashion-mnist.s3-website.eu-central-1.amazonaws.com/train-images-idx3-ubyte.gz to ./data/FashionMNIST/raw/train-images-idx3-ubyte.gz\n"
     ]
    },
    {
     "data": {
      "application/json": {
       "ascii": false,
       "bar_format": null,
       "colour": null,
       "elapsed": 0.04324984550476074,
       "initial": 0,
       "n": 0,
       "ncols": null,
       "nrows": 9,
       "postfix": null,
       "prefix": "",
       "rate": null,
       "total": 26421880,
       "unit": "it",
       "unit_divisor": 1000,
       "unit_scale": false
      },
      "application/vnd.jupyter.widget-view+json": {
       "model_id": "ac54882c10bf429bb6b6f2fc1824faac",
       "version_major": 2,
       "version_minor": 0
      },
      "text/plain": [
       "  0%|          | 0/26421880 [00:00<?, ?it/s]"
      ]
     },
     "metadata": {},
     "output_type": "display_data"
    },
    {
     "name": "stdout",
     "output_type": "stream",
     "text": [
      "Extracting ./data/FashionMNIST/raw/train-images-idx3-ubyte.gz to ./data/FashionMNIST/raw\n",
      "Downloading http://fashion-mnist.s3-website.eu-central-1.amazonaws.com/train-labels-idx1-ubyte.gz to ./data/FashionMNIST/raw/train-labels-idx1-ubyte.gz\n"
     ]
    },
    {
     "data": {
      "application/json": {
       "ascii": false,
       "bar_format": null,
       "colour": null,
       "elapsed": 0.031023263931274414,
       "initial": 0,
       "n": 0,
       "ncols": null,
       "nrows": 9,
       "postfix": null,
       "prefix": "",
       "rate": null,
       "total": 29515,
       "unit": "it",
       "unit_divisor": 1000,
       "unit_scale": false
      },
      "application/vnd.jupyter.widget-view+json": {
       "model_id": "93814b995406413a87ca0a74f6988e5f",
       "version_major": 2,
       "version_minor": 0
      },
      "text/plain": [
       "  0%|          | 0/29515 [00:00<?, ?it/s]"
      ]
     },
     "metadata": {},
     "output_type": "display_data"
    },
    {
     "name": "stdout",
     "output_type": "stream",
     "text": [
      "Extracting ./data/FashionMNIST/raw/train-labels-idx1-ubyte.gz to ./data/FashionMNIST/raw\n",
      "Downloading http://fashion-mnist.s3-website.eu-central-1.amazonaws.com/t10k-images-idx3-ubyte.gz to ./data/FashionMNIST/raw/t10k-images-idx3-ubyte.gz\n"
     ]
    },
    {
     "data": {
      "application/json": {
       "ascii": false,
       "bar_format": null,
       "colour": null,
       "elapsed": 0.03154110908508301,
       "initial": 0,
       "n": 0,
       "ncols": null,
       "nrows": 9,
       "postfix": null,
       "prefix": "",
       "rate": null,
       "total": 4422102,
       "unit": "it",
       "unit_divisor": 1000,
       "unit_scale": false
      },
      "application/vnd.jupyter.widget-view+json": {
       "model_id": "bdcf469a0c134e3aa271d02c0a37354f",
       "version_major": 2,
       "version_minor": 0
      },
      "text/plain": [
       "  0%|          | 0/4422102 [00:00<?, ?it/s]"
      ]
     },
     "metadata": {},
     "output_type": "display_data"
    },
    {
     "name": "stdout",
     "output_type": "stream",
     "text": [
      "Extracting ./data/FashionMNIST/raw/t10k-images-idx3-ubyte.gz to ./data/FashionMNIST/raw\n",
      "Downloading http://fashion-mnist.s3-website.eu-central-1.amazonaws.com/t10k-labels-idx1-ubyte.gz to ./data/FashionMNIST/raw/t10k-labels-idx1-ubyte.gz\n"
     ]
    },
    {
     "data": {
      "application/json": {
       "ascii": false,
       "bar_format": null,
       "colour": null,
       "elapsed": 0.015506744384765625,
       "initial": 0,
       "n": 0,
       "ncols": null,
       "nrows": 9,
       "postfix": null,
       "prefix": "",
       "rate": null,
       "total": 5148,
       "unit": "it",
       "unit_divisor": 1000,
       "unit_scale": false
      },
      "application/vnd.jupyter.widget-view+json": {
       "model_id": "fd7b3ba032134978ada1e312f916d3ea",
       "version_major": 2,
       "version_minor": 0
      },
      "text/plain": [
       "  0%|          | 0/5148 [00:00<?, ?it/s]"
      ]
     },
     "metadata": {},
     "output_type": "display_data"
    },
    {
     "name": "stdout",
     "output_type": "stream",
     "text": [
      "Extracting ./data/FashionMNIST/raw/t10k-labels-idx1-ubyte.gz to ./data/FashionMNIST/raw\n",
      "Processing...\n"
     ]
    },
    {
     "name": "stderr",
     "output_type": "stream",
     "text": [
      "/home/suzhang/anaconda3/envs/ogb/lib/python3.7/site-packages/torchvision/datasets/mnist.py:479: UserWarning: The given NumPy array is not writeable, and PyTorch does not support non-writeable tensors. This means you can write to the underlying (supposedly non-writeable) NumPy array using the tensor. You may want to copy the array to protect its data or make it writeable before converting it to a tensor. This type of warning will be suppressed for the rest of this program. (Triggered internally at  /opt/conda/conda-bld/pytorch_1614378124864/work/torch/csrc/utils/tensor_numpy.cpp:143.)\n",
      "  return torch.from_numpy(parsed.astype(m[2], copy=False)).view(*s)\n"
     ]
    },
    {
     "name": "stdout",
     "output_type": "stream",
     "text": [
      "Done!\n"
     ]
    }
   ],
   "source": [
    "trans=transforms.ToTensor()\n",
    "mnist_train=torchvision.datasets.FashionMNIST(\n",
    "    root=\"./data/\",train=True,transform=trans,\n",
    "    download=False,\n",
    ")\n",
    "mnist_test=torchvision.datasets.FashionMNIST(\n",
    "    root=\"./data/\",train=False,transform=trans,\n",
    "    download=False,\n",
    ")"
   ]
  },
  {
   "cell_type": "code",
   "execution_count": 5,
   "id": "7eea0ee3",
   "metadata": {},
   "outputs": [
    {
     "data": {
      "text/plain": [
       "(60000, 10000)"
      ]
     },
     "execution_count": 5,
     "metadata": {},
     "output_type": "execute_result"
    }
   ],
   "source": [
    "len(mnist_train),len(mnist_test)"
   ]
  },
  {
   "cell_type": "code",
   "execution_count": 6,
   "id": "3f1ad0fc",
   "metadata": {},
   "outputs": [
    {
     "data": {
      "text/plain": [
       "torch.Size([1, 28, 28])"
      ]
     },
     "execution_count": 6,
     "metadata": {},
     "output_type": "execute_result"
    }
   ],
   "source": [
    "mnist_train[0][0].shape"
   ]
  },
  {
   "cell_type": "code",
   "execution_count": 7,
   "id": "7f350c67",
   "metadata": {},
   "outputs": [],
   "source": [
    "def get_fashion_mnist_labels(labels):\n",
    "    \"\"\"返回文本标签\"\"\"\n",
    "    text_labels=[\n",
    "        \"t-shirt\",\"trouser\",\"pullover\",\"dress\",\n",
    "        \"coat\",\"sandal\",\"shirt\",\"sneaker\",\"bag\",\n",
    "        \"ankle boot\",\n",
    "    ]\n",
    "    return [text_labels[int(i)] for i in labels]\n"
   ]
  },
  {
   "cell_type": "code",
   "execution_count": null,
   "id": "360d5cdb",
   "metadata": {},
   "outputs": [],
   "source": [
    "def show_images(imgs,num_rows,num_cols,titles=None,scale=1.5):\n",
    "    \"\"\"Plot a list of image\"\"\"\n",
    "    figsize=(num_cols*scale,num_rows*scale)\n",
    "    _,axes=plt.subplots(num_rows,num_cols,figsize=figsize)\n",
    "    axes=axes.flatten()\n",
    "    for i,(ax,img) in enumerate(zip(axes,imgs)):\n",
    "        if torch.is_tensor(img):\n",
    "            ax.imshow(img.numpy())\n",
    "        else:\n",
    "            ax.imshow(img)\n",
    "        ax.axes.get_xaxis()\n"
   ]
  }
 ],
 "metadata": {
  "kernelspec": {
   "display_name": "Python 3 (ipykernel)",
   "language": "python",
   "name": "python3"
  },
  "language_info": {
   "codemirror_mode": {
    "name": "ipython",
    "version": 3
   },
   "file_extension": ".py",
   "mimetype": "text/x-python",
   "name": "python",
   "nbconvert_exporter": "python",
   "pygments_lexer": "ipython3",
   "version": "3.7.0"
  }
 },
 "nbformat": 4,
 "nbformat_minor": 5
}
