{
 "cells": [
  {
   "cell_type": "code",
   "execution_count": 1,
   "metadata": {},
   "outputs": [],
   "source": [
    "# 集成学习 stacking\n",
    "# k-折交叉 bagging\n",
    "# 多层 stacking\n",
    "# 为了防止过拟合 配合k-折交叉\n",
    "# AutoGluon 虽然能特征提取 但做一些人工数据预处理还是好的"
   ]
  },
  {
   "cell_type": "code",
   "execution_count": null,
   "metadata": {},
   "outputs": [],
   "source": []
  }
 ],
 "metadata": {
  "kernelspec": {
   "display_name": "Python 3.9.0 ('autogluon')",
   "language": "python",
   "name": "python3"
  },
  "language_info": {
   "codemirror_mode": {
    "name": "ipython",
    "version": 3
   },
   "file_extension": ".py",
   "mimetype": "text/x-python",
   "name": "python",
   "nbconvert_exporter": "python",
   "pygments_lexer": "ipython3",
   "version": "3.9.0"
  },
  "orig_nbformat": 4,
  "vscode": {
   "interpreter": {
    "hash": "97a06d2527e167c4c043963c01a95e0984769b56d7776884a1285b6e802cf552"
   }
  }
 },
 "nbformat": 4,
 "nbformat_minor": 2
}
